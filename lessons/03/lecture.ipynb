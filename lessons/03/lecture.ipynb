{
 "cells": [
  {
   "attachments": {},
   "cell_type": "markdown",
   "metadata": {},
   "source": [
    "<div align=\"center\">\n",
    "    <a href=\"https://github.com/syubogdanov/hse-howto-python\">\n",
    "        <img src=\"https://cdn-icons-png.flaticon.com/128/1864/1864510.png\" height=\"128px\" width=\"auto\">\n",
    "    </a>\n",
    "    <h3>\n",
    "        <b>\n",
    "            Продвинутый Python\n",
    "        </b>\n",
    "    </h3>\n",
    "    <i>\n",
    "        Продвинутое ООП. Часть III\n",
    "    </i>\n",
    "</div>\n",
    "\n",
    "<br>"
   ]
  },
  {
   "attachments": {},
   "cell_type": "markdown",
   "metadata": {},
   "source": [
    "**Цель занятия.** Продолжение изучения объектно-ориентированного программирования. Занятие включает в себя методы реализации эффективного перебора, а также углубление в наследование классов: доопределение наследуемых методов и разрешение конфликтов наследования."
   ]
  },
  {
   "attachments": {},
   "cell_type": "markdown",
   "metadata": {},
   "source": [
    "**Рассуждение.** Когда мы говорим об итерировании по некоторой коллекции, вероятно, первое, что приходит в голову - это цикл `for` вместе с операцией обращения по индексу. В целом, идея неплохая. Для контейнеров, у которых асимптотическая сложность обращения по индексу равна `O(1)`, такой подход будет весьма осознанным и удобным."
   ]
  },
  {
   "attachments": {},
   "cell_type": "markdown",
   "metadata": {},
   "source": [
    "**Пример.** Перебор элементов списка при помощи операции обращения к элементу по индексу."
   ]
  },
  {
   "cell_type": "code",
   "execution_count": 1,
   "metadata": {},
   "outputs": [
    {
     "name": "stdout",
     "output_type": "stream",
     "text": [
      "1\n",
      "2\n",
      "3\n"
     ]
    }
   ],
   "source": [
    "example = [1, 2, 3]\n",
    "\n",
    "for index in range(len(example)):\n",
    "    print(example[index])"
   ]
  },
  {
   "attachments": {},
   "cell_type": "markdown",
   "metadata": {},
   "source": [
    "**Пример.** Перебор элементов стека при помощи операции обращения по индексу."
   ]
  },
  {
   "cell_type": "code",
   "execution_count": 2,
   "metadata": {},
   "outputs": [],
   "source": [
    "from __future__ import annotations\n",
    "\n",
    "from dataclasses import dataclass\n",
    "from typing import Any, Optional\n",
    "\n",
    "\n",
    "@dataclass(slots=True)\n",
    "class Node(object):\n",
    "    value: Any\n",
    "    next: Optional[Node]"
   ]
  },
  {
   "cell_type": "code",
   "execution_count": 3,
   "metadata": {},
   "outputs": [],
   "source": [
    "class Stack(object):\n",
    "    __slots__: tuple[str, ...] = (\n",
    "        \"_head\",\n",
    "        \"_len\",\n",
    "    )\n",
    "\n",
    "    def __init__(self: Stack) -> None:\n",
    "        self._len: int = 0\n",
    "        self._head: Optional[Node] = None\n",
    "\n",
    "    def append(self: Stack, value: Any) -> None:\n",
    "        self._head = Node(\n",
    "            value=value,\n",
    "            next=self._head,\n",
    "        )\n",
    "        self._len += 1\n",
    "\n",
    "    def pop(self: Stack) -> Any:\n",
    "        value: Any = self._head.value\n",
    "\n",
    "        self._head = self._head.next\n",
    "        self._len -= 1\n",
    "\n",
    "        return value\n",
    "\n",
    "    def clear(self: Stack) -> None:\n",
    "        self._len = 0\n",
    "        self._head = None\n",
    "\n",
    "    def __len__(self: Stack) -> int:\n",
    "        return self._len\n",
    "\n",
    "    def __getitem__(self: Stack, index: int) -> Any:\n",
    "        if not (0 <= index < len(self)):\n",
    "            raise IndexError\n",
    "\n",
    "        node: Optional[Node] = self._head\n",
    "        for _ in range(index):\n",
    "            node = node.next\n",
    "\n",
    "        return node.value"
   ]
  },
  {
   "cell_type": "code",
   "execution_count": 4,
   "metadata": {},
   "outputs": [
    {
     "name": "stdout",
     "output_type": "stream",
     "text": [
      "1\n",
      "2\n",
      "3\n"
     ]
    }
   ],
   "source": [
    "stack = Stack()\n",
    "\n",
    "stack.append(3)\n",
    "stack.append(2)\n",
    "stack.append(1)\n",
    "\n",
    "for index in range(len(stack)):\n",
    "    print(stack[index])"
   ]
  },
  {
   "attachments": {},
   "cell_type": "markdown",
   "metadata": {},
   "source": [
    "**Замечание.** Если корректно определить магические методы `__len__` и `__getitem__`, тогда интерпретатор самостоятельно добавит возможность использовать Ваш класс в цикле `for` для перебора элементов."
   ]
  },
  {
   "cell_type": "code",
   "execution_count": 5,
   "metadata": {},
   "outputs": [
    {
     "name": "stdout",
     "output_type": "stream",
     "text": [
      "1\n",
      "2\n",
      "3\n"
     ]
    }
   ],
   "source": [
    "stack = Stack()\n",
    "\n",
    "stack.append(3)\n",
    "stack.append(2)\n",
    "stack.append(1)\n",
    "\n",
    "for value in stack:\n",
    "    print(value)"
   ]
  },
  {
   "attachments": {},
   "cell_type": "markdown",
   "metadata": {},
   "source": [
    "**Замечание.** Сейчас операция обращения по индексу имеет асимптотическую сложность `O(N)`. Это значит, что в текущей формации перебор элементов стека осуществляется за асимптотическую сложность <code>O(N<sup>2</sup>)</code>. В то же время реализовать перебор возможно и за линейную сложность."
   ]
  },
  {
   "attachments": {},
   "cell_type": "markdown",
   "metadata": {},
   "source": [
    "**Рассуждение.** Давайте для итерирования по структуре реализуем метод `iterate`, который будет возвращать список, состоящий из элементов стека. С одной стороны, получаем, что асимптотическая сложность перебора сократилась до `O(N)`. С другой стороны, получаем явную зависимость от памяти. Например, если стек будет состоять из очень большого числа элементов, то может получиться так, что данные не влезут в оперативную память и программа завершит свое исполнение из-за нехватки ресурсов."
   ]
  },
  {
   "attachments": {},
   "cell_type": "markdown",
   "metadata": {},
   "source": [
    "**Определение.** Итератор - это объект, представляющий поток данных. Итератор отвечает следующим требованиям:\n",
    "\n",
    "- Определен магический метод `__iter__`, который возвращает итератор;\n",
    "- Определен магический метод `__next__`, который последовательно возвращает элементы потока;\n",
    "- Если поток данных окончен, тогда использование `__next__` порождает исключение `StopIteration`."
   ]
  },
  {
   "attachments": {},
   "cell_type": "markdown",
   "metadata": {},
   "source": [
    "**Пояснение.** В некотором смысле, итератор - это указатель на первый элемент объекта, к которому был применен метод `__iter__`. Используя метод `__next__`, Вы, во-первых, получаете значение элемента, на который указывал итератор, а во-вторых, сдвигаете указатель к следующему элементу."
   ]
  },
  {
   "attachments": {},
   "cell_type": "markdown",
   "metadata": {},
   "source": [
    "**Пояснение.** Такая сущность, как итератор, помогает разработчику реализовать интерфейс эффективного как по памяти, так и по скорости перебора. Концепция итераторов предполагает, что Вы, во-первых, будете возвращать элементы коллекции по одному. За счет этого достигается оптимальность по памяти. А во-вторых, предполагается, что переход от текущего элемента к следующему осуществляется за минимально возможное время. Как итог, получаем максимальную эффективность при минимальных затратах."
   ]
  },
  {
   "attachments": {},
   "cell_type": "markdown",
   "metadata": {},
   "source": [
    "**Пример.** Перебор элементов списка при помощи неявного применения итераторов."
   ]
  },
  {
   "cell_type": "code",
   "execution_count": 6,
   "metadata": {},
   "outputs": [
    {
     "name": "stdout",
     "output_type": "stream",
     "text": [
      "1\n",
      "2\n",
      "3\n"
     ]
    }
   ],
   "source": [
    "example = [1, 2, 3]\n",
    "\n",
    "for value in example:\n",
    "    print(value)"
   ]
  },
  {
   "attachments": {},
   "cell_type": "markdown",
   "metadata": {},
   "source": [
    "**Пояснение.** Когда Вы используете итерирование по структуре при помощи цикла `for`, интерпретатор неявно вызывает магический метод `__iter__`, который возвращает итератор по коллекции. Далее, он перебирает все элементы итератора до тех пор, пока не получит исключение `StopIteration`. Если же метода `__iter__` нет, то интерпетатор пытается перебрать элементы при помощи методов `__len__` и `__getitem__`."
   ]
  },
  {
   "attachments": {},
   "cell_type": "markdown",
   "metadata": {},
   "source": [
    "**Пример.** Перебор элементов списка при помощи явного применения итераторов."
   ]
  },
  {
   "cell_type": "code",
   "execution_count": 7,
   "metadata": {},
   "outputs": [
    {
     "name": "stdout",
     "output_type": "stream",
     "text": [
      "-> 1\n",
      "-> 2\n",
      "-> 3\n"
     ]
    }
   ],
   "source": [
    "example = [1, 2, 3]\n",
    "\n",
    "iterator = iter(example)     # Получить итератор\n",
    "\n",
    "print(\"->\", next(iterator))  # 1-ый элемент списка\n",
    "print(\"->\", next(iterator))  # 2-ой элемент списка\n",
    "print(\"->\", next(iterator))  # 3-ий элемент списка"
   ]
  },
  {
   "attachments": {},
   "cell_type": "markdown",
   "metadata": {},
   "source": [
    "**Упражнение.** Попробуйте вызвать `next(iterator)` еще один раз."
   ]
  },
  {
   "attachments": {},
   "cell_type": "markdown",
   "metadata": {},
   "source": [
    "**Упражнение.** Вернитесь к примеру с перебором стека. Попробуйте вызвать магический метод `__iter__`. Получите ли Вы итератор?"
   ]
  },
  {
   "attachments": {},
   "cell_type": "markdown",
   "metadata": {},
   "source": [
    "**Пример.** Перебор элементов множества при помощи явного применения итераторов."
   ]
  },
  {
   "cell_type": "code",
   "execution_count": 8,
   "metadata": {},
   "outputs": [
    {
     "name": "stdout",
     "output_type": "stream",
     "text": [
      "1\n",
      "2\n",
      "3\n",
      "4\n",
      "5\n",
      "6\n"
     ]
    }
   ],
   "source": [
    "example = {1, 2, 3, 4, 5, 6}\n",
    "\n",
    "iterator = iter(example)  # Получить итератор\n",
    "\n",
    "print(next(iterator))  # 1-ый элемент множества\n",
    "print(next(iterator))  # 2-ой элемент множества\n",
    "print(next(iterator))  # 3-ий элемент множества\n",
    "\n",
    "print(next(iterator))  # 4-ый элемент множества\n",
    "print(next(iterator))  # 5-ый элемент множества\n",
    "print(next(iterator))  # 6-ой элемент множества"
   ]
  },
  {
   "attachments": {},
   "cell_type": "markdown",
   "metadata": {},
   "source": [
    "**Пример.** Проверка принадлежности числа списку на основе итераторов."
   ]
  },
  {
   "cell_type": "code",
   "execution_count": 9,
   "metadata": {},
   "outputs": [
    {
     "name": "stdout",
     "output_type": "stream",
     "text": [
      "4 in iterator: True\n",
      "4 in iterator: False\n"
     ]
    }
   ],
   "source": [
    "example = {1, 2, 3, 4, 5, 6}\n",
    "\n",
    "iterator = iter(example)\n",
    "\n",
    "print(\"4 in iterator:\", 4 in iterator)\n",
    "print(\"4 in iterator:\", 4 in iterator)"
   ]
  },
  {
   "attachments": {},
   "cell_type": "markdown",
   "metadata": {},
   "source": [
    "**Пояснение.** Сейчас мы наблюдаем очень странную, на первый взгляд, картину - в первом случае получили `True`, а во втором - уже `False`, хотя код никак не был изменен. Чтобы понять, почему так происходит, давайте вспомним, что делают итераторы.\n",
    "\n",
    "Когда мы применяем магический метод `__next__` (используется выше в неявном виде), итератор возвращает сначала текущий элемент, а после этого сдвигает \"указатель\" к следующему элементу. Еще раз. К следующему элементу. Есть ли после первой четверки равные ей элементы? Нет!\n",
    "\n",
    "Поясним чуть подробнее. Когда мы применяем поиск по итератору впервые, магический метод `__next__`, дойдя до четверки, остановится, потому что нашел подходящее значение. В тот момент итератор уже будет указывать на пятерку (как на следующий элемент). Повторное использование итератора приведет к тому, что все элементы начнут перебираться именно с пятерки, а не с самого начала, потому что итераторы идут всегда к следующему элементу."
   ]
  },
  {
   "attachments": {},
   "cell_type": "markdown",
   "metadata": {},
   "source": [
    "**Примечание.** Будьте предельно внимательны при работе с итераторами. Их опустошение нередко становится головной болью неопытных разработчиков."
   ]
  },
  {
   "attachments": {},
   "cell_type": "markdown",
   "metadata": {},
   "source": [
    "**Пример.** Пример опустошения итератора."
   ]
  },
  {
   "cell_type": "code",
   "execution_count": 10,
   "metadata": {},
   "outputs": [
    {
     "name": "stdout",
     "output_type": "stream",
     "text": [
      "> 1 <\n",
      "> 2 <\n",
      "3\n",
      "4\n",
      "5\n",
      "6\n"
     ]
    }
   ],
   "source": [
    "example = {1, 2, 3, 4, 5, 6}\n",
    "\n",
    "iterator = iter(example)\n",
    "\n",
    "print(\">\", next(iterator), \"<\")\n",
    "print(\">\", next(iterator), \"<\")\n",
    "\n",
    "for value in iterator:\n",
    "    print(value)"
   ]
  },
  {
   "attachments": {},
   "cell_type": "markdown",
   "metadata": {},
   "source": [
    "**Замечание.** Внимательный читатель вспомнит, что `for` должен вызывать магический метод `__iter__`. Все так. Дело в том, что итераторы устроены таким образом, что их метод `__iter__` всегда возвращает сам объект, а не его копию-итератор."
   ]
  },
  {
   "attachments": {},
   "cell_type": "markdown",
   "metadata": {},
   "source": [
    "**Пример.** Реализация перебора при помощи явного применения итераторов."
   ]
  },
  {
   "cell_type": "code",
   "execution_count": 11,
   "metadata": {},
   "outputs": [
    {
     "name": "stdout",
     "output_type": "stream",
     "text": [
      "1\n",
      "2\n",
      "3\n"
     ]
    }
   ],
   "source": [
    "example = [1, 2, 3]\n",
    "\n",
    "iterator = iter(example)\n",
    "\n",
    "while True:\n",
    "    try:\n",
    "        print(next(iterator))\n",
    "    except StopIteration:\n",
    "        break"
   ]
  },
  {
   "attachments": {},
   "cell_type": "markdown",
   "metadata": {},
   "source": [
    "**Пояснение.** С идейной точки зрения, именно таким способом реализован перебор коллекций, для которых определен магический метод `__iter__`."
   ]
  },
  {
   "attachments": {},
   "cell_type": "markdown",
   "metadata": {},
   "source": [
    "**Пример.** Реализуйте итератор, который перебирает `n` случайных чисел в диапазоне от `a` до `b`."
   ]
  },
  {
   "cell_type": "code",
   "execution_count": 12,
   "metadata": {},
   "outputs": [],
   "source": [
    "import random\n",
    "\n",
    "from collections.abc import Iterator\n",
    "from typing import Self\n",
    "\n",
    "\n",
    "class RandomIterator(Iterator):\n",
    "    __slots__: list[str, ...] = [\n",
    "        \"__lh_bound\",  # Левая граница для случайных значений\n",
    "        \"__rh_bound\",  # Правая граница для случайных значений\n",
    "        \"__left\",      # Сколько значений нужно еще вернуть\n",
    "    ]\n",
    "\n",
    "    def __init__(self: Self, n: int, a: int, b: int) -> None:\n",
    "        self.__lh_bound: int = a\n",
    "        self.__rh_bound: int = b\n",
    "        self.__left: int = n\n",
    "\n",
    "    def __iter__(self: Self) -> Iterator[int]:\n",
    "        return self\n",
    "\n",
    "    def __next__(self: Self) -> int:\n",
    "        if self.__left <= 0:\n",
    "            raise StopIteration\n",
    "\n",
    "        self.__left -= 1\n",
    "        return random.randint(self.__lh_bound, self.__rh_bound)"
   ]
  },
  {
   "cell_type": "code",
   "execution_count": 13,
   "metadata": {},
   "outputs": [
    {
     "name": "stdout",
     "output_type": "stream",
     "text": [
      "3\n",
      "10\n",
      "-6\n",
      "-5\n",
      "3\n"
     ]
    }
   ],
   "source": [
    "for value in RandomIterator(n=5, a=-10, b=10):\n",
    "    print(value)"
   ]
  },
  {
   "attachments": {},
   "cell_type": "markdown",
   "metadata": {},
   "source": [
    "**Пояснение.** Для итератора, как уже было сказано, достаточно определить всего лишь два магических метода - `__iter__` и `__next__`. В методе `__iter__`, в котором мы получаем итератор, достаточно вернуть себя - об этом уже было сказано выше. Когда же мы говорим о магическом методе `__next__`, то нужно выполнить всего два условия: передавать данные, пока возможно, иначе - бросать исключение `StopIteration`."
   ]
  },
  {
   "attachments": {},
   "cell_type": "markdown",
   "metadata": {},
   "source": [
    "**Замечание.** Настоятельно рекомендуется реализовывать итераторы в виде отдельных сущностей."
   ]
  },
  {
   "attachments": {},
   "cell_type": "markdown",
   "metadata": {},
   "source": [
    "**Пример.** Реализация итератора для стека."
   ]
  },
  {
   "cell_type": "code",
   "execution_count": 16,
   "metadata": {},
   "outputs": [],
   "source": [
    "class StackIterator(Iterator):\n",
    "    __slots__: tuple[str] = (\"__node\")\n",
    "\n",
    "    def __init__(self: Self, stack: Stack) -> None:\n",
    "        self.__node: Optional[Node] = stack._head\n",
    "\n",
    "    def __iter__(self: Self) -> Iterator[Any]:\n",
    "        return self\n",
    "\n",
    "    def __next__(self: Self) -> Any:\n",
    "        if self.__node is None:\n",
    "            raise StopIteration\n",
    "\n",
    "        value: Any = self.__node.value\n",
    "        self.__node = self.__node.next\n",
    "\n",
    "        return value\n",
    "\n",
    "\n",
    "class Stack(object):\n",
    "    __slots__: tuple[str, ...] = (\n",
    "        \"_head\",\n",
    "        \"_len\",\n",
    "    )\n",
    "\n",
    "    def __init__(self: Stack) -> None:\n",
    "        self._len: int = 0\n",
    "        self._head: Optional[Node] = None\n",
    "\n",
    "    def __iter__(self: Stack) -> StackIterator:\n",
    "        return StackIterator(self)\n",
    "\n",
    "    def append(self: Stack, value: Any) -> None:\n",
    "        self._head = Node(\n",
    "            value=value,\n",
    "            next=self._head,\n",
    "        )\n",
    "        self._len += 1\n",
    "\n",
    "    def pop(self: Stack) -> Any:\n",
    "        value: Any = self._head.value\n",
    "\n",
    "        self._head = self._head.next\n",
    "        self._len -= 1\n",
    "\n",
    "        return value\n",
    "\n",
    "    def clear(self: Stack) -> None:\n",
    "        self._len = 0\n",
    "        self._head = None\n",
    "\n",
    "    def __len__(self: Stack) -> int:\n",
    "        return self._len\n",
    "\n",
    "    def __getitem__(self: Stack, index: int) -> Any:\n",
    "        if not (0 <= index < len(self)):\n",
    "            raise IndexError\n",
    "\n",
    "        node: Optional[Node] = self._head\n",
    "        for _ in range(index):\n",
    "            node = node.next\n",
    "\n",
    "        return node.value"
   ]
  },
  {
   "cell_type": "code",
   "execution_count": 17,
   "metadata": {},
   "outputs": [
    {
     "name": "stdout",
     "output_type": "stream",
     "text": [
      "1\n",
      "2\n",
      "3\n"
     ]
    }
   ],
   "source": [
    "stack = Stack()\n",
    "\n",
    "stack.append(3)\n",
    "stack.append(2)\n",
    "stack.append(1)\n",
    "\n",
    "for value in stack:\n",
    "    print(value)"
   ]
  },
  {
   "attachments": {},
   "cell_type": "markdown",
   "metadata": {},
   "source": [
    "**Пояснение.** В примере выше, во-первых, был реализован итератор `StackIterator`, который эффективно перебирает элементы стека, начиная с его вершины. Самое важное на этом этапе - не забыть определить метод `__iter__` в основном классе. В остальном все достаточно просто - храним ссылку на требуемый узел, а при необходимости - передвигаемся к следующему элементу."
   ]
  },
  {
   "cell_type": "code",
   "execution_count": 18,
   "metadata": {},
   "outputs": [
    {
     "name": "stdout",
     "output_type": "stream",
     "text": [
      "<class '__main__.StackIterator'>\n",
      "1\n",
      "2\n",
      "3\n"
     ]
    }
   ],
   "source": [
    "stack = Stack()\n",
    "\n",
    "stack.append(3)\n",
    "stack.append(2)\n",
    "stack.append(1)\n",
    "\n",
    "iterator = iter(stack)\n",
    "print(type(iterator))\n",
    "\n",
    "print(next(iterator))\n",
    "print(next(iterator))\n",
    "print(next(iterator))"
   ]
  },
  {
   "attachments": {},
   "cell_type": "markdown",
   "metadata": {},
   "source": [
    "**Пример.** Реализуйте итератор, который перебирает факториалы чисел от `0` до `n`."
   ]
  },
  {
   "cell_type": "code",
   "execution_count": 19,
   "metadata": {},
   "outputs": [],
   "source": [
    "class FactorialIterator(Iterator):\n",
    "    __slots__: tuple[str, ...] = (\n",
    "        \"__factorial\",\n",
    "        \"__number\",\n",
    "        \"__left\",\n",
    "    )\n",
    "\n",
    "    def __init__(self: Self, n: int) -> None:\n",
    "        self.__factorial: int = 1  # Текущий факториал\n",
    "        self.__number: int = 1     # Следующее число\n",
    "        self.__left: int = n       # Сколько осталось вывести\n",
    "\n",
    "    def __iter__(self: Self) -> FactorialIterator:\n",
    "        return self\n",
    "\n",
    "    def __next__(self: Self) -> int:\n",
    "        if self.__left <= 0:\n",
    "            raise StopIteration\n",
    "\n",
    "        value: int = self.__factorial\n",
    "        self.__factorial *= self.__number\n",
    "        self.__number += 1\n",
    "        self.__left -= 1\n",
    "\n",
    "        return value"
   ]
  },
  {
   "cell_type": "code",
   "execution_count": 20,
   "metadata": {},
   "outputs": [
    {
     "name": "stdout",
     "output_type": "stream",
     "text": [
      "1\n",
      "1\n",
      "2\n",
      "6\n",
      "24\n",
      "120\n",
      "720\n",
      "5040\n",
      "40320\n",
      "362880\n"
     ]
    }
   ],
   "source": [
    "for value in FactorialIterator(10):\n",
    "    print(value)"
   ]
  },
  {
   "attachments": {},
   "cell_type": "markdown",
   "metadata": {},
   "source": [
    "**Рассуждение.** Как можно заметить, итераторы - достаточно громоздкие объекты, с точки зрения реализации. Чтобы написать итератор по факториалам, пришлось задействовать порядка 25 строк кода. Для удобства разработчиков придумали генераторы."
   ]
  },
  {
   "attachments": {},
   "cell_type": "markdown",
   "metadata": {},
   "source": [
    "**Определение.** Генератор - это особый вид функций, реализующий поведение итератора. Генератор обладает следующими отличительными чертами:\n",
    "- Для возвращения значений вместо `return` используется `yield`;\n",
    "- В функциях-генераторах `return value` аналогичен `raise StopIteration(value)` в итераторах;\n",
    "- Вызов `yield` возвращает значение из генератора и запоминает состояние (то есть переменные), в котором он был перед отправкой значения. Последующее исполнение начинается с того места, где закончилось предыдущее."
   ]
  },
  {
   "attachments": {},
   "cell_type": "markdown",
   "metadata": {},
   "source": [
    "**Пояснение.** Говоря максимально просто, функция-генератор - это такой итератор, который самостоятельно запоминает контекст исполнения. В частности, более не требуется заполнять какие-то внутрение поля класса-итератора - все будет исполнено автоматически."
   ]
  },
  {
   "attachments": {},
   "cell_type": "markdown",
   "metadata": {},
   "source": [
    "**Замечание.** В отличие от функций, генераторы имеют более сложную аннотацию. В рамках курса используйте аннотацию `Generator[YieldType, None, ReturnType]`. Значение, которое находится посередине, отвечает за отправляемое в генератор значение. Это связано с объектом, имеющим название \"корутина\". В рамках текущего курса мы его изучать не будем."
   ]
  },
  {
   "attachments": {},
   "cell_type": "markdown",
   "metadata": {},
   "source": [
    "**Пример.** Реализуйте генератор, который перебирает `n` случайных чисел в диапазоне от `a` до `b`."
   ]
  },
  {
   "cell_type": "code",
   "execution_count": 21,
   "metadata": {},
   "outputs": [],
   "source": [
    "from collections.abc import Generator\n",
    "\n",
    "def iterate_random(n: int, a: int, b: int) -> Generator[int, None, None]:\n",
    "    for _ in range(n):\n",
    "        yield random.randint(a, b)"
   ]
  },
  {
   "cell_type": "code",
   "execution_count": 23,
   "metadata": {},
   "outputs": [
    {
     "name": "stdout",
     "output_type": "stream",
     "text": [
      "4\n",
      "-10\n",
      "9\n",
      "-7\n",
      "-3\n"
     ]
    }
   ],
   "source": [
    "for value in iterate_random(n=5, a=-10, b=10):\n",
    "    print(value)"
   ]
  },
  {
   "attachments": {},
   "cell_type": "markdown",
   "metadata": {},
   "source": [
    "**Пояснение.** Возможно, Вам станет немного понятнее, если мы рассмотрим генератор как итератор. Вновь напомним, что это не совсем обычные функции."
   ]
  },
  {
   "cell_type": "code",
   "execution_count": 25,
   "metadata": {},
   "outputs": [
    {
     "name": "stdout",
     "output_type": "stream",
     "text": [
      "-7\n",
      "5\n",
      "-7\n",
      "-10\n",
      "6\n"
     ]
    }
   ],
   "source": [
    "iterator = iter(iterate_random(n=5, a=-10, b=10))\n",
    "\n",
    "print(next(iterator))\n",
    "print(next(iterator))\n",
    "print(next(iterator))\n",
    "print(next(iterator))\n",
    "print(next(iterator))"
   ]
  },
  {
   "attachments": {},
   "cell_type": "markdown",
   "metadata": {},
   "source": [
    "**Определение.** Итерируемый объект - это объект, у которого определен магический метод `__iter__`."
   ]
  },
  {
   "attachments": {},
   "cell_type": "markdown",
   "metadata": {},
   "source": [
    "**Упражнение.** Сравните определения *итератор* и *итерируемый объект*. Что между ними общего? Чем они отличаются? Является ли итератор итерируемым объектом? А наоборот? Почему?"
   ]
  },
  {
   "attachments": {},
   "cell_type": "markdown",
   "metadata": {},
   "source": [
    "**Пример.** Реализовать генератор для перебора четных целых чисел в произвольном итерируемом объекте."
   ]
  },
  {
   "cell_type": "code",
   "execution_count": 26,
   "metadata": {},
   "outputs": [],
   "source": [
    "from collections.abc import Iterable\n",
    "\n",
    "def iterate_even(iterable: Iterable[Any]) -> Generator[int, None, None]:\n",
    "    for value in iterable:\n",
    "        if not isinstance(value, int):\n",
    "            continue\n",
    "\n",
    "        if value % 2 != 0:\n",
    "            continue\n",
    "\n",
    "        yield value"
   ]
  },
  {
   "cell_type": "code",
   "execution_count": 27,
   "metadata": {},
   "outputs": [
    {
     "name": "stdout",
     "output_type": "stream",
     "text": [
      "2\n",
      "8\n"
     ]
    }
   ],
   "source": [
    "example = (1, 2, hex(3), \"4\", 5, bin(5), [6], 7, 8)\n",
    "\n",
    "for value in iterate_even(example):\n",
    "    print(value)"
   ]
  },
  {
   "attachments": {},
   "cell_type": "markdown",
   "metadata": {},
   "source": [
    "**Пример.** Реализовать генератор по лексикографически не убывающему префиксу строки."
   ]
  },
  {
   "cell_type": "code",
   "execution_count": 28,
   "metadata": {},
   "outputs": [],
   "source": [
    "def mygenerator(string: str) -> Generator[str, None, None]:\n",
    "    if not string:\n",
    "        return\n",
    "\n",
    "    last: str = string[0]\n",
    "    for letter in string:\n",
    "\n",
    "        if letter < last:\n",
    "            return\n",
    "\n",
    "        last = letter\n",
    "        yield last"
   ]
  },
  {
   "cell_type": "code",
   "execution_count": 29,
   "metadata": {},
   "outputs": [
    {
     "name": "stdout",
     "output_type": "stream",
     "text": [
      "a\n",
      "a\n",
      "a\n",
      "b\n",
      "c\n",
      "d\n"
     ]
    }
   ],
   "source": [
    "for letter in mygenerator(\"aaabcda_stop\"):\n",
    "    print(letter)"
   ]
  },
  {
   "attachments": {},
   "cell_type": "markdown",
   "metadata": {},
   "source": [
    "**Пояснение.** Использование `return` в функциях-генераторах, как уже упоминалось, равносильно тому, что Вы выбросили исключение `StopIteration` в итераторе. Например, когда на вход подается пустая строка, можно сразу выходить из генератора, так как ничего более не будет совершено. Или, например, когда нарушен лекискографический порядок из условия - аналогично."
   ]
  },
  {
   "attachments": {},
   "cell_type": "markdown",
   "metadata": {},
   "source": [
    "**Пример.** Реализовать генератор, который перебирает только `k`-ые элементы произвольного итерируемого объекта."
   ]
  },
  {
   "cell_type": "code",
   "execution_count": 44,
   "metadata": {},
   "outputs": [],
   "source": [
    "def mygenerator(k: int, iterable: Iterable[Any]) -> Generator[int, None, None]:\n",
    "    index: int = -1\n",
    "    for value in iterable:\n",
    "        index += 1\n",
    "\n",
    "        if index % k != 0:\n",
    "            continue\n",
    "\n",
    "        yield value"
   ]
  },
  {
   "cell_type": "code",
   "execution_count": 46,
   "metadata": {},
   "outputs": [
    {
     "name": "stdout",
     "output_type": "stream",
     "text": [
      "1\n",
      "0b100\n",
      "0x7\n"
     ]
    }
   ],
   "source": [
    "example = [\"1\", 2, (3), bin(4), [5], {6}, hex(7)]\n",
    "kth = 3\n",
    "\n",
    "for value in mygenerator(kth, example):\n",
    "    print(value)"
   ]
  },
  {
   "attachments": {},
   "cell_type": "markdown",
   "metadata": {},
   "source": [
    "**Пример.** Опустошение генератора."
   ]
  },
  {
   "cell_type": "code",
   "execution_count": 47,
   "metadata": {},
   "outputs": [],
   "source": [
    "def mygenerator(n: int) -> Generator[int, None, None]:\n",
    "    for _ in range(n):\n",
    "        yield 1"
   ]
  },
  {
   "cell_type": "code",
   "execution_count": 48,
   "metadata": {},
   "outputs": [
    {
     "name": "stdout",
     "output_type": "stream",
     "text": [
      "Первое значение генератора: 1\n",
      "Второе значение генератора: 1\n",
      "Список на основе генератора: [1, 1, 1]\n"
     ]
    }
   ],
   "source": [
    "example = [1, 1, 1, 1, 1]\n",
    "ones = mygenerator(n=5)\n",
    "\n",
    "print(\"Первое значение генератора:\", next(ones))\n",
    "print(\"Второе значение генератора:\", next(ones))\n",
    "\n",
    "print(\"Список на основе генератора:\", list(ones))"
   ]
  },
  {
   "attachments": {},
   "cell_type": "markdown",
   "metadata": {},
   "source": [
    "**Пример.** Опустошение генератора."
   ]
  },
  {
   "cell_type": "code",
   "execution_count": 49,
   "metadata": {},
   "outputs": [],
   "source": [
    "def mygenerator(n: int) -> Generator[int, None, None]:\n",
    "    for value in range(1, n + 1):\n",
    "        yield value"
   ]
  },
  {
   "cell_type": "code",
   "execution_count": 50,
   "metadata": {},
   "outputs": [
    {
     "name": "stdout",
     "output_type": "stream",
     "text": [
      "5 in iterator: True\n",
      "5 in iterator: False\n"
     ]
    }
   ],
   "source": [
    "iterator = iter(mygenerator(10))\n",
    "\n",
    "print(\"5 in iterator:\", 5 in iterator)\n",
    "print(\"5 in iterator:\", 5 in iterator)"
   ]
  },
  {
   "attachments": {},
   "cell_type": "markdown",
   "metadata": {},
   "source": [
    "**Рассуждение.** Давайте вернемся к наследованию классов. Порой может возникнуть задача, когда в дочернем классе нужно расширить родительский метод, а не переопределить его. Приведем пример. Положим, что имеется реализация узла для односвязного списка. Тогда, чтобы расширить определение до двусвязности, достаточно лишь доопределить инициализатор узла."
   ]
  },
  {
   "attachments": {},
   "cell_type": "markdown",
   "metadata": {},
   "source": [
    "**Пример.** Реализация узла односвязного списка."
   ]
  },
  {
   "cell_type": "code",
   "execution_count": 8,
   "metadata": {},
   "outputs": [],
   "source": [
    "class LinkedListNode(object):\n",
    "    __slots__: tuple[str, ...] = (\n",
    "        \"__value\",\n",
    "        \"__next\",\n",
    "    )\n",
    "\n",
    "    def __init__(\n",
    "        self: LinkedListNode,\n",
    "        value: Any,\n",
    "        next: Optional[LinkedListNode] = None,\n",
    "    ) -> None:\n",
    "        self.__value: Any = value\n",
    "        self.__next: Optional[LinkedListNode] = next\n",
    "\n",
    "    @property\n",
    "    def value(self: LinkedListNode) -> Any:\n",
    "        return self.__value\n",
    "\n",
    "    @value.setter\n",
    "    def value(self: LinkedListNode, value: Any) -> None:\n",
    "        self.__value = value\n",
    "\n",
    "    @property\n",
    "    def next(self: LinkedListNode) -> Optional[LinkedListNode]:\n",
    "        return self.__next"
   ]
  },
  {
   "attachments": {},
   "cell_type": "markdown",
   "metadata": {},
   "source": [
    "**Пример.** Доопределение узла односвязного списка до двусвязности."
   ]
  },
  {
   "cell_type": "code",
   "execution_count": 9,
   "metadata": {},
   "outputs": [],
   "source": [
    "class DoublyLinkedListNode(LinkedListNode):\n",
    "    __slots__: tuple[str] = (\"__previous\")\n",
    "\n",
    "    def __init__(\n",
    "        self: DoublyLinkedListNode,\n",
    "        value: Any,\n",
    "        next: Optional[LinkedListNode] = None,\n",
    "        previous: Optional[LinkedListNode] = None,\n",
    "    ) -> None:\n",
    "        super().__init__(value=value, next=next)\n",
    "        self.__previous: Optional[LinkedListNode] = previous\n",
    "\n",
    "    @property\n",
    "    def previous(self: DoublyLinkedListNode) -> Optional[DoublyLinkedListNode]:\n",
    "        return self.__previous"
   ]
  },
  {
   "cell_type": "code",
   "execution_count": 10,
   "metadata": {},
   "outputs": [
    {
     "data": {
      "text/plain": [
       "'Random Value'"
      ]
     },
     "execution_count": 10,
     "metadata": {},
     "output_type": "execute_result"
    }
   ],
   "source": [
    "node = DoublyLinkedListNode(\"Random Value\")\n",
    "node.value"
   ]
  },
  {
   "attachments": {},
   "cell_type": "markdown",
   "metadata": {},
   "source": [
    "**Пояснение.** При помощи функции `super()` можно обратиться к экземпляру родительского класса. В примере выше такой вызов позволил сначала инициализировать атрибуты, которые были определены в родителе, а после - доопределить требуемые."
   ]
  },
  {
   "attachments": {},
   "cell_type": "markdown",
   "metadata": {},
   "source": [
    "**Пример.** Наследование квадрата от прямоугольника."
   ]
  },
  {
   "cell_type": "code",
   "execution_count": 3,
   "metadata": {},
   "outputs": [],
   "source": [
    "class Rectangle(object):\n",
    "    __slots__: tuple[str, ...] = (\n",
    "        \"__width\",\n",
    "        \"__height\",\n",
    "    )\n",
    "\n",
    "    def __init__(self: Rectangle, width: int, height: int) -> None:\n",
    "        self.__width: int = width\n",
    "        self.__height: int = height\n",
    "\n",
    "    @property\n",
    "    def width(self: Rectangle) -> int:\n",
    "        return self.__width\n",
    "    \n",
    "    @property\n",
    "    def height(self: Rectangle) -> int:\n",
    "        return self.__height"
   ]
  },
  {
   "cell_type": "code",
   "execution_count": 4,
   "metadata": {},
   "outputs": [],
   "source": [
    "class Square(Rectangle):\n",
    "    __slots__: tuple[str, ...] = ()\n",
    "\n",
    "    def __init__(self: Square, side: int) -> None:\n",
    "        super().__init__(width=side, height=side)"
   ]
  },
  {
   "cell_type": "code",
   "execution_count": 6,
   "metadata": {},
   "outputs": [
    {
     "name": "stdout",
     "output_type": "stream",
     "text": [
      "Height: 10\n",
      "Width: 10\n"
     ]
    }
   ],
   "source": [
    "square = Square(side=10)\n",
    "\n",
    "print(\"Height:\", square.height)\n",
    "print(\"Width:\", square.width)"
   ]
  },
  {
   "attachments": {},
   "cell_type": "markdown",
   "metadata": {},
   "source": [
    "**Примечание.** В основном `super()` используют только для того, чтобы дополнить функционал родительского метода."
   ]
  },
  {
   "attachments": {},
   "cell_type": "markdown",
   "metadata": {},
   "source": [
    "**Замечание.** Проверить наличие метода или атрибута у объекта можно при помощи функции `hasattr(obj, \"method/attr\")`. В частности, при помощи `hasattr(super(), \"method/attr\")` можно узнать наличие метода или атрибута в родительском классе."
   ]
  },
  {
   "attachments": {},
   "cell_type": "markdown",
   "metadata": {},
   "source": [
    "**Упражнение.** Попробуйте обратиться к несуществующему атрибуту или методу при помощи `super()`. Какое исключение будет вызвано?"
   ]
  },
  {
   "attachments": {},
   "cell_type": "markdown",
   "metadata": {},
   "source": [
    "**Рассуждение.** Теперь представим, что у класса несколько родителей. Как в таком случае будет вести себя `super()`? Для этого определили порядок разрешения конфликтов наследования (MRO). Это специальный объект, который определяет порядок классов, в котором дочерний будет искать методы или атрибуты в родительском. Список доступен при обращении к атрибуту `__mro__` у класса (не экземпляра)."
   ]
  },
  {
   "cell_type": "code",
   "execution_count": 11,
   "metadata": {},
   "outputs": [],
   "source": [
    "class Animal(object):\n",
    "    pass\n",
    "\n",
    "class Mammal(Animal):\n",
    "    pass\n",
    "\n",
    "class Monkey(Mammal):\n",
    "    pass"
   ]
  },
  {
   "cell_type": "code",
   "execution_count": 17,
   "metadata": {},
   "outputs": [
    {
     "data": {
      "text/plain": [
       "(__main__.Monkey, __main__.Mammal, __main__.Animal, object)"
      ]
     },
     "execution_count": 17,
     "metadata": {},
     "output_type": "execute_result"
    }
   ],
   "source": [
    "Monkey.__mro__"
   ]
  },
  {
   "attachments": {},
   "cell_type": "markdown",
   "metadata": {},
   "source": [
    "**Пояснение.** Благодаря MRO можно увидеть, в каком порядке `super()` будет искать методы или атрибуты родительского класса:\n",
    "\n",
    "1. Если метод определен в `Mammal`, то `super()` использует его;\n",
    "2. Если метод не определен в `Mammal`, но определен в `Animal`, то `super()` обратится к `Animal`;\n",
    "3. Если метод не определен ни в `Mammal`, ни в `Animal`, то поиск перейдет к `object`.\n",
    "\n",
    "Если ни один из трех случаев не подошел - получите исключение."
   ]
  },
  {
   "attachments": {},
   "cell_type": "markdown",
   "metadata": {},
   "source": [
    "**Упражнение.** Как определен MRO при изумрудном наследовании?"
   ]
  },
  {
   "attachments": {},
   "cell_type": "markdown",
   "metadata": {},
   "source": [
    "**Пример.** Вызов метода или атрибута из конкретного родителя."
   ]
  },
  {
   "cell_type": "code",
   "execution_count": 22,
   "metadata": {},
   "outputs": [],
   "source": [
    "class Animal(object):\n",
    "    def whoami(self: Animal) -> None:\n",
    "        print(\"Animal\")\n",
    "\n",
    "\n",
    "class Mammal(Animal):\n",
    "    def whoami(self: Mammal) -> None:\n",
    "        print(\"Mammal\")\n",
    "\n",
    "\n",
    "class Monkey(Mammal):\n",
    "    def whoami(self: Monkey) -> None:\n",
    "        Animal.whoami(self)"
   ]
  },
  {
   "cell_type": "code",
   "execution_count": 23,
   "metadata": {},
   "outputs": [
    {
     "name": "stdout",
     "output_type": "stream",
     "text": [
      "Animal\n"
     ]
    }
   ],
   "source": [
    "monkey = Monkey()\n",
    "monkey.whoami()"
   ]
  },
  {
   "attachments": {},
   "cell_type": "markdown",
   "metadata": {},
   "source": [
    "**Пояснение.** Достаточно напрямую обратиться к методу нужного класса, предоставив текущий экземпляр в качестве аргумента (вместо `self`)."
   ]
  },
  {
   "attachments": {},
   "cell_type": "markdown",
   "metadata": {},
   "source": [
    "**Спойлер.** На семинаре:\n",
    "\n",
    "- Разберете дополнительные примеры работы с итераторами;\n",
    "- Разберете дополнительные примеры работы с генераторами;\n",
    "- Вспомните генераторные выражения."
   ]
  }
 ],
 "metadata": {
  "kernelspec": {
   "display_name": "Python 3",
   "language": "python",
   "name": "python3"
  },
  "language_info": {
   "codemirror_mode": {
    "name": "ipython",
    "version": 3
   },
   "file_extension": ".py",
   "mimetype": "text/x-python",
   "name": "python",
   "nbconvert_exporter": "python",
   "pygments_lexer": "ipython3",
   "version": "3.11.0"
  },
  "orig_nbformat": 4
 },
 "nbformat": 4,
 "nbformat_minor": 2
}
