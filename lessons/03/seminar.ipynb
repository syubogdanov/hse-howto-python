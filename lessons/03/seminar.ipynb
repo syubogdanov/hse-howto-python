{
 "cells": [
  {
   "attachments": {},
   "cell_type": "markdown",
   "metadata": {},
   "source": [
    "<div align=\"center\">\n",
    "    <a href=\"https://github.com/syubogdanov/hse-howto-python\">\n",
    "        <img src=\"https://cdn-icons-png.flaticon.com/128/1864/1864510.png\" height=\"128px\" width=\"auto\">\n",
    "    </a>\n",
    "    <h3>\n",
    "        <b>\n",
    "            Продвинутый Python\n",
    "        </b>\n",
    "    </h3>\n",
    "    <i>\n",
    "        Продвинутое ООП. Часть III\n",
    "    </i>\n",
    "</div>\n",
    "\n",
    "<br>"
   ]
  },
  {
   "attachments": {},
   "cell_type": "markdown",
   "metadata": {},
   "source": [
    "**Задание.** Реализуйте итератор, который перебирает символы строки в виде заглавных букв."
   ]
  },
  {
   "cell_type": "code",
   "execution_count": null,
   "metadata": {},
   "outputs": [],
   "source": [
    "\"\"\"\n",
    "Lorem ipsum dolor sit amet, consectetur adipiscing elit, sed do\n",
    "eiusmod tempor incididunt ut labore et dolore magna aliqua. Ut\n",
    "enim ad minim veniam, quis nostrud exercitation ullamco laboris\n",
    "nisi ut aliquip ex ea commodo consequat. Duis aute irure dolor\n",
    "in reprehenderit in voluptate velit esse cillum dolore eu fugiat\n",
    "nulla pariatur. Excepteur sint occaecat cupidatat non proident,\n",
    "sunt in culpa qui officia deserunt mollit anim id est laborum.\n",
    "\"\"\""
   ]
  },
  {
   "attachments": {},
   "cell_type": "markdown",
   "metadata": {},
   "source": [
    "**Задание.** Реализуйте итератор, который перебирает только те элементы итерируемого объекта, что возвращают от функции-валидатора значение `True`."
   ]
  },
  {
   "cell_type": "code",
   "execution_count": null,
   "metadata": {},
   "outputs": [],
   "source": [
    "\"\"\"\n",
    "Lorem ipsum dolor sit amet, consectetur adipiscing elit, sed do\n",
    "eiusmod tempor incididunt ut labore et dolore magna aliqua. Ut\n",
    "enim ad minim veniam, quis nostrud exercitation ullamco laboris\n",
    "nisi ut aliquip ex ea commodo consequat. Duis aute irure dolor\n",
    "in reprehenderit in voluptate velit esse cillum dolore eu fugiat\n",
    "nulla pariatur. Excepteur sint occaecat cupidatat non proident,\n",
    "sunt in culpa qui officia deserunt mollit anim id est laborum.\n",
    "\"\"\""
   ]
  },
  {
   "attachments": {},
   "cell_type": "markdown",
   "metadata": {},
   "source": [
    "**Задание.** Реализуйте итератор, который в переданном файле перебирает строки, начиная с `k`-ой с шагом в `s` строк."
   ]
  },
  {
   "cell_type": "code",
   "execution_count": null,
   "metadata": {},
   "outputs": [],
   "source": [
    "\"\"\"\n",
    "Lorem ipsum dolor sit amet, consectetur adipiscing elit, sed do\n",
    "eiusmod tempor incididunt ut labore et dolore magna aliqua. Ut\n",
    "enim ad minim veniam, quis nostrud exercitation ullamco laboris\n",
    "nisi ut aliquip ex ea commodo consequat. Duis aute irure dolor\n",
    "in reprehenderit in voluptate velit esse cillum dolore eu fugiat\n",
    "nulla pariatur. Excepteur sint occaecat cupidatat non proident,\n",
    "sunt in culpa qui officia deserunt mollit anim id est laborum.\n",
    "\"\"\""
   ]
  },
  {
   "attachments": {},
   "cell_type": "markdown",
   "metadata": {},
   "source": [
    "**Задание.** Реализуйте итератор, который перебирает значения префиксной функции для переданной строки."
   ]
  },
  {
   "cell_type": "code",
   "execution_count": null,
   "metadata": {},
   "outputs": [],
   "source": [
    "\"\"\"\n",
    "Lorem ipsum dolor sit amet, consectetur adipiscing elit, sed do\n",
    "eiusmod tempor incididunt ut labore et dolore magna aliqua. Ut\n",
    "enim ad minim veniam, quis nostrud exercitation ullamco laboris\n",
    "nisi ut aliquip ex ea commodo consequat. Duis aute irure dolor\n",
    "in reprehenderit in voluptate velit esse cillum dolore eu fugiat\n",
    "nulla pariatur. Excepteur sint occaecat cupidatat non proident,\n",
    "sunt in culpa qui officia deserunt mollit anim id est laborum.\n",
    "\"\"\""
   ]
  },
  {
   "attachments": {},
   "cell_type": "markdown",
   "metadata": {},
   "source": [
    "**Задание.** Реализуйте итератор, который перебирает все не более, чем `n`-значные числа, у которых все цифры одинаковые."
   ]
  },
  {
   "cell_type": "code",
   "execution_count": null,
   "metadata": {},
   "outputs": [],
   "source": [
    "\"\"\"\n",
    "Lorem ipsum dolor sit amet, consectetur adipiscing elit, sed do\n",
    "eiusmod tempor incididunt ut labore et dolore magna aliqua. Ut\n",
    "enim ad minim veniam, quis nostrud exercitation ullamco laboris\n",
    "nisi ut aliquip ex ea commodo consequat. Duis aute irure dolor\n",
    "in reprehenderit in voluptate velit esse cillum dolore eu fugiat\n",
    "nulla pariatur. Excepteur sint occaecat cupidatat non proident,\n",
    "sunt in culpa qui officia deserunt mollit anim id est laborum.\n",
    "\"\"\""
   ]
  },
  {
   "attachments": {},
   "cell_type": "markdown",
   "metadata": {},
   "source": [
    "**Задание.** Реализуйте итератор, который последовательно перебирает все цифры, которые встречаются в числах на отрезке от `a` до `b`. Например, добравшись до числа `123`, итератор должен будет возвращать цифры `1`, `2` и `3`, а только после перейдет к числу `124`."
   ]
  },
  {
   "cell_type": "code",
   "execution_count": null,
   "metadata": {},
   "outputs": [],
   "source": [
    "\"\"\"\n",
    "Lorem ipsum dolor sit amet, consectetur adipiscing elit, sed do\n",
    "eiusmod tempor incididunt ut labore et dolore magna aliqua. Ut\n",
    "enim ad minim veniam, quis nostrud exercitation ullamco laboris\n",
    "nisi ut aliquip ex ea commodo consequat. Duis aute irure dolor\n",
    "in reprehenderit in voluptate velit esse cillum dolore eu fugiat\n",
    "nulla pariatur. Excepteur sint occaecat cupidatat non proident,\n",
    "sunt in culpa qui officia deserunt mollit anim id est laborum.\n",
    "\"\"\""
   ]
  },
  {
   "attachments": {},
   "cell_type": "markdown",
   "metadata": {},
   "source": [
    "**Задание.** Реализуйте генератор, который перебирает значения `z`-функции для переданной строки."
   ]
  },
  {
   "cell_type": "code",
   "execution_count": null,
   "metadata": {},
   "outputs": [],
   "source": [
    "\"\"\"\n",
    "Lorem ipsum dolor sit amet, consectetur adipiscing elit, sed do\n",
    "eiusmod tempor incididunt ut labore et dolore magna aliqua. Ut\n",
    "enim ad minim veniam, quis nostrud exercitation ullamco laboris\n",
    "nisi ut aliquip ex ea commodo consequat. Duis aute irure dolor\n",
    "in reprehenderit in voluptate velit esse cillum dolore eu fugiat\n",
    "nulla pariatur. Excepteur sint occaecat cupidatat non proident,\n",
    "sunt in culpa qui officia deserunt mollit anim id est laborum.\n",
    "\"\"\""
   ]
  },
  {
   "attachments": {},
   "cell_type": "markdown",
   "metadata": {},
   "source": [
    "**Задание.** Реализуйте генератор, который перебирает все не более, чем `n`-значные числа, которые являются палиндромами."
   ]
  },
  {
   "cell_type": "code",
   "execution_count": null,
   "metadata": {},
   "outputs": [],
   "source": [
    "\"\"\"\n",
    "Lorem ipsum dolor sit amet, consectetur adipiscing elit, sed do\n",
    "eiusmod tempor incididunt ut labore et dolore magna aliqua. Ut\n",
    "enim ad minim veniam, quis nostrud exercitation ullamco laboris\n",
    "nisi ut aliquip ex ea commodo consequat. Duis aute irure dolor\n",
    "in reprehenderit in voluptate velit esse cillum dolore eu fugiat\n",
    "nulla pariatur. Excepteur sint occaecat cupidatat non proident,\n",
    "sunt in culpa qui officia deserunt mollit anim id est laborum.\n",
    "\"\"\""
   ]
  },
  {
   "attachments": {},
   "cell_type": "markdown",
   "metadata": {},
   "source": [
    "**Задание.** Реализуйте генератор, который перебирает все не более, чем `n`-значные числа, которые делятся на все числа из переданного итерируемого объекта."
   ]
  },
  {
   "cell_type": "code",
   "execution_count": null,
   "metadata": {},
   "outputs": [],
   "source": [
    "\"\"\"\n",
    "Lorem ipsum dolor sit amet, consectetur adipiscing elit, sed do\n",
    "eiusmod tempor incididunt ut labore et dolore magna aliqua. Ut\n",
    "enim ad minim veniam, quis nostrud exercitation ullamco laboris\n",
    "nisi ut aliquip ex ea commodo consequat. Duis aute irure dolor\n",
    "in reprehenderit in voluptate velit esse cillum dolore eu fugiat\n",
    "nulla pariatur. Excepteur sint occaecat cupidatat non proident,\n",
    "sunt in culpa qui officia deserunt mollit anim id est laborum.\n",
    "\"\"\""
   ]
  },
  {
   "attachments": {},
   "cell_type": "markdown",
   "metadata": {},
   "source": [
    "**Задание.** Реализуйте генератор, который перебирает все не более, чем `n`-значные числа, которые являются суммой своих цифр, возведенных в степень `k`."
   ]
  },
  {
   "cell_type": "code",
   "execution_count": null,
   "metadata": {},
   "outputs": [],
   "source": [
    "\"\"\"\n",
    "Lorem ipsum dolor sit amet, consectetur adipiscing elit, sed do\n",
    "eiusmod tempor incididunt ut labore et dolore magna aliqua. Ut\n",
    "enim ad minim veniam, quis nostrud exercitation ullamco laboris\n",
    "nisi ut aliquip ex ea commodo consequat. Duis aute irure dolor\n",
    "in reprehenderit in voluptate velit esse cillum dolore eu fugiat\n",
    "nulla pariatur. Excepteur sint occaecat cupidatat non proident,\n",
    "sunt in culpa qui officia deserunt mollit anim id est laborum.\n",
    "\"\"\""
   ]
  },
  {
   "attachments": {},
   "cell_type": "markdown",
   "metadata": {},
   "source": [
    "**Задание.** Реализуйте генератор, который перебирает все правильные скобочные последовательности длины `n`."
   ]
  },
  {
   "cell_type": "code",
   "execution_count": null,
   "metadata": {},
   "outputs": [],
   "source": [
    "\"\"\"\n",
    "Lorem ipsum dolor sit amet, consectetur adipiscing elit, sed do\n",
    "eiusmod tempor incididunt ut labore et dolore magna aliqua. Ut\n",
    "enim ad minim veniam, quis nostrud exercitation ullamco laboris\n",
    "nisi ut aliquip ex ea commodo consequat. Duis aute irure dolor\n",
    "in reprehenderit in voluptate velit esse cillum dolore eu fugiat\n",
    "nulla pariatur. Excepteur sint occaecat cupidatat non proident,\n",
    "sunt in culpa qui officia deserunt mollit anim id est laborum.\n",
    "\"\"\""
   ]
  },
  {
   "attachments": {},
   "cell_type": "markdown",
   "metadata": {},
   "source": [
    "**Задание.** Реализуйте генератор, который перебирает все не более, чем `n`-значные числа-вампиры."
   ]
  },
  {
   "cell_type": "code",
   "execution_count": null,
   "metadata": {},
   "outputs": [],
   "source": [
    "\"\"\"\n",
    "Lorem ipsum dolor sit amet, consectetur adipiscing elit, sed do\n",
    "eiusmod tempor incididunt ut labore et dolore magna aliqua. Ut\n",
    "enim ad minim veniam, quis nostrud exercitation ullamco laboris\n",
    "nisi ut aliquip ex ea commodo consequat. Duis aute irure dolor\n",
    "in reprehenderit in voluptate velit esse cillum dolore eu fugiat\n",
    "nulla pariatur. Excepteur sint occaecat cupidatat non proident,\n",
    "sunt in culpa qui officia deserunt mollit anim id est laborum.\n",
    "\"\"\""
   ]
  },
  {
   "attachments": {},
   "cell_type": "markdown",
   "metadata": {},
   "source": [
    "**Примечание.** На практике Вы достаточно часто будете встречаться с генераторными выражениями. Это еще одна разновидность генераторов, которая позволяет упрощать некоторые элементы Вашей программы. Например, инициализация списка каким-то значением."
   ]
  },
  {
   "attachments": {},
   "cell_type": "markdown",
   "metadata": {},
   "source": [
    "**Пример.** Инициализация списка, заполненного нулями при помощи генераторного выражения."
   ]
  },
  {
   "cell_type": "code",
   "execution_count": 1,
   "metadata": {},
   "outputs": [
    {
     "data": {
      "text/plain": [
       "[0, 0, 0, 0, 0, 0, 0, 0, 0, 0]"
      ]
     },
     "execution_count": 1,
     "metadata": {},
     "output_type": "execute_result"
    }
   ],
   "source": [
    "a = [0 for _ in range(10)]\n",
    "a"
   ]
  },
  {
   "attachments": {},
   "cell_type": "markdown",
   "metadata": {},
   "source": [
    "**Пояснение.** Удобнее всего генераторные выражения читать слева направо: \"Ноль для каждой из десяти итераций\"."
   ]
  },
  {
   "attachments": {},
   "cell_type": "markdown",
   "metadata": {},
   "source": [
    "**Пример.** Фильтрация значений в генераторных выражениях."
   ]
  },
  {
   "cell_type": "code",
   "execution_count": 3,
   "metadata": {},
   "outputs": [
    {
     "data": {
      "text/plain": [
       "[0, 2, 4, 6, 8]"
      ]
     },
     "execution_count": 3,
     "metadata": {},
     "output_type": "execute_result"
    }
   ],
   "source": [
    "a = [x for x in range(10) if x % 2 == 0]\n",
    "a"
   ]
  },
  {
   "attachments": {},
   "cell_type": "markdown",
   "metadata": {},
   "source": [
    "**Пример.** Применение оператора к перебираемому объекту генераторного выражения."
   ]
  },
  {
   "cell_type": "code",
   "execution_count": 4,
   "metadata": {},
   "outputs": [
    {
     "data": {
      "text/plain": [
       "[0, 1, 4, 9, 16, 25, 36, 49, 64, 81]"
      ]
     },
     "execution_count": 4,
     "metadata": {},
     "output_type": "execute_result"
    }
   ],
   "source": [
    "a = [x * x for x in range(10)]\n",
    "a"
   ]
  },
  {
   "attachments": {},
   "cell_type": "markdown",
   "metadata": {},
   "source": [
    "**Пример.** Оператор ветвления в генераторных выражениях."
   ]
  },
  {
   "cell_type": "code",
   "execution_count": 5,
   "metadata": {},
   "outputs": [
    {
     "data": {
      "text/plain": [
       "[0, -1, 2, -3, 4, -5, 6, -7, 8, -9]"
      ]
     },
     "execution_count": 5,
     "metadata": {},
     "output_type": "execute_result"
    }
   ],
   "source": [
    "a = [x if x % 2 == 0 else -x for x in range(10)]\n",
    "a"
   ]
  },
  {
   "attachments": {},
   "cell_type": "markdown",
   "metadata": {},
   "source": [
    "**Пример.** Генераторное выражение на основе списка."
   ]
  },
  {
   "cell_type": "code",
   "execution_count": 6,
   "metadata": {},
   "outputs": [
    {
     "data": {
      "text/plain": [
       "[1, 8, 27, 64, 125]"
      ]
     },
     "execution_count": 6,
     "metadata": {},
     "output_type": "execute_result"
    }
   ],
   "source": [
    "a = [x * x * x for x in [1, 2, 3, 4, 5]]\n",
    "a"
   ]
  },
  {
   "attachments": {},
   "cell_type": "markdown",
   "metadata": {},
   "source": [
    "**Замечание.** В зависимости от скобок генераторное выражение будет возвращать Вам требуемый экземпляр класса."
   ]
  },
  {
   "cell_type": "code",
   "execution_count": 9,
   "metadata": {},
   "outputs": [
    {
     "data": {
      "text/plain": [
       "list"
      ]
     },
     "execution_count": 9,
     "metadata": {},
     "output_type": "execute_result"
    }
   ],
   "source": [
    "a = [x for x in range(10)]\n",
    "type(a)"
   ]
  },
  {
   "cell_type": "code",
   "execution_count": 10,
   "metadata": {},
   "outputs": [
    {
     "data": {
      "text/plain": [
       "set"
      ]
     },
     "execution_count": 10,
     "metadata": {},
     "output_type": "execute_result"
    }
   ],
   "source": [
    "a = {x for x in range(10)}\n",
    "type(a)"
   ]
  },
  {
   "cell_type": "code",
   "execution_count": 12,
   "metadata": {},
   "outputs": [
    {
     "data": {
      "text/plain": [
       "dict"
      ]
     },
     "execution_count": 12,
     "metadata": {},
     "output_type": "execute_result"
    }
   ],
   "source": [
    "a = {x: x for x in range(10)}\n",
    "type(a)"
   ]
  },
  {
   "attachments": {},
   "cell_type": "markdown",
   "metadata": {},
   "source": [
    "**Замечание.** Исключение составляет кортеж. Для него такая операция недоступна. Вместо него Вы получите именно генератор. На самом деле, скобки, относительно которых Вы задаете генераторные выражения, автоматически переносят перебираемые элементы в соответствующую коллекцию."
   ]
  },
  {
   "cell_type": "code",
   "execution_count": 13,
   "metadata": {},
   "outputs": [
    {
     "data": {
      "text/plain": [
       "generator"
      ]
     },
     "execution_count": 13,
     "metadata": {},
     "output_type": "execute_result"
    }
   ],
   "source": [
    "a = (x for x in range(10))\n",
    "type(a)"
   ]
  },
  {
   "attachments": {},
   "cell_type": "markdown",
   "metadata": {},
   "source": [
    "**Пример.** Использование генераторного выражения для перебора чисел, возведенных в степень `-1`."
   ]
  },
  {
   "cell_type": "code",
   "execution_count": 14,
   "metadata": {},
   "outputs": [
    {
     "name": "stdout",
     "output_type": "stream",
     "text": [
      "1.0\n",
      "0.5\n",
      "0.3333333333333333\n",
      "0.25\n",
      "0.2\n",
      "0.16666666666666666\n",
      "0.14285714285714285\n",
      "0.125\n",
      "0.1111111111111111\n"
     ]
    }
   ],
   "source": [
    "for number in (1 / x for x in range(1, 10)):\n",
    "    print(number)"
   ]
  },
  {
   "attachments": {},
   "cell_type": "markdown",
   "metadata": {},
   "source": [
    "**Замечание.** О генераторных выражениях можно думать в контексте анонимных лямбда-функций, которые наверняка более привычны для Вас."
   ]
  },
  {
   "attachments": {},
   "cell_type": "markdown",
   "metadata": {},
   "source": [
    "**Задание.** Напишите генераторное выражение, которое перебирает все числа от `1` до `n`, что являются произведением двух простых чисел."
   ]
  },
  {
   "cell_type": "code",
   "execution_count": null,
   "metadata": {},
   "outputs": [],
   "source": [
    "\"\"\"\n",
    "Lorem ipsum dolor sit amet, consectetur adipiscing elit, sed do\n",
    "eiusmod tempor incididunt ut labore et dolore magna aliqua. Ut\n",
    "enim ad minim veniam, quis nostrud exercitation ullamco laboris\n",
    "nisi ut aliquip ex ea commodo consequat. Duis aute irure dolor\n",
    "in reprehenderit in voluptate velit esse cillum dolore eu fugiat\n",
    "nulla pariatur. Excepteur sint occaecat cupidatat non proident,\n",
    "sunt in culpa qui officia deserunt mollit anim id est laborum.\n",
    "\"\"\""
   ]
  },
  {
   "attachments": {},
   "cell_type": "markdown",
   "metadata": {},
   "source": [
    "**Задание.** Напишите генераторное выражение, которое перебирает элементы-строки итерируемой коллекции, прибавляя к ним префикс. Любые другие типы данных, которые встречаются в коллекции - игнорируйте."
   ]
  },
  {
   "cell_type": "code",
   "execution_count": null,
   "metadata": {},
   "outputs": [],
   "source": [
    "\"\"\"\n",
    "Lorem ipsum dolor sit amet, consectetur adipiscing elit, sed do\n",
    "eiusmod tempor incididunt ut labore et dolore magna aliqua. Ut\n",
    "enim ad minim veniam, quis nostrud exercitation ullamco laboris\n",
    "nisi ut aliquip ex ea commodo consequat. Duis aute irure dolor\n",
    "in reprehenderit in voluptate velit esse cillum dolore eu fugiat\n",
    "nulla pariatur. Excepteur sint occaecat cupidatat non proident,\n",
    "sunt in culpa qui officia deserunt mollit anim id est laborum.\n",
    "\"\"\""
   ]
  },
  {
   "attachments": {},
   "cell_type": "markdown",
   "metadata": {},
   "source": [
    "**Задание.** Напишите генераторное выражение, которое перебирает не более, чем `n`-значные стробограмматические числа."
   ]
  },
  {
   "cell_type": "code",
   "execution_count": null,
   "metadata": {},
   "outputs": [],
   "source": [
    "\"\"\"\n",
    "Lorem ipsum dolor sit amet, consectetur adipiscing elit, sed do\n",
    "eiusmod tempor incididunt ut labore et dolore magna aliqua. Ut\n",
    "enim ad minim veniam, quis nostrud exercitation ullamco laboris\n",
    "nisi ut aliquip ex ea commodo consequat. Duis aute irure dolor\n",
    "in reprehenderit in voluptate velit esse cillum dolore eu fugiat\n",
    "nulla pariatur. Excepteur sint occaecat cupidatat non proident,\n",
    "sunt in culpa qui officia deserunt mollit anim id est laborum.\n",
    "\"\"\""
   ]
  }
 ],
 "metadata": {
  "kernelspec": {
   "display_name": "Python 3",
   "language": "python",
   "name": "python3"
  },
  "language_info": {
   "codemirror_mode": {
    "name": "ipython",
    "version": 3
   },
   "file_extension": ".py",
   "mimetype": "text/x-python",
   "name": "python",
   "nbconvert_exporter": "python",
   "pygments_lexer": "ipython3",
   "version": "3.11.0"
  },
  "orig_nbformat": 4
 },
 "nbformat": 4,
 "nbformat_minor": 2
}
