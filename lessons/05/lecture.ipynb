{
 "cells": [
  {
   "attachments": {},
   "cell_type": "markdown",
   "metadata": {},
   "source": [
    "<div align=\"center\">\n",
    "    <a href=\"https://github.com/syubogdanov/hse-howto-python\">\n",
    "        <img src=\"https://cdn-icons-png.flaticon.com/128/1864/1864711.png\" height=\"128px\" width=\"auto\">\n",
    "    </a>\n",
    "    <h3>\n",
    "        <b>\n",
    "            Продвинутый Python\n",
    "        </b>\n",
    "    </h3>\n",
    "    <i>\n",
    "        Тестирование и контроль исполнения\n",
    "    </i>\n",
    "</div>\n",
    "\n",
    "<br>"
   ]
  },
  {
   "attachments": {},
   "cell_type": "markdown",
   "metadata": {},
   "source": [
    "**Цель занятия.** Изучение инструментов, позволяющих улучшить процесс разработки путем стандартизации написанного программного обеспечения: тестирование, документирование, логирование в журнал (файл)."
   ]
  },
  {
   "attachments": {},
   "cell_type": "markdown",
   "metadata": {},
   "source": [
    "**Определение.** Исключение - это ошибка, обнаруженная во время исполнения программы."
   ]
  },
  {
   "attachments": {},
   "cell_type": "markdown",
   "metadata": {},
   "source": [
    "**Пример.** Вызов исключения `ZeroDivisionError`."
   ]
  },
  {
   "cell_type": "code",
   "execution_count": 3,
   "metadata": {},
   "outputs": [],
   "source": [
    "def failure() -> None:\n",
    "    return 1.0 / 0.0"
   ]
  },
  {
   "cell_type": "code",
   "execution_count": 4,
   "metadata": {},
   "outputs": [
    {
     "ename": "ZeroDivisionError",
     "evalue": "float division by zero",
     "output_type": "error",
     "traceback": [
      "\u001b[1;31m---------------------------------------------------------------------------\u001b[0m",
      "\u001b[1;31mZeroDivisionError\u001b[0m                         Traceback (most recent call last)",
      "Cell \u001b[1;32mIn[4], line 1\u001b[0m\n\u001b[1;32m----> 1\u001b[0m failure()\n",
      "Cell \u001b[1;32mIn[3], line 2\u001b[0m, in \u001b[0;36mfailure\u001b[1;34m()\u001b[0m\n\u001b[0;32m      1\u001b[0m \u001b[39mdef\u001b[39;00m \u001b[39mfailure\u001b[39m() \u001b[39m-\u001b[39m\u001b[39m>\u001b[39m \u001b[39mNone\u001b[39;00m:\n\u001b[1;32m----> 2\u001b[0m     \u001b[39mreturn\u001b[39;00m \u001b[39m1.0\u001b[39;49m \u001b[39m/\u001b[39;49m \u001b[39m0.0\u001b[39;49m\n",
      "\u001b[1;31mZeroDivisionError\u001b[0m: float division by zero"
     ]
    }
   ],
   "source": [
    "failure()"
   ]
  },
  {
   "attachments": {},
   "cell_type": "markdown",
   "metadata": {},
   "source": [
    "**Пример.** Обработка ошибки при помощи `try`-`except` блока."
   ]
  },
  {
   "cell_type": "code",
   "execution_count": 5,
   "metadata": {},
   "outputs": [
    {
     "name": "stdout",
     "output_type": "stream",
     "text": [
      "[!] Division by Zero\n"
     ]
    }
   ],
   "source": [
    "try:\n",
    "    failure()\n",
    "except ZeroDivisionError:\n",
    "    print(\"[!] Division by Zero\")"
   ]
  },
  {
   "attachments": {},
   "cell_type": "markdown",
   "metadata": {},
   "source": [
    "**Пояснение.** Напомним, как работает `try`-`except` блок. В секцию `try` помещается код, который потенциально может вызвать исключение. В секцию `except ...` помещается обработчик некоторой ошибки. Блок начинает исполнение с секции `try`. Если не было вызвано исключения, тогда блоки `except` не будут задействованы. В противном случае вызывается первый блок `except`, соответствующий вызванному исключению."
   ]
  },
  {
   "attachments": {},
   "cell_type": "markdown",
   "metadata": {},
   "source": [
    "**Упражнение.** Добавьте еще один блок `except ZeroDivisionError`. Будет ли он исполнен?"
   ]
  },
  {
   "attachments": {},
   "cell_type": "markdown",
   "metadata": {},
   "source": [
    "**Примечание.** Блок `try`-`except` также может иметь секции `else` и `finally`. Примеры будут разобраны на семинарских занятиях."
   ]
  },
  {
   "attachments": {},
   "cell_type": "markdown",
   "metadata": {},
   "source": [
    "**Пример.** Создание единого обработчика для нескольких типов исключений."
   ]
  },
  {
   "cell_type": "code",
   "execution_count": 6,
   "metadata": {},
   "outputs": [
    {
     "name": "stdout",
     "output_type": "stream",
     "text": [
      "[!] Error During Execution\n"
     ]
    }
   ],
   "source": [
    "try:\n",
    "    failure()\n",
    "except (ZeroDivisionError, TypeError, ValueError):\n",
    "    print(\"[!] Error During Execution\")"
   ]
  },
  {
   "attachments": {},
   "cell_type": "markdown",
   "metadata": {},
   "source": [
    "**Пример.** Создание нескольких обработчиков."
   ]
  },
  {
   "cell_type": "code",
   "execution_count": 7,
   "metadata": {},
   "outputs": [
    {
     "name": "stdout",
     "output_type": "stream",
     "text": [
      "[!] Division by Zero\n"
     ]
    }
   ],
   "source": [
    "try:\n",
    "    failure()\n",
    "except TypeError:\n",
    "    print(\"[!] Incorrect Types Were Used\")\n",
    "except FileNotFoundError:\n",
    "    print(\"[!] Could not Find Your File\")\n",
    "except ZeroDivisionError:\n",
    "    print(\"[!] Division by Zero\")"
   ]
  },
  {
   "attachments": {},
   "cell_type": "markdown",
   "metadata": {},
   "source": [
    "**Пример.** Создание обработчика для неизвестного типа исключения."
   ]
  },
  {
   "cell_type": "code",
   "execution_count": 8,
   "metadata": {},
   "outputs": [
    {
     "name": "stdout",
     "output_type": "stream",
     "text": [
      "[!] Error Occurred\n"
     ]
    }
   ],
   "source": [
    "try:\n",
    "    failure()\n",
    "except Exception:\n",
    "    print(\"[!] Error Occurred\")"
   ]
  },
  {
   "attachments": {},
   "cell_type": "markdown",
   "metadata": {},
   "source": [
    "**Пояснение.** Объект `Exception` является предком для наиболее распространенных типов исключений. Это значит, что потомки `Exception` также являются представителями класса `Exception`. По этой причине секция `except Exception` порождает вызов обработчика для дочерних классов."
   ]
  },
  {
   "attachments": {},
   "cell_type": "markdown",
   "metadata": {},
   "source": [
    "**Замечание.** Если Вам, как разработчику, нужно обработать неизвестное исключение, то вместо пустого `except` используйте `except Exception`. Скорее всего, Ваш линтер также напомнит об этом."
   ]
  },
  {
   "attachments": {},
   "cell_type": "markdown",
   "metadata": {},
   "source": [
    "**Пример.** Использование ошибки в качестве объекта."
   ]
  },
  {
   "cell_type": "code",
   "execution_count": 12,
   "metadata": {},
   "outputs": [
    {
     "name": "stdout",
     "output_type": "stream",
     "text": [
      "[!] Type: <class 'ZeroDivisionError'>\n",
      "    Text: float division by zero\n"
     ]
    }
   ],
   "source": [
    "try:\n",
    "    failure()\n",
    "except Exception as error:\n",
    "    print(\"[!] Type:\", type(error))\n",
    "    print(\"    Text:\", str(error))"
   ]
  },
  {
   "attachments": {},
   "cell_type": "markdown",
   "metadata": {},
   "source": [
    "**Замечание.** Магический метод `__str__`, применимый к исключению, возвращает строку, содержащую пояснение к ошибке."
   ]
  },
  {
   "attachments": {},
   "cell_type": "markdown",
   "metadata": {},
   "source": [
    "**Примечание.** Использование исключения в качестве объекта позволяет использовать атрибуты и методы, определенные в данном классе исключений. Например, в классе ошибок `FileNotFoundError` есть атрибут `filename`, в котором содержится имя несуществующего файла. Такого же атрибута Вы не найдете, к примеру, в иключении `TypeError`."
   ]
  },
  {
   "attachments": {},
   "cell_type": "markdown",
   "metadata": {},
   "source": [
    "**Пример.** Добавление пояснений к сообщению об ошибке."
   ]
  },
  {
   "cell_type": "code",
   "execution_count": 24,
   "metadata": {},
   "outputs": [
    {
     "ename": "ZeroDivisionError",
     "evalue": "float division by zero",
     "output_type": "error",
     "traceback": [
      "\u001b[1;31m---------------------------------------------------------------------------\u001b[0m",
      "\u001b[1;31mZeroDivisionError\u001b[0m                         Traceback (most recent call last)",
      "Cell \u001b[1;32mIn[24], line 2\u001b[0m\n\u001b[0;32m      1\u001b[0m \u001b[39mtry\u001b[39;00m:\n\u001b[1;32m----> 2\u001b[0m     failure()\n\u001b[0;32m      3\u001b[0m \u001b[39mexcept\u001b[39;00m \u001b[39mException\u001b[39;00m \u001b[39mas\u001b[39;00m error:\n\u001b[0;32m      4\u001b[0m     error\u001b[39m.\u001b[39madd_note(\u001b[39m\"\u001b[39m\u001b[39m[!] An example of extra information in exceptions!\u001b[39m\u001b[39m\"\u001b[39m)\n",
      "Cell \u001b[1;32mIn[3], line 2\u001b[0m, in \u001b[0;36mfailure\u001b[1;34m()\u001b[0m\n\u001b[0;32m      1\u001b[0m \u001b[39mdef\u001b[39;00m \u001b[39mfailure\u001b[39m() \u001b[39m-\u001b[39m\u001b[39m>\u001b[39m \u001b[39mNone\u001b[39;00m:\n\u001b[1;32m----> 2\u001b[0m     \u001b[39mreturn\u001b[39;00m \u001b[39m1.0\u001b[39;49m \u001b[39m/\u001b[39;49m \u001b[39m0.0\u001b[39;49m\n",
      "\u001b[1;31mZeroDivisionError\u001b[0m: float division by zero"
     ]
    }
   ],
   "source": [
    "try:\n",
    "    failure()\n",
    "except Exception as error:\n",
    "    error.add_note(\"[!] An example of extra information in exceptions!\")\n",
    "    raise"
   ]
  },
  {
   "attachments": {},
   "cell_type": "markdown",
   "metadata": {},
   "source": [
    "**Примечание.** Вызов `raise` без аргументов порождает вызов удерживаемого исключения."
   ]
  },
  {
   "attachments": {},
   "cell_type": "markdown",
   "metadata": {},
   "source": [
    "**Пример.** Самостоятельный вызов произвольного исключения."
   ]
  },
  {
   "cell_type": "code",
   "execution_count": 28,
   "metadata": {},
   "outputs": [],
   "source": [
    "def failure() -> None:\n",
    "    raise RuntimeError(\"[!] Error Occurred in the Failure Function\")"
   ]
  },
  {
   "cell_type": "code",
   "execution_count": 29,
   "metadata": {},
   "outputs": [
    {
     "ename": "RuntimeError",
     "evalue": "[!] Error Occurred in the Failure Function",
     "output_type": "error",
     "traceback": [
      "\u001b[1;31m---------------------------------------------------------------------------\u001b[0m",
      "\u001b[1;31mRuntimeError\u001b[0m                              Traceback (most recent call last)",
      "Cell \u001b[1;32mIn[29], line 1\u001b[0m\n\u001b[1;32m----> 1\u001b[0m failure()\n",
      "Cell \u001b[1;32mIn[28], line 2\u001b[0m, in \u001b[0;36mfailure\u001b[1;34m()\u001b[0m\n\u001b[0;32m      1\u001b[0m \u001b[39mdef\u001b[39;00m \u001b[39mfailure\u001b[39m() \u001b[39m-\u001b[39m\u001b[39m>\u001b[39m \u001b[39mNone\u001b[39;00m:\n\u001b[1;32m----> 2\u001b[0m     \u001b[39mraise\u001b[39;00m \u001b[39mRuntimeError\u001b[39;00m(\u001b[39m\"\u001b[39m\u001b[39m[!] Error Occurred in the Failure Function\u001b[39m\u001b[39m\"\u001b[39m)\n",
      "\u001b[1;31mRuntimeError\u001b[0m: [!] Error Occurred in the Failure Function"
     ]
    }
   ],
   "source": [
    "failure()"
   ]
  },
  {
   "attachments": {},
   "cell_type": "markdown",
   "metadata": {},
   "source": [
    "**Замечание.** Вызов `raise` с указанием типа исключения порождает вызов соответствующего исключения."
   ]
  },
  {
   "attachments": {},
   "cell_type": "markdown",
   "metadata": {},
   "source": [
    "**Замечание.** Передаваемая в исключение строка - это сообщение, которое будет выведено в случае вызова исключения."
   ]
  },
  {
   "attachments": {},
   "cell_type": "markdown",
   "metadata": {},
   "source": [
    "**Примечание.** Строка-пояснение - это опциональный аргумент. Если ее не передать, тогда исключение будет вызвано без дополнительных сообщений."
   ]
  },
  {
   "attachments": {},
   "cell_type": "markdown",
   "metadata": {},
   "source": [
    "**Пример.** Вызов нескольких ошибок одновременно."
   ]
  },
  {
   "cell_type": "code",
   "execution_count": 32,
   "metadata": {},
   "outputs": [],
   "source": [
    "def failure() -> None:\n",
    "    exceptions: list[Exception] = [\n",
    "        RuntimeError(\"[!] Example of RuntimeError\"),\n",
    "        TypeError(\"[!] Example of TypeError\"),\n",
    "        ValueError(\"[!] Example of ValueError\"),\n",
    "    ]\n",
    "    raise ExceptionGroup(\"[!] Several Exceptions Were Found\", exceptions)"
   ]
  },
  {
   "cell_type": "code",
   "execution_count": 33,
   "metadata": {},
   "outputs": [
    {
     "ename": "ExceptionGroup",
     "evalue": "[!] Several Exceptions Were Found (3 sub-exceptions)",
     "output_type": "error",
     "traceback": [
      "\u001b[1;31m---------------------------------------------------------------------------\u001b[0m",
      "\u001b[1;31mExceptionGroup\u001b[0m                            Traceback (most recent call last)",
      "Cell \u001b[1;32mIn[33], line 1\u001b[0m\n\u001b[1;32m----> 1\u001b[0m failure()\n",
      "Cell \u001b[1;32mIn[32], line 9\u001b[0m, in \u001b[0;36mfailure\u001b[1;34m()\u001b[0m\n\u001b[0;32m      3\u001b[0m \u001b[39mdef\u001b[39;00m \u001b[39mfailure\u001b[39m() \u001b[39m-\u001b[39m\u001b[39m>\u001b[39m \u001b[39mNone\u001b[39;00m:\n\u001b[0;32m      4\u001b[0m     exceptions: List[\u001b[39mException\u001b[39;00m] \u001b[39m=\u001b[39m [\n\u001b[0;32m      5\u001b[0m         \u001b[39mRuntimeError\u001b[39;00m(\u001b[39m\"\u001b[39m\u001b[39m[!] Example of RuntimeError\u001b[39m\u001b[39m\"\u001b[39m),\n\u001b[0;32m      6\u001b[0m         \u001b[39mTypeError\u001b[39;00m(\u001b[39m\"\u001b[39m\u001b[39m[!] Example of TypeError\u001b[39m\u001b[39m\"\u001b[39m),\n\u001b[0;32m      7\u001b[0m         \u001b[39mValueError\u001b[39;00m(\u001b[39m\"\u001b[39m\u001b[39m[!] Example of ValueError\u001b[39m\u001b[39m\"\u001b[39m),\n\u001b[0;32m      8\u001b[0m     ]\n\u001b[1;32m----> 9\u001b[0m     \u001b[39mraise\u001b[39;00m ExceptionGroup(\u001b[39m\"\u001b[39m\u001b[39m[!] Several Exceptions Were Found\u001b[39m\u001b[39m\"\u001b[39m, exceptions)\n",
      "\u001b[1;31mExceptionGroup\u001b[0m: [!] Several Exceptions Were Found (3 sub-exceptions)"
     ]
    }
   ],
   "source": [
    "failure()"
   ]
  },
  {
   "attachments": {},
   "cell_type": "markdown",
   "metadata": {},
   "source": [
    "**Пояснение.** Объект `ExceptionGroup` создается при помощи сообщения-пояснения (поскольку по некоторой причине Вы работаете с нескольими исключениями), а также последовательности самих исключений."
   ]
  },
  {
   "attachments": {},
   "cell_type": "markdown",
   "metadata": {},
   "source": [
    "**Замечание.** При создании `ExceptionGroup` используйте экземпляры класса, а не сами классы. Например, если Вы формируете группу исключений без сообщений, тогда добавляйте в нее `Exception()`, а не `Exception`."
   ]
  },
  {
   "attachments": {},
   "cell_type": "markdown",
   "metadata": {},
   "source": [
    "**Упражнение.** Вспомните, как Python определяет последовательность. Какие методы должны быть использованы? После примера ниже предположите, почему используется именно последовательность."
   ]
  },
  {
   "attachments": {},
   "cell_type": "markdown",
   "metadata": {},
   "source": [
    "**Пример.** Обработка множественных исключений."
   ]
  },
  {
   "cell_type": "code",
   "execution_count": 50,
   "metadata": {},
   "outputs": [
    {
     "name": "stdout",
     "output_type": "stream",
     "text": [
      "Type: <class 'RuntimeError'>\n",
      "Text: [!] Example of RuntimeError\n",
      "\n",
      "Type: <class 'TypeError'>\n",
      "Text: [!] Example of TypeError\n",
      "\n",
      "Type: <class 'ValueError'>\n",
      "Text: [!] Example of ValueError\n",
      "\n"
     ]
    }
   ],
   "source": [
    "try:\n",
    "    failure()\n",
    "except* Exception as group:\n",
    "    for exception in group.exceptions:\n",
    "        print(\"Type:\", type(exception))\n",
    "        print(\"Text:\", str(exception))\n",
    "        print()"
   ]
  },
  {
   "attachments": {},
   "cell_type": "markdown",
   "metadata": {},
   "source": [
    "**Пояснение.** Подобно `*args` или `**kwargs`, если указать `*` после ключевого слова `except`, то тогда объект-исключение распознается интерпретатором как группа исключений, а не отдельное исключение."
   ]
  },
  {
   "attachments": {},
   "cell_type": "markdown",
   "metadata": {},
   "source": [
    "**Упражнение.** Вызовите отдельное исключение, но используйте конструкцию `except*`. Сработает ли `try`-`except` блок? Будет ли распознано исключение как отдельный объект? Или оно будет относиться к типу множественных исключений?"
   ]
  },
  {
   "attachments": {},
   "cell_type": "markdown",
   "metadata": {},
   "source": [
    "**Пример.** Реализация собственного типа исключения."
   ]
  },
  {
   "cell_type": "code",
   "execution_count": 56,
   "metadata": {},
   "outputs": [],
   "source": [
    "class ShortPasswordError(Exception):\n",
    "    pass\n",
    "\n",
    "\n",
    "class FamousPasswordError(Exception):\n",
    "    pass"
   ]
  },
  {
   "cell_type": "code",
   "execution_count": 57,
   "metadata": {},
   "outputs": [],
   "source": [
    "def login(password: str) -> None:\n",
    "\n",
    "    if len(password) < 8:\n",
    "        raise ShortPasswordError(\"Password is too short\")\n",
    "\n",
    "    if password == \"qwerty\":\n",
    "        raise FamousPasswordError(\"Do not use famous passwords\")\n",
    "    \n",
    "    pass  # Other Actions"
   ]
  },
  {
   "cell_type": "code",
   "execution_count": 58,
   "metadata": {},
   "outputs": [
    {
     "ename": "ShortPasswordError",
     "evalue": "Password is too short",
     "output_type": "error",
     "traceback": [
      "\u001b[1;31m---------------------------------------------------------------------------\u001b[0m",
      "\u001b[1;31mShortPasswordError\u001b[0m                        Traceback (most recent call last)",
      "Cell \u001b[1;32mIn[58], line 1\u001b[0m\n\u001b[1;32m----> 1\u001b[0m login(\u001b[39m\"\u001b[39;49m\u001b[39mshort\u001b[39;49m\u001b[39m\"\u001b[39;49m)\n",
      "Cell \u001b[1;32mIn[57], line 4\u001b[0m, in \u001b[0;36mlogin\u001b[1;34m(password)\u001b[0m\n\u001b[0;32m      1\u001b[0m \u001b[39mdef\u001b[39;00m \u001b[39mlogin\u001b[39m(password: \u001b[39mstr\u001b[39m) \u001b[39m-\u001b[39m\u001b[39m>\u001b[39m \u001b[39mNone\u001b[39;00m:\n\u001b[0;32m      3\u001b[0m     \u001b[39mif\u001b[39;00m \u001b[39mlen\u001b[39m(password) \u001b[39m<\u001b[39m \u001b[39m8\u001b[39m:\n\u001b[1;32m----> 4\u001b[0m         \u001b[39mraise\u001b[39;00m ShortPasswordError(\u001b[39m\"\u001b[39m\u001b[39mPassword is too short\u001b[39m\u001b[39m\"\u001b[39m)\n\u001b[0;32m      6\u001b[0m     \u001b[39mif\u001b[39;00m password \u001b[39m==\u001b[39m \u001b[39m\"\u001b[39m\u001b[39mqwerty\u001b[39m\u001b[39m\"\u001b[39m:\n\u001b[0;32m      7\u001b[0m         \u001b[39mraise\u001b[39;00m FamousPasswordError(\u001b[39m\"\u001b[39m\u001b[39mDo not use famous passwords\u001b[39m\u001b[39m\"\u001b[39m)\n",
      "\u001b[1;31mShortPasswordError\u001b[0m: Password is too short"
     ]
    }
   ],
   "source": [
    "login(\"short\")"
   ]
  },
  {
   "cell_type": "code",
   "execution_count": 59,
   "metadata": {},
   "outputs": [
    {
     "ename": "ShortPasswordError",
     "evalue": "Password is too short",
     "output_type": "error",
     "traceback": [
      "\u001b[1;31m---------------------------------------------------------------------------\u001b[0m",
      "\u001b[1;31mShortPasswordError\u001b[0m                        Traceback (most recent call last)",
      "Cell \u001b[1;32mIn[59], line 1\u001b[0m\n\u001b[1;32m----> 1\u001b[0m login(\u001b[39m\"\u001b[39;49m\u001b[39mqwerty\u001b[39;49m\u001b[39m\"\u001b[39;49m)\n",
      "Cell \u001b[1;32mIn[57], line 4\u001b[0m, in \u001b[0;36mlogin\u001b[1;34m(password)\u001b[0m\n\u001b[0;32m      1\u001b[0m \u001b[39mdef\u001b[39;00m \u001b[39mlogin\u001b[39m(password: \u001b[39mstr\u001b[39m) \u001b[39m-\u001b[39m\u001b[39m>\u001b[39m \u001b[39mNone\u001b[39;00m:\n\u001b[0;32m      3\u001b[0m     \u001b[39mif\u001b[39;00m \u001b[39mlen\u001b[39m(password) \u001b[39m<\u001b[39m \u001b[39m8\u001b[39m:\n\u001b[1;32m----> 4\u001b[0m         \u001b[39mraise\u001b[39;00m ShortPasswordError(\u001b[39m\"\u001b[39m\u001b[39mPassword is too short\u001b[39m\u001b[39m\"\u001b[39m)\n\u001b[0;32m      6\u001b[0m     \u001b[39mif\u001b[39;00m password \u001b[39m==\u001b[39m \u001b[39m\"\u001b[39m\u001b[39mqwerty\u001b[39m\u001b[39m\"\u001b[39m:\n\u001b[0;32m      7\u001b[0m         \u001b[39mraise\u001b[39;00m FamousPasswordError(\u001b[39m\"\u001b[39m\u001b[39mDo not use famous passwords\u001b[39m\u001b[39m\"\u001b[39m)\n",
      "\u001b[1;31mShortPasswordError\u001b[0m: Password is too short"
     ]
    }
   ],
   "source": [
    "login(\"qwerty\")"
   ]
  },
  {
   "attachments": {},
   "cell_type": "markdown",
   "metadata": {},
   "source": [
    "**Пояснение.** Для реализации собственных типов исключений достаточно унаследоваться от объекта-исключения. В конкретном примере было произведено наследование от `Exception` как от предка наиблее популярных исключений."
   ]
  },
  {
   "attachments": {},
   "cell_type": "markdown",
   "metadata": {},
   "source": [
    "**Примечание.** Хорошей практикой является создание группы исключений под конкретную задачу. Такой подход обеспечивает возможность соблюдения основных принципов ООП: инкапсуляции, полиморфизма и наследования."
   ]
  },
  {
   "attachments": {},
   "cell_type": "markdown",
   "metadata": {},
   "source": [
    "**Пример.** Реализация группы исключений."
   ]
  },
  {
   "cell_type": "code",
   "execution_count": 60,
   "metadata": {},
   "outputs": [],
   "source": [
    "class PasswordError(Exception):\n",
    "    pass\n",
    "\n",
    "\n",
    "class ShortPasswordError(PasswordError):\n",
    "    pass\n",
    "\n",
    "\n",
    "class FamousPasswordError(PasswordError):\n",
    "    pass"
   ]
  },
  {
   "cell_type": "code",
   "execution_count": 61,
   "metadata": {},
   "outputs": [
    {
     "name": "stdout",
     "output_type": "stream",
     "text": [
      "[!] Type: <class '__main__.ShortPasswordError'>\n",
      "    Text: Password is too short\n"
     ]
    }
   ],
   "source": [
    "try:\n",
    "    login(\"short\")\n",
    "except PasswordError as error:\n",
    "    print(\"[!] Type:\", type(error))\n",
    "    print(\"    Text:\", str(error))"
   ]
  },
  {
   "attachments": {},
   "cell_type": "markdown",
   "metadata": {},
   "source": [
    "**Примечание.** Такой подход более выигрышный, так как если появится необходимость в реализации дополнительных методов или атрибутов в Ваших исключениях, то их можно (и достаточно) будет определить только в родительском классе. Например, можно было бы завести поле `password`, содержащее неподходящий пароль (по аналогии с исключением `NotFoundFileError`). Вместо того, чтобы создавать такой атрибут в каждом из классов `ShortPasswordError` и `FamousPasswordError`, достаточно было бы реализовать его в `PasswordError`, а затем использовать механизм наследования."
   ]
  },
  {
   "attachments": {},
   "cell_type": "markdown",
   "metadata": {},
   "source": [
    "**Рассуждение.** Работоспособность Ваших программ, конечно же, измеряется не только в виде защищенности от исключений, но и в некоторых других характеристиках. Например, время исполнения на заданном комплекте данных, корректность получаемого результата и так далее. Для валидации такого поведения используют тесты. Вы наверняка уже неоднократно с ними сталкивались - например, на курсе \"Алгоритмы и структуры данных\". Одним из наиболее популярных модулей для тестирования в Python является `pytest`. О нем и пойдет речь."
   ]
  },
  {
   "attachments": {},
   "cell_type": "markdown",
   "metadata": {},
   "source": [
    "**Замечание.** Ввиду того, что `pytest` не предназначен для работы с `.ipynb` файлами, будем предполагать, что код ниже относится к некоторому проекту со своей иерархией. Мы будем указывать, в каком файле что находится."
   ]
  },
  {
   "attachments": {},
   "cell_type": "markdown",
   "metadata": {},
   "source": [
    "**Пример.** Тестирование функции, вычисляющей факториал числа."
   ]
  },
  {
   "cell_type": "code",
   "execution_count": 69,
   "metadata": {},
   "outputs": [],
   "source": [
    "# %file: ./utils.py\n",
    "\n",
    "def factorial(n: int) -> int:\n",
    "    if n == 0:\n",
    "        return 1\n",
    "\n",
    "    return n * factorial(n - 1)"
   ]
  },
  {
   "cell_type": "code",
   "execution_count": 72,
   "metadata": {},
   "outputs": [],
   "source": [
    "# %file: ./tests/test_utils.py\n",
    "\n",
    "# from utils import factorial\n",
    "\n",
    "def test_factorial() -> None:\n",
    "    assert factorial(5) == 1 * 2 * 3 * 4 * 5"
   ]
  },
  {
   "attachments": {},
   "cell_type": "markdown",
   "metadata": {},
   "source": [
    "**Запуск тестов.** Запустите в терминале следующую команду: `python -m pytest ./tests --verbose`"
   ]
  },
  {
   "attachments": {},
   "cell_type": "markdown",
   "metadata": {},
   "source": [
    "**Ожидаемый вывод.** Если все прошло так, как нужно, то Вы увидите похожее сообщение:\n",
    "\n",
    "```\n",
    "===== test session starts =====\n",
    "platform ...\n",
    "cachedir: .pytest_cache\n",
    "rootdir: ...\n",
    "collected 1 item\n",
    "\n",
    "tests/test_utils.py::test_factorial PASSED         [100%]\n",
    "\n",
    "===== 1 passed in 0.02s =====\n",
    "```"
   ]
  },
  {
   "attachments": {},
   "cell_type": "markdown",
   "metadata": {},
   "source": [
    "**Пояснение.** Что делает команда, указанная выше:\n",
    "\n",
    "1. В директории `./tests` ищет все `.py` файлы, у которых имя начинается с `test_`;\n",
    "2. В каждом подходящем файле ищет все функции, у которых имя начинается с `test_`;\n",
    "3. Запускает найденные функции и выводит результат тестирования на стандартный поток вывода."
   ]
  },
  {
   "attachments": {},
   "cell_type": "markdown",
   "metadata": {},
   "source": [
    "**Пример.** Тестирование функции, вычисляющей факториал числа."
   ]
  },
  {
   "cell_type": "code",
   "execution_count": 73,
   "metadata": {},
   "outputs": [],
   "source": [
    "# %file: ./tests/test_utils.py\n",
    "\n",
    "# from utils import factorial\n",
    "\n",
    "def test_factorial_one() -> None:\n",
    "    assert factorial(0) == 1\n",
    "\n",
    "def test_factorial_two() -> None:\n",
    "    assert factorial(1) == 1\n",
    "\n",
    "def test_factorial_three() -> None:\n",
    "    assert factorial(2) == 1 * 2\n",
    "\n",
    "def test_factorial_four() -> None:\n",
    "    assert factorial(3) == 1 * 2 * 3\n",
    "\n",
    "def test_factorial_five() -> None:\n",
    "    assert factorial(4) == 1 * 2 * 3 * 4"
   ]
  },
  {
   "attachments": {},
   "cell_type": "markdown",
   "metadata": {},
   "source": [
    "**Запуск тестов.** Запустите в терминале следующую команду: `python -m pytest ./tests --verbose`"
   ]
  },
  {
   "attachments": {},
   "cell_type": "markdown",
   "metadata": {},
   "source": [
    "**Ожидаемый вывод.** Если все прошло так, как нужно, то Вы увидите похожее сообщение:\n",
    "\n",
    "```\n",
    "===== test session starts =====\n",
    "platform ...\n",
    "cachedir: .pytest_cache\n",
    "rootdir: ...\n",
    "collected 5 items\n",
    "\n",
    "tests/test_utils.py::test_factorial_one PASSED        [ 20%]\n",
    "tests/test_utils.py::test_factorial_two PASSED        [ 40%]\n",
    "tests/test_utils.py::test_factorial_three PASSED      [ 60%]\n",
    "tests/test_utils.py::test_factorial_four PASSED       [ 80%]\n",
    "tests/test_utils.py::test_factorial_five PASSED       [100%]\n",
    "\n",
    "===== 5 passed in 0.10s =====\n",
    "```"
   ]
  },
  {
   "attachments": {},
   "cell_type": "markdown",
   "metadata": {},
   "source": [
    "**Замечание.** Обратите внимание, что реализованные выше тесты структурно схожи. В концепции тестирования принято не разделять в разные блоки те части функции, которые проверяют аналогичный функционал."
   ]
  },
  {
   "attachments": {},
   "cell_type": "markdown",
   "metadata": {},
   "source": [
    "**Пример.** Тестирование функции, вычисляющей факториал числа."
   ]
  },
  {
   "cell_type": "code",
   "execution_count": 74,
   "metadata": {},
   "outputs": [],
   "source": [
    "# %file: ./tests/test_utils.py\n",
    "\n",
    "import pytest\n",
    "# from utils import factorial\n",
    "\n",
    "@pytest.mark.parametrize(\n",
    "    argnames=\"arg, expected\",\n",
    "    argvalues=(\n",
    "        (0, 1),\n",
    "        (1, 1),\n",
    "        (2, 1 * 2),\n",
    "        (3, 1 * 2 * 3),\n",
    "        (4, 1 * 2 * 3 * 4),\n",
    "    ),\n",
    ")\n",
    "def test_factorial(arg: int, expected: int) -> None:\n",
    "    assert factorial(arg) == expected"
   ]
  },
  {
   "attachments": {},
   "cell_type": "markdown",
   "metadata": {},
   "source": [
    "**Пояснение.** Декоратор `@pytest.mark.parametrize` работает следующим образом:\n",
    "\n",
    "1. В поле `argnames` указывается строка, состоящая из аргументов функции;\n",
    "2. В поле `argvalues` указывается произвольный итерируемый объект, в котором содержатся значения, которые соответственно должны принять переменные из пункта выше;\n",
    "3. Для каждой коллекции аргументов запускается тест.\n",
    "\n",
    "В примере выше произошло следующее:\n",
    "1. Указали, что работаем с параметрами `arg` и `expected`;\n",
    "2. Передали в виде кортежа пары `arg`-`expected`, которые нужно перебрать\n",
    "\n",
    "Теперь модуль `pytest` запустит пять тестов со следующими параметрами:\n",
    "1. `arg = 0` и `expected = 1`;\n",
    "2. `arg = 1` и `expected = 1`;\n",
    "3. `arg = 2` и `expected = 1 * 2`;\n",
    "4. `arg = 3` и `expected = 1 * 2 * 3`;\n",
    "5. `arg = 4` и `expected = 1 * 2 * 3 * 4`."
   ]
  },
  {
   "attachments": {},
   "cell_type": "markdown",
   "metadata": {},
   "source": [
    "**Запуск тестов.** Запустите в терминале следующую команду: `python -m pytest ./tests --verbose`"
   ]
  },
  {
   "attachments": {},
   "cell_type": "markdown",
   "metadata": {},
   "source": [
    "**Ожидаемый вывод.** Если все прошло так, как нужно, то Вы увидите похожее сообщение:\n",
    "\n",
    "```\n",
    "===== test session starts =====\n",
    "platform ...\n",
    "cachedir: .pytest_cache\n",
    "rootdir: ...\n",
    "collected 5 items\n",
    "\n",
    "tests/test_utils.py::test_factorial[0-1] PASSED        [ 20%]\n",
    "tests/test_utils.py::test_factorial[1-1] PASSED        [ 40%]\n",
    "tests/test_utils.py::test_factorial[2-2] PASSED        [ 60%]\n",
    "tests/test_utils.py::test_factorial[3-6] PASSED        [ 80%]\n",
    "tests/test_utils.py::test_factorial[4-24] PASSED       [100%]\n",
    "\n",
    "===== 5 passed in 0.03s =====\n",
    "```"
   ]
  },
  {
   "attachments": {},
   "cell_type": "markdown",
   "metadata": {},
   "source": [
    "**Замечание.** Обратите внимание, что работа тестов ускорилась. Ощутимая разница будет заметна на более масштабных тестирующих выборках."
   ]
  },
  {
   "attachments": {},
   "cell_type": "markdown",
   "metadata": {},
   "source": [
    "**Рассуждение.** На данный момент функция `factorial` не валидирует входные данные, хотя внешний пользователь вполне может по какой-то причине передать невалидный аргумент."
   ]
  },
  {
   "cell_type": "code",
   "execution_count": 75,
   "metadata": {},
   "outputs": [],
   "source": [
    "# %file: ./utils.py\n",
    "\n",
    "def factorial(n: int) -> int:\n",
    "    if not isinstance(n, int):\n",
    "        raise TypeError(\"[!] Integer Required\")\n",
    "\n",
    "    if n < 0:\n",
    "        raise ValueError(\"[!] Non-negative Number Required\")\n",
    "\n",
    "    if n == 0:\n",
    "        return 1\n",
    "\n",
    "    return n * factorial(n - 1)"
   ]
  },
  {
   "attachments": {},
   "cell_type": "markdown",
   "metadata": {},
   "source": [
    "**Упражнение.** Запустите тесты вновь. Результат не должен отличаться от примера выше."
   ]
  },
  {
   "attachments": {},
   "cell_type": "markdown",
   "metadata": {},
   "source": [
    "**Пример.** Тестирование функции, вычисляющей факториал числа. Добавление нового теста."
   ]
  },
  {
   "cell_type": "code",
   "execution_count": null,
   "metadata": {},
   "outputs": [],
   "source": [
    "# %file: ./tests/test_utils.py\n",
    "\n",
    "@pytest.mark.parametrize(\n",
    "    argnames=\"arg, exception\",\n",
    "    argvalues=(\n",
    "        (\"1\", TypeError),\n",
    "        (1.2, TypeError),\n",
    "        (-12, ValueError),\n",
    "    ),\n",
    ")\n",
    "def test_argument(arg: int, exception: Exception) -> None:\n",
    "    with pytest.raises(exception):\n",
    "        factorial(arg)"
   ]
  },
  {
   "attachments": {},
   "cell_type": "markdown",
   "metadata": {},
   "source": [
    "**Пояснение.** Проверку на то, что будет вызвано требуемое исключение осуществляет менеджер контекста `pytest.raises`. Его аргументом является тип исключения, которое должно быть вызвано. Если допустимы сразу несколько видов исключений, тогда в `pytest.raises` передается кортеж из них."
   ]
  },
  {
   "attachments": {},
   "cell_type": "markdown",
   "metadata": {},
   "source": [
    "**Запуск тестов.** Запустите в терминале следующую команду: `python -m pytest ./tests --verbose`"
   ]
  },
  {
   "attachments": {},
   "cell_type": "markdown",
   "metadata": {},
   "source": [
    "**Ожидаемый вывод.** Если все прошло так, как нужно, то Вы увидите похожее сообщение:\n",
    "\n",
    "```\n",
    "===== test session starts =====\n",
    "platform ...\n",
    "cachedir: .pytest_cache\n",
    "rootdir: ...\n",
    "collected 8 items\n",
    "\n",
    "tests/test_utils.py::test_factorial[0-1] PASSED              [ 12%]\n",
    "tests/test_utils.py::test_factorial[1-1] PASSED              [ 25%]\n",
    "tests/test_utils.py::test_factorial[2-2] PASSED              [ 37%]\n",
    "tests/test_utils.py::test_factorial[3-6] PASSED              [ 50%]\n",
    "tests/test_utils.py::test_factorial[4-24] PASSED             [ 62%]\n",
    "tests/test_utils.py::test_argument[1-TypeError] PASSED       [ 75%]\n",
    "tests/test_utils.py::test_argument[1.2-TypeError] PASSED     [ 87%]\n",
    "tests/test_utils.py::test_argument[-12-ValueError] PASSED    [100%]\n",
    "\n",
    "===== 8 passed in 0.03s =====\n",
    "```"
   ]
  },
  {
   "attachments": {},
   "cell_type": "markdown",
   "metadata": {},
   "source": [
    "**Упражнение.** Напишите неправильный тест. Что будет выведено на стандартный поток вывода? Будут ли выполнены остальные тесты?"
   ]
  },
  {
   "attachments": {},
   "cell_type": "markdown",
   "metadata": {},
   "source": [
    "**Рассуждение.** Предположим, что некоторая часть тестов временно не может быть исполнена по некоторым причинам. Например, из-за нехватки ресурсов. В таком случае будет рационально их временно пропустить."
   ]
  },
  {
   "attachments": {},
   "cell_type": "markdown",
   "metadata": {},
   "source": [
    "**Пример.** Тестирование функции, вычисляющей факториал числа. Пропуск тестов."
   ]
  },
  {
   "cell_type": "code",
   "execution_count": 76,
   "metadata": {},
   "outputs": [],
   "source": [
    "# %file: ./tests/test_utils.py\n",
    "\n",
    "@pytest.mark.skip(reason=\"Not Enough Resources\")\n",
    "def test_large() -> None:\n",
    "    assert factorial(1_000_000) == ..."
   ]
  },
  {
   "attachments": {},
   "cell_type": "markdown",
   "metadata": {},
   "source": [
    "**Запуск тестов.** Запустите в терминале следующую команду: `python -m pytest ./tests --verbose`"
   ]
  },
  {
   "attachments": {},
   "cell_type": "markdown",
   "metadata": {},
   "source": [
    "**Ожидаемый вывод.** Если все прошло так, как нужно, то Вы увидите похожее сообщение:\n",
    "\n",
    "```\n",
    "===== test session starts =====\n",
    "platform ...\n",
    "cachedir: .pytest_cache\n",
    "rootdir: ...\n",
    "collected 9 items\n",
    "\n",
    "tests/test_utils.py::test_factorial[0-1] PASSED                   [ 11%]\n",
    "tests/test_utils.py::test_factorial[1-1] PASSED                   [ 22%]\n",
    "tests/test_utils.py::test_factorial[2-2] PASSED                   [ 33%]\n",
    "tests/test_utils.py::test_factorial[3-6] PASSED                   [ 44%]\n",
    "tests/test_utils.py::test_factorial[4-24] PASSED                  [ 55%]\n",
    "tests/test_utils.py::test_argument[1-TypeError] PASSED            [ 66%]\n",
    "tests/test_utils.py::test_argument[1.2-TypeError] PASSED          [ 77%]\n",
    "tests/test_utils.py::test_argument[-12-ValueError] PASSED         [ 88%]\n",
    "tests/test_utils.py::test_large SKIPPED (Not Enough Resources)    [100%]\n",
    "\n",
    "===== 8 passed, 1 skipped in 0.03s =====\n",
    "```"
   ]
  },
  {
   "attachments": {},
   "cell_type": "markdown",
   "metadata": {},
   "source": [
    "**Пример.** Тестирование функции, вычисляющей факториал числа. Условный пропуск тестов."
   ]
  },
  {
   "cell_type": "code",
   "execution_count": null,
   "metadata": {},
   "outputs": [],
   "source": [
    "# %file: ./tests/test_utils.py\n",
    "\n",
    "RESOURCES: int = 1_000\n",
    "\n",
    "@pytest.mark.skipif(\n",
    "    condition=RESOURCES < 2_000,\n",
    "    reason=\"Not Enough Resources\",\n",
    ")\n",
    "def test_large() -> None:\n",
    "    assert factorial(1_000_000) == ..."
   ]
  },
  {
   "attachments": {},
   "cell_type": "markdown",
   "metadata": {},
   "source": [
    "**Пояснение.** Декоратор `@pytest.mark.skipif` задает условный пропуск тестов. Поле `condition` задает условие, при котором тест будет пропущен. Аналогично примеру выше, есть поле `reason`, указывающее причину потенциального пропуска."
   ]
  },
  {
   "attachments": {},
   "cell_type": "markdown",
   "metadata": {},
   "source": [
    "**Запуск тестов.** Запустите в терминале следующую команду: `python -m pytest ./tests --verbose`"
   ]
  },
  {
   "attachments": {},
   "cell_type": "markdown",
   "metadata": {},
   "source": [
    "**Ожидаемый вывод.** Если все прошло так, как нужно, то Вы увидите похожее сообщение:\n",
    "\n",
    "```\n",
    "===== test session starts =====\n",
    "platform ...\n",
    "cachedir: .pytest_cache\n",
    "rootdir: ...\n",
    "collected 9 items\n",
    "\n",
    "tests/test_utils.py::test_factorial[0-1] PASSED                   [ 11%]\n",
    "tests/test_utils.py::test_factorial[1-1] PASSED                   [ 22%]\n",
    "tests/test_utils.py::test_factorial[2-2] PASSED                   [ 33%]\n",
    "tests/test_utils.py::test_factorial[3-6] PASSED                   [ 44%]\n",
    "tests/test_utils.py::test_factorial[4-24] PASSED                  [ 55%]\n",
    "tests/test_utils.py::test_argument[1-TypeError] PASSED            [ 66%]\n",
    "tests/test_utils.py::test_argument[1.2-TypeError] PASSED          [ 77%]\n",
    "tests/test_utils.py::test_argument[-12-ValueError] PASSED         [ 88%]\n",
    "tests/test_utils.py::test_large SKIPPED (Not Enough Resources)    [100%]\n",
    "\n",
    "===== 8 passed, 1 skipped in 0.03s =====\n",
    "```"
   ]
  },
  {
   "attachments": {},
   "cell_type": "markdown",
   "metadata": {},
   "source": [
    "**Рассуждение.** Предположим, что написанные тесты требуют некоторую настройку перед запуском или же переход в определенное состояние. Например, очищение файла, в который будет перенаправлен вывод, чтобы тесты не мешали друг другу (допустим, запись в файл работает только в режиме `append`)."
   ]
  },
  {
   "cell_type": "code",
   "execution_count": null,
   "metadata": {},
   "outputs": [],
   "source": [
    "# %file: ./tests/test_utils.py\n",
    "\n",
    "LOGFILE: str = \"test.log\"\n",
    "\n",
    "\n",
    "@pytest.fixture()\n",
    "def clear_file() -> None:\n",
    "    with open(LOGFILE, mode=\"w\"):\n",
    "        pass\n",
    "\n",
    "\n",
    "@pytest.mark.parametrize(\n",
    "    argnames=\"arg, expected\",\n",
    "    argvalues=(\n",
    "        (3, [\"6\"]),\n",
    "        (4, [\"24\"]),\n",
    "    ),\n",
    ")\n",
    "def test_filewrite(arg: int, expected: list[int], clear_file) -> None:\n",
    "    with open(LOGFILE, \"a\") as file:\n",
    "        text: str = str(factorial(arg))\n",
    "        file.write(text)\n",
    "\n",
    "    with open(LOGFILE, \"r\") as file:\n",
    "        assert file.readlines() == expected"
   ]
  },
  {
   "attachments": {},
   "cell_type": "markdown",
   "metadata": {},
   "source": [
    "**Пояснение.** Если задекорировать функцию при помощи `@pytest.fixture`, то `pytest` обратит ее в фикстуру - функцию, которая должна быть запущена до начала теста. Когда вы добавляете в аргументы тестирующей функции переменную с именем фикстуры, то `pytest` полагает, что перед запуском этого теста нужно исполнить фикстуру, а результат ее исполнения сложить в аргумент.\n",
    "\n",
    "Рассмотрим пример выше. Тест `test_filewrite` имеет среди аргументов имя фикстуры - `clear_file`. Это значит, что перед каждым запуском этого теста будет запущена функция `clear_file`, а ее результат будет сложен в соответствующую переменную."
   ]
  },
  {
   "attachments": {},
   "cell_type": "markdown",
   "metadata": {},
   "source": [
    "**Запуск тестов.** Запустите в терминале следующую команду: `python -m pytest ./tests --verbose`"
   ]
  },
  {
   "attachments": {},
   "cell_type": "markdown",
   "metadata": {},
   "source": [
    "**Ожидаемый вывод.** Если все прошло так, как нужно, то Вы увидите похожее сообщение:\n",
    "\n",
    "```\n",
    "===== test session starts =====\n",
    "platform ...\n",
    "cachedir: .pytest_cache\n",
    "rootdir: ...\n",
    "collected 11 items\n",
    "\n",
    "tests/test_utils.py::test_factorial[0-1] PASSED                   [  9%]\n",
    "tests/test_utils.py::test_factorial[1-1] PASSED                   [ 18%]\n",
    "tests/test_utils.py::test_factorial[2-2] PASSED                   [ 27%]\n",
    "tests/test_utils.py::test_factorial[3-6] PASSED                   [ 36%]\n",
    "tests/test_utils.py::test_factorial[4-24] PASSED                  [ 45%]\n",
    "tests/test_utils.py::test_argument[1-TypeError] PASSED            [ 54%]\n",
    "tests/test_utils.py::test_argument[1.2-TypeError] PASSED          [ 63%]\n",
    "tests/test_utils.py::test_argument[-12-ValueError] PASSED         [ 72%]\n",
    "tests/test_utils.py::test_large SKIPPED (Not Enough Resources)    [ 81%]\n",
    "tests/test_utils.py::test_filewrite[3-expected0] PASSED           [ 90%]\n",
    "tests/test_utils.py::test_filewrite[4-expected1] PASSED           [100%]\n",
    "\n",
    "===== 10 passed, 1 skipped in 0.04s =====\n",
    "```"
   ]
  },
  {
   "attachments": {},
   "cell_type": "markdown",
   "metadata": {},
   "source": [
    "**Упражнение.** Запустите тест без фикстуры. Какой вердикт вынесет система?"
   ]
  },
  {
   "attachments": {},
   "cell_type": "markdown",
   "metadata": {},
   "source": [
    "**Замечание.** Общие для тестирущих файлов фикстуры складывают в файл `conftest.py`. При необходимости модуль `pytest` будет искать требуемую функцию там."
   ]
  },
  {
   "attachments": {},
   "cell_type": "markdown",
   "metadata": {},
   "source": [
    "**Примечание.** Если требуется, чтобы некоторая фикстура была исполнена как \"до\", так и \"после\" теста, то используют следующий синтаксис:"
   ]
  },
  {
   "cell_type": "code",
   "execution_count": null,
   "metadata": {},
   "outputs": [],
   "source": [
    "@pytest.fixture()\n",
    "def myfixture() -> None:\n",
    "    pass   # -> Исполняется \"до\" теста\n",
    "\n",
    "    yield  # -> Исполняется сам тест\n",
    "\n",
    "    pass   # -> Исполняется после теста\n",
    "           #    вне зависимости от того,\n",
    "           #    как он завершился"
   ]
  },
  {
   "attachments": {},
   "cell_type": "markdown",
   "metadata": {},
   "source": [
    "**Рассуждение.** Помимо аннотации типов и наличия тестов, качество Вашего кода заметно повышает написание качественной документации - в модулях, классах и функциях. Мы предлагаем придерживаться следующего стиля оформления программы - внимательно изучите пример. Обязательно используйте описание на английском языке."
   ]
  },
  {
   "cell_type": "code",
   "execution_count": null,
   "metadata": {},
   "outputs": [],
   "source": [
    "\"\"\"\n",
    "First comes the description of the module. Here you should\n",
    "reflect the main ideas concerning your module. For example,\n",
    "what function it performs and so on.\n",
    "\n",
    "Attributes:\n",
    "    FIRST_VARIABLE: Description of the first constant\n",
    "        from this module.\n",
    "    SECOND_VARIABLE: Description of the second constant\n",
    "        from this module.\n",
    "\n",
    "Todo:\n",
    "    *Description of the first ToDo.\n",
    "    *Description of the second ToDo.\n",
    "\"\"\"\n",
    "\n",
    "from collections.abc import Generator\n",
    "from typing import Any, Self\n",
    "\n",
    "\n",
    "FIRST_VARIABLE: int = 1\n",
    "SECOND_VARIABLE: str = \"2\"\n",
    "\n",
    "\n",
    "def function(param1: Any, param2: list[float]) -> str:\n",
    "    \"\"\"\n",
    "    First comes the function description. Here you should\n",
    "    reflect what task the function performs.\n",
    "\n",
    "    Args:\n",
    "        param1: Description of the first argument.\n",
    "        param1: Description of the first argument.\n",
    "\n",
    "    Returns:\n",
    "        Description of the return value.\n",
    "\n",
    "    Raises:\n",
    "        TypeError: Description of the potential cause.\n",
    "\n",
    "    Examples:\n",
    "        >>> function(param1=\"example\", param2=[])\n",
    "        \"Example\"\n",
    "\n",
    "        >>> function(None, param2=[0.0])\n",
    "        \"Another example\"\n",
    "\n",
    "    Todo:\n",
    "        *Description of the first ToDo.\n",
    "        *Description of the second ToDo.\n",
    "    \"\"\"\n",
    "\n",
    "\n",
    "def generator(n : int) -> Generator[Any, Any, Any]:\n",
    "    \"\"\"\n",
    "    First comes the generator description. Here you should\n",
    "    reflect what task the generator performs.\n",
    "\n",
    "    Args:\n",
    "        n: Description of the argument.\n",
    "\n",
    "    Yields:\n",
    "        Description of the yielded value.\n",
    "\n",
    "    Raises:\n",
    "        ValueError: Description of the potential cause.\n",
    "        ZeroDivisionError: Description of the potential cause.\n",
    "\n",
    "    Examples:\n",
    "        >>> print([letter for letter in generator(5)])\n",
    "        [\"a\", \"b\", \"c\", \"d\", \"e\"]\n",
    "\n",
    "    Todo:\n",
    "        *Description of the first ToDo.\n",
    "        *Description of the second ToDo.\n",
    "    \"\"\"\n",
    "\n",
    "\n",
    "class Class(object):\n",
    "    \"\"\"\n",
    "    First comes the class description. Here you should\n",
    "    reflect what task the class performs.\n",
    "\n",
    "    Args:\n",
    "        init_param1: Description of the first __init__ argument.\n",
    "        init_param2: Description of the second __init__ argument.\n",
    "\n",
    "    Attributes:\n",
    "        attr1 (str): Description of the first attribute.\n",
    "        attr2 (int): Description of the second attribute.\n",
    "\n",
    "    Todo:\n",
    "        *Description of the first ToDo.\n",
    "        *Description of the second ToDo.\n",
    "    \"\"\"\n",
    "\n",
    "    def method(self: Self, param1) -> Any:\n",
    "        \"\"\"\n",
    "        The same as in the usual functions but take into account\n",
    "        that you should not mention `self` in arguments section.\n",
    "        \"\"\"\n",
    "\n",
    "    @property\n",
    "    def example(self: Self) -> Any:\n",
    "        \"\"\"\n",
    "        The property should contain a description of the received\n",
    "        value - what it is and other.\n",
    "\n",
    "        The setter method does not require documentation. It must\n",
    "        be specified in the property.\n",
    "        \"\"\""
   ]
  },
  {
   "attachments": {},
   "cell_type": "markdown",
   "metadata": {},
   "source": [
    "**Рассуждение.** Скорее всего, Вы заметили, что функции принято сопровождать примерами. На самом деле, правильно оформленные примеры тоже можно тестировать. В частности, стиль оформления из ячейки выше позволяет это сделать."
   ]
  },
  {
   "attachments": {},
   "cell_type": "markdown",
   "metadata": {},
   "source": [
    "**Пример.** Тестирование примеров из документации функции, вычисляющей факториал числа."
   ]
  },
  {
   "cell_type": "code",
   "execution_count": 2,
   "metadata": {},
   "outputs": [],
   "source": [
    "def factorial(n: int) -> int:\n",
    "    \"\"\"\n",
    "    Calculates the factorial of a number.\n",
    "\n",
    "    Args:\n",
    "        n: The number whose factorial needs to be found.\n",
    "\n",
    "    Returns:\n",
    "        Factorial of the number.\n",
    "\n",
    "    Raises:\n",
    "        TypeError: Non-integer argument.\n",
    "        ValueError: Negative number.\n",
    "\n",
    "    Examples:\n",
    "        >>> factorial(0)\n",
    "        1\n",
    "\n",
    "        >>> factorial(5)\n",
    "        120\n",
    "\n",
    "        >>> factorial(6)\n",
    "        720\n",
    "    \"\"\"\n",
    "\n",
    "    if not isinstance(n, int):\n",
    "        raise TypeError(\"[!] Integer Required\")\n",
    "\n",
    "    if n < 0:\n",
    "        raise ValueError(\"[!] Non-negative Number Required\")\n",
    "\n",
    "    if n == 0:\n",
    "        return 1\n",
    "\n",
    "    return n * factorial(n - 1)"
   ]
  },
  {
   "cell_type": "code",
   "execution_count": 3,
   "metadata": {},
   "outputs": [
    {
     "data": {
      "text/plain": [
       "TestResults(failed=0, attempted=3)"
      ]
     },
     "execution_count": 3,
     "metadata": {},
     "output_type": "execute_result"
    }
   ],
   "source": [
    "import doctest\n",
    "\n",
    "doctest.testmod()"
   ]
  },
  {
   "attachments": {},
   "cell_type": "markdown",
   "metadata": {},
   "source": [
    "**Пояснение.** Функция `doctest.testmod` из модуля `doctest` делает следующее:\n",
    "\n",
    "1. Ищет все функции, у которых корректно оформлены примеры в документации;\n",
    "2. Запускает примеры и сравнивает полученный и ожидаемый результаты;\n",
    "3. Возвращает структуру из двух полей: числа непройденных тестов и общего числа запущенных секций."
   ]
  },
  {
   "attachments": {},
   "cell_type": "markdown",
   "metadata": {},
   "source": [
    "**Пример.** Тестирование примеров из документации функции, вычисляющей факториал числа, с явным указанием запускаемых секций."
   ]
  },
  {
   "cell_type": "code",
   "execution_count": 28,
   "metadata": {},
   "outputs": [
    {
     "name": "stdout",
     "output_type": "stream",
     "text": [
      "Trying:\n",
      "    factorial(0)\n",
      "Expecting:\n",
      "    1\n",
      "ok\n",
      "Trying:\n",
      "    factorial(5)\n",
      "Expecting:\n",
      "    120\n",
      "ok\n",
      "Trying:\n",
      "    factorial(6)\n",
      "Expecting:\n",
      "    720\n",
      "ok\n",
      "1 items had no tests:\n",
      "    __main__\n",
      "1 items passed all tests:\n",
      "   3 tests in __main__.factorial\n",
      "3 tests in 2 items.\n",
      "3 passed and 0 failed.\n",
      "Test passed.\n"
     ]
    },
    {
     "data": {
      "text/plain": [
       "TestResults(failed=0, attempted=3)"
      ]
     },
     "execution_count": 28,
     "metadata": {},
     "output_type": "execute_result"
    }
   ],
   "source": [
    "doctest.testmod(verbose=True)"
   ]
  },
  {
   "attachments": {},
   "cell_type": "markdown",
   "metadata": {},
   "source": [
    "**Замечание.** Модуль `doctest` полагает, что пример оформлен корректно, если он имитирует оболочку Python."
   ]
  },
  {
   "attachments": {},
   "cell_type": "markdown",
   "metadata": {},
   "source": [
    "**Пример.** Тестирование примеров из документации функции, вычисляющей факториал числа."
   ]
  },
  {
   "cell_type": "code",
   "execution_count": 30,
   "metadata": {},
   "outputs": [],
   "source": [
    "def factorial(n: int) -> int:\n",
    "    \"\"\"\n",
    "    ...\n",
    "\n",
    "    Examples:\n",
    "        >>> x: int = factorial(0)\n",
    "        >>> x += 1\n",
    "        >>> print(x)\n",
    "        2\n",
    "    \"\"\"\n",
    "\n",
    "    if not isinstance(n, int):\n",
    "        raise TypeError(\"[!] Integer Required\")\n",
    "\n",
    "    if n < 0:\n",
    "        raise ValueError(\"[!] Non-negative Number Required\")\n",
    "\n",
    "    if n == 0:\n",
    "        return 1\n",
    "\n",
    "    return n * factorial(n - 1)"
   ]
  },
  {
   "cell_type": "code",
   "execution_count": 31,
   "metadata": {},
   "outputs": [
    {
     "name": "stdout",
     "output_type": "stream",
     "text": [
      "Trying:\n",
      "    x: int = factorial(0)\n",
      "Expecting nothing\n",
      "ok\n",
      "Trying:\n",
      "    x += 1\n",
      "Expecting nothing\n",
      "ok\n",
      "Trying:\n",
      "    print(x)\n",
      "Expecting:\n",
      "    2\n",
      "ok\n",
      "1 items had no tests:\n",
      "    __main__\n",
      "1 items passed all tests:\n",
      "   3 tests in __main__.factorial\n",
      "3 tests in 2 items.\n",
      "3 passed and 0 failed.\n",
      "Test passed.\n"
     ]
    },
    {
     "data": {
      "text/plain": [
       "TestResults(failed=0, attempted=3)"
      ]
     },
     "execution_count": 31,
     "metadata": {},
     "output_type": "execute_result"
    }
   ],
   "source": [
    "doctest.testmod(verbose=True)"
   ]
  },
  {
   "attachments": {},
   "cell_type": "markdown",
   "metadata": {},
   "source": [
    "**Спойлер.** На семинаре:\n",
    "\n",
    "- Изучение модуля `logging`;\n",
    "- Повторение только что изученного материала на примере `uint32_t`."
   ]
  }
 ],
 "metadata": {
  "kernelspec": {
   "display_name": "Python 3",
   "language": "python",
   "name": "python3"
  },
  "language_info": {
   "codemirror_mode": {
    "name": "ipython",
    "version": 3
   },
   "file_extension": ".py",
   "mimetype": "text/x-python",
   "name": "python",
   "nbconvert_exporter": "python",
   "pygments_lexer": "ipython3",
   "version": "3.11.0"
  },
  "orig_nbformat": 4
 },
 "nbformat": 4,
 "nbformat_minor": 2
}
