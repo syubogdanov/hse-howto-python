{
 "cells": [
  {
   "attachments": {},
   "cell_type": "markdown",
   "metadata": {},
   "source": [
    "<div align=\"center\">\n",
    "    <a href=\"https://github.com/syubogdanov/hse-howto-python\">\n",
    "        <img src=\"https://cdn-icons-png.flaticon.com/128/1864/1864711.png\" height=\"128px\" width=\"auto\">\n",
    "    </a>\n",
    "    <h3>\n",
    "        <b>\n",
    "            Продвинутый Python\n",
    "        </b>\n",
    "    </h3>\n",
    "    <i>\n",
    "        Тестирование и контроль исполнения\n",
    "    </i>\n",
    "</div>\n",
    "\n",
    "<br>"
   ]
  },
  {
   "attachments": {},
   "cell_type": "markdown",
   "metadata": {},
   "source": [
    "**Выполнил(-а):** <Фамилия Имя Отчество>"
   ]
  },
  {
   "attachments": {},
   "cell_type": "markdown",
   "metadata": {},
   "source": [
    "**Дополнительные баллы.** За решение *домашнего задания №5* Вам может быть добавлено не более, чем **... бонусных баллов**. Вы можете лишиться не более, чем **... штрафных баллов**."
   ]
  },
  {
   "attachments": {},
   "cell_type": "markdown",
   "metadata": {},
   "source": [
    "**Задание 1. (... баллов)**\n",
    "\n",
    "«Я пригласил вас, господа, с тем, чтобы сообщить вам пренеприятное известие: к нам едет ревизор», - с такой скверной новости началось утро бедных чиновников уездного города N. В срочном порядке они вызвали Вас, чтобы поручить неотложное задание. Градоначальство уже давно обещало построить централизованную систему метрополитена, но, как известно, лежебоке и солнце не в пору всходит! Однако приезд ревизора обещал все изменить... для Вас... Реализуйте техническое задание чиновников - и будете щедро награждены баллами за домашнее задание!"
   ]
  },
  {
   "attachments": {},
   "cell_type": "markdown",
   "metadata": {},
   "source": [
    "**Станция метрополитена.** Представляет собой отдельный класс `Station`, который является представителем семейства строковых типов данных. Объект по свойствам ничем не должен отличаться от обычных строк. Обратите внимание на следующие требуемые свойства:\n",
    "\n",
    "- `isinstance(Station(\"StationName\"), str) == True`;\n",
    "- `isinstance(\"AnyString\", Station) == False`."
   ]
  },
  {
   "attachments": {},
   "cell_type": "markdown",
   "metadata": {},
   "source": [
    "**Время.** Представляет собой отдельный класс `time_t`, имитирующий поведение 64-битных беззнаковых чисел. Требования:\n",
    "\n",
    "- Переполнение в любую сторону вызывает исключение `RuntimeError` с понятным для внешнего пользователя сообщением;\n",
    "- Поддерживает преобразование к следующим типам данных: `int`, `str`, `bool`, `hex`, `oct`, `bin`;\n",
    "- Поддерживает операции сложения, деления, умножения, вычитания, взятия остатка с типами данных `int` и `time_t`;\n",
    "- Поддерживает операции сравнения с типами данных `int` и `time_t`. Определяйте операторы сравнения рациональным образом."
   ]
  },
  {
   "attachments": {},
   "cell_type": "markdown",
   "metadata": {},
   "source": [
    "**Железная дорога между станциями.** Представляет собой неизменяемый класс-контейнер `Railway`, в котором хранятся следующие атрибуты:\n",
    "\n",
    "- `source` - Станция, из которой начинается путь;\n",
    "- `target` - Станция, на которой заканчивается путь;\n",
    "- `time` - Время в секундах, которое требуется, чтобы пройти путь."
   ]
  },
  {
   "attachments": {},
   "cell_type": "markdown",
   "metadata": {},
   "source": [
    "**Замечание.** Железная дорога между станциями является однонаправленной. Если существует путь от `source` до `target`, то нет гарантии, что существует путь от `target` до `source`. Более того, нет гарантии, что время от `source` до `target` и время от `target` до `source` одинаковы."
   ]
  },
  {
   "attachments": {},
   "cell_type": "markdown",
   "metadata": {},
   "source": [
    "**Метрополитен.** Представляет собой класс `Metro`, для которого определены следующие атрибуты и методы. Полагайте, что `S` - количество станций, `R` - количество железных дорог."
   ]
  },
  {
   "attachments": {},
   "cell_type": "markdown",
   "metadata": {},
   "source": [
    "<table>\n",
    "    <tr align=\"center\">\n",
    "        <td><b>Имя метода</b></td>\n",
    "        <td><b>Асимптотическая сложность</b></td>\n",
    "        <td><b>Описание</b></td>\n",
    "    </tr>\n",
    "    <tr align=\"center\">\n",
    "        <td><b>build</b></td>\n",
    "        <td><code>O(S) или O(R)</code></td>\n",
    "        <td>\n",
    "            Построить железную дорогу или станцию.\n",
    "        </td>\n",
    "    </tr>\n",
    "    <tr align=\"center\">\n",
    "        <td><b>rebuild</b></td>\n",
    "        <td><code>O(R)</code></td>\n",
    "        <td>\n",
    "            Заменить железную дорогу на новую.\n",
    "        </td>\n",
    "    </tr>\n",
    "    <tr align=\"center\">\n",
    "        <td><b>rename</b></td>\n",
    "        <td><code>O(S)</code></td>\n",
    "        <td>\n",
    "            Переименовать станцию.\n",
    "        </td>\n",
    "    </tr>\n",
    "    <tr align=\"center\">\n",
    "        <td><b>destroy</b></td>\n",
    "        <td><code>O(S + R)</code></td>\n",
    "        <td>\n",
    "            Уничтожить станцию метро вместе с прилегающими железными дорогами или отдельную железную дорогу.\n",
    "            Во втором случае требуется удалить железную дорогу, у которой начальная и конечная станции\n",
    "            совпадают с той, что была передана в качестве аргумента. Время игнорировать.\n",
    "        </td>\n",
    "    </tr>\n",
    "    <tr align=\"center\">\n",
    "        <td><b>is_united</b></td>\n",
    "        <td><code>O(S + R)</code></td>\n",
    "        <td>\n",
    "            Проверить, что метрополитен позволяет для любой пары станций найти\n",
    "            путь от одной к другой.\n",
    "        </td>\n",
    "    </tr>\n",
    "    <tr align=\"center\">\n",
    "        <td><b>is_separatable</b></td>\n",
    "        <td><code>O(S + R)</code></td>\n",
    "        <td>\n",
    "            Проверить, что станции можно расположить по обе стороны реки так,\n",
    "            чтобы станции, находящиеся на одном берегу, были соединены только\n",
    "            со станцями с противоположного берега.\n",
    "        </td>\n",
    "    </tr>\n",
    "    <tr align=\"center\">\n",
    "        <td><b>is_reachable</b></td>\n",
    "        <td><code>O(S + R)</code></td>\n",
    "        <td>\n",
    "            Проверить, что с одной станции можно попасть на другую.\n",
    "        </td>\n",
    "    </tr>\n",
    "    <tr align=\"center\">\n",
    "        <td><b>get_path</b></td>\n",
    "        <td><code>O((S + R) * log S)</code></td>\n",
    "        <td>\n",
    "            Получить итератор <code>MetroPathIterator</code>, который последовательно\n",
    "            возвращает все станции, которые находятся на кратчайшем по времени пути\n",
    "            между двумя станциями, включая начало и конец. Переполнением времени пренебречь.\n",
    "        </td>\n",
    "    </tr>\n",
    "    <tr align=\"center\">\n",
    "        <td><b>get_pathtime</b></td>\n",
    "        <td><code>O((S + R) * log S)</code></td>\n",
    "        <td>\n",
    "            Получить наименьшее время, которое потребуется, чтобы добраться от одной\n",
    "            станции до другой. Переполнением пренебречь.\n",
    "        </td>\n",
    "    </tr>\n",
    "</table>"
   ]
  },
  {
   "attachments": {},
   "cell_type": "markdown",
   "metadata": {},
   "source": [
    "<table>\n",
    "    <tr align=\"center\">\n",
    "        <td><b>Имя оператора</b></td>\n",
    "        <td><b>Асимптотическая сложность</b></td>\n",
    "        <td><b>Описание</b></td>\n",
    "    </tr>\n",
    "    <tr align=\"center\">\n",
    "        <td><b><code>len</code></b></td>\n",
    "        <td><code>O(1)</code></td>\n",
    "        <td>\n",
    "            Получить суммарное время, которое потребуется, чтобы проехать по\n",
    "            каждой существующей железной дороге. Переполнением пренебречь.\n",
    "        </td>\n",
    "    </tr>\n",
    "    <tr align=\"center\">\n",
    "        <td><b><code>in</code></b></td>\n",
    "        <td><code>O(S) или O(R)</code></td>\n",
    "        <td>\n",
    "            Проверить, существует ли станция или железная дорога между станциями.\n",
    "            Во втором случае проверяйте равенство начальной и конечной точек - \n",
    "            время игнорируйте.\n",
    "        </td>\n",
    "    </tr>\n",
    "    <tr align=\"center\">\n",
    "        <td><b><code>iter</code></b></td>\n",
    "        <td><code>O(1)</code></td>\n",
    "        <td>\n",
    "            Получить итератор <code>MetroStationIterator</code>, который в произвольном\n",
    "            порядке перебирает станции метрополитена.\n",
    "        </td>\n",
    "    </tr>\n",
    "</table>"
   ]
  },
  {
   "attachments": {},
   "cell_type": "markdown",
   "metadata": {},
   "source": [
    "Валидируйте входные аргументы каждой из функций. Помните о внешнем доступе. Решение прикрепите в виде ссылки на репозиторий `GitHub`."
   ]
  },
  {
   "cell_type": "code",
   "execution_count": null,
   "metadata": {},
   "outputs": [],
   "source": [
    "\"\"\"\n",
    "Lorem ipsum dolor sit amet, consectetur adipiscing elit, sed do\n",
    "eiusmod tempor incididunt ut labore et dolore magna aliqua. Ut\n",
    "enim ad minim veniam, quis nostrud exercitation ullamco laboris\n",
    "nisi ut aliquip ex ea commodo consequat. Duis aute irure dolor\n",
    "in reprehenderit in voluptate velit esse cillum dolore eu fugiat\n",
    "nulla pariatur. Excepteur sint occaecat cupidatat non proident,\n",
    "sunt in culpa qui officia deserunt mollit anim id est laborum.\n",
    "\"\"\""
   ]
  },
  {
   "attachments": {},
   "cell_type": "markdown",
   "metadata": {},
   "source": [
    "**Задание 2. (... баллов)**\n",
    "\n",
    "Помимо прочего, градоначальство попросило Вас улучшить взаимодействие с моделью при помощи исключений. Во-первых, Вам потребуется реализовать собственные исключения, а во-вторых, научиться их вызывать в экстренных ситуациях.\n",
    "\n",
    "Начните с создания группы исключений `MetroError` - в нее будут входить все исключения, которые связаны с работой модели:"
   ]
  },
  {
   "attachments": {},
   "cell_type": "markdown",
   "metadata": {},
   "source": [
    "**Группа исключений `StationError`.** Входят:\n",
    "\n",
    "- `ExistingStationError` - Станция уже существует. Имеет атрибут `station`, в котором хранится проблемная станция;\n",
    "- `NonExistingStationError` - Станции не существует. Имеет атрибут `station`, в котором хранится проблемная станция."
   ]
  },
  {
   "attachments": {},
   "cell_type": "markdown",
   "metadata": {},
   "source": [
    "**Группа исключений `RailwayError`.** Входят:\n",
    "\n",
    "- `ExistingRailwayError` - Железная дорога уже существует. Имеет атрибут `railway`, в котором хранится проблемная железная дорога;\n",
    "- `NonExistingRailwayError` - Железной дороги не существует. Имеет атрибут `railway`, в котором хранится проблемная железная дорога."
   ]
  },
  {
   "attachments": {},
   "cell_type": "markdown",
   "metadata": {},
   "source": [
    "**Группа исключений `MetroPathError`.** Входят:\n",
    "\n",
    "- `NonExistingMetroPathError` - Пути между двумя станциями не существует. Имеет атрибуты `source` и `target`, в которых хранятся начальные и конечные проблемные станции."
   ]
  },
  {
   "attachments": {},
   "cell_type": "markdown",
   "metadata": {},
   "source": [
    "Используйте корректное наследование. Помните о внешнем доступе."
   ]
  },
  {
   "attachments": {},
   "cell_type": "markdown",
   "metadata": {},
   "source": [
    "По окончании реализации дополните этап валидации для каждого из методов класса `Metro`. Бросайте соответствующее исключение в случае ошибок со стороны внешнего пользователя или невозможности какой-либо из операций. Внимательно изучите, какое исключение и для чего требуется. Помните о понятных для внешнего пользователя сообщениях."
   ]
  },
  {
   "cell_type": "code",
   "execution_count": null,
   "metadata": {},
   "outputs": [],
   "source": [
    "\"\"\"\n",
    "Lorem ipsum dolor sit amet, consectetur adipiscing elit, sed do\n",
    "eiusmod tempor incididunt ut labore et dolore magna aliqua. Ut\n",
    "enim ad minim veniam, quis nostrud exercitation ullamco laboris\n",
    "nisi ut aliquip ex ea commodo consequat. Duis aute irure dolor\n",
    "in reprehenderit in voluptate velit esse cillum dolore eu fugiat\n",
    "nulla pariatur. Excepteur sint occaecat cupidatat non proident,\n",
    "sunt in culpa qui officia deserunt mollit anim id est laborum.\n",
    "\"\"\""
   ]
  },
  {
   "attachments": {},
   "cell_type": "markdown",
   "metadata": {},
   "source": [
    "**Задание 3. (... баллов)**\n",
    "\n",
    "Для каждого класса, функции и метода напишите документацию - так даже ревизор поймет устройство метрополитена уездного города N. Опирайтесь на стиль, предложенный на лекции."
   ]
  },
  {
   "cell_type": "code",
   "execution_count": null,
   "metadata": {},
   "outputs": [],
   "source": [
    "\"\"\"\n",
    "Lorem ipsum dolor sit amet, consectetur adipiscing elit, sed do\n",
    "eiusmod tempor incididunt ut labore et dolore magna aliqua. Ut\n",
    "enim ad minim veniam, quis nostrud exercitation ullamco laboris\n",
    "nisi ut aliquip ex ea commodo consequat. Duis aute irure dolor\n",
    "in reprehenderit in voluptate velit esse cillum dolore eu fugiat\n",
    "nulla pariatur. Excepteur sint occaecat cupidatat non proident,\n",
    "sunt in culpa qui officia deserunt mollit anim id est laborum.\n",
    "\"\"\""
   ]
  },
  {
   "attachments": {},
   "cell_type": "markdown",
   "metadata": {},
   "source": [
    "**Задание 4. (... баллов)**\n",
    "\n",
    "Для каждого класса, функции и метода напишите не менее 8 тестов, используя модуль `pytest`. Хотя бы три из них должны проверять вызов исключений, остальные (не менее пяти) - работоспособность функции / метода / класса.\n",
    "\n",
    "Дополнительно напишите не менее 5 тестов, которые проверяют работоспособность системы в совокупности - взаимодействие функций между собой. Отдельным, шестым, тестом выделите использование модуля `doctest`."
   ]
  },
  {
   "cell_type": "code",
   "execution_count": null,
   "metadata": {},
   "outputs": [],
   "source": [
    "\"\"\"\n",
    "Lorem ipsum dolor sit amet, consectetur adipiscing elit, sed do\n",
    "eiusmod tempor incididunt ut labore et dolore magna aliqua. Ut\n",
    "enim ad minim veniam, quis nostrud exercitation ullamco laboris\n",
    "nisi ut aliquip ex ea commodo consequat. Duis aute irure dolor\n",
    "in reprehenderit in voluptate velit esse cillum dolore eu fugiat\n",
    "nulla pariatur. Excepteur sint occaecat cupidatat non proident,\n",
    "sunt in culpa qui officia deserunt mollit anim id est laborum.\n",
    "\"\"\""
   ]
  }
 ],
 "metadata": {
  "language_info": {
   "name": "python"
  },
  "orig_nbformat": 4
 },
 "nbformat": 4,
 "nbformat_minor": 2
}
