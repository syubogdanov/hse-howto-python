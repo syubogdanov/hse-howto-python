{
 "cells": [
  {
   "attachments": {},
   "cell_type": "markdown",
   "metadata": {},
   "source": [
    "<div align=\"center\">\n",
    "    <a href=\"https://github.com/syubogdanov/hse-howto-python\">\n",
    "        <img src=\"https://cdn-icons-png.flaticon.com/128/1864/1864711.png\" height=\"128px\" width=\"auto\">\n",
    "    </a>\n",
    "    <h3>\n",
    "        <b>\n",
    "            Продвинутый Python\n",
    "        </b>\n",
    "    </h3>\n",
    "    <i>\n",
    "        Тестирование и контроль исполнения\n",
    "    </i>\n",
    "</div>\n",
    "\n",
    "<br>"
   ]
  },
  {
   "attachments": {},
   "cell_type": "markdown",
   "metadata": {},
   "source": [
    "**Задание.** Реализуйте представление 32-битных беззнаковых чисел. Наделите класс следующими возможностями:\n",
    "\n",
    "- Арифметические операторы;\n",
    "- Арифметические операторы с присваиванием;\n",
    "- Взаимодействие с унарными операторами;\n",
    "- Взаимодействие с математическими функциями;\n",
    "- Взаимодействие с функциями копирования;\n",
    "- Наличие хэша;\n",
    "- Операторы сравнения;\n",
    "- Представление класса в виде строки (не путать с приведением к строке);\n",
    "- Представление класса при форматировании;\n",
    "- Приведение к стандартным типам данных;\n",
    "- Проверка на соответствие типов.\n",
    "\n",
    "Допустимо использовать реализацию из второго *семинарского занятия*."
   ]
  },
  {
   "cell_type": "code",
   "execution_count": null,
   "metadata": {},
   "outputs": [],
   "source": [
    "\"\"\"\n",
    "Lorem ipsum dolor sit amet, consectetur adipiscing elit, sed do\n",
    "eiusmod tempor incididunt ut labore et dolore magna aliqua. Ut\n",
    "enim ad minim veniam, quis nostrud exercitation ullamco laboris\n",
    "nisi ut aliquip ex ea commodo consequat. Duis aute irure dolor\n",
    "in reprehenderit in voluptate velit esse cillum dolore eu fugiat\n",
    "nulla pariatur. Excepteur sint occaecat cupidatat non proident,\n",
    "sunt in culpa qui officia deserunt mollit anim id est laborum.\n",
    "\"\"\""
   ]
  },
  {
   "attachments": {},
   "cell_type": "markdown",
   "metadata": {},
   "source": [
    "**Задание.** Для класса `uint32_t` и всех его методов напишите документацию в соответствии со стилем, предложенным на лекции. Добавьте в документацию примеры использования."
   ]
  },
  {
   "cell_type": "code",
   "execution_count": null,
   "metadata": {},
   "outputs": [],
   "source": [
    "\"\"\"\n",
    "Lorem ipsum dolor sit amet, consectetur adipiscing elit, sed do\n",
    "eiusmod tempor incididunt ut labore et dolore magna aliqua. Ut\n",
    "enim ad minim veniam, quis nostrud exercitation ullamco laboris\n",
    "nisi ut aliquip ex ea commodo consequat. Duis aute irure dolor\n",
    "in reprehenderit in voluptate velit esse cillum dolore eu fugiat\n",
    "nulla pariatur. Excepteur sint occaecat cupidatat non proident,\n",
    "sunt in culpa qui officia deserunt mollit anim id est laborum.\n",
    "\"\"\""
   ]
  },
  {
   "attachments": {},
   "cell_type": "markdown",
   "metadata": {},
   "source": [
    "**Задание.** Протестируйте примеры из документации при помощи модуля `doctest`."
   ]
  },
  {
   "cell_type": "code",
   "execution_count": null,
   "metadata": {},
   "outputs": [],
   "source": [
    "\"\"\"\n",
    "Lorem ipsum dolor sit amet, consectetur adipiscing elit, sed do\n",
    "eiusmod tempor incididunt ut labore et dolore magna aliqua. Ut\n",
    "enim ad minim veniam, quis nostrud exercitation ullamco laboris\n",
    "nisi ut aliquip ex ea commodo consequat. Duis aute irure dolor\n",
    "in reprehenderit in voluptate velit esse cillum dolore eu fugiat\n",
    "nulla pariatur. Excepteur sint occaecat cupidatat non proident,\n",
    "sunt in culpa qui officia deserunt mollit anim id est laborum.\n",
    "\"\"\""
   ]
  },
  {
   "attachments": {},
   "cell_type": "markdown",
   "metadata": {},
   "source": [
    "**Задание.** Напишите функцию `builtin_mul_overflow`, которая проверяет, произойдет ли переполнение при умножении двух беззнаковых 32-битных чисел. Напишите документацию к написанной функции."
   ]
  },
  {
   "cell_type": "code",
   "execution_count": null,
   "metadata": {},
   "outputs": [],
   "source": [
    "\"\"\"\n",
    "Lorem ipsum dolor sit amet, consectetur adipiscing elit, sed do\n",
    "eiusmod tempor incididunt ut labore et dolore magna aliqua. Ut\n",
    "enim ad minim veniam, quis nostrud exercitation ullamco laboris\n",
    "nisi ut aliquip ex ea commodo consequat. Duis aute irure dolor\n",
    "in reprehenderit in voluptate velit esse cillum dolore eu fugiat\n",
    "nulla pariatur. Excepteur sint occaecat cupidatat non proident,\n",
    "sunt in culpa qui officia deserunt mollit anim id est laborum.\n",
    "\"\"\""
   ]
  },
  {
   "attachments": {},
   "cell_type": "markdown",
   "metadata": {},
   "source": [
    "**Задание.** Напишите функцию `builtin_add_overflow`, которая проверяет, произойдет ли переполнение при сложении двух беззнаковых 32-битных чисел. Напишите документацию к написанной функции."
   ]
  },
  {
   "cell_type": "code",
   "execution_count": null,
   "metadata": {},
   "outputs": [],
   "source": [
    "\"\"\"\n",
    "Lorem ipsum dolor sit amet, consectetur adipiscing elit, sed do\n",
    "eiusmod tempor incididunt ut labore et dolore magna aliqua. Ut\n",
    "enim ad minim veniam, quis nostrud exercitation ullamco laboris\n",
    "nisi ut aliquip ex ea commodo consequat. Duis aute irure dolor\n",
    "in reprehenderit in voluptate velit esse cillum dolore eu fugiat\n",
    "nulla pariatur. Excepteur sint occaecat cupidatat non proident,\n",
    "sunt in culpa qui officia deserunt mollit anim id est laborum.\n",
    "\"\"\""
   ]
  },
  {
   "attachments": {},
   "cell_type": "markdown",
   "metadata": {},
   "source": [
    "**Задание.** Напишите функцию `builtin_sub_overflow`, которая проверяет, произойдет ли переполнение при вычитании двух беззнаковых 32-битных чисел. Напишите документацию к написанной функции."
   ]
  },
  {
   "cell_type": "code",
   "execution_count": null,
   "metadata": {},
   "outputs": [],
   "source": [
    "\"\"\"\n",
    "Lorem ipsum dolor sit amet, consectetur adipiscing elit, sed do\n",
    "eiusmod tempor incididunt ut labore et dolore magna aliqua. Ut\n",
    "enim ad minim veniam, quis nostrud exercitation ullamco laboris\n",
    "nisi ut aliquip ex ea commodo consequat. Duis aute irure dolor\n",
    "in reprehenderit in voluptate velit esse cillum dolore eu fugiat\n",
    "nulla pariatur. Excepteur sint occaecat cupidatat non proident,\n",
    "sunt in culpa qui officia deserunt mollit anim id est laborum.\n",
    "\"\"\""
   ]
  },
  {
   "attachments": {},
   "cell_type": "markdown",
   "metadata": {},
   "source": [
    "**Задание.** Напишите функцию `builtin_div_overflow`, которая проверяет, произойдет ли переполнение при делении двух беззнаковых 32-битных чисел. Напишите документацию к написанной функции."
   ]
  },
  {
   "cell_type": "code",
   "execution_count": null,
   "metadata": {},
   "outputs": [],
   "source": [
    "\"\"\"\n",
    "Lorem ipsum dolor sit amet, consectetur adipiscing elit, sed do\n",
    "eiusmod tempor incididunt ut labore et dolore magna aliqua. Ut\n",
    "enim ad minim veniam, quis nostrud exercitation ullamco laboris\n",
    "nisi ut aliquip ex ea commodo consequat. Duis aute irure dolor\n",
    "in reprehenderit in voluptate velit esse cillum dolore eu fugiat\n",
    "nulla pariatur. Excepteur sint occaecat cupidatat non proident,\n",
    "sunt in culpa qui officia deserunt mollit anim id est laborum.\n",
    "\"\"\""
   ]
  },
  {
   "attachments": {},
   "cell_type": "markdown",
   "metadata": {},
   "source": [
    "**Задание.** Для всех функций, проверяющих переполнение при операциях с 32-битными беззнаковыми числами, напишите хотя бы по 5 тестов, подтверждающих корректность их работы. Используйте модуль `pytest`. Отдельным тестом выделите проверку примеров из документации через `doctest`."
   ]
  },
  {
   "cell_type": "code",
   "execution_count": null,
   "metadata": {},
   "outputs": [],
   "source": [
    "\"\"\"\n",
    "Lorem ipsum dolor sit amet, consectetur adipiscing elit, sed do\n",
    "eiusmod tempor incididunt ut labore et dolore magna aliqua. Ut\n",
    "enim ad minim veniam, quis nostrud exercitation ullamco laboris\n",
    "nisi ut aliquip ex ea commodo consequat. Duis aute irure dolor\n",
    "in reprehenderit in voluptate velit esse cillum dolore eu fugiat\n",
    "nulla pariatur. Excepteur sint occaecat cupidatat non proident,\n",
    "sunt in culpa qui officia deserunt mollit anim id est laborum.\n",
    "\"\"\""
   ]
  },
  {
   "attachments": {},
   "cell_type": "markdown",
   "metadata": {},
   "source": [
    "**Задание.** Напишите префиксную функцию. Напишите документацию к функции. Напишите хотя бы 5 тестов, которые подтвердят корректность работы функции. Используйте модуль `pytest`. Отдельным тестом выделите проверку примеров из документации через `doctest`."
   ]
  },
  {
   "cell_type": "code",
   "execution_count": null,
   "metadata": {},
   "outputs": [],
   "source": [
    "\"\"\"\n",
    "Lorem ipsum dolor sit amet, consectetur adipiscing elit, sed do\n",
    "eiusmod tempor incididunt ut labore et dolore magna aliqua. Ut\n",
    "enim ad minim veniam, quis nostrud exercitation ullamco laboris\n",
    "nisi ut aliquip ex ea commodo consequat. Duis aute irure dolor\n",
    "in reprehenderit in voluptate velit esse cillum dolore eu fugiat\n",
    "nulla pariatur. Excepteur sint occaecat cupidatat non proident,\n",
    "sunt in culpa qui officia deserunt mollit anim id est laborum.\n",
    "\"\"\""
   ]
  },
  {
   "attachments": {},
   "cell_type": "markdown",
   "metadata": {},
   "source": [
    "**Задание.** Напишите автомат Кнута-Морриса-Прата. Напишите документацию к классу и его методам. Для каждого метода напишите хотя бы по 5 тестов, которые подтвердят корректность их работы. Используйте модуль `pytest`. Отдельным тестом выделите проверку примеров из документации через `doctest`."
   ]
  },
  {
   "cell_type": "code",
   "execution_count": null,
   "metadata": {},
   "outputs": [],
   "source": [
    "\"\"\"\n",
    "Lorem ipsum dolor sit amet, consectetur adipiscing elit, sed do\n",
    "eiusmod tempor incididunt ut labore et dolore magna aliqua. Ut\n",
    "enim ad minim veniam, quis nostrud exercitation ullamco laboris\n",
    "nisi ut aliquip ex ea commodo consequat. Duis aute irure dolor\n",
    "in reprehenderit in voluptate velit esse cillum dolore eu fugiat\n",
    "nulla pariatur. Excepteur sint occaecat cupidatat non proident,\n",
    "sunt in culpa qui officia deserunt mollit anim id est laborum.\n",
    "\"\"\""
   ]
  },
  {
   "attachments": {},
   "cell_type": "markdown",
   "metadata": {},
   "source": [
    "**Рассуждение.** При отладке программы, скорее всего, Вы прибегаете к одному из следующих двух методов:\n",
    "\n",
    "- Использование контрольных точек внутри IDE;\n",
    "- Использование `print` и подобных.\n",
    "\n",
    "Такой подход обычно подходит для работы над небольшими проектами. Когда же Вы работаете над чем-то более серьезным, скорее всего, указанные выше методы будут не так эффективны, как может показаться. Зачастую для отладки программ Вы будете использовать логирующие журналы. В Python этот функционал реализует модуль `logging`."
   ]
  },
  {
   "attachments": {},
   "cell_type": "markdown",
   "metadata": {},
   "source": [
    "**Пояснение.** Внутри модуля реализовано огромное число инструментов, предназначенных для работы с логами. На базовом уровне достаточно знать пять основных видов сообщений, которые идут в порядке возрастания серьезности:\n",
    "\n",
    "- Отладочное сообщение;\n",
    "- Сообщение-оповещение;\n",
    "- Сообщение-предупреждение;\n",
    "- Сообщение об ошибке;\n",
    "- Критическое сообщение."
   ]
  },
  {
   "attachments": {},
   "cell_type": "markdown",
   "metadata": {},
   "source": [
    "**Пример.** Вывод логирующих сообщений различных видов."
   ]
  },
  {
   "cell_type": "code",
   "execution_count": 1,
   "metadata": {},
   "outputs": [],
   "source": [
    "import logging\n",
    "\n",
    "logging.basicConfig(\n",
    "    filename=\"./seminar.log\",\n",
    "    filemode=\"w\",\n",
    ")"
   ]
  },
  {
   "attachments": {},
   "cell_type": "markdown",
   "metadata": {},
   "source": [
    "**Пояснение.** Прежде, чем работать с логированием, стоит настроить основной конфиг. С его помощью Вы можете задать следующие часто встречающиеся параметры:\n",
    "\n",
    "- `filename` - в какой файл записывать логи;\n",
    "- `filemode` - в каком формате будет открыт логирующий журнал;\n",
    "- `format` - в каком формате будут выведены сообщения;\n",
    "- `datefmt` - формат вывода дат и меток времени;\n",
    "- `level` - минимальный уровень, на котором начинается логирование."
   ]
  },
  {
   "cell_type": "code",
   "execution_count": 3,
   "metadata": {},
   "outputs": [],
   "source": [
    "logging.debug(\"The first message\")\n",
    "logging.info(\"The second message\")\n",
    "logging.warning(\"The third message\")\n",
    "logging.error(\"The forth message\")\n",
    "logging.critical(\"The fifth message\")"
   ]
  },
  {
   "attachments": {},
   "cell_type": "markdown",
   "metadata": {},
   "source": [
    "**Ожидаемый вывод.** Если все прошло так, как нужно, то у Вас будет создан файл `seminar.log` со следующим содержанием:\n",
    "\n",
    "``` log\n",
    "WARNING:root:The third message\n",
    "ERROR:root:The forth message\n",
    "CRITICAL:root:The fifth message\n",
    "```"
   ]
  },
  {
   "attachments": {},
   "cell_type": "markdown",
   "metadata": {},
   "source": [
    "**Пояснение.** Логирование без указания формата сообщения состоит из трех основных частей: тип сообщения, источник сообщения и само сообщение. Таких отладочных данных, как правило, хватает. Как Вы могли заметить, не появились сообщения, соответствующие категориям \"отладка\" и \"оповещение\". Это связано с тем, что по умолчанию уровень лога задан как `logging.WARNING`. Давайте это исправим."
   ]
  },
  {
   "attachments": {},
   "cell_type": "markdown",
   "metadata": {},
   "source": [
    "**Пример.** Вывод логирующих сообщений различных видов. Обязательно перезапустите ядро перед исполнением следующей ячейки."
   ]
  },
  {
   "cell_type": "code",
   "execution_count": 2,
   "metadata": {},
   "outputs": [],
   "source": [
    "import logging\n",
    "\n",
    "logging.basicConfig(\n",
    "    level=logging.DEBUG,\n",
    "    filename=\"./seminar.log\",\n",
    "    filemode=\"w\",\n",
    ")"
   ]
  },
  {
   "cell_type": "code",
   "execution_count": 3,
   "metadata": {},
   "outputs": [],
   "source": [
    "logging.debug(\"The first message\")\n",
    "logging.info(\"The second message\")\n",
    "logging.warning(\"The third message\")\n",
    "logging.error(\"The forth message\")\n",
    "logging.critical(\"The fifth message\")"
   ]
  },
  {
   "attachments": {},
   "cell_type": "markdown",
   "metadata": {},
   "source": [
    "**Ожидаемый вывод.** Если все прошло так, как нужно, то у Вас будет создан файл `seminar.log` со следующим содержанием:\n",
    "\n",
    "``` log\n",
    "DEBUG:root:The first message\n",
    "INFO:root:The second message\n",
    "WARNING:root:The third message\n",
    "ERROR:root:The forth message\n",
    "CRITICAL:root:The fifth message\n",
    "```"
   ]
  },
  {
   "attachments": {},
   "cell_type": "markdown",
   "metadata": {},
   "source": [
    "**Пояснение.** В примере выше в параметрах основного конфига была задана настройка `level`, которая указывает на минимальный уровень серьезности сообщения для начала логирования. По этой причине установка флага `logging.DEBUG` позволяет использовать сразу все уровни логирования."
   ]
  },
  {
   "attachments": {},
   "cell_type": "markdown",
   "metadata": {},
   "source": [
    "**Замечание.** Если Вам требуются все логирующие сообщения, то присмотритесь к настройке `logging.NOTSET`. Семантически это более корректный вариант в сравнении с `logging.DEBUG`."
   ]
  },
  {
   "attachments": {},
   "cell_type": "markdown",
   "metadata": {},
   "source": [
    "**Пример.** Использование логирования для функции, вычисляющей факториал числа."
   ]
  },
  {
   "cell_type": "code",
   "execution_count": 13,
   "metadata": {},
   "outputs": [],
   "source": [
    "def factorial(n: int) -> int:\n",
    "    logging.info(f\"Running factorial({n})\")\n",
    "\n",
    "    if n == 0:\n",
    "        return 1\n",
    "\n",
    "    logging.info(f\"Returning {n} * factorial({n - 1})\")\n",
    "    return n * factorial(n - 1)"
   ]
  },
  {
   "cell_type": "code",
   "execution_count": 16,
   "metadata": {},
   "outputs": [
    {
     "data": {
      "text/plain": [
       "120"
      ]
     },
     "execution_count": 16,
     "metadata": {},
     "output_type": "execute_result"
    }
   ],
   "source": [
    "factorial(5)"
   ]
  },
  {
   "attachments": {},
   "cell_type": "markdown",
   "metadata": {},
   "source": [
    "**Ожидаемый вывод.** Если все прошло так, как нужно, то у Вас будет создан файл `seminar.log` со следующим содержанием:\n",
    "\n",
    "``` log\n",
    "INFO:root:Running factorial(5)\n",
    "INFO:root:Returning 5 * factorial(4)\n",
    "INFO:root:Running factorial(4)\n",
    "INFO:root:Returning 4 * factorial(3)\n",
    "INFO:root:Running factorial(3)\n",
    "INFO:root:Returning 3 * factorial(2)\n",
    "INFO:root:Running factorial(2)\n",
    "INFO:root:Returning 2 * factorial(1)\n",
    "INFO:root:Running factorial(1)\n",
    "INFO:root:Returning 1 * factorial(0)\n",
    "INFO:root:Running factorial(0)\n",
    "```"
   ]
  },
  {
   "attachments": {},
   "cell_type": "markdown",
   "metadata": {},
   "source": [
    "**Пример.** Изменение формата выводимого сообщения. Обязательно перезапустите ядро перед исполнением следующей ячейки."
   ]
  },
  {
   "cell_type": "code",
   "execution_count": 1,
   "metadata": {},
   "outputs": [],
   "source": [
    "import logging\n",
    "\n",
    "logging.basicConfig(\n",
    "    format=\"%(asctime)s | %(levelname)s | %(message)s\",\n",
    "    level=logging.NOTSET,\n",
    "    filename=\"./seminar.log\",\n",
    "    filemode=\"w\",\n",
    ")"
   ]
  },
  {
   "cell_type": "code",
   "execution_count": 2,
   "metadata": {},
   "outputs": [],
   "source": [
    "def factorial(n: int) -> int:\n",
    "    logging.info(f\"Running factorial({n})\")\n",
    "\n",
    "    if n == 0:\n",
    "        return 1\n",
    "\n",
    "    logging.info(f\"Returning {n} * factorial({n - 1})\")\n",
    "    return n * factorial(n - 1)"
   ]
  },
  {
   "cell_type": "code",
   "execution_count": 3,
   "metadata": {},
   "outputs": [
    {
     "data": {
      "text/plain": [
       "120"
      ]
     },
     "execution_count": 3,
     "metadata": {},
     "output_type": "execute_result"
    }
   ],
   "source": [
    "factorial(5)"
   ]
  },
  {
   "attachments": {},
   "cell_type": "markdown",
   "metadata": {},
   "source": [
    "**Ожидаемый вывод.** Если все прошло так, как нужно, то у Вас будет создан файл `seminar.log` с похожим содержанием:\n",
    "\n",
    "``` log\n",
    "2023-05-25 17:37:27,660 | INFO | Running factorial(5)\n",
    "2023-05-25 17:37:27,660 | INFO | Returning 5 * factorial(4)\n",
    "2023-05-25 17:37:27,660 | INFO | Running factorial(4)\n",
    "2023-05-25 17:37:27,660 | INFO | Returning 4 * factorial(3)\n",
    "2023-05-25 17:37:27,660 | INFO | Running factorial(3)\n",
    "2023-05-25 17:37:27,661 | INFO | Returning 3 * factorial(2)\n",
    "2023-05-25 17:37:27,661 | INFO | Running factorial(2)\n",
    "2023-05-25 17:37:27,661 | INFO | Returning 2 * factorial(1)\n",
    "2023-05-25 17:37:27,661 | INFO | Running factorial(1)\n",
    "2023-05-25 17:37:27,661 | INFO | Returning 1 * factorial(0)\n",
    "2023-05-25 17:37:27,661 | INFO | Running factorial(0)\n",
    "```"
   ]
  },
  {
   "attachments": {},
   "cell_type": "markdown",
   "metadata": {},
   "source": [
    "**Пояснение.** Параметр конфига `format` задает формат, относительно которого будет выводиться логирующее сообщение. Скорее всего, наиболее полезными для Вас будут следующие допустимые опции:\n",
    "\n",
    "- `%(asctime)s` - время, когда был записан лог;\n",
    "- `%(filename)s` - название файла, из которого был записан лог;\n",
    "- `%(funcName)s` - имя функции, из которой был записан лог;\n",
    "- `%(levelname)s` - уровень серьезности сообщения;\n",
    "- `%(lineno)d` - номер строки, из которой был записан лог;\n",
    "- `%(message)s` - переданное пользователем сообщение."
   ]
  },
  {
   "attachments": {},
   "cell_type": "markdown",
   "metadata": {},
   "source": [
    "**Замечание.** Если указать параметр `datefmt`, то можно видоизменить отображение даты и меток времени."
   ]
  },
  {
   "attachments": {},
   "cell_type": "markdown",
   "metadata": {},
   "source": [
    "**Пример.** Изменение формата даты и меток времени для выводимого сообщения. Обязательно перезапустите ядро перед исполнением следующей ячейки."
   ]
  },
  {
   "cell_type": "code",
   "execution_count": 1,
   "metadata": {},
   "outputs": [],
   "source": [
    "import logging\n",
    "\n",
    "logging.basicConfig(\n",
    "    format=\"%(asctime)s | %(levelname)s | %(message)s\",\n",
    "    datefmt=\"[%H::%M::%S]\",\n",
    "    level=logging.NOTSET,\n",
    "    filename=\"./seminar.log\",\n",
    "    filemode=\"w\",\n",
    ")"
   ]
  },
  {
   "cell_type": "code",
   "execution_count": 2,
   "metadata": {},
   "outputs": [],
   "source": [
    "def factorial(n: int) -> int:\n",
    "    logging.info(f\"Running factorial({n})\")\n",
    "\n",
    "    if n == 0:\n",
    "        return 1\n",
    "\n",
    "    logging.info(f\"Returning {n} * factorial({n - 1})\")\n",
    "    return n * factorial(n - 1)"
   ]
  },
  {
   "cell_type": "code",
   "execution_count": 3,
   "metadata": {},
   "outputs": [
    {
     "data": {
      "text/plain": [
       "120"
      ]
     },
     "execution_count": 3,
     "metadata": {},
     "output_type": "execute_result"
    }
   ],
   "source": [
    "factorial(5)"
   ]
  },
  {
   "attachments": {},
   "cell_type": "markdown",
   "metadata": {},
   "source": [
    "**Ожидаемый вывод.** Если все прошло так, как нужно, то у Вас будет создан файл `seminar.log` с похожим содержанием:\n",
    "\n",
    "``` log\n",
    "[17::58::15] | INFO | Running factorial(5)\n",
    "[17::58::15] | INFO | Returning 5 * factorial(4)\n",
    "[17::58::15] | INFO | Running factorial(4)\n",
    "[17::58::15] | INFO | Returning 4 * factorial(3)\n",
    "[17::58::15] | INFO | Running factorial(3)\n",
    "[17::58::15] | INFO | Returning 3 * factorial(2)\n",
    "[17::58::15] | INFO | Running factorial(2)\n",
    "[17::58::15] | INFO | Returning 2 * factorial(1)\n",
    "[17::58::15] | INFO | Running factorial(1)\n",
    "[17::58::15] | INFO | Returning 1 * factorial(0)\n",
    "[17::58::15] | INFO | Running factorial(0)\n",
    "\n",
    "```"
   ]
  },
  {
   "attachments": {},
   "cell_type": "markdown",
   "metadata": {},
   "source": [
    "**Замечание.** Модуль `logging`, помимо того, что описано в лекции, предлагает пользователю куда больше воможностей. В частности, создание нескольких логирующих сущностей. Это может быть полезно при работе с большим проектом, в котором журналы стоит разносить по разным директориям. Предлагаем ознакомиться с этим инструментом самостоятельно при помощи официальной документации."
   ]
  }
 ],
 "metadata": {
  "kernelspec": {
   "display_name": "Python 3",
   "language": "python",
   "name": "python3"
  },
  "language_info": {
   "codemirror_mode": {
    "name": "ipython",
    "version": 3
   },
   "file_extension": ".py",
   "mimetype": "text/x-python",
   "name": "python",
   "nbconvert_exporter": "python",
   "pygments_lexer": "ipython3",
   "version": "3.11.0"
  },
  "orig_nbformat": 4
 },
 "nbformat": 4,
 "nbformat_minor": 2
}
