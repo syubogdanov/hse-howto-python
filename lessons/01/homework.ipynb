{
 "cells": [
  {
   "attachments": {},
   "cell_type": "markdown",
   "metadata": {},
   "source": [
    "<div align=\"center\">\n",
    "    <a href=\"https://github.com/syubogdanov/hse-howto-python\">\n",
    "        <img src=\"https://cdn-icons-png.flaticon.com/128/1864/1864515.png\" height=\"128px\" width=\"auto\">\n",
    "    </a>\n",
    "    <h3>\n",
    "        <b>\n",
    "            Продвинутый Python\n",
    "        </b>\n",
    "    </h3>\n",
    "    <i>\n",
    "        Продвинутое ООП. Часть I\n",
    "    </i>\n",
    "</div>\n",
    "\n",
    "<br>"
   ]
  },
  {
   "attachments": {},
   "cell_type": "markdown",
   "metadata": {},
   "source": [
    "**Выполнил(-а):** <Фамилия Имя Отчество>"
   ]
  },
  {
   "attachments": {},
   "cell_type": "markdown",
   "metadata": {},
   "source": [
    "**Дополнительные баллы.** За решение *домашнего задания №1* Вам может быть добавлено не более, чем **... бонусных баллов**. Вы можете лишиться не более, чем **... штрафных баллов**."
   ]
  },
  {
   "attachments": {},
   "cell_type": "markdown",
   "metadata": {},
   "source": [
    "**Задание 1. (... баллов)**\n",
    "\n",
    "Реализуйте декоратор `todo`, который оборачивает функцию или класс и вызывает исключение `NotImplementedError` с понятным для внешнего пользователя сообщением при попытке вызова функции или инициализации класса."
   ]
  },
  {
   "cell_type": "code",
   "execution_count": null,
   "metadata": {},
   "outputs": [],
   "source": [
    "\"\"\"\n",
    "@todo\n",
    "def function() -> None:\n",
    "    pass\n",
    "    \n",
    "\n",
    ">>> function()\n",
    "NotImplementedError\n",
    "\"\"\""
   ]
  },
  {
   "attachments": {},
   "cell_type": "markdown",
   "metadata": {},
   "source": [
    "**Задание 2. (... баллов)**\n",
    "\n",
    "Реализуйте декоратор `autotest`, который принимает функцию-валидатор и проверяет, что возвращаемое из функции проходит проверку валидатором, а в противном случае вызывает исключение `AssertionError` с понятным для внешнего пользователя сообщением."
   ]
  },
  {
   "cell_type": "code",
   "execution_count": null,
   "metadata": {},
   "outputs": [],
   "source": [
    "\"\"\"\n",
    "@autotest(lambda x: x != 0)\n",
    "def zero() -> Literal[0]:\n",
    "    return 0\n",
    "\n",
    "\n",
    ">>> zero()\n",
    "AssertionError\n",
    "\"\"\""
   ]
  },
  {
   "attachments": {},
   "cell_type": "markdown",
   "metadata": {},
   "source": [
    "**Задание 3. (... баллов)**\n",
    "\n",
    "Реализуйте декоратор `skip`, который оборачивает функцию или класс так, чтобы при вызове функции или инициализации класса ничего не происходило. В частности, вызываемые объекты не должны быть исполнены."
   ]
  },
  {
   "cell_type": "code",
   "execution_count": null,
   "metadata": {},
   "outputs": [],
   "source": [
    "\"\"\"\n",
    "@skip\n",
    "def test() -> None:\n",
    "    print(\"Hello, world!\")\n",
    "\n",
    "\n",
    ">>> test()  # Doesn't print anything\n",
    "\"\"\""
   ]
  },
  {
   "attachments": {},
   "cell_type": "markdown",
   "metadata": {},
   "source": [
    "**Задание 4. (... баллов)**\n",
    "\n",
    "Реализуйте декораторы `args` и `kwargs`, которые принимают на вход функцию-валидатор и проверяют, что позиционные и ключевые аргументы соответственно удовлетворяют условиям валидатора. В противном случае вызывайте исключение `AssertionError` с понятным для внешнего пользователя сообщением. Если все хорошо, то запустите функцию и верните результат ее работы."
   ]
  },
  {
   "cell_type": "code",
   "execution_count": null,
   "metadata": {},
   "outputs": [],
   "source": [
    "\"\"\"\n",
    "@args(lambda argument: argument != 0)\n",
    "@kwargs(lambda argument: argument < 4)\n",
    "def function(a: Any, b: Any, c: Any, d: Any):\n",
    "    print(a, b, c, d)\n",
    "\n",
    "\n",
    ">>> function(1, 2, c=3, d=4)\n",
    "AssertionError\n",
    "\"\"\""
   ]
  },
  {
   "attachments": {},
   "cell_type": "markdown",
   "metadata": {},
   "source": [
    "**Задание 5. (... баллов)**\n",
    "\n",
    "Реализуйте декоратор `precompile`. Он принимает на вход функцию-настройку и ее аргументы. Обернутый объект перед собственным запуском начинает исполнять функцию-настройку с переданными аргументами. Аналогичным образом реализуйте декоратор `postcompile`, который запускает функцию-настройку по окончании исполнения основной функции. Если декораторам ничего не было передано в качестве аргументов, то дополнительные запуски не требуются."
   ]
  },
  {
   "cell_type": "code",
   "execution_count": null,
   "metadata": {},
   "outputs": [],
   "source": [
    "\"\"\"\n",
    "@precompile(print, \"Before\")\n",
    "@postcompile(print, \"After\")\n",
    "def function() -> None:\n",
    "    print(\"Function\")\n",
    "\n",
    "\n",
    ">>> function()\n",
    "Before\n",
    "Function\n",
    "After\n",
    "\"\"\""
   ]
  },
  {
   "cell_type": "code",
   "execution_count": null,
   "metadata": {},
   "outputs": [],
   "source": [
    "\"\"\"\n",
    "@precompile\n",
    "def function() -> None:\n",
    "    print(\"Function\")\n",
    "\n",
    "\n",
    ">>> function()\n",
    "Function\n",
    "\"\"\""
   ]
  },
  {
   "attachments": {},
   "cell_type": "markdown",
   "metadata": {},
   "source": [
    "**Задание 6. (... баллов)**\n",
    "\n",
    "Реализуйте декоратор `timetest`, который измеряет среднее время работы функции. Опционально `timetest` может принимать целое число, которое отвечает за количество запусков функции. Значение по умолчанию - `50` тестов. Формат сообщения - произвольный, но понятный для внешнего пользователя."
   ]
  },
  {
   "cell_type": "code",
   "execution_count": null,
   "metadata": {},
   "outputs": [],
   "source": [
    "\"\"\"\n",
    "@timetest\n",
    "def function(...) -> ...:\n",
    "    ...\n",
    "\n",
    "\n",
    ">>> function(...)\n",
    "[timetest] Average: ... sec | Attemps: 50\n",
    "\"\"\""
   ]
  },
  {
   "cell_type": "code",
   "execution_count": null,
   "metadata": {},
   "outputs": [],
   "source": [
    "\"\"\"\n",
    "@timetest(n=277)\n",
    "def function(...) -> ...:\n",
    "    ...\n",
    "\n",
    "\n",
    ">>> function(...)\n",
    "[timetest] Average: ... sec | Attemps: 277\n",
    "\"\"\""
   ]
  },
  {
   "attachments": {},
   "cell_type": "markdown",
   "metadata": {},
   "source": [
    "**Задание 7. (... баллов)**\n",
    "\n",
    "Реализуйте декоратор `rickroll`, который принимает параметр `success`, отвечающий за вероятность успеха, и с вероятнностью `success` запускает функцию. В противном случае необходимо вернуть строку `\"Never Gonna Give You Up!\"` без запуска функции. По умолчанию `success` равен `0.5`. Если `success` не относится к диапазону от `0` до `1`, то вызовите исключение `ValueError` с понятным для внешнего пользователя сообщением."
   ]
  },
  {
   "cell_type": "code",
   "execution_count": null,
   "metadata": {},
   "outputs": [],
   "source": [
    "\"\"\"\n",
    "@rickroll\n",
    "def function(...) -> ...:\n",
    "    ...\n",
    "\n",
    "\n",
    ">>> function(...)\n",
    "Never Gonna Give You Up!  # Possible Output\n",
    "\"\"\""
   ]
  },
  {
   "cell_type": "code",
   "execution_count": null,
   "metadata": {},
   "outputs": [],
   "source": [
    "\"\"\"\n",
    "@rickroll(success=1.0)\n",
    "def function(...) -> ...:\n",
    "    ...\n",
    "\n",
    "\n",
    ">>> function(...)\n",
    "Never Gonna Give You Up!\n",
    "\"\"\""
   ]
  },
  {
   "cell_type": "code",
   "execution_count": null,
   "metadata": {},
   "outputs": [],
   "source": [
    "\"\"\"\n",
    "@rickroll(success=42)\n",
    "def function(...) -> ...:\n",
    "    ...\n",
    "\n",
    "\n",
    ">>> function(...)\n",
    "ValueError\n",
    "\"\"\""
   ]
  },
  {
   "attachments": {},
   "cell_type": "markdown",
   "metadata": {},
   "source": [
    "**Задание 8. (... баллов)**\n",
    "\n",
    "Реализуйте представление неориентированного графа при помощи объектно-ориентированного программирования. Требования к реализации указаны ниже."
   ]
  },
  {
   "attachments": {},
   "cell_type": "markdown",
   "metadata": {},
   "source": [
    "**Вершина графа.** Является обычным целым числом. Ничего дополнительно изобретать не требуется."
   ]
  },
  {
   "attachments": {},
   "cell_type": "markdown",
   "metadata": {},
   "source": [
    "**Ребро графа.** Представляет собой неизменяемый класс-контейнер `Edge`, в котором хранятся следующие атрибуты:\n",
    "\n",
    "- `source` - Вершина, являющаяся началом ребра;\n",
    "- `target` - Вершина, являющаяся концом ребра.\n",
    "\n",
    "Полагайте, что ребро ориентированное."
   ]
  },
  {
   "attachments": {},
   "cell_type": "markdown",
   "metadata": {},
   "source": [
    "**Неориентированный граф.** Представляет собой класс `Graph`. Используйте список смежности для хранения ребер. Объект имеет следующие методы:"
   ]
  },
  {
   "attachments": {},
   "cell_type": "markdown",
   "metadata": {},
   "source": [
    "<table>\n",
    "    <tr align=\"center\">\n",
    "        <td><b>Имя метода</b></td>\n",
    "        <td><b>Асимптотическая сложность</b></td>\n",
    "        <td><b>Описание</b></td>\n",
    "    </tr>\n",
    "    <tr align=\"center\">\n",
    "        <td><b>append</b></td>\n",
    "        <td><b><code>O(1)</code></b></td>\n",
    "        <td>\n",
    "            Добавить в граф вершину или ребро.\n",
    "        </td>\n",
    "    </tr>\n",
    "    <tr align=\"center\">\n",
    "        <td><b>remove</b></td>\n",
    "        <td><b><code>O(V + E)</code></b></td>\n",
    "        <td>\n",
    "            Удалить из графа вершину с прилегающими ребрами\n",
    "            или отдельное ребро.\n",
    "        </td>\n",
    "    </tr>\n",
    "    <tr align=\"center\">\n",
    "        <td><b>clear</b></td>\n",
    "        <td><b><code>O(1)</code></b></td>\n",
    "        <td>\n",
    "            Очистить граф от всех вершин и ребер.\n",
    "        </td>\n",
    "    </tr>\n",
    "    <tr align=\"center\">\n",
    "        <td><b>is_connected</b></td>\n",
    "        <td><b><code>O(V + E)</code></b></td>\n",
    "        <td>\n",
    "            Проверить, является ли граф связным.\n",
    "        </td>\n",
    "    </tr>\n",
    "    <tr align=\"center\">\n",
    "        <td><b>has_bridges</b></td>\n",
    "        <td><b><code>O(V + E)</code></b></td>\n",
    "        <td>\n",
    "            Проверить, есть ли в графе мосты.\n",
    "        </td>\n",
    "    </tr>\n",
    "    <tr align=\"center\">\n",
    "        <td><b>has_cutpoints</b></td>\n",
    "        <td><b><code>O(V + E)</code></b></td>\n",
    "        <td>\n",
    "            Проверить, если в графе точки сочленения.\n",
    "        </td>\n",
    "    </tr>\n",
    "    <tr align=\"center\">\n",
    "        <td><b>is_reachable</b></td>\n",
    "        <td><b><code>O(V + E)</code></b></td>\n",
    "        <td>\n",
    "            Проверить, существует ли путь между двумя вершинами.\n",
    "        </td>\n",
    "    </tr>\n",
    "    <tr align=\"center\">\n",
    "        <td><b>is_tree</b></td>\n",
    "        <td><b><code>O(V + E)</code></b></td>\n",
    "        <td>\n",
    "            Проверить, является ли граф деревом.\n",
    "        </td>\n",
    "    </tr>\n",
    "    <tr align=\"center\">\n",
    "        <td><b>is_complete</b></td>\n",
    "        <td><b><code>O(V + E)</code></b></td>\n",
    "        <td>\n",
    "            Проверить, является ли граф полным.\n",
    "        </td>\n",
    "    </tr>\n",
    "    <tr align=\"center\">\n",
    "        <td><b>is_eulerian</b></td>\n",
    "        <td><b><code>O(V + E)</code></b></td>\n",
    "        <td>\n",
    "            Проверить, является ли граф эйлеровым.\n",
    "        </td>\n",
    "    </tr>\n",
    "    <tr align=\"center\">\n",
    "        <td><b>is_empty</b></td>\n",
    "        <td><b><code>O(1)</code></b></td>\n",
    "        <td>\n",
    "            Проверить, является ли граф пустым.\n",
    "        </td>\n",
    "    </tr>\n",
    "    <tr align=\"center\">\n",
    "        <td><b>has_cycle</b></td>\n",
    "        <td><b><code>O(V + E)</code></b></td>\n",
    "        <td>\n",
    "            Проверить, есть ли в графе циклы длины более двух.\n",
    "        </td>\n",
    "    </tr>\n",
    "</table>"
   ]
  },
  {
   "cell_type": "code",
   "execution_count": null,
   "metadata": {},
   "outputs": [],
   "source": [
    "\"\"\"\n",
    "Lorem ipsum dolor sit amet, consectetur adipiscing elit, sed do\n",
    "eiusmod tempor incididunt ut labore et dolore magna aliqua. Ut\n",
    "enim ad minim veniam, quis nostrud exercitation ullamco laboris\n",
    "nisi ut aliquip ex ea commodo consequat. Duis aute irure dolor\n",
    "in reprehenderit in voluptate velit esse cillum dolore eu fugiat\n",
    "nulla pariatur. Excepteur sint occaecat cupidatat non proident,\n",
    "sunt in culpa qui officia deserunt mollit anim id est laborum.\n",
    "\"\"\""
   ]
  }
 ],
 "metadata": {
  "language_info": {
   "name": "python"
  },
  "orig_nbformat": 4
 },
 "nbformat": 4,
 "nbformat_minor": 2
}
