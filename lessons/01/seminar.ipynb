{
 "cells": [
  {
   "attachments": {},
   "cell_type": "markdown",
   "metadata": {},
   "source": [
    "<div align=\"center\">\n",
    "    <a href=\"https://github.com/syubogdanov/hse-howto-python\">\n",
    "        <img src=\"https://cdn-icons-png.flaticon.com/128/1864/1864515.png\" height=\"128px\" width=\"auto\">\n",
    "    </a>\n",
    "    <h3>\n",
    "        <b>\n",
    "            Продвинутый Python\n",
    "        </b>\n",
    "    </h3>\n",
    "    <i>\n",
    "        Продвинутое ООП. Часть I\n",
    "    </i>\n",
    "</div>\n",
    "\n",
    "<br>"
   ]
  },
  {
   "attachments": {},
   "cell_type": "markdown",
   "metadata": {},
   "source": [
    "**Пример.** Реализуйте функцию, которая открывает некоторый файл конфигурации в заданном режиме записи."
   ]
  },
  {
   "cell_type": "code",
   "execution_count": null,
   "metadata": {},
   "outputs": [],
   "source": [
    "from typing import IO, Literal, TypeAlias\n",
    "\n",
    "WriteMode: TypeAlias = Literal[\"w\", \"wb\", \"a\", \"ab\"]\n",
    "\n",
    "LOGFILE: str = \"./any/path/to/file.log\"\n",
    "\n",
    "\n",
    "def fileopen(wmode: WriteMode) -> IO:\n",
    "    return open(LOGFILE, wmode)"
   ]
  },
  {
   "attachments": {},
   "cell_type": "markdown",
   "metadata": {},
   "source": [
    "**Пояснение.** Объект `typing.Literal` позволяет указать, какие значения может принимать аргумент. Обращаем Ваше внимание на то, что наличие подобной аннотации говорит о строгой принадлежности к значениям."
   ]
  },
  {
   "attachments": {},
   "cell_type": "markdown",
   "metadata": {},
   "source": [
    "**Пример.** Реализуйте функцию, которая всегда возвращает строку `\"Hello, World!\"`."
   ]
  },
  {
   "cell_type": "code",
   "execution_count": null,
   "metadata": {},
   "outputs": [],
   "source": [
    "def greet() -> Literal[\"Hello, World!\"]:\n",
    "    return \"Hello, World!\""
   ]
  },
  {
   "attachments": {},
   "cell_type": "markdown",
   "metadata": {},
   "source": [
    "**Пример.** Реализуйте функцию, которая по идентификатору гражданина ищет в медицинской базе данных его группу здоровья."
   ]
  },
  {
   "cell_type": "code",
   "execution_count": null,
   "metadata": {},
   "outputs": [],
   "source": [
    "HealthGroup: TypeAlias = Literal[\"I\", \"II\", \"III\", \"IV\", \"V\"]\n",
    "\n",
    "def get_health_group(identificator: int) -> HealthGroup:\n",
    "    ..."
   ]
  },
  {
   "attachments": {},
   "cell_type": "markdown",
   "metadata": {},
   "source": [
    "**Пример.** Добавьте идентификатору более удобное представление для внешнего пользователя."
   ]
  },
  {
   "cell_type": "code",
   "execution_count": null,
   "metadata": {},
   "outputs": [],
   "source": [
    "from typing import NewType\n",
    "\n",
    "ID: TypeAlias = NewType(\"ID\", int)\n",
    "\n",
    "def get_health_group(identificator: ID) -> HealthGroup:\n",
    "    ..."
   ]
  },
  {
   "attachments": {},
   "cell_type": "markdown",
   "metadata": {},
   "source": [
    "**Пояснение.** Использование объекта `typing.NewType` позволяет существенно улучшить читабельность и логичность кода. Возьмем пример выше. Во-первых, Вы снимаете нагрузку с целочисленного типа - теперь объект-идентификатор является практически отдельной сущностью. Это позволяет уменьшить количество логических ошибок в программе. Во-вторых, в отличие от создания отдельного класса, объект `typing.NewType` почти не влияет на производительность."
   ]
  },
  {
   "attachments": {},
   "cell_type": "markdown",
   "metadata": {},
   "source": [
    "**Замечание.** Несмотря на то, что Вам кажется, что был создан отдельный тип данных, в действительности ничего подобного не происходит. Обертка `typing.NewType` во время исполнения становится вызываемым объектом, который просто-напросто возвращает аргумент, который был передан. В частности это объясняет следующие эффекты:\n",
    "\n",
    "- `ID(42) == 42` и `ID(42) is 42` - всегда возвращают `True`;\n",
    "- Любая операция с `ID` будет возвращать целочисленный тип данных."
   ]
  },
  {
   "attachments": {},
   "cell_type": "markdown",
   "metadata": {},
   "source": [
    "**Пример.** Добавить типизацию для переменной, которая хранит класс (не экземпляр)."
   ]
  },
  {
   "cell_type": "code",
   "execution_count": 1,
   "metadata": {},
   "outputs": [],
   "source": [
    "from typing import Any, Optional, Type\n",
    "\n",
    "\n",
    "def convert(to_class: Optional[Type] = None, *args: Any) -> list[Any]:\n",
    "    arguments: list[Any] = []\n",
    "\n",
    "    for argument in args:\n",
    "        arguments.append(to_class(argument))\n",
    "\n",
    "    return arguments"
   ]
  },
  {
   "cell_type": "code",
   "execution_count": 3,
   "metadata": {},
   "outputs": [
    {
     "data": {
      "text/plain": [
       "[1, 2, 3, 4, 5]"
      ]
     },
     "execution_count": 3,
     "metadata": {},
     "output_type": "execute_result"
    }
   ],
   "source": [
    "convert(int, \"1\", \"2\", \"3\", \"4\", \"5\")"
   ]
  },
  {
   "attachments": {},
   "cell_type": "markdown",
   "metadata": {},
   "source": [
    "**Пояснение.** Аннотация `typing.Type` показывает, что объект является указателем на класс, то есть с его помощью можно создавать экземпляры. Более того, аннотация позволяет пояснить, указателем на какие классы может являться объект. Например, `typing.Type[int | str]`."
   ]
  },
  {
   "attachments": {},
   "cell_type": "markdown",
   "metadata": {},
   "source": [
    "**Упражнение.** Сравните объекты `typing.Type` и `typing.TypeAlias`. В чем их отличие?"
   ]
  },
  {
   "attachments": {},
   "cell_type": "markdown",
   "metadata": {},
   "source": [
    "**Задание.** Реализуйте декоратор `shortify`, который удаляет префикс пути из ключевого параметра `path`."
   ]
  },
  {
   "cell_type": "code",
   "execution_count": null,
   "metadata": {},
   "outputs": [],
   "source": [
    "\"\"\"\n",
    "Lorem ipsum dolor sit amet, consectetur adipiscing elit, sed do\n",
    "eiusmod tempor incididunt ut labore et dolore magna aliqua. Ut\n",
    "enim ad minim veniam, quis nostrud exercitation ullamco laboris\n",
    "nisi ut aliquip ex ea commodo consequat. Duis aute irure dolor\n",
    "in reprehenderit in voluptate velit esse cillum dolore eu fugiat\n",
    "nulla pariatur. Excepteur sint occaecat cupidatat non proident,\n",
    "sunt in culpa qui officia deserunt mollit anim id est laborum.\n",
    "\"\"\""
   ]
  },
  {
   "attachments": {},
   "cell_type": "markdown",
   "metadata": {},
   "source": [
    "**Задание.** Реализуйте декоратор `debug`, который выводит всю информацию о запускаемой функции, включая входные и выходные данные."
   ]
  },
  {
   "cell_type": "code",
   "execution_count": null,
   "metadata": {},
   "outputs": [],
   "source": [
    "\"\"\"\n",
    "Lorem ipsum dolor sit amet, consectetur adipiscing elit, sed do\n",
    "eiusmod tempor incididunt ut labore et dolore magna aliqua. Ut\n",
    "enim ad minim veniam, quis nostrud exercitation ullamco laboris\n",
    "nisi ut aliquip ex ea commodo consequat. Duis aute irure dolor\n",
    "in reprehenderit in voluptate velit esse cillum dolore eu fugiat\n",
    "nulla pariatur. Excepteur sint occaecat cupidatat non proident,\n",
    "sunt in culpa qui officia deserunt mollit anim id est laborum.\n",
    "\"\"\""
   ]
  },
  {
   "attachments": {},
   "cell_type": "markdown",
   "metadata": {},
   "source": [
    "**Задание.** Реализуйте декоратор `onlyprime`, который проверяет, что все целочисленные аргументы являются простыми числами."
   ]
  },
  {
   "cell_type": "code",
   "execution_count": null,
   "metadata": {},
   "outputs": [],
   "source": [
    "\"\"\"\n",
    "Lorem ipsum dolor sit amet, consectetur adipiscing elit, sed do\n",
    "eiusmod tempor incididunt ut labore et dolore magna aliqua. Ut\n",
    "enim ad minim veniam, quis nostrud exercitation ullamco laboris\n",
    "nisi ut aliquip ex ea commodo consequat. Duis aute irure dolor\n",
    "in reprehenderit in voluptate velit esse cillum dolore eu fugiat\n",
    "nulla pariatur. Excepteur sint occaecat cupidatat non proident,\n",
    "sunt in culpa qui officia deserunt mollit anim id est laborum.\n",
    "\"\"\""
   ]
  },
  {
   "attachments": {},
   "cell_type": "markdown",
   "metadata": {},
   "source": [
    "**Задание.** Реализуйте декоратор `morning`, который разрешает запускать функцию тогда и только тогда, когда локальное время - с 6 утра по 12 дня."
   ]
  },
  {
   "cell_type": "code",
   "execution_count": null,
   "metadata": {},
   "outputs": [],
   "source": [
    "\"\"\"\n",
    "Lorem ipsum dolor sit amet, consectetur adipiscing elit, sed do\n",
    "eiusmod tempor incididunt ut labore et dolore magna aliqua. Ut\n",
    "enim ad minim veniam, quis nostrud exercitation ullamco laboris\n",
    "nisi ut aliquip ex ea commodo consequat. Duis aute irure dolor\n",
    "in reprehenderit in voluptate velit esse cillum dolore eu fugiat\n",
    "nulla pariatur. Excepteur sint occaecat cupidatat non proident,\n",
    "sunt in culpa qui officia deserunt mollit anim id est laborum.\n",
    "\"\"\""
   ]
  },
  {
   "attachments": {},
   "cell_type": "markdown",
   "metadata": {},
   "source": [
    "**Задание.** Реализуйте декоратор `onlytrue`, который удаляет из вызова функции те аргументы, которые при преобразовании к булеву типу данных обращаются в ложь. Полагайте, что неприводимые типы данных относятся ко лжи."
   ]
  },
  {
   "cell_type": "code",
   "execution_count": null,
   "metadata": {},
   "outputs": [],
   "source": [
    "\"\"\"\n",
    "Lorem ipsum dolor sit amet, consectetur adipiscing elit, sed do\n",
    "eiusmod tempor incididunt ut labore et dolore magna aliqua. Ut\n",
    "enim ad minim veniam, quis nostrud exercitation ullamco laboris\n",
    "nisi ut aliquip ex ea commodo consequat. Duis aute irure dolor\n",
    "in reprehenderit in voluptate velit esse cillum dolore eu fugiat\n",
    "nulla pariatur. Excepteur sint occaecat cupidatat non proident,\n",
    "sunt in culpa qui officia deserunt mollit anim id est laborum.\n",
    "\"\"\""
   ]
  },
  {
   "attachments": {},
   "cell_type": "markdown",
   "metadata": {},
   "source": [
    "**Задание.** Реализуйте декоратор `html`, который обрамляет возвращаемую из функции строку в некотрый тег, который был передан пользователем. Предполагайте, что пустой вызов ничего не делает. Если выходной аргумент не является строкой, то ничего делать не нужно."
   ]
  },
  {
   "cell_type": "code",
   "execution_count": null,
   "metadata": {},
   "outputs": [],
   "source": [
    "\"\"\"\n",
    "Lorem ipsum dolor sit amet, consectetur adipiscing elit, sed do\n",
    "eiusmod tempor incididunt ut labore et dolore magna aliqua. Ut\n",
    "enim ad minim veniam, quis nostrud exercitation ullamco laboris\n",
    "nisi ut aliquip ex ea commodo consequat. Duis aute irure dolor\n",
    "in reprehenderit in voluptate velit esse cillum dolore eu fugiat\n",
    "nulla pariatur. Excepteur sint occaecat cupidatat non proident,\n",
    "sunt in culpa qui officia deserunt mollit anim id est laborum.\n",
    "\"\"\""
   ]
  },
  {
   "attachments": {},
   "cell_type": "markdown",
   "metadata": {},
   "source": [
    "**Задание.** Реализуйте декоратор `mean`, который возвращает среднее значение функции после `n` вызовов. Предполагайте, что возвращаемый объект может быть использован для вычисления среднего. Если параметр `n` не указан, то он равен единице."
   ]
  },
  {
   "cell_type": "code",
   "execution_count": null,
   "metadata": {},
   "outputs": [],
   "source": [
    "\"\"\"\n",
    "Lorem ipsum dolor sit amet, consectetur adipiscing elit, sed do\n",
    "eiusmod tempor incididunt ut labore et dolore magna aliqua. Ut\n",
    "enim ad minim veniam, quis nostrud exercitation ullamco laboris\n",
    "nisi ut aliquip ex ea commodo consequat. Duis aute irure dolor\n",
    "in reprehenderit in voluptate velit esse cillum dolore eu fugiat\n",
    "nulla pariatur. Excepteur sint occaecat cupidatat non proident,\n",
    "sunt in culpa qui officia deserunt mollit anim id est laborum.\n",
    "\"\"\""
   ]
  },
  {
   "attachments": {},
   "cell_type": "markdown",
   "metadata": {},
   "source": [
    "**Задание.** Реализуйте структуру данных - стек. Решение оформите в виде класса `Stack`. Используйте декораторы `@property` и `@___.setter`. Прочие требования к реализации указаны ниже."
   ]
  },
  {
   "attachments": {},
   "cell_type": "markdown",
   "metadata": {},
   "source": [
    "<table>\n",
    "    <tr align=\"center\">\n",
    "        <td><b>Атрибут</b></td>\n",
    "        <td><b>Асимптотическая сложность</b></td>\n",
    "        <td><b>Описание</b></td>\n",
    "    </tr>\n",
    "    <tr align=\"center\">\n",
    "        <td><b><code>head</code></b></td>\n",
    "        <td><b>O(1)</b></td>\n",
    "        <td>Получить значение вершины стека. Можно менять извне.</td>\n",
    "    </tr>\n",
    "    <tr align=\"center\">\n",
    "        <td><b><code>len</code></b></td>\n",
    "        <td><b>O(1)</b></td>\n",
    "        <td>Получить количество элементов в стеке. Нельзя менять извне.</td>\n",
    "    </tr>\n",
    "</table>"
   ]
  },
  {
   "attachments": {},
   "cell_type": "markdown",
   "metadata": {},
   "source": [
    "<table>\n",
    "    <tr align=\"center\">\n",
    "        <td><b>Метод</b></td>\n",
    "        <td><b>Асимптотическая сложность</b></td>\n",
    "        <td><b>Описание</b></td>\n",
    "    </tr>\n",
    "    <tr align=\"center\">\n",
    "        <td><b><code>append</code></b></td>\n",
    "        <td><b>O(1)</b></td>\n",
    "        <td>Добавить значение на вершину стека.</td>\n",
    "    </tr>\n",
    "    <tr align=\"center\">\n",
    "        <td><b><code>get</code></b></td>\n",
    "        <td><b>O(N)</b></td>\n",
    "        <td>Получить <code>i</code>-ое значение стека.</td>\n",
    "    </tr>\n",
    "    <tr align=\"center\">\n",
    "        <td><b><code>set</code></b></td>\n",
    "        <td><b>O(N)</b></td>\n",
    "        <td>Задать новое <code>i</code>-ое значение стека.</td>\n",
    "    </tr>\n",
    "    <tr align=\"center\">\n",
    "        <td><b><code>pop</code></b></td>\n",
    "        <td><b>O(N)</b></td>\n",
    "        <td>\n",
    "            Удалить <code>i</code>-ое значение со стека и вернуть его.\n",
    "            По умолчанию - удаляет вершину.\n",
    "        </td>\n",
    "    </tr>\n",
    "    <tr align=\"center\">\n",
    "        <td><b><code>has</code></b></td>\n",
    "        <td><b>O(N)</b></td>\n",
    "        <td>Проверить, есть ли равное значение в стеке.</td>\n",
    "    </tr>\n",
    "    <tr align=\"center\">\n",
    "        <td><b><code>clear</code></b></td>\n",
    "        <td><b>O(N)</b></td>\n",
    "        <td>Очистить стек.</td>\n",
    "    </tr>\n",
    "</table>"
   ]
  },
  {
   "cell_type": "code",
   "execution_count": null,
   "metadata": {},
   "outputs": [],
   "source": [
    "\"\"\"\n",
    "Lorem ipsum dolor sit amet, consectetur adipiscing elit, sed do\n",
    "eiusmod tempor incididunt ut labore et dolore magna aliqua. Ut\n",
    "enim ad minim veniam, quis nostrud exercitation ullamco laboris\n",
    "nisi ut aliquip ex ea commodo consequat. Duis aute irure dolor\n",
    "in reprehenderit in voluptate velit esse cillum dolore eu fugiat\n",
    "nulla pariatur. Excepteur sint occaecat cupidatat non proident,\n",
    "sunt in culpa qui officia deserunt mollit anim id est laborum.\n",
    "\"\"\""
   ]
  },
  {
   "attachments": {},
   "cell_type": "markdown",
   "metadata": {},
   "source": [
    "**Задание.** Реализуйте структуру данных - очередь. Решение оформите в виде класса `Queue`. Используйте декораторы `@property` и `@___.setter`. Прочие требования к реализации указаны ниже."
   ]
  },
  {
   "attachments": {},
   "cell_type": "markdown",
   "metadata": {},
   "source": [
    "<table>\n",
    "    <tr align=\"center\">\n",
    "        <td><b>Атрибут</b></td>\n",
    "        <td><b>Асимптотическая сложность</b></td>\n",
    "        <td><b>Описание</b></td>\n",
    "    </tr>\n",
    "    <tr align=\"center\">\n",
    "        <td><b><code>front</code></b></td>\n",
    "        <td><b>O(1)</b></td>\n",
    "        <td>Получить значение первого элемента очереди. Можно менять извне.</td>\n",
    "    </tr>\n",
    "    <tr align=\"center\">\n",
    "        <td><b><code>back</code></b></td>\n",
    "        <td><b>O(1)</b></td>\n",
    "        <td>Получить значение последнего элемента очереди. Можно менять извне.</td>\n",
    "    </tr>\n",
    "    <tr align=\"center\">\n",
    "        <td><b><code>len</code></b></td>\n",
    "        <td><b>O(1)</b></td>\n",
    "        <td>Получить количество элементов в очереди. Нельзя менять извне.</td>\n",
    "    </tr>\n",
    "</table>"
   ]
  },
  {
   "attachments": {},
   "cell_type": "markdown",
   "metadata": {},
   "source": [
    "<table>\n",
    "    <tr align=\"center\">\n",
    "        <td><b>Метод</b></td>\n",
    "        <td><b>Асимптотическая сложность</b></td>\n",
    "        <td><b>Описание</b></td>\n",
    "    </tr>\n",
    "    <tr align=\"center\">\n",
    "        <td><b><code>push</code></b></td>\n",
    "        <td><b>O(1)</b></td>\n",
    "        <td>Добавить значение в очередь.</td>\n",
    "    </tr>\n",
    "    <tr align=\"center\">\n",
    "        <td><b><code>get</code></b></td>\n",
    "        <td><b>O(N)</b></td>\n",
    "        <td>Получить <code>i</code>-ое значение очереди.</td>\n",
    "    </tr>\n",
    "    <tr align=\"center\">\n",
    "        <td><b><code>set</code></b></td>\n",
    "        <td><b>O(N)</b></td>\n",
    "        <td>Задать новое <code>i</code>-ое значение очереди.</td>\n",
    "    </tr>\n",
    "    <tr align=\"center\">\n",
    "        <td><b><code>pop</code></b></td>\n",
    "        <td><b>O(N)</b></td>\n",
    "        <td>\n",
    "            Удалить <code>i</code>-ое значение с очереди и вернуть его.\n",
    "            По умолчанию - удаляет первый элемент.\n",
    "        </td>\n",
    "    </tr>\n",
    "    <tr align=\"center\">\n",
    "        <td><b><code>has</code></b></td>\n",
    "        <td><b>O(N)</b></td>\n",
    "        <td>Проверить, есть ли равное значение в очереди.</td>\n",
    "    </tr>\n",
    "    <tr align=\"center\">\n",
    "        <td><b><code>clear</code></b></td>\n",
    "        <td><b>O(N)</b></td>\n",
    "        <td>Очистить очередь.</td>\n",
    "    </tr>\n",
    "    <tr align=\"center\">\n",
    "        <td><b><code>reverse</code></b></td>\n",
    "        <td><b>O(1)</b></td>\n",
    "        <td>Развернуть очередь.</td>\n",
    "    </tr>\n",
    "</table>"
   ]
  },
  {
   "attachments": {},
   "cell_type": "markdown",
   "metadata": {},
   "source": [
    "**Замечание.** Обратите внимание на операцию разворота очереди. Подумайте, как реализовать очередь так, чтобы можно было развернуть последовательность за `O(1)`."
   ]
  },
  {
   "cell_type": "code",
   "execution_count": null,
   "metadata": {},
   "outputs": [],
   "source": [
    "\"\"\"\n",
    "Lorem ipsum dolor sit amet, consectetur adipiscing elit, sed do\n",
    "eiusmod tempor incididunt ut labore et dolore magna aliqua. Ut\n",
    "enim ad minim veniam, quis nostrud exercitation ullamco laboris\n",
    "nisi ut aliquip ex ea commodo consequat. Duis aute irure dolor\n",
    "in reprehenderit in voluptate velit esse cillum dolore eu fugiat\n",
    "nulla pariatur. Excepteur sint occaecat cupidatat non proident,\n",
    "sunt in culpa qui officia deserunt mollit anim id est laborum.\n",
    "\"\"\""
   ]
  }
 ],
 "metadata": {
  "kernelspec": {
   "display_name": "Python 3",
   "language": "python",
   "name": "python3"
  },
  "language_info": {
   "codemirror_mode": {
    "name": "ipython",
    "version": 3
   },
   "file_extension": ".py",
   "mimetype": "text/x-python",
   "name": "python",
   "nbconvert_exporter": "python",
   "pygments_lexer": "ipython3",
   "version": "3.11.0"
  },
  "orig_nbformat": 4
 },
 "nbformat": 4,
 "nbformat_minor": 2
}
