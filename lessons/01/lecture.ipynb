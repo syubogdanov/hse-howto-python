{
 "cells": [
  {
   "attachments": {},
   "cell_type": "markdown",
   "metadata": {},
   "source": [
    "<div align=\"center\">\n",
    "    <a href=\"https://github.com/syubogdanov/hse-howto-python\">\n",
    "        <img src=\"https://cdn-icons-png.flaticon.com/128/1864/1864515.png\" height=\"128px\" width=\"auto\">\n",
    "    </a>\n",
    "    <h3>\n",
    "        <b>\n",
    "            Продвинутый Python\n",
    "        </b>\n",
    "    </h3>\n",
    "    <i>\n",
    "        Продвинутое ООП. Часть I\n",
    "    </i>\n",
    "</div>\n",
    "\n",
    "<br>"
   ]
  },
  {
   "attachments": {},
   "cell_type": "markdown",
   "metadata": {},
   "source": [
    "**Цель занятия.** Введение в продвинутое объектно-ориентированное программирование на языке Python: аннотация типов, декораторы, работа с памятью и инкапсуляция."
   ]
  },
  {
   "attachments": {},
   "cell_type": "markdown",
   "metadata": {},
   "source": [
    "**Пример.** Реализовать функцию, которая вычисляет факториал целого числа `n`."
   ]
  },
  {
   "cell_type": "code",
   "execution_count": 1,
   "metadata": {},
   "outputs": [],
   "source": [
    "def factorial(n: int) -> int:\n",
    "    if n == 0:\n",
    "        return 1\n",
    "\n",
    "    return n * factorial(n - 1)"
   ]
  },
  {
   "attachments": {},
   "cell_type": "markdown",
   "metadata": {},
   "source": [
    "**Пояснение.** Пример выше иллюстрирует аннотацию функций в Python. Аннотация `n: int` показывает, что переменная `n` должна относиться к типу данных `int`. Возвращаемый тип данных указан при помощи `-> int`, то есть функция по окончании вернет целое число."
   ]
  },
  {
   "attachments": {},
   "cell_type": "markdown",
   "metadata": {},
   "source": [
    "**Замечание.** Аннотация типов в Python не добавляет автоматическую валидацию типов - она используется лишь для того, чтобы дать разработчику подсказку о том, как правильно пользоваться функцией. Задача проверки аргументов на корректность остается за пользователем."
   ]
  },
  {
   "attachments": {},
   "cell_type": "markdown",
   "metadata": {},
   "source": [
    "**Пример.** Реализовать функцию, вычисляющую сумму всех целых чисел на отрезке от `a` до `b`."
   ]
  },
  {
   "cell_type": "code",
   "execution_count": 2,
   "metadata": {},
   "outputs": [],
   "source": [
    "def segmentsum(a: int, b: int) -> int:\n",
    "    sum: int = 0\n",
    "    for value in range(a, b + 1):\n",
    "        sum += 1\n",
    "    return sum"
   ]
  },
  {
   "attachments": {},
   "cell_type": "markdown",
   "metadata": {},
   "source": [
    "**Замечание.** Аналогичным образом можно добавить аннотацию типов для переменных, находящихся в некотором пространстве имен."
   ]
  },
  {
   "attachments": {},
   "cell_type": "markdown",
   "metadata": {},
   "source": [
    "**Пример.** Реализовать функцию, которая будет печатать на стандартный поток вывода сообщение вида `\"Hello, {value}\"`."
   ]
  },
  {
   "cell_type": "code",
   "execution_count": 3,
   "metadata": {},
   "outputs": [],
   "source": [
    "def greet(value: str) -> None:\n",
    "    print(f\"Hello, {value}\")"
   ]
  },
  {
   "attachments": {},
   "cell_type": "markdown",
   "metadata": {},
   "source": [
    "**Замечание.** Обратите внимание, что выходной тип данных - `None`. Дело в том, что в Python не существует void-функций - всякая возвращает некоторое значение. Если в теле функции нет явно прописанного `return`, то интерпретатор сам подставит выражение `return None`. По этой причине выходное значение аннотируют как `None`."
   ]
  },
  {
   "attachments": {},
   "cell_type": "markdown",
   "metadata": {},
   "source": [
    "**Пример.** Реализовать математическую функцию `sgn`."
   ]
  },
  {
   "cell_type": "code",
   "execution_count": 4,
   "metadata": {},
   "outputs": [],
   "source": [
    "def sign(value: float) -> int:\n",
    "    if value < 0:\n",
    "        return -1\n",
    "    elif value == 0:\n",
    "        return 0\n",
    "    else:\n",
    "        return 1"
   ]
  },
  {
   "attachments": {},
   "cell_type": "markdown",
   "metadata": {},
   "source": [
    "**Пример.** Реализовать функцию, которая ищет среднее минимума и максимума в списке действительных чисел."
   ]
  },
  {
   "cell_type": "code",
   "execution_count": 5,
   "metadata": {},
   "outputs": [],
   "source": [
    "def minmaxsum(values: list[float, ...]) -> float:\n",
    "    minimum: float = values[0]\n",
    "    maximum: float = values[0]\n",
    "\n",
    "    for value in values:\n",
    "        if value < minimum:\n",
    "            minimum = value\n",
    "\n",
    "        if value > maximum:\n",
    "            maximum = value\n",
    "\n",
    "    return (minimum + maximum) / 2"
   ]
  },
  {
   "attachments": {},
   "cell_type": "markdown",
   "metadata": {},
   "source": [
    "**Пояснение.** Аннотация `list[float, ...]` значит, что объект является списком (`list`), в котором хранятся вещественные числа (`float`) и в котором неизвестное число элементов (`...`)."
   ]
  },
  {
   "attachments": {},
   "cell_type": "markdown",
   "metadata": {},
   "source": [
    "**Замечание.** Если бы в примере выше не был указан эллипсис (`...`), то `list[float]` было бы распознано как список, состоящий из одного элемента, чей тип - это `float`. Обязательно используйте эллипсис для указания неизвестности числа элементов."
   ]
  },
  {
   "attachments": {},
   "cell_type": "markdown",
   "metadata": {},
   "source": [
    "**Замечание.** Объекты, отвечающие свойствам коллекций или контейнеров, поддерживают возможность указания хранящегося типа данных. Добавить такое уточнение можно при помощи квадратных скобок, как в примере выше."
   ]
  },
  {
   "attachments": {},
   "cell_type": "markdown",
   "metadata": {},
   "source": [
    "**Примечание.** Для работы с типизацией данных зачастую используют модуль `typing`."
   ]
  },
  {
   "attachments": {},
   "cell_type": "markdown",
   "metadata": {},
   "source": [
    "**Замечание.** В модуле `typing` есть такие объекты как `typing.List`, `typing.Set` и прочие. На данный момент они являются устаревшими. Вместо них теперь используется `list`, `set` и так далее соответственно."
   ]
  },
  {
   "attachments": {},
   "cell_type": "markdown",
   "metadata": {},
   "source": [
    "**Пример.** Реализовать функцию, считающую количество четных чисел в множестве, состоящем из произвольных элементов."
   ]
  },
  {
   "cell_type": "code",
   "execution_count": 6,
   "metadata": {},
   "outputs": [],
   "source": [
    "from typing import Any\n",
    "\n",
    "def mycount(values: set[Any, ...]) -> int:\n",
    "    count: int = 0\n",
    "    for value in values:\n",
    "\n",
    "        if not isinstance(value, int):\n",
    "            continue\n",
    "\n",
    "        if value % 2 == 0:\n",
    "            count += 1\n",
    "\n",
    "    return count"
   ]
  },
  {
   "attachments": {},
   "cell_type": "markdown",
   "metadata": {},
   "source": [
    "**Пояснение.** Объект `typing.Any` позволяет типизировать аргумент, у которого не известен тип данных. Иначе говоря, при помощи `typing.Any` аннотируют произвольное значение."
   ]
  },
  {
   "attachments": {},
   "cell_type": "markdown",
   "metadata": {},
   "source": [
    "**Пример.** Реализовать функцию, которая в кортеже, состоящем из целых чисел и строк, считает абсолютную разницу между количеством строк и целых чисел."
   ]
  },
  {
   "cell_type": "code",
   "execution_count": 7,
   "metadata": {},
   "outputs": [],
   "source": [
    "def mydifference(values: tuple[int | str, ...]) -> int:\n",
    "    str_count: int = 0\n",
    "    int_count: int = 0\n",
    "\n",
    "    for value in values:\n",
    "        if isinstance(value, str):\n",
    "            str_count += 1\n",
    "\n",
    "        if isinstance(value, int):\n",
    "            int_count += 1\n",
    "\n",
    "    return abs(str_count - int_count)"
   ]
  },
  {
   "attachments": {},
   "cell_type": "markdown",
   "metadata": {},
   "source": [
    "**Пояснение.** Если допустимо, что аргумент может относиться к одному из двух типов данных, тогда используют аннотацию при помощи специального символа `|`."
   ]
  },
  {
   "attachments": {},
   "cell_type": "markdown",
   "metadata": {},
   "source": [
    "**Пример.** Реализовать функцию, возводяющую некоторое число `n` в целочисленную положительную степень `p`."
   ]
  },
  {
   "cell_type": "code",
   "execution_count": 8,
   "metadata": {},
   "outputs": [],
   "source": [
    "def pow(n: int | float, p: int) -> int | float:\n",
    "    if p == 0:\n",
    "        return 1\n",
    "    elif p % 2 == 0:\n",
    "        return pow(n * n, p // 2)\n",
    "    else:\n",
    "        return n * pow(n, p - 1)"
   ]
  },
  {
   "attachments": {},
   "cell_type": "markdown",
   "metadata": {},
   "source": [
    "**Пример.** Реализовать функцию, проверящую наличие строк в списке, который может содержать любой из следующих типов данных: целое число, булево значение, строка или набор байтов."
   ]
  },
  {
   "cell_type": "code",
   "execution_count": 9,
   "metadata": {},
   "outputs": [],
   "source": [
    "from typing import Union\n",
    "\n",
    "def mycheck(values: list[Union[int, bool, str, bytes], ...]) -> bool:\n",
    "    for value in values:\n",
    "        if isinstance(value, str):\n",
    "            return True\n",
    "    return False"
   ]
  },
  {
   "attachments": {},
   "cell_type": "markdown",
   "metadata": {},
   "source": [
    "**Пояснение.** Объект `typing.Union` позволяет перечислить допустимые типы данных. Рекомендуется применять в тех случаях, когда необходимо перечислить хотя бы три типа. Для двух элементов - используйте `|`."
   ]
  },
  {
   "attachments": {},
   "cell_type": "markdown",
   "metadata": {},
   "source": [
    "**Замечание.** Обратите внимание на следующее. Объект, имеющий аннотацию List[int, bool, str], и объект, имеющий аннотацию List[Union[int, bool, str]], - это разные сущности. В первом случае - список, состоящий из трех элементов с типами данных `int`, `bool` и `str` соответственно. Во втором случае - список, состоящий из одного элемента, у которого может быть любой из типов `int`, `bool` или `str`."
   ]
  },
  {
   "attachments": {},
   "cell_type": "markdown",
   "metadata": {},
   "source": [
    "**Замечание.** Если одним из типов данных, участвующих в аннотации, является `None`, то принято использовать объект `typing.Optional`. В примерах ниже указаны равносильные аннотации типов:\n",
    "\n",
    "- `T | None` и `typing.Optional[T]`;\n",
    "- `Union[T1, T2, None]` и `Optional[T1 | T2]`;\n",
    "- `Union[T1, T2, T3, None]` и `Optional[Union[T1, T2, T2]]`."
   ]
  },
  {
   "attachments": {},
   "cell_type": "markdown",
   "metadata": {},
   "source": [
    "**Пример.**  Реализовать функцию, проверяющую наличие целых чисел в словаре. Поиск осуществлять как по ключам, так и по значениям. Возможные типы данных:\n",
    "\n",
    "- Ключ: целое число, строка, булево значение;\n",
    "- Значение по ключу: действительное число, список строк, `None`."
   ]
  },
  {
   "cell_type": "code",
   "execution_count": 10,
   "metadata": {},
   "outputs": [],
   "source": [
    "from typing import Optional\n",
    "\n",
    "def mysearch(mydict: dict[Union[int, str, bool], Optional[float | list[str]]]) -> bool:\n",
    "    for key, value in mydict.items():\n",
    "\n",
    "        if isinstance(key, int):\n",
    "            return True\n",
    "\n",
    "        if isinstance(value, int):\n",
    "            return True\n",
    "\n",
    "    return False"
   ]
  },
  {
   "attachments": {},
   "cell_type": "markdown",
   "metadata": {},
   "source": [
    "**Пояснение.** Аннотация словарей состоит из двух частей: первая - ключ, вторая - значение по ключу. Параметры разделяет запятая."
   ]
  },
  {
   "attachments": {},
   "cell_type": "markdown",
   "metadata": {},
   "source": [
    "**Замечание.** Ввиду того, что аннотация может быть достаточно громоздкой, как в примере выше, принято создавать промежуточные аннотации."
   ]
  },
  {
   "cell_type": "code",
   "execution_count": 11,
   "metadata": {},
   "outputs": [],
   "source": [
    "from typing import TypeAlias\n",
    "\n",
    "KeyType: TypeAlias = Union[int, str, bool]\n",
    "ValueType: TypeAlias = Optional[float | list[str]]\n",
    "\n",
    "\n",
    "def mysearch(mydict: KeyType, ValueType) -> bool:\n",
    "    for key, value in mydict.items():\n",
    "\n",
    "        if isinstance():\n",
    "            return True\n",
    "\n",
    "        if isinstance():\n",
    "            return True\n",
    "\n",
    "    return False"
   ]
  },
  {
   "attachments": {},
   "cell_type": "markdown",
   "metadata": {},
   "source": [
    "**Пояснение.** Объект `typing.TypeAlias` предназначен для аннотации объектов, являющихся аннотацией."
   ]
  },
  {
   "attachments": {},
   "cell_type": "markdown",
   "metadata": {},
   "source": [
    "**Пример.** Реализуйте функцию, которая принимает на вход произвольное число аргументов и печатает значения каждого из них."
   ]
  },
  {
   "cell_type": "code",
   "execution_count": 12,
   "metadata": {},
   "outputs": [],
   "source": [
    "def argprint(*args: Any, **kwargs: Any) -> None:\n",
    "    for value in args:\n",
    "        print(\"args:\", value)\n",
    "\n",
    "    for key, value in kwargs.items():\n",
    "        print(\"kwargs:\", key, \"->\", value)"
   ]
  },
  {
   "attachments": {},
   "cell_type": "markdown",
   "metadata": {},
   "source": [
    "**Пояснение.** Аннотация позиционных (`*args`) и ключевых (`**kwargs`) аргументов совпадает с аннотацией одиночного элемента. Например, если бы `*args` состояли только из целых чисел, то была бы использована аннотация `*args: int`."
   ]
  },
  {
   "attachments": {},
   "cell_type": "markdown",
   "metadata": {},
   "source": [
    "**Упражнение.** Вспомните, зачем нужны `*args` и `**kwargs`. Чем они отличаются друг от друга? Как ими пользоваться? Что будет, если использовать другое имя переменной вместо `*args` или `**kwargs`?"
   ]
  },
  {
   "attachments": {},
   "cell_type": "markdown",
   "metadata": {},
   "source": [
    "**Пример.** Реализуйте функцию, которая принимает произвольную функцию вместе с аргументами, а затем запускает ее, передав соответствующие параметры. Верните результат работы переданной функции. Перед запуском выведите имя функции вместе с переданными аргументами."
   ]
  },
  {
   "cell_type": "code",
   "execution_count": 13,
   "metadata": {},
   "outputs": [],
   "source": [
    "from typing import Callable\n",
    "\n",
    "def logrun(function: Callable[..., Any], *args: Any, **kwargs: Any) -> Any:\n",
    "    print(\"function:\", function)\n",
    "    argprint(*args, **kwargs)\n",
    "    return function(*args, **kwargs)"
   ]
  },
  {
   "attachments": {},
   "cell_type": "markdown",
   "metadata": {},
   "source": [
    "**Пояснение.** Объект `typing.Callable` отвечает за типизацию вызываемых объектов. Подобно словарю, аннотация состоит из двух частей - аргументы и выходное значение. До запятой пишут список аргументов (если заранее известна сигнатура функции) или эллипсис (если о входных аргументах функции ничего не известно). После запятой - выходное значение."
   ]
  },
  {
   "attachments": {},
   "cell_type": "markdown",
   "metadata": {},
   "source": [
    "**Пример.** Напишите функцию, которая принимает:\n",
    "\n",
    "- Границы отрезка;\n",
    "- Функцию-обработчик вида `foo(int) -> float`;\n",
    "\n",
    "И затем печатает на стандартный поток вывода результат обработчика в каждой точке отрезка."
   ]
  },
  {
   "cell_type": "code",
   "execution_count": 14,
   "metadata": {},
   "outputs": [],
   "source": [
    "HandlerType: TypeAlias = Callable[[int], float]\n",
    "\n",
    "def apply(a: int, b: int, handler: HandlerType) -> None:\n",
    "    for value in range(a, b + 1):\n",
    "        print(handler(value))"
   ]
  },
  {
   "attachments": {},
   "cell_type": "markdown",
   "metadata": {},
   "source": [
    "**Замечание.** Помните о необходимости оборачивать входные параметры функции в список. В частности, в примере выше: не `int`, а `[int]`."
   ]
  },
  {
   "attachments": {},
   "cell_type": "markdown",
   "metadata": {},
   "source": [
    "**Упражнение.** Подумайте, как обозначить, что функция может принимать неограниченное число аргументов?"
   ]
  },
  {
   "attachments": {},
   "cell_type": "markdown",
   "metadata": {},
   "source": [
    "**Пример.** Реализуйте функцию, которая принимает на вход функцию-компаратор, сравнивающую целые числа на \"меньше\", и возвращает наименьшее число на отрезке от `1` до `1_000_000`. По умолчанию установите обычный оператор сравнения."
   ]
  },
  {
   "cell_type": "code",
   "execution_count": 15,
   "metadata": {},
   "outputs": [],
   "source": [
    "ComparatorType: TypeAlias = Callable[[int, int], bool]\n",
    "\n",
    "def mymin(comparator: Optional[ComparatorType] = None) -> int:\n",
    "    if comparator is None:\n",
    "        comparator = lambda lh, rh: lh < rh\n",
    "\n",
    "    minimum: int = 1\n",
    "    for value in range(1, 1_000_000 + 1):\n",
    "\n",
    "        if comparator(value, minimum):\n",
    "            minimum = value\n",
    "\n",
    "    return value"
   ]
  },
  {
   "attachments": {},
   "cell_type": "markdown",
   "metadata": {},
   "source": [
    "**Определение.** Декоратор - это произвольный вызываемый объект, который может модифицировать поведение функции или класса, не меняя написанный код."
   ]
  },
  {
   "attachments": {},
   "cell_type": "markdown",
   "metadata": {},
   "source": [
    "**Пример.** Реализовать декоратор, который запускает произвольную функцию, предварительно напечатав на стандартный поток вывода время ее запуска."
   ]
  },
  {
   "cell_type": "code",
   "execution_count": 16,
   "metadata": {},
   "outputs": [],
   "source": [
    "from time import ctime\n",
    "\n",
    "AnyFunctionType: TypeAlias = Callable[..., Any]\n",
    "\n",
    "def runtime(function: AnyFunctionType) -> AnyFunctionType:\n",
    "\n",
    "    def wrapper(*args: Any, **kwargs: Any) -> Any:\n",
    "        print(f\"[?] {ctime()}\")\n",
    "        return function(*args, **kwargs)\n",
    "\n",
    "    return wrapper"
   ]
  },
  {
   "cell_type": "code",
   "execution_count": 17,
   "metadata": {},
   "outputs": [
    {
     "name": "stdout",
     "output_type": "stream",
     "text": [
      "[?] Fri May 12 16:48:51 2023\n",
      "Hello, World!\n"
     ]
    }
   ],
   "source": [
    "function = runtime(print)\n",
    "function(\"Hello, World!\")"
   ]
  },
  {
   "attachments": {},
   "cell_type": "markdown",
   "metadata": {},
   "source": [
    "**Пояснение.** Функция `runtime` является декоратором: она принимает на вход произвольную функцию, а возвращает ее модифицированную (обернутую) версию.\n",
    "\n",
    "Что происходит внутри `runtime`:\n",
    "- По определению декоратор `runtime` должен каким-то образом видоизменить входную функцию `function` и затем вернуть ее модифицированную версию;\n",
    "- Поскольку `runtime` возвращает `wrapper`, то получается, что `wrapper` - это и есть модифицированная версия исходной функции. Так и есть;\n",
    "- Внутри `wrapper` задается новое поведение для функции (возможно, даже смена сигнатуры);\n",
    "\n",
    "Рассмотрим объект `wrapper`:\n",
    "- Первое - мы сохраняем произвольность сигнатуры (помните, что декоратор вернет `wrapper`);\n",
    "- Второе - модификация поведения `function`. По условию задачи достаточно сначала вывести требуемое сообщение, а после - запустить функцию и вернуть ее значение."
   ]
  },
  {
   "attachments": {},
   "cell_type": "markdown",
   "metadata": {},
   "source": [
    "**Замечание.** Обычно декораторы используют не через прямое присваивание, а через неявное при помощи специального синтакиса с `@`."
   ]
  },
  {
   "cell_type": "code",
   "execution_count": null,
   "metadata": {},
   "outputs": [],
   "source": [
    "@runtime\n",
    "def function(a: int, b: int) -> None:\n",
    "    pass"
   ]
  },
  {
   "attachments": {},
   "cell_type": "markdown",
   "metadata": {},
   "source": [
    "**Пояснение.** Заголовок `@runtime` говорит интерпретатору, чтобы тот неявно выполнил следующее преобразование: `function = runtime(function)`. Иначе говоря, синтаксис с использованием `@` выполняет неявное присваивание."
   ]
  },
  {
   "attachments": {},
   "cell_type": "markdown",
   "metadata": {},
   "source": [
    "**Пример.** Реализуйте декоратор, который до запуска функции будет выводить информацию о ее аргументах."
   ]
  },
  {
   "cell_type": "code",
   "execution_count": 18,
   "metadata": {},
   "outputs": [],
   "source": [
    "def argtell(function: AnyFunctionType) -> AnyFunctionType:\n",
    "\n",
    "    def modified(*args: Any, **kwargs: Any) -> Any:\n",
    "        print(\"No *args:\", len(args))\n",
    "        print(\"No **kwargs:\", len(kwargs))\n",
    "        return function(*args, **kwargs)\n",
    "\n",
    "    return modified"
   ]
  },
  {
   "cell_type": "code",
   "execution_count": 19,
   "metadata": {},
   "outputs": [],
   "source": [
    "from random import randint\n",
    "\n",
    "\n",
    "@argtell\n",
    "def randomizer(\n",
    "    n: int,\n",
    "    a: Optional[int] = None,\n",
    "    b: Optional[int] = None,\n",
    ") -> None:\n",
    "\n",
    "    if a is None:\n",
    "        a = 0\n",
    "\n",
    "    if b is None:\n",
    "        b = a + 1\n",
    "\n",
    "    values: list[int, ...] = []\n",
    "    for _ in range(n):\n",
    "        values.append(randint(a, b))\n",
    "\n",
    "    return values"
   ]
  },
  {
   "cell_type": "code",
   "execution_count": 22,
   "metadata": {},
   "outputs": [
    {
     "name": "stdout",
     "output_type": "stream",
     "text": [
      "No *args: 3\n",
      "No **kwargs: 0\n"
     ]
    },
    {
     "data": {
      "text/plain": [
       "[17, 13, 16, 10, 17]"
      ]
     },
     "execution_count": 22,
     "metadata": {},
     "output_type": "execute_result"
    }
   ],
   "source": [
    "randomizer(5, 10, 20)"
   ]
  },
  {
   "cell_type": "code",
   "execution_count": 23,
   "metadata": {},
   "outputs": [
    {
     "name": "stdout",
     "output_type": "stream",
     "text": [
      "No *args: 0\n",
      "No **kwargs: 3\n"
     ]
    },
    {
     "data": {
      "text/plain": [
       "[10, 13, 16, 12, 14]"
      ]
     },
     "execution_count": 23,
     "metadata": {},
     "output_type": "execute_result"
    }
   ],
   "source": [
    "randomizer(n=5, a=10, b=20)"
   ]
  },
  {
   "cell_type": "code",
   "execution_count": 24,
   "metadata": {},
   "outputs": [
    {
     "name": "stdout",
     "output_type": "stream",
     "text": [
      "No *args: 1\n",
      "No **kwargs: 2\n"
     ]
    },
    {
     "data": {
      "text/plain": [
       "[16, 20, 20, 11, 11]"
      ]
     },
     "execution_count": 24,
     "metadata": {},
     "output_type": "execute_result"
    }
   ],
   "source": [
    "randomizer(5, a=10, b=20)"
   ]
  },
  {
   "attachments": {},
   "cell_type": "markdown",
   "metadata": {},
   "source": [
    "**Пояснение.** Аналогично примеру выше: нотация `@argtell` значит, что `randomizer = argtell(randomizer)`."
   ]
  },
  {
   "attachments": {},
   "cell_type": "markdown",
   "metadata": {},
   "source": [
    "**Замечание.** Поскольку декоратор возвращает функцию, получается, что декораторы можно накладывать друг на друга. Порядок применения - снизу вверх."
   ]
  },
  {
   "cell_type": "code",
   "execution_count": 25,
   "metadata": {},
   "outputs": [],
   "source": [
    "from random import randint\n",
    "\n",
    "\n",
    "@argtell\n",
    "@runtime\n",
    "def randomizer(\n",
    "    n: int,\n",
    "    a: Optional[int] = None,\n",
    "    b: Optional[int] = None,\n",
    ") -> None:\n",
    "\n",
    "    if a is None:\n",
    "        a = 0\n",
    "\n",
    "    if b is None:\n",
    "        b = a + 1\n",
    "\n",
    "    values: list[int, ...] = []\n",
    "    for _ in range(n):\n",
    "        values.append(randint(a, b))\n",
    "\n",
    "    return values"
   ]
  },
  {
   "cell_type": "code",
   "execution_count": 26,
   "metadata": {},
   "outputs": [
    {
     "name": "stdout",
     "output_type": "stream",
     "text": [
      "No *args: 3\n",
      "No **kwargs: 0\n",
      "[?] Fri May 12 17:17:41 2023\n"
     ]
    },
    {
     "data": {
      "text/plain": [
       "[15, 19, 17, 19, 12]"
      ]
     },
     "execution_count": 26,
     "metadata": {},
     "output_type": "execute_result"
    }
   ],
   "source": [
    "randomizer(5, 10, 20)"
   ]
  },
  {
   "cell_type": "code",
   "execution_count": 27,
   "metadata": {},
   "outputs": [
    {
     "name": "stdout",
     "output_type": "stream",
     "text": [
      "No *args: 0\n",
      "No **kwargs: 3\n",
      "[?] Fri May 12 17:17:52 2023\n"
     ]
    },
    {
     "data": {
      "text/plain": [
       "[19, 20, 14, 12, 12]"
      ]
     },
     "execution_count": 27,
     "metadata": {},
     "output_type": "execute_result"
    }
   ],
   "source": [
    "randomizer(n=5, a=10, b=20)"
   ]
  },
  {
   "cell_type": "code",
   "execution_count": 28,
   "metadata": {},
   "outputs": [
    {
     "name": "stdout",
     "output_type": "stream",
     "text": [
      "No *args: 1\n",
      "No **kwargs: 2\n",
      "[?] Fri May 12 17:17:52 2023\n"
     ]
    },
    {
     "data": {
      "text/plain": [
       "[18, 19, 10, 14, 18]"
      ]
     },
     "execution_count": 28,
     "metadata": {},
     "output_type": "execute_result"
    }
   ],
   "source": [
    "randomizer(5, a=10, b=20)"
   ]
  },
  {
   "attachments": {},
   "cell_type": "markdown",
   "metadata": {},
   "source": [
    "**Рассуждение.** Давайте вернемся к одиночному декорированию. Взгляните на аннотацию функции после применения декоратора. Что изменилось?"
   ]
  },
  {
   "cell_type": "code",
   "execution_count": 29,
   "metadata": {},
   "outputs": [],
   "source": [
    "@runtime\n",
    "def function(example: int) -> int:\n",
    "    return example"
   ]
  },
  {
   "cell_type": "code",
   "execution_count": 30,
   "metadata": {},
   "outputs": [
    {
     "name": "stdout",
     "output_type": "stream",
     "text": [
      "[?] Fri May 12 17:19:44 2023\n"
     ]
    },
    {
     "data": {
      "text/plain": [
       "42"
      ]
     },
     "execution_count": 30,
     "metadata": {},
     "output_type": "execute_result"
    }
   ],
   "source": [
    "function(42)  # Наведите курсор на функцию"
   ]
  },
  {
   "attachments": {},
   "cell_type": "markdown",
   "metadata": {},
   "source": [
    "**Замечание.** Применение декоратора меняет аннотацию (и документацию, если была). Факт объясняется тем, что внутри декоратора возвращается совершенно другая функция - модификация исходной, но не сам оригинал. По этой причине и теряется аннотация типа вместе с сопуствующими атрибутами. Так быть не должно - нарушается целостность программы с точки зрения безопасности внешнего пользователя. Проблему решает декоратор `@wraps` из модуля `functools`."
   ]
  },
  {
   "cell_type": "code",
   "execution_count": 31,
   "metadata": {},
   "outputs": [],
   "source": [
    "from functools import wraps\n",
    "\n",
    "\n",
    "def runtime(function: AnyFunctionType) -> AnyFunctionType:\n",
    "\n",
    "    @wraps(function)\n",
    "    def wrapper(*args: Any, **kwargs: Any) -> Any:\n",
    "        print(f\"[?] {ctime()}\")\n",
    "        return function(*args, **kwargs)\n",
    "\n",
    "    return wrapper"
   ]
  },
  {
   "cell_type": "code",
   "execution_count": 32,
   "metadata": {},
   "outputs": [],
   "source": [
    "@runtime\n",
    "def function(example: int) -> int:\n",
    "    return example"
   ]
  },
  {
   "cell_type": "code",
   "execution_count": 33,
   "metadata": {},
   "outputs": [
    {
     "name": "stdout",
     "output_type": "stream",
     "text": [
      "[?] Fri May 12 17:24:04 2023\n"
     ]
    },
    {
     "data": {
      "text/plain": [
       "42"
      ]
     },
     "execution_count": 33,
     "metadata": {},
     "output_type": "execute_result"
    }
   ],
   "source": [
    "function(42)  # Наведите курсор на функцию"
   ]
  },
  {
   "attachments": {},
   "cell_type": "markdown",
   "metadata": {},
   "source": [
    "**Пояснение.** Декоратор `functools.wraps` переносит атрибуты от одной функции к другой, за счет чего достигается целостность использования после произвольного декорирования. В частности, декоратор `functools.wraps` позволяет перенести аннотацию типов и документацию от исходной функции к ее модифицированной версии."
   ]
  },
  {
   "attachments": {},
   "cell_type": "markdown",
   "metadata": {},
   "source": [
    "**Пример.** Реализуйте декоратор `retry`, который повторяет запуск программы, если этого не получилось сделать в первый раз."
   ]
  },
  {
   "cell_type": "code",
   "execution_count": 54,
   "metadata": {},
   "outputs": [],
   "source": [
    "def retry(function: Callable[..., Any]) -> Callable[..., Any]:\n",
    "\n",
    "    @wraps(function)\n",
    "    def wrapper(*args: Any, **kwargs: Any) -> Any:\n",
    "        try:\n",
    "            return function(*args, **kwargs)\n",
    "        except Exception:\n",
    "            print(\"Retrying...\")\n",
    "            return function(*args, **kwargs)\n",
    "\n",
    "    return wrapper"
   ]
  },
  {
   "cell_type": "code",
   "execution_count": 55,
   "metadata": {},
   "outputs": [],
   "source": [
    "from typing import NoReturn\n",
    "\n",
    "@retry\n",
    "def unknown() -> Optional[NoReturn]:\n",
    "    if randint(0, 1) == 0:\n",
    "        raise RuntimeError(\"[!] You're not Lucky\")\n",
    "    \n",
    "    print(\"Success\")"
   ]
  },
  {
   "cell_type": "code",
   "execution_count": 60,
   "metadata": {},
   "outputs": [
    {
     "name": "stdout",
     "output_type": "stream",
     "text": [
      "Retrying...\n",
      "Success\n"
     ]
    }
   ],
   "source": [
    "unknown()"
   ]
  },
  {
   "attachments": {},
   "cell_type": "markdown",
   "metadata": {},
   "source": [
    "**Рассуждение.** Для декоратора `@retry` естественным образом возникает потребность в `n` повторных попытках. Начнем издалека:\n",
    "\n",
    "- Что значит для интерпретатора декорирование через `@retry(n)`?\n",
    "- Это значит, что декорируемая функция `function` примет значение: `function = retry(n)(function)`;\n",
    "- В таком случае, `retry(n)` - это функция-декоратор, которая запускает функцию `function` не более, чем `n` раз;\n",
    "- Значит, функция `retry` должна возвращать функцию-декоратор, поведение которой зависит от параметра."
   ]
  },
  {
   "cell_type": "code",
   "execution_count": 97,
   "metadata": {},
   "outputs": [],
   "source": [
    "def retry(n: int = 0):\n",
    "\n",
    "    def decorator(function: AnyFunctionType) -> AnyFunctionType:\n",
    "\n",
    "        @wraps(function)\n",
    "        def modified(*args: Any, **kwargs: Any) -> Any:\n",
    "            for _ in range(n):\n",
    "                try:\n",
    "                    return function(*args, **kwargs)\n",
    "                except Exception:\n",
    "                    print(\"Retrying...\")\n",
    "\n",
    "            return function(*args, **kwargs)\n",
    "\n",
    "        return modified  # retry(n)(function)\n",
    "\n",
    "    return decorator  # retry(n)"
   ]
  },
  {
   "cell_type": "code",
   "execution_count": 79,
   "metadata": {},
   "outputs": [],
   "source": [
    "@retry(10)\n",
    "def unknown() -> Optional[NoReturn]:\n",
    "    if randint(0, 1) == 0:\n",
    "        raise RuntimeError(\"[!] You're not Lucky\")\n",
    "\n",
    "    print(\"Success\")"
   ]
  },
  {
   "cell_type": "code",
   "execution_count": 81,
   "metadata": {},
   "outputs": [
    {
     "name": "stdout",
     "output_type": "stream",
     "text": [
      "Retrying...\n",
      "Retrying...\n",
      "Retrying...\n",
      "Success\n"
     ]
    }
   ],
   "source": [
    "unknown()"
   ]
  },
  {
   "cell_type": "code",
   "execution_count": 82,
   "metadata": {},
   "outputs": [],
   "source": [
    "@retry(2)\n",
    "def unknown() -> Optional[NoReturn]:\n",
    "    if randint(0, 1) == 0:\n",
    "        raise RuntimeError(\"[!] You're not Lucky\")\n",
    "\n",
    "    print(\"Success\")"
   ]
  },
  {
   "cell_type": "code",
   "execution_count": 92,
   "metadata": {},
   "outputs": [
    {
     "name": "stdout",
     "output_type": "stream",
     "text": [
      "Retrying...\n",
      "Retrying...\n",
      "Success\n"
     ]
    }
   ],
   "source": [
    "unknown()"
   ]
  },
  {
   "cell_type": "code",
   "execution_count": 98,
   "metadata": {},
   "outputs": [],
   "source": [
    "@retry()\n",
    "def unknown() -> Optional[NoReturn]:\n",
    "    if randint(0, 1) == 0:\n",
    "        raise RuntimeError(\"[!] You're not Lucky\")\n",
    "\n",
    "    print(\"Success\")"
   ]
  },
  {
   "cell_type": "code",
   "execution_count": 102,
   "metadata": {},
   "outputs": [
    {
     "name": "stdout",
     "output_type": "stream",
     "text": [
      "Success\n"
     ]
    }
   ],
   "source": [
    "unknown()"
   ]
  },
  {
   "attachments": {},
   "cell_type": "markdown",
   "metadata": {},
   "source": [
    "**Рассуждение.** С точки зрения написания кода, декоратор, которому нужно указывать пустые аргументы, будет далеко не самым удачным решением. Сравните: `@retry` и `retry()`. Что удобнее, если не требуется дополнительных попыток? Конечно же первый вариант. Давайте добавим такую возможность.\n",
    "\n",
    "Рассуждаем:\n",
    "\n",
    "- Что значит для интерпретатора декорирование через `@retry` без аргументов?\n",
    "- Это значит, что декорируемая функция `function` примет значение: `function = retry(function)`;\n",
    "- В таком случае, `retry` - это функция-декоратор, которая запускает функцию `function` только один раз, то есть без повторных попыток;\n",
    "- При текущей реализации это значит, что параметр `n` не является целым числом."
   ]
  },
  {
   "cell_type": "code",
   "execution_count": 123,
   "metadata": {},
   "outputs": [],
   "source": [
    "def retry(n: int | AnyFunctionType = 0):\n",
    "\n",
    "    def decorator(function: AnyFunctionType) -> AnyFunctionType:\n",
    "\n",
    "        @wraps(function)\n",
    "        def modified(*args: Any, **kwargs: Any) -> Any:\n",
    "            for _ in range(n):\n",
    "                try:\n",
    "                    return function(*args, **kwargs)\n",
    "                except Exception:\n",
    "                    print(\"Retrying...\")\n",
    "\n",
    "            return function(*args, **kwargs)\n",
    "\n",
    "        return modified  # retry(n)(function)\n",
    "\n",
    "    if not isinstance(n, int):      \n",
    "        function: AnyFunctionType = n  # In that case `n` is a function\n",
    "        n: int = 0                     # Remember to set `n` as zero\n",
    "        return decorator(function)     # retry(0)(function)\n",
    "\n",
    "    return decorator  # retry(n)"
   ]
  },
  {
   "cell_type": "code",
   "execution_count": 124,
   "metadata": {},
   "outputs": [],
   "source": [
    "@retry(3)\n",
    "def unknown() -> Optional[NoReturn]:\n",
    "    if randint(0, 1) == 0:\n",
    "        raise RuntimeError(\"[!] You're not Lucky\")\n",
    "\n",
    "    print(\"Success\")"
   ]
  },
  {
   "cell_type": "code",
   "execution_count": 131,
   "metadata": {},
   "outputs": [
    {
     "name": "stdout",
     "output_type": "stream",
     "text": [
      "Retrying...\n",
      "Retrying...\n",
      "Success\n"
     ]
    }
   ],
   "source": [
    "unknown()"
   ]
  },
  {
   "cell_type": "code",
   "execution_count": 132,
   "metadata": {},
   "outputs": [],
   "source": [
    "@retry\n",
    "def unknown() -> Optional[NoReturn]:\n",
    "    if randint(0, 1) == 0:\n",
    "        raise RuntimeError(\"[!] You're not Lucky\")\n",
    "\n",
    "    print(\"Success\")"
   ]
  },
  {
   "cell_type": "code",
   "execution_count": 133,
   "metadata": {},
   "outputs": [
    {
     "name": "stdout",
     "output_type": "stream",
     "text": [
      "Success\n"
     ]
    }
   ],
   "source": [
    "unknown()"
   ]
  },
  {
   "attachments": {},
   "cell_type": "markdown",
   "metadata": {},
   "source": [
    "**Упражнение.** Сохранилась ли аннотация типов у декорируемой функции, несмотря на то, что в теле декоратора сразу две вложенные функции, а `functools.wraps` был использован только единожды? Объясните эффект."
   ]
  },
  {
   "attachments": {},
   "cell_type": "markdown",
   "metadata": {},
   "source": [
    "**Примечание.** Далее будет рассказано об инкапсуляции и работе с памятью в Python. Начнем с инкапсуляции."
   ]
  },
  {
   "attachments": {},
   "cell_type": "markdown",
   "metadata": {},
   "source": [
    "**Определение.** Инкапсуляция - это парадигма объектно-ориентированного программирования, которая предполагает ограничение доступа внешнего пользователя к внутреннему содержимому объекта."
   ]
  },
  {
   "attachments": {},
   "cell_type": "markdown",
   "metadata": {},
   "source": [
    "**Пример.** Иллюстрация инкапсуляции в Python."
   ]
  },
  {
   "cell_type": "code",
   "execution_count": 134,
   "metadata": {},
   "outputs": [],
   "source": [
    "from __future__ import annotations\n",
    "\n",
    "\n",
    "class Example(object):\n",
    "    __slots__: tuple[str, ...] = (\n",
    "        \"open\",\n",
    "        \"_hidden\",\n",
    "        \"__super_hidden\",\n",
    "    )\n",
    "\n",
    "    def __init__(self: Example) -> None:\n",
    "        self.open: int = 0\n",
    "        self._hidden: int = 1\n",
    "        self.__super_hidden: int = 2"
   ]
  },
  {
   "cell_type": "code",
   "execution_count": 135,
   "metadata": {},
   "outputs": [],
   "source": [
    "example = Example()"
   ]
  },
  {
   "cell_type": "code",
   "execution_count": 136,
   "metadata": {},
   "outputs": [
    {
     "data": {
      "text/plain": [
       "0"
      ]
     },
     "execution_count": 136,
     "metadata": {},
     "output_type": "execute_result"
    }
   ],
   "source": [
    "example.open"
   ]
  },
  {
   "attachments": {},
   "cell_type": "markdown",
   "metadata": {},
   "source": [
    "**Пояснение.** Атрибут `open` - обычный публичный член класса. Доступ извне всегда открыт."
   ]
  },
  {
   "cell_type": "code",
   "execution_count": 137,
   "metadata": {},
   "outputs": [
    {
     "data": {
      "text/plain": [
       "1"
      ]
     },
     "execution_count": 137,
     "metadata": {},
     "output_type": "execute_result"
    }
   ],
   "source": [
    "example._hidden"
   ]
  },
  {
   "attachments": {},
   "cell_type": "markdown",
   "metadata": {},
   "source": [
    "**Пояснение.** Атрибут `_hidden` - скрытый член класса. Об этом говорит одно нижнее подчеркивание в названии. Доступ извне нежелателен, но открыт."
   ]
  },
  {
   "cell_type": "code",
   "execution_count": 138,
   "metadata": {},
   "outputs": [
    {
     "ename": "AttributeError",
     "evalue": "'Example' object has no attribute '__super_hidden'",
     "output_type": "error",
     "traceback": [
      "\u001b[1;31m---------------------------------------------------------------------------\u001b[0m",
      "\u001b[1;31mAttributeError\u001b[0m                            Traceback (most recent call last)",
      "Cell \u001b[1;32mIn[138], line 1\u001b[0m\n\u001b[1;32m----> 1\u001b[0m example\u001b[39m.\u001b[39;49m__super_hidden\n",
      "\u001b[1;31mAttributeError\u001b[0m: 'Example' object has no attribute '__super_hidden'"
     ]
    }
   ],
   "source": [
    "example.__super_hidden"
   ]
  },
  {
   "attachments": {},
   "cell_type": "markdown",
   "metadata": {},
   "source": [
    "**Пояснение.** Атрибут `__super_hidden` - закрытый член класса. Об этом говорит двойное подчеркивание в названии. Доступ извне запрещен. Тем не менее, обратиться к атрибуту извне все же возможно."
   ]
  },
  {
   "cell_type": "code",
   "execution_count": 139,
   "metadata": {},
   "outputs": [
    {
     "data": {
      "text/plain": [
       "2"
      ]
     },
     "execution_count": 139,
     "metadata": {},
     "output_type": "execute_result"
    }
   ],
   "source": [
    "example._Example__super_hidden"
   ]
  },
  {
   "attachments": {},
   "cell_type": "markdown",
   "metadata": {},
   "source": [
    "**Пояснение.** Доступ к закрытым полям вне класса осуществляется при помощи специального синтаксиса: одно нижнее подчеркивание, имя класса, имя атрибута (включая два нижних подчеркивания). Выглядит это не читабельно, однако за счет этого достигается инкапсуляция."
   ]
  },
  {
   "attachments": {},
   "cell_type": "markdown",
   "metadata": {},
   "source": [
    "**Замечание.** Инкапсуляция в Python носит условный характер. К любому члену класса всегда возможно обратиться. Тем не менее рекомендуется придерживаться соглашений и использовать объекты так, как задумал их разработчик."
   ]
  },
  {
   "attachments": {},
   "cell_type": "markdown",
   "metadata": {},
   "source": [
    "**Замечание.** При создании класса `Example` был использован магический атрибут `__slots__`. Он задает допустимые имена полей, которые могут быть у объекта. В частности, попытка создать атрибут, которого нет в `__slots__`, обернется вызовом исключения.\n",
    "\n",
    "Во-первых, использование `__slots__` позволяет сделать Ваш класс более защищенным от внешнего пользователя - у последнего просто-напросто пропадет возможность добавлять новые поля объекту. Так Вы уже гарантируете хотя бы минимальную инкапсуляцию.\n",
    "\n",
    "Во-вторых, использование `__slots__` одновременно делает следующее:\n",
    "\n",
    "- Оптимизирует потребляемую память;\n",
    "- Ускоряет работу с объектом.\n",
    "\n",
    "Достигается такой эффект за счет следующего: до определения `__slots__` в классе используется атрибут `__dict__`. Это словарь, в котором хранятся пары \"атрибут - значение\". Определение `__slots__` фиксирует допустимые поля, а значит, необходимость в неограниченном `__dict__` пропадает, поэтому он удаляется из класса. Вместо него теперь будет использован некоторый массив фиксированного размера. По этой причине происходит улучшение производительности."
   ]
  },
  {
   "attachments": {},
   "cell_type": "markdown",
   "metadata": {},
   "source": [
    "**Пример.** Попытка создать новый атрибут при определенном атрибуте `__slots__`."
   ]
  },
  {
   "cell_type": "code",
   "execution_count": 140,
   "metadata": {},
   "outputs": [
    {
     "ename": "AttributeError",
     "evalue": "'Example' object has no attribute 'non_existing'",
     "output_type": "error",
     "traceback": [
      "\u001b[1;31m---------------------------------------------------------------------------\u001b[0m",
      "\u001b[1;31mAttributeError\u001b[0m                            Traceback (most recent call last)",
      "Cell \u001b[1;32mIn[140], line 2\u001b[0m\n\u001b[0;32m      1\u001b[0m example \u001b[39m=\u001b[39m Example()\n\u001b[1;32m----> 2\u001b[0m example\u001b[39m.\u001b[39;49mnon_existing \u001b[39m=\u001b[39m \u001b[39m\"\u001b[39m\u001b[39mCause an Error\u001b[39m\u001b[39m\"\u001b[39m\n",
      "\u001b[1;31mAttributeError\u001b[0m: 'Example' object has no attribute 'non_existing'"
     ]
    }
   ],
   "source": [
    "example = Example()\n",
    "example.non_existing = \"Cause an Error\""
   ]
  },
  {
   "attachments": {},
   "cell_type": "markdown",
   "metadata": {},
   "source": [
    "**Примечание.** Поговорим о работе с памятью.\n",
    "\n",
    "Менеджмент памяти в Python основан на принципе подсчета ссылок. Для каждой сущности под капотом хранится количество объектов, которые ссылаются (указывают) на него. Когда счетчик ссылок становится равным нулю (экземпляр больше никому не нужен), тогда сборщик мусора удаляет объект из памяти, благодаря чему у программы становится немногим больше ресурсов."
   ]
  },
  {
   "attachments": {},
   "cell_type": "markdown",
   "metadata": {},
   "source": [
    "**Пример.** Иллюстрация менеджмента памяти."
   ]
  },
  {
   "cell_type": "code",
   "execution_count": 143,
   "metadata": {},
   "outputs": [],
   "source": [
    "example = [1, 2, 3, 4, 5]  # Счетчик: 1"
   ]
  },
  {
   "cell_type": "code",
   "execution_count": 144,
   "metadata": {},
   "outputs": [],
   "source": [
    "new_example = example  # Счетчик: 2"
   ]
  },
  {
   "attachments": {},
   "cell_type": "markdown",
   "metadata": {},
   "source": [
    "**Пояснение.** Список - это изменяемый объект, поэтому Python, ввиду своего устройства, не скопирует его, а возьмет ссылку на предыдущий объект."
   ]
  },
  {
   "attachments": {},
   "cell_type": "markdown",
   "metadata": {},
   "source": [
    "**Упражнение.** Измените произвольный элемент в списке `new_example`. Изменится ли значение того же элемента в списке `example`? Интерпретируйте результат с учетом факта выше."
   ]
  },
  {
   "cell_type": "code",
   "execution_count": 145,
   "metadata": {},
   "outputs": [],
   "source": [
    "example = None  # Счетчик: 1"
   ]
  },
  {
   "attachments": {},
   "cell_type": "markdown",
   "metadata": {},
   "source": [
    "**Пояснение.** После того, как переменная `example` приняла значение `None`, счетчик ссылок уменьшился на единицу. Это связано с тем, что теперь на объект списка указывает только одна переменная - `new_example`."
   ]
  },
  {
   "cell_type": "code",
   "execution_count": 146,
   "metadata": {},
   "outputs": [],
   "source": [
    "new_example = 42  # Счетчик: 0"
   ]
  },
  {
   "attachments": {},
   "cell_type": "markdown",
   "metadata": {},
   "source": [
    "**Пояснение.** Заменив значение `new_example` на `42`, мы вновь уменьшили на единицу счетчик ссылок. Но это значит, что теперь на список указывает ровно ноль объектов, поэтому сборщик мусора имеет полное право уничтожить этот объект и освободить используемую им память. Так и происходит."
   ]
  },
  {
   "attachments": {},
   "cell_type": "markdown",
   "metadata": {},
   "source": [
    "**Замечание.** Уменьшить число ссылок на объект можно при помощи функции `del`. Ее использование дополнительно уничтожает саму переменную, поэтому попытка получить ее значение вызовет исключение."
   ]
  },
  {
   "cell_type": "code",
   "execution_count": 148,
   "metadata": {},
   "outputs": [],
   "source": [
    "example = [1, 2, 3]  # Счетчик: 1"
   ]
  },
  {
   "cell_type": "code",
   "execution_count": 149,
   "metadata": {},
   "outputs": [],
   "source": [
    "new_example = example  # Счетчик: 2"
   ]
  },
  {
   "cell_type": "code",
   "execution_count": 150,
   "metadata": {},
   "outputs": [],
   "source": [
    "del example  # Счетчик: 1"
   ]
  },
  {
   "cell_type": "code",
   "execution_count": 152,
   "metadata": {},
   "outputs": [],
   "source": [
    "new_example = 42  # Счетчик: 0 -> Уничтожение объекта"
   ]
  },
  {
   "attachments": {},
   "cell_type": "markdown",
   "metadata": {},
   "source": [
    "**Спойлер.** На семинаре:\n",
    "\n",
    "- Изучите дополнительные аннотации типов данных, которые могут оказаться крайне полезными;\n",
    "- Практика в реализации декораторов;\n",
    "- Практика в реализации классов."
   ]
  }
 ],
 "metadata": {
  "kernelspec": {
   "display_name": "Python 3",
   "language": "python",
   "name": "python3"
  },
  "language_info": {
   "codemirror_mode": {
    "name": "ipython",
    "version": 3
   },
   "file_extension": ".py",
   "mimetype": "text/x-python",
   "name": "python",
   "nbconvert_exporter": "python",
   "pygments_lexer": "ipython3",
   "version": "3.11.0"
  },
  "orig_nbformat": 4
 },
 "nbformat": 4,
 "nbformat_minor": 2
}
