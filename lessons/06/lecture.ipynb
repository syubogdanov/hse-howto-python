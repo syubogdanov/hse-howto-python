{
 "cells": [
  {
   "attachments": {},
   "cell_type": "markdown",
   "metadata": {},
   "source": [
    "<div align=\"center\">\n",
    "    <a href=\"https://github.com/syubogdanov/hse-howto-python\">\n",
    "        <img src=\"https://cdn-icons-png.flaticon.com/128/1864/1864551.png\" height=\"128px\" width=\"auto\">\n",
    "    </a>\n",
    "    <h3>\n",
    "        <b>\n",
    "            Продвинутый Python\n",
    "        </b>\n",
    "    </h3>\n",
    "    <i>\n",
    "        Абстрактные синтаксические деревья\n",
    "    </i>\n",
    "</div>\n",
    "\n",
    "<br>"
   ]
  },
  {
   "attachments": {},
   "cell_type": "markdown",
   "metadata": {},
   "source": [
    "**Цель занятия.** Изучение базовых инструментов для работы с абстрактными синтаксическими деревьями программ, написанных на языке программирования Python."
   ]
  },
  {
   "attachments": {},
   "cell_type": "markdown",
   "metadata": {},
   "source": [
    "**Определение.** Абстрактное синтаксическое дерево - это представление программы в виде дерева, состоящего из ее синтаксических единиц."
   ]
  },
  {
   "attachments": {},
   "cell_type": "markdown",
   "metadata": {},
   "source": [
    "**Пример.** Абстрактное синтаксическое дерево для некоторой программы."
   ]
  },
  {
   "cell_type": "code",
   "execution_count": 7,
   "metadata": {},
   "outputs": [],
   "source": [
    "code: str = \\\n",
    "\"\"\"\n",
    "var: int = 1 + 2 + 3\n",
    "\"\"\""
   ]
  },
  {
   "cell_type": "code",
   "execution_count": 8,
   "metadata": {},
   "outputs": [],
   "source": [
    "import ast\n",
    "\n",
    "tree: ast.Module = ast.parse(code)"
   ]
  },
  {
   "cell_type": "code",
   "execution_count": 9,
   "metadata": {},
   "outputs": [
    {
     "name": "stdout",
     "output_type": "stream",
     "text": [
      "Module(\n",
      "    body=[\n",
      "        AnnAssign(\n",
      "            target=Name(id='var', ctx=Store()),\n",
      "            annotation=Name(id='int', ctx=Load()),\n",
      "            value=BinOp(\n",
      "                left=BinOp(\n",
      "                    left=Constant(value=1),\n",
      "                    op=Add(),\n",
      "                    right=Constant(value=2)),\n",
      "                op=Add(),\n",
      "                right=Constant(value=3)),\n",
      "            simple=1)],\n",
      "    type_ignores=[])\n"
     ]
    }
   ],
   "source": [
    "repr: str = ast.dump(tree, indent=4)\n",
    "print(repr)"
   ]
  },
  {
   "attachments": {},
   "cell_type": "markdown",
   "metadata": {},
   "source": [
    "**Пояснение.** В атрибуте `body` построенного дерева хранится список, состоящий из последовательно идущих синтаксических единиц программы. В частности, для примера выше единственной единицей является `ast.AnnAssign` - присвоение значения переменной, для которой указали тип данных. Далее, в узле можно увидеть более специфичную информацию:\n",
    "\n",
    "- `target` - какой переменной было присвоено значение;\n",
    "- `annotation` - какую аннотацию назначили переменной;\n",
    "- `value` - значение, которое присвоили переменной;\n",
    "- `simple` - показывает, отсутствует ли переменная, которой присваивают значение, в правой части."
   ]
  },
  {
   "attachments": {},
   "cell_type": "markdown",
   "metadata": {},
   "source": [
    "**Пример.** Абстрактное синтаксическое дерево для некоторой программы."
   ]
  },
  {
   "cell_type": "code",
   "execution_count": 19,
   "metadata": {},
   "outputs": [],
   "source": [
    "code: str = \\\n",
    "\"\"\"\n",
    "a: int = 10\n",
    "b: float = -5.0\n",
    "\n",
    "var = a + b\n",
    "\"\"\""
   ]
  },
  {
   "cell_type": "code",
   "execution_count": 20,
   "metadata": {},
   "outputs": [],
   "source": [
    "tree: ast.Module = ast.parse(code)"
   ]
  },
  {
   "cell_type": "code",
   "execution_count": 21,
   "metadata": {},
   "outputs": [
    {
     "name": "stdout",
     "output_type": "stream",
     "text": [
      "Module(\n",
      "    body=[\n",
      "        AnnAssign(\n",
      "            target=Name(id='a', ctx=Store()),\n",
      "            annotation=Name(id='int', ctx=Load()),\n",
      "            value=Constant(value=10),\n",
      "            simple=1),\n",
      "        AnnAssign(\n",
      "            target=Name(id='b', ctx=Store()),\n",
      "            annotation=Name(id='float', ctx=Load()),\n",
      "            value=UnaryOp(\n",
      "                op=USub(),\n",
      "                operand=Constant(value=5.0)),\n",
      "            simple=1),\n",
      "        Assign(\n",
      "            targets=[\n",
      "                Name(id='var', ctx=Store())],\n",
      "            value=BinOp(\n",
      "                left=Name(id='a', ctx=Load()),\n",
      "                op=Add(),\n",
      "                right=Name(id='b', ctx=Load())))],\n",
      "    type_ignores=[])\n"
     ]
    }
   ],
   "source": [
    "repr: str = ast.dump(tree, indent=4)\n",
    "print(repr)"
   ]
  },
  {
   "attachments": {},
   "cell_type": "markdown",
   "metadata": {},
   "source": [
    "**Пояснение.** В программе выше находятся три смысловые синтаксические единицы:\n",
    "\n",
    "- Присвоение для `a`;\n",
    "- Присовение для `b`;\n",
    "- Присвоение для `var`.\n",
    "\n",
    "По этой причине тело модуля, которому отвечает узел `ast.Module`, содержит в атрибуте `body` три последовательно идущих узла, соответствующих операциям, указанным выше. Обратите внимание, что присвоение с аннотацией и присовение без нее - это два разных объекта."
   ]
  },
  {
   "attachments": {},
   "cell_type": "markdown",
   "metadata": {},
   "source": [
    "**Пример.** Абстрактное синтаксическое дерево для некоторой программы."
   ]
  },
  {
   "cell_type": "code",
   "execution_count": 22,
   "metadata": {},
   "outputs": [],
   "source": [
    "code: str = \\\n",
    "\"\"\"\n",
    "for iteration in range(10):\n",
    "    print(\"Hello, world!\")\n",
    "\"\"\""
   ]
  },
  {
   "cell_type": "code",
   "execution_count": 23,
   "metadata": {},
   "outputs": [],
   "source": [
    "tree: ast.Module = ast.parse(code)"
   ]
  },
  {
   "cell_type": "code",
   "execution_count": 24,
   "metadata": {},
   "outputs": [
    {
     "name": "stdout",
     "output_type": "stream",
     "text": [
      "Module(\n",
      "    body=[\n",
      "        For(\n",
      "            target=Name(id='iteration', ctx=Store()),\n",
      "            iter=Call(\n",
      "                func=Name(id='range', ctx=Load()),\n",
      "                args=[\n",
      "                    Constant(value=10)],\n",
      "                keywords=[]),\n",
      "            body=[\n",
      "                Expr(\n",
      "                    value=Call(\n",
      "                        func=Name(id='print', ctx=Load()),\n",
      "                        args=[\n",
      "                            Constant(value='Hello, world!')],\n",
      "                        keywords=[]))],\n",
      "            orelse=[])],\n",
      "    type_ignores=[])\n"
     ]
    }
   ],
   "source": [
    "repr: str = ast.dump(tree, indent=4)\n",
    "print(repr)"
   ]
  },
  {
   "attachments": {},
   "cell_type": "markdown",
   "metadata": {},
   "source": [
    "**Примечание.** Цикл `for` отлично иллюстрирует древовидную структуру программы."
   ]
  },
  {
   "attachments": {},
   "cell_type": "markdown",
   "metadata": {},
   "source": [
    "**Упражнение.** Вспомните, как можно использовать `else` вместе с циклами. Напишите такую программу. Изучите ее абстрактное синтаксическое дерево."
   ]
  },
  {
   "attachments": {},
   "cell_type": "markdown",
   "metadata": {},
   "source": [
    "**Пример.** Абстрактное синтаксическое дерево для некоторой программы."
   ]
  },
  {
   "cell_type": "code",
   "execution_count": 25,
   "metadata": {},
   "outputs": [],
   "source": [
    "code: str = \\\n",
    "\"\"\"\n",
    "mydict = {\n",
    "    1: 2,\n",
    "    3: 4,\n",
    "}\n",
    "\n",
    "for key, value in mydict.items():\n",
    "    print(f\"{key}: {value}\")\n",
    "\"\"\""
   ]
  },
  {
   "cell_type": "code",
   "execution_count": 26,
   "metadata": {},
   "outputs": [],
   "source": [
    "tree: ast.Module = ast.parse(code)"
   ]
  },
  {
   "cell_type": "code",
   "execution_count": 27,
   "metadata": {},
   "outputs": [
    {
     "name": "stdout",
     "output_type": "stream",
     "text": [
      "Module(\n",
      "    body=[\n",
      "        Assign(\n",
      "            targets=[\n",
      "                Name(id='mydict', ctx=Store())],\n",
      "            value=Dict(\n",
      "                keys=[\n",
      "                    Constant(value=1),\n",
      "                    Constant(value=3)],\n",
      "                values=[\n",
      "                    Constant(value=2),\n",
      "                    Constant(value=4)])),\n",
      "        For(\n",
      "            target=Tuple(\n",
      "                elts=[\n",
      "                    Name(id='key', ctx=Store()),\n",
      "                    Name(id='value', ctx=Store())],\n",
      "                ctx=Store()),\n",
      "            iter=Call(\n",
      "                func=Attribute(\n",
      "                    value=Name(id='mydict', ctx=Load()),\n",
      "                    attr='items',\n",
      "                    ctx=Load()),\n",
      "                args=[],\n",
      "                keywords=[]),\n",
      "            body=[\n",
      "                Expr(\n",
      "                    value=Call(\n",
      "                        func=Name(id='print', ctx=Load()),\n",
      "                        args=[\n",
      "                            JoinedStr(\n",
      "                                values=[\n",
      "                                    FormattedValue(\n",
      "                                        value=Name(id='key', ctx=Load()),\n",
      "                                        conversion=-1),\n",
      "                                    Constant(value=': '),\n",
      "                                    FormattedValue(\n",
      "                                        value=Name(id='value', ctx=Load()),\n",
      "                                        conversion=-1)])],\n",
      "                        keywords=[]))],\n",
      "            orelse=[])],\n",
      "    type_ignores=[])\n"
     ]
    }
   ],
   "source": [
    "repr: str = ast.dump(tree, indent=4)\n",
    "print(repr)"
   ]
  },
  {
   "attachments": {},
   "cell_type": "markdown",
   "metadata": {},
   "source": [
    "**Пояснение.** Пример выше иллюстрирует достаточно комплексную программу.\n",
    "\n",
    "Давайте рассмотрим инициализацию словаря. Как и в примерах выше, это все так же `ast.Assign`, однако со структурной точки зрения более интересно представление словаря в виде узла. Обратите внимание на хранение ключей и значений - это два отдельных списка. Один - для ключей, второй - для значений.\n",
    "\n",
    "Далее, рассмотрим цикл `for`. Первое - перебираемые аргументы. Их несколько, поэтому узел для перебираемых значений (атрибут `target`) передставляет собой кортеж из переменных. Итерируемым объектом (атрибут `iter`) выступает вызов (узел `ast.Call`) атрибута (узел `ast.Attribute`) под названием `items` у переменной `mydict`.\n",
    "\n",
    "Не менее интересным является представление `f`-строки - узел `FormattedValue`, в атрибуте `values` которого содержатся все значения, требующие вывода на стандартный поток. Узел `FormattedValue` представляет объект, который выводится при помощи фигурных скобок."
   ]
  },
  {
   "attachments": {},
   "cell_type": "markdown",
   "metadata": {},
   "source": [
    "**Упражнение.** Попробуйте использовать другой форматированный вывод - через `%`. Изменится ли абстрактное синтаксическое дерево? Если да, то проинтерпретируйте полученный результат."
   ]
  },
  {
   "attachments": {},
   "cell_type": "markdown",
   "metadata": {},
   "source": [
    "**Упражнение.** Напишите некоторую программу в одну строку при помощи `;`. Как выглядит абстрактное синтаксическое дерево?"
   ]
  },
  {
   "attachments": {},
   "cell_type": "markdown",
   "metadata": {},
   "source": [
    "**Рассуждение.** Одним из преимуществ работы с абстрактными синтаксическими деревьями является возможность преобразований кода. Например, можно упрощать какие-то узлы программы. Возможности ограничены только Вашей фантазией."
   ]
  },
  {
   "attachments": {},
   "cell_type": "markdown",
   "metadata": {},
   "source": [
    "**Пример.** Изменение имени переменной через абстрактное синтаксческое дерево."
   ]
  },
  {
   "cell_type": "code",
   "execution_count": 9,
   "metadata": {},
   "outputs": [],
   "source": [
    "code: str = \\\n",
    "\"\"\"\n",
    "var: float = 2.7\n",
    "\"\"\""
   ]
  },
  {
   "cell_type": "code",
   "execution_count": 10,
   "metadata": {},
   "outputs": [],
   "source": [
    "tree: ast.Module = ast.parse(code)"
   ]
  },
  {
   "cell_type": "code",
   "execution_count": 11,
   "metadata": {},
   "outputs": [
    {
     "name": "stdout",
     "output_type": "stream",
     "text": [
      "Module(\n",
      "    body=[\n",
      "        AnnAssign(\n",
      "            target=Name(id='var', ctx=Store()),\n",
      "            annotation=Name(id='float', ctx=Load()),\n",
      "            value=Constant(value=2.7),\n",
      "            simple=1)],\n",
      "    type_ignores=[])\n"
     ]
    }
   ],
   "source": [
    "repr: str = ast.dump(tree, indent=4)\n",
    "print(repr)"
   ]
  },
  {
   "cell_type": "code",
   "execution_count": 12,
   "metadata": {},
   "outputs": [],
   "source": [
    "node: ast.AnnAssign = tree.body[0]\n",
    "variable: ast.Name = node.target\n",
    "\n",
    "variable.id: str = \"exponent\""
   ]
  },
  {
   "cell_type": "code",
   "execution_count": 13,
   "metadata": {},
   "outputs": [
    {
     "name": "stdout",
     "output_type": "stream",
     "text": [
      "exponent: float = 2.7\n"
     ]
    }
   ],
   "source": [
    "code: str = ast.unparse(tree)\n",
    "print(code)"
   ]
  },
  {
   "attachments": {},
   "cell_type": "markdown",
   "metadata": {},
   "source": [
    "**Пояснение.** Зная, как выглядит абстрактное синтаксическое дерево для примера выше, можно по атрибутам дойти до нужного узла и заменить в нем атрибут, ответственный за имя переменной. Далее, пользуемся функцией `ast.unparse`, которая по дереву строит программу, и получаем модифицированную программу."
   ]
  },
  {
   "attachments": {},
   "cell_type": "markdown",
   "metadata": {},
   "source": [
    "**Замечание.** При обратной трансформации модуль `ast` не следит за тем, чтобы полученный код было возможно скомпилировать. Например, Вы можете использовать ключевое слово в качестве имени переменной - и Вам это сойдет с рук."
   ]
  },
  {
   "attachments": {},
   "cell_type": "markdown",
   "metadata": {},
   "source": [
    "**Пример.** Изменение имени переменной на ключевое слово через абстрактное синтаксческое дерево."
   ]
  },
  {
   "cell_type": "code",
   "execution_count": 22,
   "metadata": {},
   "outputs": [],
   "source": [
    "code: str = \\\n",
    "\"\"\"\n",
    "var: float = 2.7\n",
    "\"\"\""
   ]
  },
  {
   "cell_type": "code",
   "execution_count": 23,
   "metadata": {},
   "outputs": [],
   "source": [
    "tree: ast.Module = ast.parse(code)"
   ]
  },
  {
   "cell_type": "code",
   "execution_count": 24,
   "metadata": {},
   "outputs": [
    {
     "name": "stdout",
     "output_type": "stream",
     "text": [
      "Module(\n",
      "    body=[\n",
      "        AnnAssign(\n",
      "            target=Name(id='var', ctx=Store()),\n",
      "            annotation=Name(id='float', ctx=Load()),\n",
      "            value=Constant(value=2.7),\n",
      "            simple=1)],\n",
      "    type_ignores=[])\n"
     ]
    }
   ],
   "source": [
    "repr: str = ast.dump(tree, indent=4)\n",
    "print(repr)"
   ]
  },
  {
   "cell_type": "code",
   "execution_count": 17,
   "metadata": {},
   "outputs": [],
   "source": [
    "node: ast.AnnAssign = tree.body[0]\n",
    "variable: ast.Name = node.target\n",
    "\n",
    "variable.id: str = \"while\""
   ]
  },
  {
   "cell_type": "code",
   "execution_count": 18,
   "metadata": {},
   "outputs": [
    {
     "name": "stdout",
     "output_type": "stream",
     "text": [
      "while: float = 2.7\n"
     ]
    }
   ],
   "source": [
    "code: str = ast.unparse(tree)\n",
    "print(code)"
   ]
  },
  {
   "attachments": {},
   "cell_type": "markdown",
   "metadata": {},
   "source": [
    "**Упражнение.** Попробуйте вернуть код к прежнему состоянию. Получится ли у Вас это сделать?"
   ]
  },
  {
   "attachments": {},
   "cell_type": "markdown",
   "metadata": {},
   "source": [
    "**Замечание.** Код, который будет подвержен преобразованию в абстрактное синтаксическое дерево, должен обязательно быть валидным с точки зрения возможности компиляции программы."
   ]
  },
  {
   "attachments": {},
   "cell_type": "markdown",
   "metadata": {},
   "source": [
    "**Пример.** Сортировка импортов через абстрактные синтаксические деревья."
   ]
  },
  {
   "cell_type": "code",
   "execution_count": 29,
   "metadata": {},
   "outputs": [],
   "source": [
    "code: str = \\\n",
    "\"\"\"\n",
    "import numpy as np\n",
    "import ast\n",
    "\n",
    "a: int = 0\n",
    "print(\"I love Python | a =\", a)\n",
    "\n",
    "import requests\n",
    "\"\"\""
   ]
  },
  {
   "cell_type": "code",
   "execution_count": 30,
   "metadata": {},
   "outputs": [],
   "source": [
    "tree: ast.Module = ast.parse(code)"
   ]
  },
  {
   "cell_type": "code",
   "execution_count": 31,
   "metadata": {},
   "outputs": [
    {
     "name": "stdout",
     "output_type": "stream",
     "text": [
      "Module(\n",
      "    body=[\n",
      "        Import(\n",
      "            names=[\n",
      "                alias(name='numpy', asname='np')]),\n",
      "        Import(\n",
      "            names=[\n",
      "                alias(name='ast')]),\n",
      "        AnnAssign(\n",
      "            target=Name(id='a', ctx=Store()),\n",
      "            annotation=Name(id='int', ctx=Load()),\n",
      "            value=Constant(value=0),\n",
      "            simple=1),\n",
      "        Expr(\n",
      "            value=Call(\n",
      "                func=Name(id='print', ctx=Load()),\n",
      "                args=[\n",
      "                    Constant(value='I love Python | a ='),\n",
      "                    Name(id='a', ctx=Load())],\n",
      "                keywords=[])),\n",
      "        Import(\n",
      "            names=[\n",
      "                alias(name='requests')])],\n",
      "    type_ignores=[])\n"
     ]
    }
   ],
   "source": [
    "repr: str = ast.dump(tree, indent=4)\n",
    "print(repr)"
   ]
  },
  {
   "cell_type": "code",
   "execution_count": 32,
   "metadata": {},
   "outputs": [],
   "source": [
    "from typing import Any\n",
    "\n",
    "\n",
    "imports: list[ast.Import] = []\n",
    "other: list[Any] = []\n",
    "\n",
    "for node in tree.body:\n",
    "\n",
    "    if isinstance(node, ast.Import):\n",
    "        imports.append(node)\n",
    "    else:\n",
    "        other.append(node)\n",
    "\n",
    "imports.sort(key=lambda node: node.names[0].name)\n",
    "tree.body = imports + other"
   ]
  },
  {
   "cell_type": "code",
   "execution_count": 33,
   "metadata": {},
   "outputs": [
    {
     "name": "stdout",
     "output_type": "stream",
     "text": [
      "import ast\n",
      "import numpy as np\n",
      "import requests\n",
      "a: int = 0\n",
      "print('I love Python | a =', a)\n"
     ]
    }
   ],
   "source": [
    "code: str = ast.unparse(tree)\n",
    "print(code)"
   ]
  },
  {
   "attachments": {},
   "cell_type": "markdown",
   "metadata": {},
   "source": [
    "**Замечание.** Импорты вида `import ...` и импорты вида `from ... import ...` имеют различное узловое представление."
   ]
  },
  {
   "attachments": {},
   "cell_type": "markdown",
   "metadata": {},
   "source": [
    "**Замечание.** Обратите внимание, что в примерах выше программы, с которыми была произведена работа, были строго линейными: никаких операторов ветвления, функций и так далее. Такая особенность позволяла работать только с атрибутом `body` у `ast.Module`. В общем случае, когда программа имеет достаточно большое число ветвлений, работа с узлами сильно усложняется. Давайте рассмотрим пример."
   ]
  },
  {
   "attachments": {},
   "cell_type": "markdown",
   "metadata": {},
   "source": [
    "**Пример.** Подстановка значения `EXPONENT`, равного 2.7, вместо переменных через абстрактные синтаксические деревья."
   ]
  },
  {
   "cell_type": "code",
   "execution_count": 42,
   "metadata": {},
   "outputs": [],
   "source": [
    "code: str = \\\n",
    "\"\"\"\n",
    "a: float = 5.0 * EXPONENT\n",
    "print(\"5.0 * EXPONENT =\", a)\n",
    "\n",
    "print(\"EXPONENT =\", EXPONENT)\n",
    "\"\"\""
   ]
  },
  {
   "cell_type": "code",
   "execution_count": 43,
   "metadata": {},
   "outputs": [],
   "source": [
    "tree: ast.Module = ast.parse(code)"
   ]
  },
  {
   "cell_type": "code",
   "execution_count": 44,
   "metadata": {},
   "outputs": [
    {
     "name": "stdout",
     "output_type": "stream",
     "text": [
      "Module(\n",
      "    body=[\n",
      "        AnnAssign(\n",
      "            target=Name(id='a', ctx=Store()),\n",
      "            annotation=Name(id='float', ctx=Load()),\n",
      "            value=BinOp(\n",
      "                left=Constant(value=5.0),\n",
      "                op=Mult(),\n",
      "                right=Name(id='EXPONENT', ctx=Load())),\n",
      "            simple=1),\n",
      "        Expr(\n",
      "            value=Call(\n",
      "                func=Name(id='print', ctx=Load()),\n",
      "                args=[\n",
      "                    Constant(value='5.0 * EXPONENT ='),\n",
      "                    Name(id='a', ctx=Load())],\n",
      "                keywords=[])),\n",
      "        Expr(\n",
      "            value=Call(\n",
      "                func=Name(id='print', ctx=Load()),\n",
      "                args=[\n",
      "                    Constant(value='EXPONENT ='),\n",
      "                    Name(id='EXPONENT', ctx=Load())],\n",
      "                keywords=[]))],\n",
      "    type_ignores=[])\n"
     ]
    }
   ],
   "source": [
    "repr: str = ast.dump(tree, indent=4)\n",
    "print(repr)"
   ]
  },
  {
   "attachments": {},
   "cell_type": "markdown",
   "metadata": {},
   "source": [
    "**Замечание.** Обратите внимание, что для решения задачи достаточно заменить все узлы типа `ast.Name`, такие что их атрибут `id` равен `EXPONENT`, на узел типа `ast.Constant`, в котором хранится значение искомой переменной."
   ]
  },
  {
   "attachments": {},
   "cell_type": "markdown",
   "metadata": {},
   "source": [
    "**Пояснение.** Для такой маленькой и, на первый взгляд, несложной задачи, уже возникают серьезные проблемы. Чтобы раскрыть значения переменной, необходимо в каждом из возможных узлов дойти до максимального глубоко уровня и проверить, не используется ли там константа `EXPONENT`. Разработчики библиотеки `ast` об этом позаботились и реализовали класс, предназначенный для перебора всех узлов."
   ]
  },
  {
   "cell_type": "code",
   "execution_count": 45,
   "metadata": {},
   "outputs": [],
   "source": [
    "from __future__ import annotations\n",
    "\n",
    "\n",
    "class Expander(ast.NodeTransformer):\n",
    "    __slots__: tuple[str, ...] = ()\n",
    "\n",
    "    def visit_Name(self: Expander, node: ast.Name) -> ast.Constant | ast.Name:\n",
    "        if node.id != \"EXPONENT\":\n",
    "            return node\n",
    "        \n",
    "        return ast.Constant(value=2.7)"
   ]
  },
  {
   "cell_type": "code",
   "execution_count": 46,
   "metadata": {},
   "outputs": [
    {
     "data": {
      "text/plain": [
       "<ast.Module at 0x23268ecf700>"
      ]
     },
     "execution_count": 46,
     "metadata": {},
     "output_type": "execute_result"
    }
   ],
   "source": [
    "expander = Expander()\n",
    "expander.visit(tree)"
   ]
  },
  {
   "cell_type": "code",
   "execution_count": 47,
   "metadata": {},
   "outputs": [
    {
     "name": "stdout",
     "output_type": "stream",
     "text": [
      "a: float = 5.0 * 2.7\n",
      "print('5.0 * EXPONENT =', a)\n",
      "print('EXPONENT =', 2.7)\n"
     ]
    }
   ],
   "source": [
    "code: str = ast.unparse(tree)\n",
    "print(code)"
   ]
  },
  {
   "attachments": {},
   "cell_type": "markdown",
   "metadata": {},
   "source": [
    "**Пояснение.** Для трансформаций абстрактных синтаксических деревьев принято использовать наследников класса `ast.NodeTransformer`. В дочернем классе разработчик должен переопределить методы вида `visit_Node`, где `Node` - тип узла, который нужно изменить. В частности, для примера выше был переопределен метод `visit_Name`. Далее, внутри функции-обработчика задать поведение по следующему принципу:\n",
    "\n",
    "1. Если возвращаемое из функции значение равно `None`, тогда синтаксическая единица будет удалена из дерева;\n",
    "2. Если возвращаемое из функции значение не равно `None`, тогда в абстрактное синтаксическое дерево, вместо текущего узла, будет подставлено возвращаемое значение.\n",
    "\n",
    "В примере выше каждый узел, который относился к типу `ast.Name`, был трансформирован при помощи метода `visit_Name` в соответствии со следующим правилом: если имя переменной равно `EXPONENT`, то подставляем на место узла константу (узел `ast.Constant`), а в противном случае - оставляем узел нетронутым."
   ]
  },
  {
   "attachments": {},
   "cell_type": "markdown",
   "metadata": {},
   "source": [
    "**Замечание.** Если наследник `ast.NodeTransformer` добавляет в дерево новые узлы (которые не были частью исходного дерева), тогда после преобразований необходимо дополнительно вызывать функцию `fix_missing_locations`. Она пересчитает информацию о расположении узлов, чтобы позже дерево могло безошибочно трансформироваться в код."
   ]
  },
  {
   "cell_type": "code",
   "execution_count": 48,
   "metadata": {},
   "outputs": [],
   "source": [
    "tree: ast.Module = ast.parse(code)\n",
    "\n",
    "expander = Expander()\n",
    "expander.visit(tree)\n",
    "\n",
    "tree: ast.Module = ast.fix_missing_locations(tree)"
   ]
  },
  {
   "cell_type": "code",
   "execution_count": 49,
   "metadata": {},
   "outputs": [
    {
     "name": "stdout",
     "output_type": "stream",
     "text": [
      "a: float = 5.0 * 2.7\n",
      "print('5.0 * EXPONENT =', a)\n",
      "print('EXPONENT =', 2.7)\n"
     ]
    }
   ],
   "source": [
    "code: str = ast.unparse(tree)\n",
    "print(code)"
   ]
  },
  {
   "attachments": {},
   "cell_type": "markdown",
   "metadata": {},
   "source": [
    "**Пример.** Вынести все импорты модулей в начало программы."
   ]
  },
  {
   "cell_type": "code",
   "execution_count": 113,
   "metadata": {},
   "outputs": [],
   "source": [
    "code: str = \\\n",
    "\"\"\"\n",
    "import numpy as np\n",
    "\n",
    "def function():\n",
    "    import pandas as pd\n",
    "    pass\n",
    "\n",
    "if True:\n",
    "    import ast\n",
    "    pass\n",
    "\"\"\""
   ]
  },
  {
   "cell_type": "code",
   "execution_count": 114,
   "metadata": {},
   "outputs": [],
   "source": [
    "tree: ast.Module = ast.parse(code)"
   ]
  },
  {
   "cell_type": "code",
   "execution_count": 115,
   "metadata": {},
   "outputs": [
    {
     "name": "stdout",
     "output_type": "stream",
     "text": [
      "Module(\n",
      "    body=[\n",
      "        Import(\n",
      "            names=[\n",
      "                alias(name='numpy', asname='np')]),\n",
      "        FunctionDef(\n",
      "            name='function',\n",
      "            args=arguments(\n",
      "                posonlyargs=[],\n",
      "                args=[],\n",
      "                kwonlyargs=[],\n",
      "                kw_defaults=[],\n",
      "                defaults=[]),\n",
      "            body=[\n",
      "                Import(\n",
      "                    names=[\n",
      "                        alias(name='pandas', asname='pd')]),\n",
      "                Pass()],\n",
      "            decorator_list=[]),\n",
      "        If(\n",
      "            test=Constant(value=True),\n",
      "            body=[\n",
      "                Import(\n",
      "                    names=[\n",
      "                        alias(name='ast')]),\n",
      "                Pass()],\n",
      "            orelse=[])],\n",
      "    type_ignores=[])\n"
     ]
    }
   ],
   "source": [
    "repr: str = ast.dump(tree, indent=4)\n",
    "print(repr)"
   ]
  },
  {
   "cell_type": "code",
   "execution_count": 116,
   "metadata": {},
   "outputs": [],
   "source": [
    "class Collector(ast.NodeTransformer):\n",
    "    __slots__: tuple[str] = (\"imports\")\n",
    "\n",
    "    def __init__(self: Collector) -> None:\n",
    "        super().__init__()\n",
    "        self.imports: list[ast.Import, ...] = []\n",
    "\n",
    "    def visit_Import(self: Collector, node: ast.Import) -> None:\n",
    "        self.imports.append(node)\n",
    "        return node\n",
    "\n",
    "\n",
    "class Remover(ast.NodeTransformer):\n",
    "    __slots__: tuple[str, ...] = ()\n",
    "\n",
    "    def visit_Import(self: Remover, node: ast.Import) -> None:\n",
    "        return None"
   ]
  },
  {
   "cell_type": "code",
   "execution_count": 117,
   "metadata": {},
   "outputs": [],
   "source": [
    "collector = Collector()\n",
    "collector.visit(tree)\n",
    "\n",
    "tree = ast.fix_missing_locations(tree)"
   ]
  },
  {
   "cell_type": "code",
   "execution_count": 118,
   "metadata": {},
   "outputs": [],
   "source": [
    "remover = Remover()\n",
    "remover.visit(tree)\n",
    "\n",
    "tree = ast.fix_missing_locations(tree)"
   ]
  },
  {
   "cell_type": "code",
   "execution_count": 119,
   "metadata": {},
   "outputs": [],
   "source": [
    "tree.body = collector.imports + tree.body\n",
    "tree = ast.fix_missing_locations(tree)"
   ]
  },
  {
   "cell_type": "code",
   "execution_count": 120,
   "metadata": {},
   "outputs": [
    {
     "name": "stdout",
     "output_type": "stream",
     "text": [
      "import numpy as np\n",
      "import pandas as pd\n",
      "import ast\n",
      "\n",
      "def function():\n",
      "    pass\n",
      "if True:\n",
      "    pass\n"
     ]
    }
   ],
   "source": [
    "code: str = ast.unparse(tree)\n",
    "print(code)"
   ]
  },
  {
   "attachments": {},
   "cell_type": "markdown",
   "metadata": {},
   "source": [
    "**Пояснение.** Созданные классы реализуют следующий функционал:\n",
    "\n",
    "- Класс `Collector` обходит дерево и собирает в нем импорты в поле `imports`;\n",
    "- Класс `Remover` обходит дерево и удаляет из него импорты;\n",
    "\n",
    "Как итог, остается запустить поочередно `Collector` и `Remover`, а затем перенести импорты из атрибута `imports` в начало абстрактного синтаксического дерева. Важно не забывать применять функцию `ast.fix_missing_locations`, чтобы всегда оставалась возможность преобразования дерева в код."
   ]
  },
  {
   "attachments": {},
   "cell_type": "markdown",
   "metadata": {},
   "source": [
    "**Замечание.** В общем случае рекомендуется использовать наследников `ast.NodeTransformer` в следующем формате: `tree = YourTransformer().visit(tree)`. Так Вы не будете создавать дополнительную нагрузку на оперативную память после обработки дерева. В частности, обратите внимание на класс `Collector` - при текущей постановке задачи нужно не забывать очищать за ним память, поскольку в его атрибуте `imports` хранится список из ссылок на импорты."
   ]
  },
  {
   "attachments": {},
   "cell_type": "markdown",
   "metadata": {},
   "source": [
    "**Пример.** В произвольной программе замените во всех строках слово `X` на слово `Y`. Например, если `X` равен `HSE`, а `Y` равен `Python`, то тогда строка `\"I love HSE\"` будет заменена на `\"I love Python\"`. Имена переменных, содержащие слово `X`, не должны быть заменены."
   ]
  },
  {
   "cell_type": "code",
   "execution_count": 134,
   "metadata": {},
   "outputs": [],
   "source": [
    "code = \\\n",
    "\"\"\"\n",
    "HSE = 'Hello, do not change this variable'\n",
    "text = 'Hey! It is HSE right above me!'                  # (!)\n",
    "\n",
    "print(HSE)\n",
    "print(text)\n",
    "\n",
    "if True:\n",
    "    text += \"Sir, but what about HSE?\"                   # (!)\n",
    "\n",
    "for _ in range(1):\n",
    "    for __ in range(2):\n",
    "        for ___ in range(3):\n",
    "            HSE += \">HSE<\"                               # (!)\n",
    "\n",
    "if 1 + 1 < 0:\n",
    "    print(HSE)\n",
    "else:\n",
    "    for _ in range(50):\n",
    "        print(HSE)\n",
    "\n",
    "\n",
    "for badword in {\"HSE\", \"Study at HSE\", \"Secret: HSE\"}:   # (!)\n",
    "    HSE = \"HSE\"                                          # (!)\n",
    "\"\"\""
   ]
  },
  {
   "cell_type": "code",
   "execution_count": 135,
   "metadata": {},
   "outputs": [],
   "source": [
    "tree: ast.Module = ast.parse(code)"
   ]
  },
  {
   "cell_type": "code",
   "execution_count": 136,
   "metadata": {},
   "outputs": [],
   "source": [
    "class Corrector(ast.NodeTransformer):\n",
    "    __slots__: tuple[str, ...] = (\n",
    "        \"__src\",\n",
    "        \"__dst\",\n",
    "    )\n",
    "\n",
    "    def __init__(self: Collector, src: str, dst: str) -> None:\n",
    "        super().__init__()\n",
    "\n",
    "        self.__src: str = src\n",
    "        self.__dst: str = dst\n",
    "\n",
    "    def visit_Constant(self: Collector, node: ast.Constant) -> ast.Constant:\n",
    "        if not isinstance(node.value, str):\n",
    "            return node\n",
    "\n",
    "        string: str = node.value.replace(\n",
    "            self.__src,\n",
    "            self.__dst,\n",
    "        )\n",
    "\n",
    "        return ast.Constant(value=string)"
   ]
  },
  {
   "cell_type": "code",
   "execution_count": 137,
   "metadata": {},
   "outputs": [],
   "source": [
    "tree = Corrector(src=\"HSE\", dst=\"Python\").visit(tree)\n",
    "tree = ast.fix_missing_locations(tree)"
   ]
  },
  {
   "cell_type": "code",
   "execution_count": 138,
   "metadata": {},
   "outputs": [
    {
     "name": "stdout",
     "output_type": "stream",
     "text": [
      "HSE = 'Hello, do not change this variable'\n",
      "text = 'Hey! It is Python right above me!'\n",
      "print(HSE)\n",
      "print(text)\n",
      "if True:\n",
      "    text += 'Sir, but what about Python?'\n",
      "for _ in range(1):\n",
      "    for __ in range(2):\n",
      "        for ___ in range(3):\n",
      "            HSE += '>Python<'\n",
      "if 1 + 1 < 0:\n",
      "    print(HSE)\n",
      "else:\n",
      "    for _ in range(50):\n",
      "        print(HSE)\n",
      "for badword in {'Python', 'Study at Python', 'Secret: Python'}:\n",
      "    HSE = 'Python'\n"
     ]
    }
   ],
   "source": [
    "code: str = ast.unparse(tree)\n",
    "print(code)"
   ]
  },
  {
   "attachments": {},
   "cell_type": "markdown",
   "metadata": {},
   "source": [
    "**Замечание.** Обратите внимание на то, что модуль `ast` удаляет из кода комментарии, выполненные при помощи `#`. Учитывайте эту особенность, если ожидаете писать линтер на основе абстрактных синтаксических деревьев."
   ]
  },
  {
   "attachments": {},
   "cell_type": "markdown",
   "metadata": {},
   "source": [
    "**Пример.** В произвольной функции удалите внутри каждого `if`-блока вызов функции `print`. Предполагайте, что код останется валидным."
   ]
  },
  {
   "cell_type": "code",
   "execution_count": 139,
   "metadata": {},
   "outputs": [],
   "source": [
    "code = \\\n",
    "\"\"\"\n",
    "if True:\n",
    "    a = 1\n",
    "    print(\"1\")\n",
    "\n",
    "    if True:\n",
    "        b = 2\n",
    "        print(\"2\")\n",
    "\n",
    "    if True:\n",
    "        c = 3\n",
    "        print(\"3\")\n",
    "\n",
    "if True and True:\n",
    "    d = 4\n",
    "    print(\"4\")\n",
    "\n",
    "    if not False:\n",
    "        e = 5\n",
    "        print(\"5\")\n",
    "\"\"\""
   ]
  },
  {
   "cell_type": "code",
   "execution_count": 140,
   "metadata": {},
   "outputs": [],
   "source": [
    "tree: ast.Module = ast.parse(code)"
   ]
  },
  {
   "cell_type": "code",
   "execution_count": 141,
   "metadata": {},
   "outputs": [
    {
     "name": "stdout",
     "output_type": "stream",
     "text": [
      "Module(\n",
      "    body=[\n",
      "        If(\n",
      "            test=Constant(value=True),\n",
      "            body=[\n",
      "                Assign(\n",
      "                    targets=[\n",
      "                        Name(id='a', ctx=Store())],\n",
      "                    value=Constant(value=1)),\n",
      "                Expr(\n",
      "                    value=Call(\n",
      "                        func=Name(id='print', ctx=Load()),\n",
      "                        args=[\n",
      "                            Constant(value='1')],\n",
      "                        keywords=[])),\n",
      "                If(\n",
      "                    test=Constant(value=True),\n",
      "                    body=[\n",
      "                        Assign(\n",
      "                            targets=[\n",
      "                                Name(id='b', ctx=Store())],\n",
      "                            value=Constant(value=2)),\n",
      "                        Expr(\n",
      "                            value=Call(\n",
      "                                func=Name(id='print', ctx=Load()),\n",
      "                                args=[\n",
      "                                    Constant(value='2')],\n",
      "                                keywords=[]))],\n",
      "                    orelse=[]),\n",
      "                If(\n",
      "                    test=Constant(value=True),\n",
      "                    body=[\n",
      "                        Assign(\n",
      "                            targets=[\n",
      "                                Name(id='c', ctx=Store())],\n",
      "                            value=Constant(value=3)),\n",
      "                        Expr(\n",
      "                            value=Call(\n",
      "                                func=Name(id='print', ctx=Load()),\n",
      "                                args=[\n",
      "                                    Constant(value='3')],\n",
      "                                keywords=[]))],\n",
      "                    orelse=[])],\n",
      "            orelse=[]),\n",
      "        If(\n",
      "            test=BoolOp(\n",
      "                op=And(),\n",
      "                values=[\n",
      "                    Constant(value=True),\n",
      "                    Constant(value=True)]),\n",
      "            body=[\n",
      "                Assign(\n",
      "                    targets=[\n",
      "                        Name(id='d', ctx=Store())],\n",
      "                    value=Constant(value=4)),\n",
      "                Expr(\n",
      "                    value=Call(\n",
      "                        func=Name(id='print', ctx=Load()),\n",
      "                        args=[\n",
      "                            Constant(value='4')],\n",
      "                        keywords=[])),\n",
      "                If(\n",
      "                    test=UnaryOp(\n",
      "                        op=Not(),\n",
      "                        operand=Constant(value=False)),\n",
      "                    body=[\n",
      "                        Assign(\n",
      "                            targets=[\n",
      "                                Name(id='e', ctx=Store())],\n",
      "                            value=Constant(value=5)),\n",
      "                        Expr(\n",
      "                            value=Call(\n",
      "                                func=Name(id='print', ctx=Load()),\n",
      "                                args=[\n",
      "                                    Constant(value='5')],\n",
      "                                keywords=[]))],\n",
      "                    orelse=[])],\n",
      "            orelse=[])],\n",
      "    type_ignores=[])\n"
     ]
    }
   ],
   "source": [
    "repr: str = ast.dump(tree, indent=4)\n",
    "print(repr)"
   ]
  },
  {
   "cell_type": "code",
   "execution_count": 142,
   "metadata": {},
   "outputs": [],
   "source": [
    "class Remover(ast.NodeTransformer):\n",
    "    __slots__: tuple[str, ...] = ()\n",
    "\n",
    "    def visit_If(self: Remover, node: ast.If) -> ast.If:\n",
    "        body: list[Any] = []\n",
    "        for child in node.body:\n",
    "\n",
    "            if not isinstance(child, ast.Expr):\n",
    "                body.append(child)\n",
    "                continue\n",
    "\n",
    "            if not isinstance(child.value, ast.Call):\n",
    "                body.append(child)\n",
    "                continue\n",
    "\n",
    "            if not isinstance(child.value.func, ast.Name):\n",
    "                body.append(child)\n",
    "                continue\n",
    "\n",
    "            if child.value.func.id != \"print\":\n",
    "                body.append(child)\n",
    "                continue\n",
    "\n",
    "        node.body = body\n",
    "        return node"
   ]
  },
  {
   "cell_type": "code",
   "execution_count": 143,
   "metadata": {},
   "outputs": [],
   "source": [
    "tree = Remover().visit(tree)\n",
    "tree = ast.fix_missing_locations(tree)"
   ]
  },
  {
   "cell_type": "code",
   "execution_count": 144,
   "metadata": {},
   "outputs": [
    {
     "name": "stdout",
     "output_type": "stream",
     "text": [
      "if True:\n",
      "    a = 1\n",
      "    if True:\n",
      "        b = 2\n",
      "        print('2')\n",
      "    if True:\n",
      "        c = 3\n",
      "        print('3')\n",
      "if True and True:\n",
      "    d = 4\n",
      "    if not False:\n",
      "        e = 5\n",
      "        print('5')\n"
     ]
    }
   ],
   "source": [
    "code: str = ast.unparse(tree)\n",
    "print(code)"
   ]
  },
  {
   "attachments": {},
   "cell_type": "markdown",
   "metadata": {},
   "source": [
    "**Замечание.** По какой-то причине были удалены только те функции `print`, что находятся близко к корню абстрактного синтаксического дерева. Так происходит из-за внутреннего устройства наследников `ast.NodeTranformer`. Алгоритм, перебирающий дерево, останавливается на первом подходящем узле из текущей группы узлов. Именно по этой причине были удалены только те `print`, которые лежат на поверхности. Проблему решает использование метода `generic_visit`."
   ]
  },
  {
   "cell_type": "code",
   "execution_count": 146,
   "metadata": {},
   "outputs": [],
   "source": [
    "code = \\\n",
    "\"\"\"\n",
    "if True:\n",
    "    a = 1\n",
    "    print(\"1\")\n",
    "\n",
    "    if True:\n",
    "        b = 2\n",
    "        print(\"2\")\n",
    "\n",
    "    if True:\n",
    "        c = 3\n",
    "        print(\"3\")\n",
    "\n",
    "if True and True:\n",
    "    d = 4\n",
    "    print(\"4\")\n",
    "\n",
    "    if not False:\n",
    "        e = 5\n",
    "        print(\"5\")\n",
    "\"\"\""
   ]
  },
  {
   "cell_type": "code",
   "execution_count": 147,
   "metadata": {},
   "outputs": [],
   "source": [
    "class Remover(ast.NodeTransformer):\n",
    "    __slots__: tuple[str, ...] = ()\n",
    "\n",
    "    def visit_If(self: Remover, node: ast.If) -> ast.If:\n",
    "        self.generic_visit(node)\n",
    "\n",
    "        body: list[Any] = []\n",
    "        for child in node.body:\n",
    "\n",
    "            if not isinstance(child, ast.Expr):\n",
    "                body.append(child)\n",
    "                continue\n",
    "\n",
    "            if not isinstance(child.value, ast.Call):\n",
    "                body.append(child)\n",
    "                continue\n",
    "\n",
    "            if not isinstance(child.value.func, ast.Name):\n",
    "                body.append(child)\n",
    "                continue\n",
    "\n",
    "            if child.value.func.id != \"print\":\n",
    "                body.append(child)\n",
    "                continue\n",
    "\n",
    "        node.body = body\n",
    "        return node"
   ]
  },
  {
   "cell_type": "code",
   "execution_count": 148,
   "metadata": {},
   "outputs": [],
   "source": [
    "tree = Remover().visit(tree)\n",
    "tree = ast.fix_missing_locations(tree)"
   ]
  },
  {
   "cell_type": "code",
   "execution_count": 149,
   "metadata": {},
   "outputs": [
    {
     "name": "stdout",
     "output_type": "stream",
     "text": [
      "if True:\n",
      "    a = 1\n",
      "    if True:\n",
      "        b = 2\n",
      "    if True:\n",
      "        c = 3\n",
      "if True and True:\n",
      "    d = 4\n",
      "    if not False:\n",
      "        e = 5\n"
     ]
    }
   ],
   "source": [
    "code: str = ast.unparse(tree)\n",
    "print(code)"
   ]
  },
  {
   "attachments": {},
   "cell_type": "markdown",
   "metadata": {},
   "source": [
    "**Пояснение.** Метод `generic_visit` вызывает обработку для дочерних узлов текущего узла, если таковые имеются. В случаях, когда Вы не используете этот метод, дочерние узлы становятся Вашей зоной ответственности. Методы типа `visit` не будут изучать дочерние узлы того же типа, что и родитель, без `generic_visit`. Пример выше иллюстрирует этот кейс."
   ]
  },
  {
   "attachments": {},
   "cell_type": "markdown",
   "metadata": {},
   "source": [
    "**Пример.** Отсортируйте все функции (включая вложенные) по имени."
   ]
  },
  {
   "cell_type": "code",
   "execution_count": 173,
   "metadata": {},
   "outputs": [],
   "source": [
    "code = \\\n",
    "\"\"\"\n",
    "def b():\n",
    "    pass\n",
    "\n",
    "def a():\n",
    "    pass\n",
    "\n",
    "class A(object):\n",
    "    def c():\n",
    "        pass\n",
    "\n",
    "    def b():\n",
    "        def b():\n",
    "            pass\n",
    "\n",
    "        def a():\n",
    "            pass\n",
    "\n",
    "    def a():\n",
    "        pass\n",
    "\"\"\""
   ]
  },
  {
   "cell_type": "code",
   "execution_count": 174,
   "metadata": {},
   "outputs": [],
   "source": [
    "tree: ast.Module = ast.parse(code)"
   ]
  },
  {
   "cell_type": "code",
   "execution_count": 175,
   "metadata": {},
   "outputs": [
    {
     "name": "stdout",
     "output_type": "stream",
     "text": [
      "Module(\n",
      "    body=[\n",
      "        FunctionDef(\n",
      "            name='b',\n",
      "            args=arguments(\n",
      "                posonlyargs=[],\n",
      "                args=[],\n",
      "                kwonlyargs=[],\n",
      "                kw_defaults=[],\n",
      "                defaults=[]),\n",
      "            body=[\n",
      "                Pass()],\n",
      "            decorator_list=[]),\n",
      "        FunctionDef(\n",
      "            name='a',\n",
      "            args=arguments(\n",
      "                posonlyargs=[],\n",
      "                args=[],\n",
      "                kwonlyargs=[],\n",
      "                kw_defaults=[],\n",
      "                defaults=[]),\n",
      "            body=[\n",
      "                Pass()],\n",
      "            decorator_list=[]),\n",
      "        ClassDef(\n",
      "            name='A',\n",
      "            bases=[\n",
      "                Name(id='object', ctx=Load())],\n",
      "            keywords=[],\n",
      "            body=[\n",
      "                FunctionDef(\n",
      "                    name='c',\n",
      "                    args=arguments(\n",
      "                        posonlyargs=[],\n",
      "                        args=[],\n",
      "                        kwonlyargs=[],\n",
      "                        kw_defaults=[],\n",
      "                        defaults=[]),\n",
      "                    body=[\n",
      "                        Pass()],\n",
      "                    decorator_list=[]),\n",
      "                FunctionDef(\n",
      "                    name='b',\n",
      "                    args=arguments(\n",
      "                        posonlyargs=[],\n",
      "                        args=[],\n",
      "                        kwonlyargs=[],\n",
      "                        kw_defaults=[],\n",
      "                        defaults=[]),\n",
      "                    body=[\n",
      "                        FunctionDef(\n",
      "                            name='b',\n",
      "                            args=arguments(\n",
      "                                posonlyargs=[],\n",
      "                                args=[],\n",
      "                                kwonlyargs=[],\n",
      "                                kw_defaults=[],\n",
      "                                defaults=[]),\n",
      "                            body=[\n",
      "                                Pass()],\n",
      "                            decorator_list=[]),\n",
      "                        FunctionDef(\n",
      "                            name='a',\n",
      "                            args=arguments(\n",
      "                                posonlyargs=[],\n",
      "                                args=[],\n",
      "                                kwonlyargs=[],\n",
      "                                kw_defaults=[],\n",
      "                                defaults=[]),\n",
      "                            body=[\n",
      "                                Pass()],\n",
      "                            decorator_list=[])],\n",
      "                    decorator_list=[]),\n",
      "                FunctionDef(\n",
      "                    name='a',\n",
      "                    args=arguments(\n",
      "                        posonlyargs=[],\n",
      "                        args=[],\n",
      "                        kwonlyargs=[],\n",
      "                        kw_defaults=[],\n",
      "                        defaults=[]),\n",
      "                    body=[\n",
      "                        Pass()],\n",
      "                    decorator_list=[])],\n",
      "            decorator_list=[])],\n",
      "    type_ignores=[])\n"
     ]
    }
   ],
   "source": [
    "repr: str = ast.dump(tree, indent=4)\n",
    "print(repr)"
   ]
  },
  {
   "cell_type": "code",
   "execution_count": 176,
   "metadata": {},
   "outputs": [],
   "source": [
    "from typing import TypeAlias, Union\n",
    "\n",
    "Scope: TypeAlias = Union[ast.FunctionDef, ast.ClassDef, ast.Module]\n",
    "\n",
    "\n",
    "class Sorter(ast.NodeTransformer):\n",
    "    __slots__: tuple[str, ...] = ()\n",
    "\n",
    "    def sort_scope(self: Sorter, node: Scope) -> Scope:\n",
    "        functions: list[ast.FunctionDef] = []\n",
    "        other: list[Any] = []\n",
    "\n",
    "        for childnode in node.body:\n",
    "            if isinstance(childnode, ast.FunctionDef):\n",
    "                functions.append(childnode)\n",
    "            else:\n",
    "                other.append(childnode)\n",
    "\n",
    "        functions.sort(key=lambda foo: foo.name)\n",
    "        node.body = functions + other\n",
    "\n",
    "        return ast.fix_missing_locations(node)\n",
    "\n",
    "    def visit_FunctionDef(self: Sorter, node: ast.FunctionDef) -> ast.FunctionDef:\n",
    "        self.generic_visit(node)\n",
    "        return self.sort_scope(node)\n",
    "\n",
    "    def visit_ClassDef(self: Sorter, node: ast.ClassDef) -> ast.ClassDef:\n",
    "        self.generic_visit(node)\n",
    "        return self.sort_scope(node)\n",
    "\n",
    "    def visit_Module(self: Sorter, node: ast.Module) -> ast.Module:\n",
    "        self.generic_visit(node)\n",
    "        return self.sort_scope(node)"
   ]
  },
  {
   "cell_type": "code",
   "execution_count": 177,
   "metadata": {},
   "outputs": [],
   "source": [
    "tree = Sorter().visit(tree)\n",
    "tree = ast.fix_missing_locations(tree)"
   ]
  },
  {
   "cell_type": "code",
   "execution_count": 178,
   "metadata": {},
   "outputs": [
    {
     "name": "stdout",
     "output_type": "stream",
     "text": [
      "def a():\n",
      "    pass\n",
      "\n",
      "def b():\n",
      "    pass\n",
      "\n",
      "class A(object):\n",
      "\n",
      "    def a():\n",
      "        pass\n",
      "\n",
      "    def b():\n",
      "\n",
      "        def a():\n",
      "            pass\n",
      "\n",
      "        def b():\n",
      "            pass\n",
      "\n",
      "    def c():\n",
      "        pass\n"
     ]
    }
   ],
   "source": [
    "code: str = ast.unparse(tree)\n",
    "print(code)"
   ]
  },
  {
   "attachments": {},
   "cell_type": "markdown",
   "metadata": {},
   "source": [
    "**Пояснение.** Достаточно внутри каждого пространства имен, которое может содержать функции, выполнить следующие шаги:\n",
    "\n",
    "1. Обработать дочерние узлы;\n",
    "2. Обработать сам узел - отсортировать функции по имени."
   ]
  },
  {
   "attachments": {},
   "cell_type": "markdown",
   "metadata": {},
   "source": [
    "**Пример.** Получение документации функции через абстрактные синтаксические деревья."
   ]
  },
  {
   "cell_type": "code",
   "execution_count": 179,
   "metadata": {},
   "outputs": [],
   "source": [
    "code = \\\n",
    "\"\"\"\n",
    "def function(param: Any) -> Any:\n",
    "    '''\n",
    "    Args:\n",
    "        param: Literally anything!\n",
    "\n",
    "    Return:\n",
    "        Literally anything!\n",
    "    '''\n",
    "\"\"\""
   ]
  },
  {
   "cell_type": "code",
   "execution_count": 180,
   "metadata": {},
   "outputs": [
    {
     "name": "stdout",
     "output_type": "stream",
     "text": [
      "Args:\n",
      "    param: Literally anything!\n",
      "\n",
      "Return:\n",
      "    Literally anything!\n"
     ]
    }
   ],
   "source": [
    "tree: ast.Module = ast.parse(code)\n",
    "function: ast.FunctionDef = tree.body[0]\n",
    "\n",
    "print(ast.get_docstring(function))"
   ]
  },
  {
   "attachments": {},
   "cell_type": "markdown",
   "metadata": {},
   "source": [
    "**Спойлер.** На семинаре:\n",
    "\n",
    "- Изучите дополнительные примеры работы с абстрактными синтаксическими деревьями."
   ]
  }
 ],
 "metadata": {
  "kernelspec": {
   "display_name": "Python 3",
   "language": "python",
   "name": "python3"
  },
  "language_info": {
   "codemirror_mode": {
    "name": "ipython",
    "version": 3
   },
   "file_extension": ".py",
   "mimetype": "text/x-python",
   "name": "python",
   "nbconvert_exporter": "python",
   "pygments_lexer": "ipython3",
   "version": "3.11.0"
  },
  "orig_nbformat": 4
 },
 "nbformat": 4,
 "nbformat_minor": 2
}
