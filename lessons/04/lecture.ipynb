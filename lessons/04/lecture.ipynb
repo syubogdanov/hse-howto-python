{
 "cells": [
  {
   "attachments": {},
   "cell_type": "markdown",
   "metadata": {},
   "source": [
    "<div align=\"center\">\n",
    "    <a href=\"https://github.com/syubogdanov/hse-howto-python\">\n",
    "        <img src=\"https://cdn-icons-png.flaticon.com/128/1864/1864652.png\" height=\"128px\" width=\"auto\">\n",
    "    </a>\n",
    "    <h3>\n",
    "        <b>\n",
    "            Продвинутый Python\n",
    "        </b>\n",
    "    </h3>\n",
    "    <i>\n",
    "        Взаимодействие с ОС. Консольные утилиты\n",
    "    </i>\n",
    "</div>\n",
    "\n",
    "<br>"
   ]
  },
  {
   "attachments": {},
   "cell_type": "markdown",
   "metadata": {},
   "source": [
    "**Цель занятия.** Изучение дополнительных инструментов, полезных при разработке программного обеспечения. В частности: углубление в аннотацию типов, взаимодействие с операционной системой и работа с аргументами командной строки."
   ]
  },
  {
   "attachments": {},
   "cell_type": "markdown",
   "metadata": {},
   "source": [
    "**Примечание.** Начало занятия будет посвящено изучению дополнительного функционала модуля `typing`."
   ]
  },
  {
   "attachments": {},
   "cell_type": "markdown",
   "metadata": {},
   "source": [
    "**Пример.** Напишите функцию, которая будет вызывать произвольное исключение."
   ]
  },
  {
   "cell_type": "code",
   "execution_count": 34,
   "metadata": {},
   "outputs": [],
   "source": [
    "from typing import NoReturn\n",
    "from random import choice\n",
    "\n",
    "EXCEPTIONS: list[Exception] = [\n",
    "    RuntimeError,\n",
    "    TypeError,\n",
    "    ValueError,\n",
    "]\n",
    "\n",
    "\n",
    "def anyraise() -> NoReturn:\n",
    "    exception = choice(EXCEPTIONS)\n",
    "    raise exception(\"[!] Random Exception\")"
   ]
  },
  {
   "attachments": {},
   "cell_type": "markdown",
   "metadata": {},
   "source": [
    "**Пояснение.** У невозвратных функций выходной тип данных принято параметризовать при помощи `typing.NoReturn`."
   ]
  },
  {
   "attachments": {},
   "cell_type": "markdown",
   "metadata": {},
   "source": [
    "**Пример.** Напишите функцию, которая имитирует русскую рулетку при барабане револьвера в `n` патронов. В случае поражения бросайте произвольное исключение при помощи функции из примера выше."
   ]
  },
  {
   "cell_type": "code",
   "execution_count": 35,
   "metadata": {},
   "outputs": [],
   "source": [
    "from random import randint\n",
    "from typing import assert_never, Never, Optional\n",
    "\n",
    "\n",
    "def randbool() -> bool:\n",
    "    return bool(randint(0, 1))\n",
    "\n",
    "\n",
    "def roulette(n: int) -> Optional[NoReturn]:\n",
    "    for _ in range(n):\n",
    "        if randbool():\n",
    "            anyraise()\n",
    "            assert_never(Never)"
   ]
  },
  {
   "cell_type": "code",
   "execution_count": 60,
   "metadata": {},
   "outputs": [],
   "source": [
    "roulette(3)"
   ]
  },
  {
   "attachments": {},
   "cell_type": "markdown",
   "metadata": {},
   "source": [
    "**Замечание.** Вы можете помечать недостижимые участки кода при помощи `assert_never(Never)`. Его исполнение приведет к вызову исключения. Как правило, объект используется сразу же после вызова функции, имеющей атрибут `typing.NoReturn`."
   ]
  },
  {
   "attachments": {},
   "cell_type": "markdown",
   "metadata": {},
   "source": [
    "**Пример.** Напишите функцию, которая конкатенирует две строки (возможно, переданные в виде байтов)."
   ]
  },
  {
   "cell_type": "code",
   "execution_count": 6,
   "metadata": {},
   "outputs": [],
   "source": [
    "from typing import AnyStr\n",
    "\n",
    "def concatenate(lh: AnyStr, rh: AnyStr) -> AnyStr:\n",
    "    return lh + rh"
   ]
  },
  {
   "cell_type": "code",
   "execution_count": 9,
   "metadata": {},
   "outputs": [
    {
     "data": {
      "text/plain": [
       "'leftright'"
      ]
     },
     "execution_count": 9,
     "metadata": {},
     "output_type": "execute_result"
    }
   ],
   "source": [
    "concatenate(\"left\", \"right\")"
   ]
  },
  {
   "cell_type": "code",
   "execution_count": 10,
   "metadata": {},
   "outputs": [
    {
     "data": {
      "text/plain": [
       "b'leftright'"
      ]
     },
     "execution_count": 10,
     "metadata": {},
     "output_type": "execute_result"
    }
   ],
   "source": [
    "concatenate(b\"left\", b\"right\")"
   ]
  },
  {
   "cell_type": "code",
   "execution_count": 11,
   "metadata": {},
   "outputs": [
    {
     "ename": "TypeError",
     "evalue": "can only concatenate str (not \"bytes\") to str",
     "output_type": "error",
     "traceback": [
      "\u001b[1;31m---------------------------------------------------------------------------\u001b[0m",
      "\u001b[1;31mTypeError\u001b[0m                                 Traceback (most recent call last)",
      "Cell \u001b[1;32mIn[11], line 1\u001b[0m\n\u001b[1;32m----> 1\u001b[0m concatenate(\u001b[39m\"\u001b[39;49m\u001b[39mleft\u001b[39;49m\u001b[39m\"\u001b[39;49m, \u001b[39mb\u001b[39;49m\u001b[39m\"\u001b[39;49m\u001b[39mright\u001b[39;49m\u001b[39m\"\u001b[39;49m)\n",
      "Cell \u001b[1;32mIn[6], line 4\u001b[0m, in \u001b[0;36mconcatenate\u001b[1;34m(lh, rh)\u001b[0m\n\u001b[0;32m      3\u001b[0m \u001b[39mdef\u001b[39;00m \u001b[39mconcatenate\u001b[39m(lh: AnyStr, rh: AnyStr) \u001b[39m-\u001b[39m\u001b[39m>\u001b[39m AnyStr:\n\u001b[1;32m----> 4\u001b[0m     \u001b[39mreturn\u001b[39;00m lh \u001b[39m+\u001b[39;49m rh\n",
      "\u001b[1;31mTypeError\u001b[0m: can only concatenate str (not \"bytes\") to str"
     ]
    }
   ],
   "source": [
    "concatenate(\"left\", b\"right\")"
   ]
  },
  {
   "attachments": {},
   "cell_type": "markdown",
   "metadata": {},
   "source": [
    "**Пояснение.** Параметризация аргументов функции при помощи `typing.AnyStr` эквивалентна параметризации `str | bytes`. В то же время использование `typing.Anystr` накладывает ограничение на смешение типов - все аргументы, отмеченные при помощи `typing.Anystr`, в рамках одного вызова должны строго относиться либо к `str`, либо к `bytes`. Правило касается и выходного параметра."
   ]
  },
  {
   "attachments": {},
   "cell_type": "markdown",
   "metadata": {},
   "source": [
    "**Пример.** Напишите функцию, которая принимает на вход одиночный символ, и возвращает строку, состоящую из всех букв алфавита того же регистра, начиная с переданного символа."
   ]
  },
  {
   "cell_type": "code",
   "execution_count": 17,
   "metadata": {},
   "outputs": [],
   "source": [
    "from typing import TypeAlias, TypeVar\n",
    "\n",
    "char: TypeAlias = TypeVar(\"char\", bound=str)\n",
    "\n",
    "\n",
    "def endalph(letter: char) -> str:\n",
    "    items: list[char] = []\n",
    "\n",
    "    for shift in range(ord('z') - ord(letter.lower()) + 1):\n",
    "        items += chr(ord(letter) + shift)\n",
    "\n",
    "    return \"\".join(items)"
   ]
  },
  {
   "cell_type": "code",
   "execution_count": 18,
   "metadata": {},
   "outputs": [
    {
     "data": {
      "text/plain": [
       "'abcdefghijklmnopqrstuvwxyz'"
      ]
     },
     "execution_count": 18,
     "metadata": {},
     "output_type": "execute_result"
    }
   ],
   "source": [
    "endalph('a')"
   ]
  },
  {
   "cell_type": "code",
   "execution_count": 19,
   "metadata": {},
   "outputs": [
    {
     "data": {
      "text/plain": [
       "'TUVWXYZ'"
      ]
     },
     "execution_count": 19,
     "metadata": {},
     "output_type": "execute_result"
    }
   ],
   "source": [
    "endalph('T')"
   ]
  },
  {
   "attachments": {},
   "cell_type": "markdown",
   "metadata": {},
   "source": [
    "**Пояснение.** Объект `typing.TypeVar` используется для создания аннотации для произвольного типа данных. В Python одиночные символы имеют тип данных `str`, однако для задачи допустимо уточнить входной тип данных через новый объект аннотации `char`, являющегося подтипом `str`."
   ]
  },
  {
   "attachments": {},
   "cell_type": "markdown",
   "metadata": {},
   "source": [
    "**Примечание.** Использование `str` в аннотации тоже было бы правильным. Однако для внешнего пользователя в документации стоило бы указать, какой входной аргумент ожидается."
   ]
  },
  {
   "attachments": {},
   "cell_type": "markdown",
   "metadata": {},
   "source": [
    "**Замечание.** Если необходимо указать спецификацию под несколько допустимых типов данных - например, для `str` и `int`, тогда можно использовать любой из:\n",
    "\n",
    "- `T: TypeAlias = TypeVar(\"T\", bound=Union[str, int])`\n",
    "- `T: TypeAlias = TypeVar(\"T\", str, int)`"
   ]
  },
  {
   "attachments": {},
   "cell_type": "markdown",
   "metadata": {},
   "source": [
    "**Замечание.** Если Вы указываете единственный тип в аргументах `typing.TypeVar`, тогда не забудьте указать, что он относится к параметру `bound`. В противном случае - получите исключение."
   ]
  },
  {
   "attachments": {},
   "cell_type": "markdown",
   "metadata": {},
   "source": [
    "**Пример.** Напишите функцию, которая проверяет, что строка относится к типу `char`."
   ]
  },
  {
   "cell_type": "code",
   "execution_count": 24,
   "metadata": {},
   "outputs": [],
   "source": [
    "from typing import TypeGuard\n",
    "\n",
    "\n",
    "def is_char(value: AnyStr) -> TypeGuard[char]:\n",
    "    if not isinstance(value, str):\n",
    "        return False\n",
    "\n",
    "    return len(value) == 1"
   ]
  },
  {
   "cell_type": "code",
   "execution_count": 25,
   "metadata": {},
   "outputs": [
    {
     "data": {
      "text/plain": [
       "False"
      ]
     },
     "execution_count": 25,
     "metadata": {},
     "output_type": "execute_result"
    }
   ],
   "source": [
    "is_char(\"abc\")"
   ]
  },
  {
   "cell_type": "code",
   "execution_count": 26,
   "metadata": {},
   "outputs": [
    {
     "data": {
      "text/plain": [
       "True"
      ]
     },
     "execution_count": 26,
     "metadata": {},
     "output_type": "execute_result"
    }
   ],
   "source": [
    "is_char('a')"
   ]
  },
  {
   "cell_type": "code",
   "execution_count": 27,
   "metadata": {},
   "outputs": [
    {
     "data": {
      "text/plain": [
       "False"
      ]
     },
     "execution_count": 27,
     "metadata": {},
     "output_type": "execute_result"
    }
   ],
   "source": [
    "is_char(b'a')"
   ]
  },
  {
   "attachments": {},
   "cell_type": "markdown",
   "metadata": {},
   "source": [
    "**Пояснение.** При написании кода Вы периодически используете функции-валидаторы. Для них принято использовать объект аннотации `typing.TypeGuard`. Он показывает, что функция возвращает `True` тогда и только тогда, когда ее аргумент относится к типу данных, указанному в `typing.TypeGuard`. Для лучшего понимания стоит еще раз изучить пример выше."
   ]
  },
  {
   "attachments": {},
   "cell_type": "markdown",
   "metadata": {},
   "source": [
    "**Замечание.** Подразумевается, что входной тип данных является надмножеством того, что указано в `typing.TypeGuard`."
   ]
  },
  {
   "attachments": {},
   "cell_type": "markdown",
   "metadata": {},
   "source": [
    "**Пример.** Покажите, что переменная не предполагает изменения значения."
   ]
  },
  {
   "cell_type": "code",
   "execution_count": 20,
   "metadata": {},
   "outputs": [],
   "source": [
    "from typing import Final\n",
    "\n",
    "MEMORY_LIMIT: Final[int] = 1024 * 1024  # KiB"
   ]
  },
  {
   "attachments": {},
   "cell_type": "markdown",
   "metadata": {},
   "source": [
    "**Пояснение.** Объект `typing.Final` показывает, что некоторое значение является конечным и не может быть изменено в теле программы. Правило распространяется на переменную даже при наследовании. Попытка переприсвоить значение не вызовет исключений, хотя Ваш линтер, скорее всего, возмутится, заметив подобные действия."
   ]
  },
  {
   "attachments": {},
   "cell_type": "markdown",
   "metadata": {},
   "source": [
    "**Пример.** Покажите, что метод класса не может быть переопределен при наследовании."
   ]
  },
  {
   "cell_type": "code",
   "execution_count": null,
   "metadata": {},
   "outputs": [],
   "source": [
    "from typing import final\n",
    "\n",
    "class Example(object):\n",
    "    @final\n",
    "    def example() -> None:\n",
    "        ..."
   ]
  },
  {
   "attachments": {},
   "cell_type": "markdown",
   "metadata": {},
   "source": [
    "**Пример.** Покажите, что класс не может иметь дочерние классы."
   ]
  },
  {
   "cell_type": "code",
   "execution_count": null,
   "metadata": {},
   "outputs": [],
   "source": [
    "@final\n",
    "class Example(object):\n",
    "    ..."
   ]
  },
  {
   "attachments": {},
   "cell_type": "markdown",
   "metadata": {},
   "source": [
    "**Пояснение.** Декоратор `typing.final` показывает разработчику, что метод класса не может быть переопределен в наследнике или что класс не может иметь наследников. В случае нарушения соглашения никаких исключений вызвано не будет, хотя Ваш линтер, скорее всего, возмутится, заметив подобные действия."
   ]
  },
  {
   "attachments": {},
   "cell_type": "markdown",
   "metadata": {},
   "source": [
    "**Пример.** Получить аннотацию функции, не используя магические атрибуты."
   ]
  },
  {
   "cell_type": "code",
   "execution_count": 28,
   "metadata": {},
   "outputs": [],
   "source": [
    "def function(a: int, b: str) -> list[float]:\n",
    "    return list(len(b) / a for _ in range(a))"
   ]
  },
  {
   "cell_type": "code",
   "execution_count": 29,
   "metadata": {},
   "outputs": [
    {
     "data": {
      "text/plain": [
       "{'a': int, 'b': str, 'return': list[float]}"
      ]
     },
     "execution_count": 29,
     "metadata": {},
     "output_type": "execute_result"
    }
   ],
   "source": [
    "from typing import get_type_hints\n",
    "\n",
    "get_type_hints(function)"
   ]
  },
  {
   "attachments": {},
   "cell_type": "markdown",
   "metadata": {},
   "source": [
    "**Примечание.** Модуль `platform` предназначен для доступа к идентифицирующим данным Вашей платформы."
   ]
  },
  {
   "attachments": {},
   "cell_type": "markdown",
   "metadata": {},
   "source": [
    "**Пример.** Узнать, на какой операционной системе запускается программа."
   ]
  },
  {
   "cell_type": "code",
   "execution_count": 61,
   "metadata": {},
   "outputs": [
    {
     "data": {
      "text/plain": [
       "'Windows'"
      ]
     },
     "execution_count": 61,
     "metadata": {},
     "output_type": "execute_result"
    }
   ],
   "source": [
    "import platform\n",
    "\n",
    "platform.system()"
   ]
  },
  {
   "attachments": {},
   "cell_type": "markdown",
   "metadata": {},
   "source": [
    "**Пример.** Узнать, на каком процессоре работает компьютер."
   ]
  },
  {
   "cell_type": "code",
   "execution_count": 62,
   "metadata": {},
   "outputs": [
    {
     "data": {
      "text/plain": [
       "'Intel64 Family 6 Model 158 Stepping 10, GenuineIntel'"
      ]
     },
     "execution_count": 62,
     "metadata": {},
     "output_type": "execute_result"
    }
   ],
   "source": [
    "platform.processor()"
   ]
  },
  {
   "attachments": {},
   "cell_type": "markdown",
   "metadata": {},
   "source": [
    "**Пример.** Узнать сетевое имя компьютера."
   ]
  },
  {
   "cell_type": "code",
   "execution_count": 63,
   "metadata": {},
   "outputs": [
    {
     "data": {
      "text/plain": [
       "'DESKTOP-U10TTDV'"
      ]
     },
     "execution_count": 63,
     "metadata": {},
     "output_type": "execute_result"
    }
   ],
   "source": [
    "platform.node()"
   ]
  },
  {
   "attachments": {},
   "cell_type": "markdown",
   "metadata": {},
   "source": [
    "**Пример.** Узнать архитектуру компьютера."
   ]
  },
  {
   "cell_type": "code",
   "execution_count": 64,
   "metadata": {},
   "outputs": [
    {
     "data": {
      "text/plain": [
       "('64bit', 'WindowsPE')"
      ]
     },
     "execution_count": 64,
     "metadata": {},
     "output_type": "execute_result"
    }
   ],
   "source": [
    "platform.architecture()"
   ]
  },
  {
   "attachments": {},
   "cell_type": "markdown",
   "metadata": {},
   "source": [
    "**Примечание.** Модуль `platform` позволяет также узнать информацию о текущем Python на устройстве."
   ]
  },
  {
   "attachments": {},
   "cell_type": "markdown",
   "metadata": {},
   "source": [
    "**Пример.** Узнать информацию о Python на данном устройстве."
   ]
  },
  {
   "cell_type": "code",
   "execution_count": 65,
   "metadata": {},
   "outputs": [
    {
     "name": "stdout",
     "output_type": "stream",
     "text": [
      "Компилятор: MSC v.1933 64 bit (AMD64)\n",
      "Реализация: CPython\n",
      "Версия:     3.11.0\n"
     ]
    }
   ],
   "source": [
    "print(f\"Компилятор: {platform.python_compiler()}\")\n",
    "print(f\"Реализация: {platform.python_implementation()}\")\n",
    "print(f\"Версия:     {platform.python_version()}\")"
   ]
  },
  {
   "attachments": {},
   "cell_type": "markdown",
   "metadata": {},
   "source": [
    "**Замечание.** В зависимости от платформы модуль `platform` может предложить дополнительные функции. В частности, специальный инструментарий определен для `Java Platform`, `Windows Platform`, `macOS Platform`, `Unix Platforms` и `Linux Platforms`."
   ]
  },
  {
   "attachments": {},
   "cell_type": "markdown",
   "metadata": {},
   "source": [
    "**Пример.** Получить информации о `Windows` на данном компьютере."
   ]
  },
  {
   "cell_type": "code",
   "execution_count": 66,
   "metadata": {},
   "outputs": [
    {
     "name": "stdout",
     "output_type": "stream",
     "text": [
      "Версия:  ('10', '10.0.19045', 'SP0', 'Multiprocessor Free')\n",
      "Издание: Core\n"
     ]
    }
   ],
   "source": [
    "print(f\"Версия:  {platform.win32_ver()}\")\n",
    "print(f\"Издание: {platform.win32_edition()}\")"
   ]
  },
  {
   "attachments": {},
   "cell_type": "markdown",
   "metadata": {},
   "source": [
    "**Пример.** Получить информацию о `macOS` на данном компьютере."
   ]
  },
  {
   "cell_type": "code",
   "execution_count": 67,
   "metadata": {},
   "outputs": [
    {
     "name": "stdout",
     "output_type": "stream",
     "text": [
      "Версия: ('', ('', '', ''), '')\n"
     ]
    }
   ],
   "source": [
    "print(f\"Версия: {platform.mac_ver()}\")"
   ]
  },
  {
   "attachments": {},
   "cell_type": "markdown",
   "metadata": {},
   "source": [
    "**Замечание.** При невозможности получения каких-либо данных функции модуля `platform` вернут пустую строку. Правило касается как обычных функций, так и платформозависимых. В примере выше невозможность получения данных обусловлена тем, что платформа не относится к `macOS`."
   ]
  },
  {
   "attachments": {},
   "cell_type": "markdown",
   "metadata": {},
   "source": [
    "**Примечание.** Модуль `os` предназначен для прямого взаимодействия с операционной системой и ее компонентами."
   ]
  },
  {
   "attachments": {},
   "cell_type": "markdown",
   "metadata": {},
   "source": [
    "**Пример.** Узнать, в какой директории находится пользователь в настоящий момент времени."
   ]
  },
  {
   "cell_type": "code",
   "execution_count": 68,
   "metadata": {},
   "outputs": [
    {
     "data": {
      "text/plain": [
       "'c:\\\\Users\\\\FCOla\\\\Documents\\\\GitHub\\\\hse-howto-python\\\\lessons\\\\04'"
      ]
     },
     "execution_count": 68,
     "metadata": {},
     "output_type": "execute_result"
    }
   ],
   "source": [
    "import os\n",
    "\n",
    "os.getcwd()"
   ]
  },
  {
   "attachments": {},
   "cell_type": "markdown",
   "metadata": {},
   "source": [
    "**Пример.** Узнать содержимое директории, в которой находится пользователь."
   ]
  },
  {
   "cell_type": "code",
   "execution_count": 72,
   "metadata": {},
   "outputs": [
    {
     "data": {
      "text/plain": [
       "['homework.ipynb', 'lecture.ipynb', 'seminar.ipynb']"
      ]
     },
     "execution_count": 72,
     "metadata": {},
     "output_type": "execute_result"
    }
   ],
   "source": [
    "os.listdir()"
   ]
  },
  {
   "cell_type": "code",
   "execution_count": 70,
   "metadata": {},
   "outputs": [
    {
     "data": {
      "text/plain": [
       "['01', '02', '03', '04', '05', '06']"
      ]
     },
     "execution_count": 70,
     "metadata": {},
     "output_type": "execute_result"
    }
   ],
   "source": [
    "os.listdir(r\"./..\")"
   ]
  },
  {
   "attachments": {},
   "cell_type": "markdown",
   "metadata": {},
   "source": [
    "**Замечание.** Если аргумент-путь отсутствует, то функция `os.listdir` выведет содержимое текущей директории."
   ]
  },
  {
   "attachments": {},
   "cell_type": "markdown",
   "metadata": {},
   "source": [
    "**Пояснение.** При работе с директориями обычно используют `r`-строки. Они отличаются от обычных только тем, что отключают экранирование. Например, `\\n` будет распознано не как перевод строки, а как два символа - `\\` и `n`."
   ]
  },
  {
   "attachments": {},
   "cell_type": "markdown",
   "metadata": {},
   "source": [
    "**Пример.** Создать в директории, где находится пользователь, пустую папку."
   ]
  },
  {
   "cell_type": "code",
   "execution_count": 73,
   "metadata": {},
   "outputs": [],
   "source": [
    "os.mkdir(r\"./temp\")"
   ]
  },
  {
   "cell_type": "code",
   "execution_count": 74,
   "metadata": {},
   "outputs": [
    {
     "data": {
      "text/plain": [
       "['homework.ipynb', 'lecture.ipynb', 'seminar.ipynb', 'temp']"
      ]
     },
     "execution_count": 74,
     "metadata": {},
     "output_type": "execute_result"
    }
   ],
   "source": [
    "os.listdir()"
   ]
  },
  {
   "attachments": {},
   "cell_type": "markdown",
   "metadata": {},
   "source": [
    "**Пример.** Переименовать созданную в примере выше директорию."
   ]
  },
  {
   "cell_type": "code",
   "execution_count": 75,
   "metadata": {},
   "outputs": [],
   "source": [
    "os.rename(r\"./temp\", r\"./abc\")"
   ]
  },
  {
   "cell_type": "code",
   "execution_count": 76,
   "metadata": {},
   "outputs": [
    {
     "data": {
      "text/plain": [
       "['abc', 'homework.ipynb', 'lecture.ipynb', 'seminar.ipynb']"
      ]
     },
     "execution_count": 76,
     "metadata": {},
     "output_type": "execute_result"
    }
   ],
   "source": [
    "os.listdir()"
   ]
  },
  {
   "attachments": {},
   "cell_type": "markdown",
   "metadata": {},
   "source": [
    "**Пример.** Удалить директорию, созданную в примере выше."
   ]
  },
  {
   "cell_type": "code",
   "execution_count": 77,
   "metadata": {},
   "outputs": [],
   "source": [
    "os.rmdir(r\"./abc\")"
   ]
  },
  {
   "cell_type": "code",
   "execution_count": 78,
   "metadata": {},
   "outputs": [
    {
     "data": {
      "text/plain": [
       "['homework.ipynb', 'lecture.ipynb', 'seminar.ipynb']"
      ]
     },
     "execution_count": 78,
     "metadata": {},
     "output_type": "execute_result"
    }
   ],
   "source": [
    "os.listdir()"
   ]
  },
  {
   "attachments": {},
   "cell_type": "markdown",
   "metadata": {},
   "source": [
    "**Пример.** Удалить файл."
   ]
  },
  {
   "cell_type": "code",
   "execution_count": 81,
   "metadata": {},
   "outputs": [],
   "source": [
    "os.remove(r\"./homework.ipynb\")"
   ]
  },
  {
   "cell_type": "code",
   "execution_count": 83,
   "metadata": {},
   "outputs": [
    {
     "data": {
      "text/plain": [
       "['lecture.ipynb', 'seminar.ipynb']"
      ]
     },
     "execution_count": 83,
     "metadata": {},
     "output_type": "execute_result"
    }
   ],
   "source": [
    "os.listdir()"
   ]
  },
  {
   "attachments": {},
   "cell_type": "markdown",
   "metadata": {},
   "source": [
    "**Замечание.** Функция `os.remove` предназначена только для работы с файлами. Использовать ее с папками не получится - получите исключение."
   ]
  },
  {
   "attachments": {},
   "cell_type": "markdown",
   "metadata": {},
   "source": [
    "**Пример.** Итерирование по директории с возможностью получения подробной информации об объектах."
   ]
  },
  {
   "cell_type": "code",
   "execution_count": 4,
   "metadata": {},
   "outputs": [
    {
     "name": "stdout",
     "output_type": "stream",
     "text": [
      "<DirEntry '.git'>\n",
      "<DirEntry '.gitignore'>\n",
      "<DirEntry '.markdownlint.json'>\n",
      "<DirEntry 'lessons'>\n",
      "<DirEntry 'LICENSE'>\n",
      "<DirEntry 'projects'>\n",
      "<DirEntry 'README.md'>\n",
      "<DirEntry 'solutions'>\n"
     ]
    }
   ],
   "source": [
    "from collections.abc import Iterator\n",
    "\n",
    "\n",
    "iterator: Iterator[os.DirEntry] = os.scandir(r\"./../..\")\n",
    "\n",
    "for file in iterator:\n",
    "    print(file)"
   ]
  },
  {
   "attachments": {},
   "cell_type": "markdown",
   "metadata": {},
   "source": [
    "**Пояснение.** Получаемые при помощи итератора объекты относятся к сущностям типа `os.DirEntry`. Скорее всего, наиболее часто Вы будете использовать следующие ее атрибуты и методы:\n",
    "\n",
    "- `name` - имя файла без учета префикса;\n",
    "- `path` - директория, в которой содержится файл;\n",
    "- `is_dir()` - является ли объект папкой;\n",
    "- `is_file()` - является ли объект файлом;\n",
    "- `is_symlink()` - является ли объект символической ссылкой."
   ]
  },
  {
   "attachments": {},
   "cell_type": "markdown",
   "metadata": {},
   "source": [
    "**Замечание.** Методы `is_dir` и `is_file` также вернут `True`, если сущность является символической ссылкой (ярлыком) на требуемый тип файла. Чтобы проверять строгую принадлежность, используйте вызов метода с аргументом `follow_symlinks`, принимающим значение `False`."
   ]
  },
  {
   "attachments": {},
   "cell_type": "markdown",
   "metadata": {},
   "source": [
    "**Пример.** Итерирование по директории с возможностью получения подробной информации об объектах."
   ]
  },
  {
   "cell_type": "code",
   "execution_count": 5,
   "metadata": {},
   "outputs": [
    {
     "name": "stdout",
     "output_type": "stream",
     "text": [
      "Имя: .git\n",
      "Тип: Папка\n",
      "\n",
      "Имя: .gitignore\n",
      "Тип: Файл\n",
      "\n",
      "Имя: .markdownlint.json\n",
      "Тип: Файл\n",
      "\n",
      "Имя: lessons\n",
      "Тип: Папка\n",
      "\n",
      "Имя: LICENSE\n",
      "Тип: Файл\n",
      "\n",
      "Имя: projects\n",
      "Тип: Папка\n",
      "\n",
      "Имя: README.md\n",
      "Тип: Файл\n",
      "\n",
      "Имя: solutions\n",
      "Тип: Папка\n",
      "\n"
     ]
    }
   ],
   "source": [
    "def to_filetype(entity: os.DirEntry) -> str:\n",
    "    if entity.is_dir(follow_symlinks=False):\n",
    "        return \"Папка\"\n",
    "\n",
    "    if entity.is_file(follow_symlinks=False):\n",
    "        return \"Файл\"\n",
    "\n",
    "    if entity.is_symlink():\n",
    "        return \"Ярлык\"\n",
    "\n",
    "    assert_never(Never)\n",
    "\n",
    "\n",
    "for entity in os.scandir(r\"./../..\"):\n",
    "    filetype: str = to_filetype(entity)\n",
    "\n",
    "    print(f\"Имя: {entity.name}\")\n",
    "    print(f\"Тип: {filetype}\")\n",
    "\n",
    "    print()"
   ]
  },
  {
   "attachments": {},
   "cell_type": "markdown",
   "metadata": {},
   "source": [
    "**Замечание.** Документация к функции `os.scandir` просит закрывать полученный итератор по окончании работы с ним."
   ]
  },
  {
   "attachments": {},
   "cell_type": "markdown",
   "metadata": {},
   "source": [
    "**Пример.** Итерирование по директории с возможностью получения подробной информации об объектах."
   ]
  },
  {
   "cell_type": "code",
   "execution_count": null,
   "metadata": {},
   "outputs": [],
   "source": [
    "iterator: Iterator[os.DirEntry] = os.scandir(r\"./../..\")\n",
    "\n",
    "for entity in iterator:\n",
    "    filetype: str = to_filetype(entity)\n",
    "    print(f\"Имя: {entity.name}\")\n",
    "    print(f\"Тип: {filetype}\")\n",
    "\n",
    "iterator.close()"
   ]
  },
  {
   "attachments": {},
   "cell_type": "markdown",
   "metadata": {},
   "source": [
    "**Пример.** Итерирование по директории с возможностью получения подробной информации об объектах."
   ]
  },
  {
   "cell_type": "code",
   "execution_count": null,
   "metadata": {},
   "outputs": [],
   "source": [
    "with os.scandir(dir) as iterator:\n",
    "    for file in iterator:\n",
    "        filetype: str = to_filetype(entity)\n",
    "        print(f\"Имя: {entity.name}\")\n",
    "        print(f\"Тип: {filetype}\")"
   ]
  },
  {
   "attachments": {},
   "cell_type": "markdown",
   "metadata": {},
   "source": [
    "**Замечание.** Использование менеджера контекста является более предпочтительным по причине наличия гарантии на закрытие итератора."
   ]
  },
  {
   "attachments": {},
   "cell_type": "markdown",
   "metadata": {},
   "source": [
    "**Пример.** Эффективное итерирование по всем папкам, которые встречаются в директории."
   ]
  },
  {
   "cell_type": "code",
   "execution_count": 10,
   "metadata": {},
   "outputs": [
    {
     "name": "stdout",
     "output_type": "stream",
     "text": [
      "Изучаемая директория: ./../\n",
      "Вложенные папки:      ['01', '02', '03', '04', '05', '06']\n",
      "Файлы в директории:   []\n",
      "\n",
      "Изучаемая директория: ./../01\n",
      "Вложенные папки:      []\n",
      "Файлы в директории:   ['homework.ipynb', 'lecture.ipynb', 'seminar.ipynb']\n",
      "\n",
      "Изучаемая директория: ./../02\n",
      "Вложенные папки:      []\n",
      "Файлы в директории:   ['homework.ipynb', 'lecture.ipynb', 'seminar.ipynb']\n",
      "\n",
      "Изучаемая директория: ./../03\n",
      "Вложенные папки:      []\n",
      "Файлы в директории:   ['homework.ipynb', 'lecture.ipynb', 'seminar.ipynb']\n",
      "\n",
      "Изучаемая директория: ./../04\n",
      "Вложенные папки:      []\n",
      "Файлы в директории:   ['homework.ipynb', 'lecture.ipynb', 'seminar.ipynb']\n",
      "\n",
      "Изучаемая директория: ./../05\n",
      "Вложенные папки:      []\n",
      "Файлы в директории:   ['homework.ipynb', 'lecture.ipynb', 'seminar.ipynb']\n",
      "\n",
      "Изучаемая директория: ./../06\n",
      "Вложенные папки:      []\n",
      "Файлы в директории:   ['homework.ipynb', 'lecture.ipynb', 'seminar.ipynb']\n",
      "\n"
     ]
    }
   ],
   "source": [
    "for root, dirs, files in os.walk(r\"./../\"):\n",
    "\n",
    "    print(f\"Изучаемая директория: {root}\")\n",
    "    print(f\"Вложенные папки:      {dirs}\")\n",
    "    print(f\"Файлы в директории:   {files}\")\n",
    "\n",
    "    print()"
   ]
  },
  {
   "attachments": {},
   "cell_type": "markdown",
   "metadata": {},
   "source": [
    "**Замечание.** В отличие от `os.scandir`, функция `os.walk` не требует, чтобы итератор был закрыт по окончании работы."
   ]
  },
  {
   "attachments": {},
   "cell_type": "markdown",
   "metadata": {},
   "source": [
    "**Замечание.** Функция `os.walk` поддерживает возможность перехода по символическим ссылкам. В таком случае итератор будет дополнительно перебирать директории, которые доступны при помощи подобных переходов. Обратите внимание, что существует вероятность попасть в бесконечный цикл."
   ]
  },
  {
   "attachments": {},
   "cell_type": "markdown",
   "metadata": {},
   "source": [
    "**Примечание.** Модуль `os.path` предназначен для упрощения работы с директориями и файлами."
   ]
  },
  {
   "attachments": {},
   "cell_type": "markdown",
   "metadata": {},
   "source": [
    "**Пример.** Объединить узлы в единый путь."
   ]
  },
  {
   "cell_type": "code",
   "execution_count": 13,
   "metadata": {},
   "outputs": [
    {
     "data": {
      "text/plain": [
       "'C:\\\\hse-howto-python\\\\lessons\\\\04\\\\lecture.ipynb'"
      ]
     },
     "execution_count": 13,
     "metadata": {},
     "output_type": "execute_result"
    }
   ],
   "source": [
    "import os.path\n",
    "\n",
    "lh: str = \"C:\\\\\"\n",
    "mid: str = r\"hse-howto-python\\lessons\"\n",
    "rh: str = r\"04\\lecture.ipynb\"\n",
    "\n",
    "os.path.join(lh, mid, rh)"
   ]
  },
  {
   "attachments": {},
   "cell_type": "markdown",
   "metadata": {},
   "source": [
    "**Пояснение.** Функция `os.path.join` принимает неограниченное число аргументов и объединяет их в единый путь. Обратите внимание, что используемые разделители узлов - платформозависимые. Например, на `Windows` разделителем выступает `\\`, а на `Linux` - `/`."
   ]
  },
  {
   "attachments": {},
   "cell_type": "markdown",
   "metadata": {},
   "source": [
    "**Пример.** Получить абсолютный путь до файла."
   ]
  },
  {
   "cell_type": "code",
   "execution_count": 14,
   "metadata": {},
   "outputs": [
    {
     "data": {
      "text/plain": [
       "'c:\\\\Users\\\\FCOla\\\\Documents\\\\GitHub\\\\hse-howto-python\\\\lessons\\\\04\\\\lecture.ipynb'"
      ]
     },
     "execution_count": 14,
     "metadata": {},
     "output_type": "execute_result"
    }
   ],
   "source": [
    "filepath: str = r\"./lecture.ipynb\"\n",
    "os.path.abspath(filepath)"
   ]
  },
  {
   "attachments": {},
   "cell_type": "markdown",
   "metadata": {},
   "source": [
    "**Пример.** Проверка сущности на принадлежность типу."
   ]
  },
  {
   "cell_type": "code",
   "execution_count": 15,
   "metadata": {},
   "outputs": [
    {
     "data": {
      "text/plain": [
       "False"
      ]
     },
     "execution_count": 15,
     "metadata": {},
     "output_type": "execute_result"
    }
   ],
   "source": [
    "filepath: str = r\"./lecture.ipynb\"\n",
    "os.path.isdir(filepath)"
   ]
  },
  {
   "cell_type": "code",
   "execution_count": 16,
   "metadata": {},
   "outputs": [
    {
     "data": {
      "text/plain": [
       "False"
      ]
     },
     "execution_count": 16,
     "metadata": {},
     "output_type": "execute_result"
    }
   ],
   "source": [
    "filepath: str = r\"./lecture.ipynb\"\n",
    "os.path.islink(filepath)"
   ]
  },
  {
   "cell_type": "code",
   "execution_count": 17,
   "metadata": {},
   "outputs": [
    {
     "data": {
      "text/plain": [
       "True"
      ]
     },
     "execution_count": 17,
     "metadata": {},
     "output_type": "execute_result"
    }
   ],
   "source": [
    "filepath: str = r\"./lecture.ipynb\"\n",
    "os.path.isfile(filepath)"
   ]
  },
  {
   "attachments": {},
   "cell_type": "markdown",
   "metadata": {},
   "source": [
    "**Примечание.** Модуль `sys` предназначен для работы с системными функциями и параметрами."
   ]
  },
  {
   "attachments": {},
   "cell_type": "markdown",
   "metadata": {},
   "source": [
    "**Пример.** Узнать максимальное возможное число на данном устройстве."
   ]
  },
  {
   "cell_type": "code",
   "execution_count": 18,
   "metadata": {},
   "outputs": [
    {
     "data": {
      "text/plain": [
       "9223372036854775807"
      ]
     },
     "execution_count": 18,
     "metadata": {},
     "output_type": "execute_result"
    }
   ],
   "source": [
    "import sys\n",
    "\n",
    "sys.maxsize"
   ]
  },
  {
   "attachments": {},
   "cell_type": "markdown",
   "metadata": {},
   "source": [
    "**Примечание.** `9223372036854775807` - это то же, что и `2 ** 63 - 1`"
   ]
  },
  {
   "attachments": {},
   "cell_type": "markdown",
   "metadata": {},
   "source": [
    "**Пример.** Узнать тип представления чисел на данном устройстве."
   ]
  },
  {
   "cell_type": "code",
   "execution_count": 19,
   "metadata": {},
   "outputs": [
    {
     "data": {
      "text/plain": [
       "'little'"
      ]
     },
     "execution_count": 19,
     "metadata": {},
     "output_type": "execute_result"
    }
   ],
   "source": [
    "sys.byteorder"
   ]
  },
  {
   "attachments": {},
   "cell_type": "markdown",
   "metadata": {},
   "source": [
    "**Пример.** Запретить создание файлов `__pycache__`."
   ]
  },
  {
   "cell_type": "code",
   "execution_count": 21,
   "metadata": {},
   "outputs": [],
   "source": [
    "sys.dont_write_bytecode: bool = True\n",
    "\n",
    "# Body of Your Program"
   ]
  },
  {
   "attachments": {},
   "cell_type": "markdown",
   "metadata": {},
   "source": [
    "**Пример.** Завершить программу с произвольным кодом возврата."
   ]
  },
  {
   "cell_type": "code",
   "execution_count": null,
   "metadata": {},
   "outputs": [],
   "source": [
    "code: int = 0\n",
    "sys.exit(code)"
   ]
  },
  {
   "attachments": {},
   "cell_type": "markdown",
   "metadata": {},
   "source": [
    "**Пример.** Получить аргументы командной строки."
   ]
  },
  {
   "cell_type": "code",
   "execution_count": null,
   "metadata": {},
   "outputs": [],
   "source": [
    "sys.argv"
   ]
  },
  {
   "attachments": {},
   "cell_type": "markdown",
   "metadata": {},
   "source": [
    "**Рассуждение.** Использование `sys.argv` позволяет узнать, какие аргументы отправил внешний пользователь Вашей программе. Тем не менее, задача их обработки лежит строго на разработчике. Стоит отметить, что эта задача достаточно трудоемка: нужно проверить, что поступившие данные корректны, не противоречат друг другу и так далее. Автоматизировать этот процесс позволяет использование модуля `argparse`. "
   ]
  },
  {
   "attachments": {},
   "cell_type": "markdown",
   "metadata": {},
   "source": [
    "**Примечание.** Модуль `argparse` предназначен для анализа и обработки параметров командной строки, аргументов и вложенных команд."
   ]
  },
  {
   "attachments": {},
   "cell_type": "markdown",
   "metadata": {},
   "source": [
    "**Замечание.** Ввиду того, что `argparse` не предназначен для работы с `.ipynb` файлами, будем предполагать, что код ниже относится к некоторому проекту со своей иерархией. Мы будем указывать, в каком файле что находится."
   ]
  },
  {
   "attachments": {},
   "cell_type": "markdown",
   "metadata": {},
   "source": [
    "**Пример.** Создание пустого обработчика аргументов командной строки."
   ]
  },
  {
   "cell_type": "code",
   "execution_count": null,
   "metadata": {},
   "outputs": [],
   "source": [
    "# %file: ./main.py\n",
    "\n",
    "import argparse\n",
    "\n",
    "parser = argparse.ArgumentParser()\n",
    "parser.parse_args()"
   ]
  },
  {
   "attachments": {},
   "cell_type": "markdown",
   "metadata": {},
   "source": [
    "**Запуск.** Запустите в терминале следующую команду: `python ./main.py -h`"
   ]
  },
  {
   "attachments": {},
   "cell_type": "markdown",
   "metadata": {},
   "source": [
    "**Ожидаемый вывод.** Если все прошло так, как нужно, то Вы увидите сообщение:\n",
    "\n",
    "```\n",
    "usage: main.py [-h]\n",
    "\n",
    "options:\n",
    "  -h, --help  show this help message and exit\n",
    "```"
   ]
  },
  {
   "attachments": {},
   "cell_type": "markdown",
   "metadata": {},
   "source": [
    "**Пояснение.** Использование модуля `argparse` автоматически выстраивает консольный интерфейс для Вашей программы."
   ]
  },
  {
   "attachments": {},
   "cell_type": "markdown",
   "metadata": {},
   "source": [
    "**Пример.** Добавление информации в интерфейс консольного приложения."
   ]
  },
  {
   "cell_type": "code",
   "execution_count": null,
   "metadata": {},
   "outputs": [],
   "source": [
    "# %file: ./main.py\n",
    "\n",
    "import argparse\n",
    "import sys\n",
    "\n",
    "parser = argparse.ArgumentParser(\n",
    "    prog=sys.argv[0],\n",
    "    description=\"The description of the project\",\n",
    "    epilog=\"by @maseoff\",\n",
    ")\n",
    "\n",
    "parser.parse_args()"
   ]
  },
  {
   "attachments": {},
   "cell_type": "markdown",
   "metadata": {},
   "source": [
    "**Запуск.** Запустите в терминале следующую команду: `python ./main.py -h`"
   ]
  },
  {
   "attachments": {},
   "cell_type": "markdown",
   "metadata": {},
   "source": [
    "**Ожидаемый вывод.** Если все прошло так, как нужно, то Вы увидите сообщение:\n",
    "\n",
    "```\n",
    "usage: ./main.py [-h]\n",
    "\n",
    "The description of the project\n",
    "\n",
    "options:\n",
    "  -h, --help  show this help message and exit\n",
    "\n",
    "by @maseoff\n",
    "```"
   ]
  },
  {
   "attachments": {},
   "cell_type": "markdown",
   "metadata": {},
   "source": [
    "**Пояснение.** Внутри обработчика можно задать определенные настройки. Например:\n",
    "\n",
    "- `prog` - имя программы, которое будет показано в поле `usage`;\n",
    "- `description` - описание программы, которое будет сразу после поля `usage`;\n",
    "- `epilog` - эпилог для программы."
   ]
  },
  {
   "attachments": {},
   "cell_type": "markdown",
   "metadata": {},
   "source": [
    "**Примечание.** По умолчанию атрибут `prog` содержит только название конечного файла, чего вполне достаточно."
   ]
  },
  {
   "attachments": {},
   "cell_type": "markdown",
   "metadata": {},
   "source": [
    "**Примечание.** В эпилоге, как правило, указывают автора программы."
   ]
  },
  {
   "attachments": {},
   "cell_type": "markdown",
   "metadata": {},
   "source": [
    "**Пример.** Добавление позиционного аргумента в интерфейс консольного приложения."
   ]
  },
  {
   "cell_type": "code",
   "execution_count": null,
   "metadata": {},
   "outputs": [],
   "source": [
    "# %file: ./main.py\n",
    "\n",
    "import argparse\n",
    "\n",
    "parser = argparse.ArgumentParser(\n",
    "    description=\"The description of the project\",\n",
    "    epilog=\"by @maseoff\",\n",
    ")\n",
    "\n",
    "parser.add_argument(\"arg\")\n",
    "\n",
    "parser.parse_args()"
   ]
  },
  {
   "attachments": {},
   "cell_type": "markdown",
   "metadata": {},
   "source": [
    "**Запуск.** Запустите в терминале следующую команду: `python ./main.py -h`"
   ]
  },
  {
   "attachments": {},
   "cell_type": "markdown",
   "metadata": {},
   "source": [
    "**Ожидаемый вывод.** Если все прошло так, как нужно, то Вы увидите сообщение:\n",
    "\n",
    "```\n",
    "usage: main.py [-h] arg\n",
    "\n",
    "The description of the project\n",
    "\n",
    "positional arguments:\n",
    "  arg\n",
    "\n",
    "options:\n",
    "  -h, --help  show this help message and exit\n",
    "\n",
    "by @maseoff\n",
    "```"
   ]
  },
  {
   "attachments": {},
   "cell_type": "markdown",
   "metadata": {},
   "source": [
    "**Пример.** Взаимодействие с позиционным аргументом."
   ]
  },
  {
   "cell_type": "code",
   "execution_count": null,
   "metadata": {},
   "outputs": [],
   "source": [
    "# %file: ./main.py\n",
    "\n",
    "import argparse\n",
    "\n",
    "parser = argparse.ArgumentParser(\n",
    "    description=\"The description of the project\",\n",
    "    epilog=\"by @maseoff\",\n",
    ")\n",
    "\n",
    "parser.add_argument(\"arg\")\n",
    "\n",
    "args = parser.parse_args()\n",
    "\n",
    "print(\"arg:\", args.arg)"
   ]
  },
  {
   "attachments": {},
   "cell_type": "markdown",
   "metadata": {},
   "source": [
    "**Запуск.** Запустите в терминале следующую команду: `python ./main.py 42`"
   ]
  },
  {
   "attachments": {},
   "cell_type": "markdown",
   "metadata": {},
   "source": [
    "**Ожидаемый вывод.** Если все прошло так, как нужно, то Вы увидите сообщение:\n",
    "\n",
    "```\n",
    "arg: 42\n",
    "```"
   ]
  },
  {
   "attachments": {},
   "cell_type": "markdown",
   "metadata": {},
   "source": [
    "**Пояснение.** Метод `parse_args` возвращает объект, в атрибутах которого хранятся параметры командной строки. Обратившись по имени аргумента, Вы получаете его значение."
   ]
  },
  {
   "attachments": {},
   "cell_type": "markdown",
   "metadata": {},
   "source": [
    "**Замечание.** По умолчанию аргументы командной строки интерпретируются как объекты типа `str`, поэтому в примере выше `args.arg` возвращает строку `\"42\"`."
   ]
  },
  {
   "attachments": {},
   "cell_type": "markdown",
   "metadata": {},
   "source": [
    "**Пример.** Задать тип данных аргументу."
   ]
  },
  {
   "cell_type": "code",
   "execution_count": null,
   "metadata": {},
   "outputs": [],
   "source": [
    "# %file: ./main.py\n",
    "\n",
    "import argparse\n",
    "\n",
    "parser = argparse.ArgumentParser(\n",
    "    description=\"The description of the project\",\n",
    "    epilog=\"by @maseoff\",\n",
    ")\n",
    "\n",
    "parser.add_argument(\"arg\", type=int)\n",
    "\n",
    "args = parser.parse_args()\n",
    "\n",
    "print(\"arg:\", args.arg)\n",
    "print(\"type:\", type(args.arg))"
   ]
  },
  {
   "attachments": {},
   "cell_type": "markdown",
   "metadata": {},
   "source": [
    "**Запуск.** Запустите в терминале следующую команду: `python ./main.py 42`"
   ]
  },
  {
   "attachments": {},
   "cell_type": "markdown",
   "metadata": {},
   "source": [
    "**Ожидаемый вывод.** Если все прошло так, как нужно, то Вы увидите сообщение:\n",
    "\n",
    "```\n",
    "arg: 42\n",
    "type: <class 'int'>\n",
    "```"
   ]
  },
  {
   "attachments": {},
   "cell_type": "markdown",
   "metadata": {},
   "source": [
    "**Упражнение.** Убедитесь в том, что по умолчанию возвращается строковый тип данных."
   ]
  },
  {
   "attachments": {},
   "cell_type": "markdown",
   "metadata": {},
   "source": [
    "**Замечание.** Параметр `type` указывает на класс, от которого должно быть проинициализировано значение. Обратите внимание, что инициализация будет произведена от аргумента, являющегося строкой."
   ]
  },
  {
   "attachments": {},
   "cell_type": "markdown",
   "metadata": {},
   "source": [
    "**Упражнение.** Используя реализацию класса `uint32_t` из предыдущих занятий, добавьте в консольную утилиту возможность получать беззнаковые 32-битные числа."
   ]
  },
  {
   "attachments": {},
   "cell_type": "markdown",
   "metadata": {},
   "source": [
    "**Пример.** Добавление позиционных аргументов."
   ]
  },
  {
   "cell_type": "code",
   "execution_count": null,
   "metadata": {},
   "outputs": [],
   "source": [
    "# %file: ./main.py\n",
    "\n",
    "import argparse\n",
    "\n",
    "parser = argparse.ArgumentParser(\n",
    "    description=\"The description of the project\",\n",
    "    epilog=\"by @maseoff\",\n",
    ")\n",
    "\n",
    "parser.add_argument(\"arg1\", type=int)\n",
    "parser.add_argument(\"arg2\", type=str)\n",
    "parser.add_argument(\"arg3\", type=float)\n",
    "\n",
    "args = parser.parse_args()\n",
    "\n",
    "print(\"arg1:\", args.arg1)\n",
    "print(\"type:\", type(args.arg1))\n",
    "\n",
    "print(\"arg2:\", args.arg2)\n",
    "print(\"type:\", type(args.arg2))\n",
    "\n",
    "print(\"arg3:\", args.arg3)\n",
    "print(\"type:\", type(args.arg3))"
   ]
  },
  {
   "attachments": {},
   "cell_type": "markdown",
   "metadata": {},
   "source": [
    "**Запуск.** Запустите в терминале следующую команду: `python ./main.py -h`"
   ]
  },
  {
   "attachments": {},
   "cell_type": "markdown",
   "metadata": {},
   "source": [
    "**Ожидаемый вывод.** Если все прошло так, как нужно, то Вы увидите сообщение:\n",
    "\n",
    "```\n",
    "usage: main.py [-h] arg1 arg2 arg3\n",
    "\n",
    "The description of the project\n",
    "\n",
    "positional arguments:\n",
    "  arg1\n",
    "  arg2\n",
    "  arg3\n",
    "\n",
    "options:\n",
    "  -h, --help  show this help message and exit\n",
    "\n",
    "by @maseoff\n",
    "```"
   ]
  },
  {
   "attachments": {},
   "cell_type": "markdown",
   "metadata": {},
   "source": [
    "**Запуск.** Запустите в терминале следующую команду: `python ./main.py -h`"
   ]
  },
  {
   "attachments": {},
   "cell_type": "markdown",
   "metadata": {},
   "source": [
    "**Ожидаемый вывод.** Если все прошло так, как нужно, то Вы увидите сообщение:\n",
    "\n",
    "```\n",
    "arg1: 42\n",
    "type: <class 'int'>\n",
    "arg2: forty-two\n",
    "type: <class 'str'>\n",
    "arg3: 42.0\n",
    "type: <class 'float'>\n",
    "```"
   ]
  },
  {
   "attachments": {},
   "cell_type": "markdown",
   "metadata": {},
   "source": [
    "**Пример.** Добавление подсказки к аргументам."
   ]
  },
  {
   "cell_type": "code",
   "execution_count": null,
   "metadata": {},
   "outputs": [],
   "source": [
    "# %file: ./main.py\n",
    "\n",
    "import argparse\n",
    "\n",
    "parser = argparse.ArgumentParser(\n",
    "    description=\"The description of the project\",\n",
    "    epilog=\"by @maseoff\",\n",
    ")\n",
    "\n",
    "parser.add_argument(\"arg1\", type=int, help=\"The first argument\")\n",
    "parser.add_argument(\"arg2\", type=str, help=\"The second argument\")\n",
    "parser.add_argument(\"arg3\", type=float, help=\"The third argument\")\n",
    "\n",
    "parser.parse_args()"
   ]
  },
  {
   "attachments": {},
   "cell_type": "markdown",
   "metadata": {},
   "source": [
    "**Запуск.** Запустите в терминале следующую команду: `python ./main.py -h`"
   ]
  },
  {
   "attachments": {},
   "cell_type": "markdown",
   "metadata": {},
   "source": [
    "**Ожидаемый вывод.** Если все прошло так, как нужно, то Вы увидите сообщение:\n",
    "\n",
    "```\n",
    "usage: main.py [-h] arg1 arg2 arg3\n",
    "\n",
    "The description of the project\n",
    "\n",
    "positional arguments:\n",
    "  arg1        The first argument\n",
    "  arg2        The second argument\n",
    "  arg3        The third argument\n",
    "\n",
    "options:\n",
    "  -h, --help  show this help message and exit\n",
    "\n",
    "by @maseoff\n",
    "```"
   ]
  },
  {
   "attachments": {},
   "cell_type": "markdown",
   "metadata": {},
   "source": [
    "**Пример.** Добавление опционального аргумента в интерфейс консольного приложения."
   ]
  },
  {
   "cell_type": "code",
   "execution_count": null,
   "metadata": {},
   "outputs": [],
   "source": [
    "# %file: ./main.py\n",
    "\n",
    "import argparse\n",
    "\n",
    "parser = argparse.ArgumentParser(\n",
    "    description=\"The description of the project\",\n",
    "    epilog=\"by @maseoff\",\n",
    ")\n",
    "\n",
    "parser.add_argument(\"required\", help=\"The required argument\")\n",
    "parser.add_argument(\"--optional\", help=\"The optional argument\")\n",
    "\n",
    "parser.parse_args()"
   ]
  },
  {
   "attachments": {},
   "cell_type": "markdown",
   "metadata": {},
   "source": [
    "**Запуск.** Запустите в терминале следующую команду: `python ./main.py -h`"
   ]
  },
  {
   "attachments": {},
   "cell_type": "markdown",
   "metadata": {},
   "source": [
    "**Ожидаемый вывод.** Если все прошло так, как нужно, то Вы увидите сообщение:\n",
    "\n",
    "```\n",
    "usage: main.py [-h] [--optional OPTIONAL] required    \n",
    "\n",
    "The description of the project\n",
    "\n",
    "positional arguments:\n",
    "  required             The required argument\n",
    "\n",
    "options:\n",
    "  -h, --help           show this help message and exit\n",
    "  --optional OPTIONAL  The optional argument\n",
    "\n",
    "by @maseoff\n",
    "```"
   ]
  },
  {
   "attachments": {},
   "cell_type": "markdown",
   "metadata": {},
   "source": [
    "**Пояснение.** Модуль `argparse` полагает, что аргумент является опциональным, если его имя начинается с `-`."
   ]
  },
  {
   "attachments": {},
   "cell_type": "markdown",
   "metadata": {},
   "source": [
    "**Пример.** Взаимодействие с аргументами."
   ]
  },
  {
   "cell_type": "code",
   "execution_count": null,
   "metadata": {},
   "outputs": [],
   "source": [
    "# %file: ./main.py\n",
    "\n",
    "import argparse\n",
    "\n",
    "parser = argparse.ArgumentParser(\n",
    "    description=\"The description of the project\",\n",
    "    epilog=\"by @maseoff\",\n",
    ")\n",
    "\n",
    "parser.add_argument(\"required\", help=\"The required argument\")\n",
    "parser.add_argument(\"--optional\", help=\"The optional argument\")\n",
    "\n",
    "args = parser.parse_args()\n",
    "\n",
    "print(\"required:\", args.required)\n",
    "print(\"optional:\", args.optional)"
   ]
  },
  {
   "attachments": {},
   "cell_type": "markdown",
   "metadata": {},
   "source": [
    "**Запуск.** Запустите в терминале следующую команду: `python ./main.py 42`"
   ]
  },
  {
   "attachments": {},
   "cell_type": "markdown",
   "metadata": {},
   "source": [
    "**Ожидаемый вывод.** Если все прошло так, как нужно, то Вы увидите сообщение:\n",
    "\n",
    "```\n",
    "required: 42\n",
    "optional: None\n",
    "```"
   ]
  },
  {
   "attachments": {},
   "cell_type": "markdown",
   "metadata": {},
   "source": [
    "**Запуск.** Запустите в терминале следующую команду: `python ./main.py 42 --optional forty-two`"
   ]
  },
  {
   "attachments": {},
   "cell_type": "markdown",
   "metadata": {},
   "source": [
    "**Ожидаемый вывод.** Если все прошло так, как нужно, то Вы увидите сообщение:\n",
    "\n",
    "```\n",
    "required: 42\n",
    "optional: forty-two\n",
    "```"
   ]
  },
  {
   "attachments": {},
   "cell_type": "markdown",
   "metadata": {},
   "source": [
    "**Замечание.** Если опциональный аргумент не был передан, то его значение по умолчанию - `None`."
   ]
  },
  {
   "attachments": {},
   "cell_type": "markdown",
   "metadata": {},
   "source": [
    "**Рассуждение.** Использование параметра `--optional` предполагает наличие аргумента, который, обратите внимание, помечен в подсказке как `OPTIONAL` - используется капитализация имени параметра. Допустим, нам не нравится это имя - давайте его поменяем."
   ]
  },
  {
   "cell_type": "code",
   "execution_count": null,
   "metadata": {},
   "outputs": [],
   "source": [
    "# %file: ./main.py\n",
    "\n",
    "import argparse\n",
    "\n",
    "parser = argparse.ArgumentParser(\n",
    "    description=\"The description of the project\",\n",
    "    epilog=\"by @maseoff\",\n",
    ")\n",
    "\n",
    "parser.add_argument(\"--limit\", help=\"Memory limit\", metavar=\"KiB\")\n",
    "\n",
    "parser.parse_args()"
   ]
  },
  {
   "attachments": {},
   "cell_type": "markdown",
   "metadata": {},
   "source": [
    "**Запуск.** Запустите в терминале следующую команду: `python ./main.py -h`"
   ]
  },
  {
   "attachments": {},
   "cell_type": "markdown",
   "metadata": {},
   "source": [
    "**Ожидаемый вывод.** Если все прошло так, как нужно, то Вы увидите сообщение:\n",
    "\n",
    "```\n",
    "usage: main.py [-h] [--limit KiB]\n",
    "\n",
    "The description of the project\n",
    "\n",
    "options:\n",
    "  -h, --help   show this help message and exit\n",
    "  --limit KiB  Memory limit\n",
    "\n",
    "by @maseoff\n",
    "```"
   ]
  },
  {
   "attachments": {},
   "cell_type": "markdown",
   "metadata": {},
   "source": [
    "**Упражнение.** Убедитесь в том, что при отсутствии параметра `metavar` вместо `KiB` будет использовано имя `LIMIT`."
   ]
  },
  {
   "attachments": {},
   "cell_type": "markdown",
   "metadata": {},
   "source": [
    "**Пример.** Задать несколько имен для одного параметра."
   ]
  },
  {
   "cell_type": "code",
   "execution_count": null,
   "metadata": {},
   "outputs": [],
   "source": [
    "# %file: ./main.py\n",
    "\n",
    "import argparse\n",
    "\n",
    "parser = argparse.ArgumentParser(\n",
    "    description=\"The description of the project\",\n",
    "    epilog=\"by @maseoff\",\n",
    ")\n",
    "\n",
    "parser.add_argument(\"-lim\", \"--limit\", help=\"Memory limit\", metavar=\"KiB\")\n",
    "\n",
    "parser.parse_args()"
   ]
  },
  {
   "attachments": {},
   "cell_type": "markdown",
   "metadata": {},
   "source": [
    "**Запуск.** Запустите в терминале следующую команду: `python ./main.py -h`"
   ]
  },
  {
   "attachments": {},
   "cell_type": "markdown",
   "metadata": {},
   "source": [
    "**Ожидаемый вывод.** Если все прошло так, как нужно, то Вы увидите сообщение:\n",
    "\n",
    "```\n",
    "usage: main.py [-h] [-lim KiB]\n",
    "\n",
    "The description of the project\n",
    "\n",
    "options:\n",
    "  -h, --help            show this help message and exit\n",
    "  -lim KiB, --limit KiB\n",
    "                        Memory limit\n",
    "\n",
    "by @maseoff\n",
    "```"
   ]
  },
  {
   "attachments": {},
   "cell_type": "markdown",
   "metadata": {},
   "source": [
    "**Пример.** Задать значение по умолчанию для некоторго аргумента."
   ]
  },
  {
   "cell_type": "code",
   "execution_count": null,
   "metadata": {},
   "outputs": [],
   "source": [
    "# %file: ./main.py\n",
    "\n",
    "import argparse\n",
    "\n",
    "parser = argparse.ArgumentParser(\n",
    "    description=\"The description of the project\",\n",
    "    epilog=\"by @maseoff\",\n",
    ")\n",
    "\n",
    "parser.add_argument(\n",
    "    \"-lim\",\n",
    "    \"--limit\",\n",
    "    metavar=\"KiB\",\n",
    "    default=1024,\n",
    "    type=int,\n",
    "    help=\"Memory limit\",\n",
    ")\n",
    "\n",
    "args = parser.parse_args()\n",
    "print(\"limit:\", args.limit)"
   ]
  },
  {
   "attachments": {},
   "cell_type": "markdown",
   "metadata": {},
   "source": [
    "**Запуск.** Запустите в терминале следующую команду: `python ./main.py --limit 512`"
   ]
  },
  {
   "attachments": {},
   "cell_type": "markdown",
   "metadata": {},
   "source": [
    "**Ожидаемый вывод.** Если все прошло так, как нужно, то Вы увидите сообщение:\n",
    "\n",
    "```\n",
    "limit: 512\n",
    "```"
   ]
  },
  {
   "attachments": {},
   "cell_type": "markdown",
   "metadata": {},
   "source": [
    "**Запуск.** Запустите в терминале следующую команду: `python ./main.py`"
   ]
  },
  {
   "attachments": {},
   "cell_type": "markdown",
   "metadata": {},
   "source": [
    "**Ожидаемый вывод.** Если все прошло так, как нужно, то Вы увидите сообщение:\n",
    "\n",
    "```\n",
    "limit: 1024\n",
    "```"
   ]
  },
  {
   "attachments": {},
   "cell_type": "markdown",
   "metadata": {},
   "source": [
    "**Рассуждение.** Одним из наиболее частых применений опциональных параметров является выставление флагов. Например, Вы могли видеть как в приложениях выставляют флаг `-f` или `--force`. Модуль `argparse` позволяет задать аналогичное поведение."
   ]
  },
  {
   "attachments": {},
   "cell_type": "markdown",
   "metadata": {},
   "source": [
    "**Пример.** Создание флага для консольного приложения."
   ]
  },
  {
   "cell_type": "code",
   "execution_count": null,
   "metadata": {},
   "outputs": [],
   "source": [
    "# %file: ./main.py\n",
    "\n",
    "import argparse\n",
    "\n",
    "parser = argparse.ArgumentParser(\n",
    "    description=\"The description of the project\",\n",
    "    epilog=\"by @maseoff\",\n",
    ")\n",
    "\n",
    "parser.add_argument(\n",
    "    \"-f\",\n",
    "    \"--force\",\n",
    "    default=False,\n",
    "    action=\"store_true\",\n",
    ")\n",
    "\n",
    "args = parser.parse_args()\n",
    "print(\"force:\", args.force)"
   ]
  },
  {
   "attachments": {},
   "cell_type": "markdown",
   "metadata": {},
   "source": [
    "**Запуск.** Запустите в терминале следующую команду: `python ./main.py`"
   ]
  },
  {
   "attachments": {},
   "cell_type": "markdown",
   "metadata": {},
   "source": [
    "**Ожидаемый вывод.** Если все прошло так, как нужно, то Вы увидите сообщение:\n",
    "\n",
    "```\n",
    "force: False\n",
    "```"
   ]
  },
  {
   "attachments": {},
   "cell_type": "markdown",
   "metadata": {},
   "source": [
    "**Запуск.** Запустите в терминале любую из следующих команд: `python ./main.py -f` или `python ./main.py --force`"
   ]
  },
  {
   "attachments": {},
   "cell_type": "markdown",
   "metadata": {},
   "source": [
    "**Ожидаемый вывод.** Если все прошло так, как нужно, то Вы увидите сообщение:\n",
    "\n",
    "```\n",
    "force: True\n",
    "```"
   ]
  },
  {
   "attachments": {},
   "cell_type": "markdown",
   "metadata": {},
   "source": [
    "**Замечание.** Параметр `action` определяет, какую функцию несет в себе тот или иной параметр. По умолчанию `action` равен `\"store\"`. Помимо `\"store_true\"`, есть и `\"store_false\"`."
   ]
  },
  {
   "attachments": {},
   "cell_type": "markdown",
   "metadata": {},
   "source": [
    "**Спойлер.** На семинаре:\n",
    "\n",
    "- Пример создания консольной утилиты."
   ]
  }
 ],
 "metadata": {
  "kernelspec": {
   "display_name": "Python 3",
   "language": "python",
   "name": "python3"
  },
  "language_info": {
   "codemirror_mode": {
    "name": "ipython",
    "version": 3
   },
   "file_extension": ".py",
   "mimetype": "text/x-python",
   "name": "python",
   "nbconvert_exporter": "python",
   "pygments_lexer": "ipython3",
   "version": "3.11.0"
  },
  "orig_nbformat": 4
 },
 "nbformat": 4,
 "nbformat_minor": 2
}
