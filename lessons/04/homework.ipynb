{
 "cells": [
  {
   "attachments": {},
   "cell_type": "markdown",
   "metadata": {},
   "source": [
    "<div align=\"center\">\n",
    "    <a href=\"https://github.com/syubogdanov/hse-howto-python\">\n",
    "        <img src=\"https://cdn-icons-png.flaticon.com/128/1864/1864652.png\" height=\"128px\" width=\"auto\">\n",
    "    </a>\n",
    "    <h3>\n",
    "        <b>\n",
    "            Продвинутый Python\n",
    "        </b>\n",
    "    </h3>\n",
    "    <i>\n",
    "        Взаимодействие с ОС. Консольные утилиты\n",
    "    </i>\n",
    "</div>\n",
    "\n",
    "<br>"
   ]
  },
  {
   "attachments": {},
   "cell_type": "markdown",
   "metadata": {},
   "source": [
    "**Выполнил(-а):** <Фамилия Имя Отчество>"
   ]
  },
  {
   "attachments": {},
   "cell_type": "markdown",
   "metadata": {},
   "source": [
    "**Дополнительные баллы.** За решение *домашнего задания №4* Вам может быть добавлено не более, чем **... бонусных баллов**. Вы можете лишиться не более, чем **... штрафных баллов**."
   ]
  },
  {
   "attachments": {},
   "cell_type": "markdown",
   "metadata": {},
   "source": [
    "**Задание 1. (... баллов)**\n",
    "\n",
    "Перед Вами стоит задача реализовать консольную утилиту, предназначенную для генерации и проверки паролей с условиями, заданными пользователем. Решение прикрепите в виде ссылки на репозиторий `GitHub`."
   ]
  },
  {
   "attachments": {},
   "cell_type": "markdown",
   "metadata": {},
   "source": [
    "Интерфейс консольной утилиты должен выглядеть следующим образом: `python3 password.py [OPTIONS]`. При желании допустимо видоизменение. Не забывайте о том, что проверяющий должен будет понять, как пользоваться Вашей программой. Помните о минимальных требованиях к реализации."
   ]
  },
  {
   "attachments": {},
   "cell_type": "markdown",
   "metadata": {},
   "source": [
    "<table>\n",
    "    <tr align=\"center\">\n",
    "        <td><b>Опция</b></td>\n",
    "        <td><b>Сокращенное имя</b></td>\n",
    "        <td><b>Описание</b></td>\n",
    "    </tr>\n",
    "    <tr align=\"center\">\n",
    "        <td><code>--generate</code></td>\n",
    "        <td><code>-g</code></td>\n",
    "        <td>Сгенерировать пароль с учетом текущих правил.</td>\n",
    "    </tr>\n",
    "    <tr align=\"center\">\n",
    "        <td><code>--verify password</code></td>\n",
    "        <td><code>-v password</code></td>\n",
    "        <td>Проверить пароль на безопасность с учетом текущих правил.</td>\n",
    "    </tr>\n",
    "    <tr align=\"center\">\n",
    "        <td><code>--output filepath</code></td>\n",
    "        <td><code>-o filepath</code></td>\n",
    "        <td>Использовать для вывода файл, а не стандартный поток вывода.</td>\n",
    "    </tr>\n",
    "    <tr align=\"center\">\n",
    "        <td><code>--prohibit symbols</code></td>\n",
    "        <td><code>-p symbols</code></td>\n",
    "        <td>Запретить использование символов, которые есть в строке <code>symbols</code>.</td>\n",
    "    </tr>\n",
    "    <tr align=\"center\">\n",
    "        <td><code>--help</code></td>\n",
    "        <td><code>-h</code></td>\n",
    "        <td>Вывести сообщение с подсказкой.</td>\n",
    "    </tr>\n",
    "</table>"
   ]
  },
  {
   "attachments": {},
   "cell_type": "markdown",
   "metadata": {},
   "source": [
    "<table>\n",
    "    <tr align=\"center\">\n",
    "        <td><b>Опция</b></td>\n",
    "        <td><b>Сокращенное имя</b></td>\n",
    "        <td><b>Описание</b></td>\n",
    "    </tr>\n",
    "    <tr align=\"center\">\n",
    "        <td><code>--max-digits number</code></td>\n",
    "        <td><code>-</code></td>\n",
    "        <td>Задать максимальное число цифр в пароле.</td>\n",
    "    </tr>\n",
    "    <tr align=\"center\">\n",
    "        <td><code>--max-length length</code></td>\n",
    "        <td><code>-</code></td>\n",
    "        <td>Задать максимальную длину пароля.</td>\n",
    "    </tr>\n",
    "    <tr align=\"center\">\n",
    "        <td><code>--max-lowercase number</code></td>\n",
    "        <td><code>-</code></td>\n",
    "        <td>Задать максимальное число строчных букв в пароле.</td>\n",
    "    </tr>\n",
    "    <tr align=\"center\">\n",
    "        <td><code>--max-special number</code></td>\n",
    "        <td><code>-</code></td>\n",
    "        <td>Задать максимальное число специальных символов в пароле.</td>\n",
    "    </tr>\n",
    "    <tr align=\"center\">\n",
    "        <td><code>--max-uppercase number</code></td>\n",
    "        <td><code>-</code></td>\n",
    "        <td>Задать максимальное число заглавных букв в пароле.</td>\n",
    "    </tr>\n",
    "    <tr align=\"center\">\n",
    "        <td><code>--min-digits number</code></td>\n",
    "        <td><code>-</code></td>\n",
    "        <td>Задать минимальное число цифр в пароле.</td>\n",
    "    </tr>\n",
    "    <tr align=\"center\">\n",
    "        <td><code>--min-length length</code></td>\n",
    "        <td><code>-</code></td>\n",
    "        <td>Задать минимальную длину пароля.</td>\n",
    "    </tr>\n",
    "    <tr align=\"center\">\n",
    "        <td><code>--min-lowercase number</code></td>\n",
    "        <td><code>-</code></td>\n",
    "        <td>Задать минимальное число строчных букв в пароле.</td>\n",
    "    </tr>\n",
    "    <tr align=\"center\">\n",
    "        <td><code>--min-special number</code></td>\n",
    "        <td><code>-</code></td>\n",
    "        <td>Задать минимальное число специальных символов в пароле.</td>\n",
    "    </tr>\n",
    "    <tr align=\"center\">\n",
    "        <td><code>--min-uppercase number</code></td>\n",
    "        <td><code>-</code></td>\n",
    "        <td>Задать минимальное число заглавных букв в пароле.</td>\n",
    "    </tr>\n",
    "    <tr align=\"center\">\n",
    "        <td><code>--off-case</code></td>\n",
    "        <td><code>-</code></td>\n",
    "        <td>Не учитывать требования к регистру символов.</td>\n",
    "    </tr>\n",
    "    <tr align=\"center\">\n",
    "        <td><code>--off-digits</code></td>\n",
    "        <td><code>-</code></td>\n",
    "        <td>Не учитывать требования к цифрам.</td>\n",
    "    </tr>\n",
    "    <tr align=\"center\">\n",
    "        <td><code>--off-famous</code></td>\n",
    "        <td><code>-</code></td>\n",
    "        <td>Не проверять, является ли пароль известной комбинацией.</td>\n",
    "    </tr>\n",
    "    <tr align=\"center\">\n",
    "        <td><code>--off-length</code></td>\n",
    "        <td><code>-</code></td>\n",
    "        <td>Не учитывать требования к длине пароля.</td>\n",
    "    </tr>\n",
    "    <tr align=\"center\">\n",
    "        <td><code>--off-special</code></td>\n",
    "        <td><code>-</code></td>\n",
    "        <td>Не учитывать требования к специальным символам.</td>\n",
    "    </tr>\n",
    "</table>"
   ]
  },
  {
   "attachments": {},
   "cell_type": "markdown",
   "metadata": {},
   "source": [
    "Настройками по умолчанию считайте следующие:\n",
    "\n",
    "- Минимальная длина - `16` символов;\n",
    "- Минимальное число строчных букв - `4` шт;\n",
    "- Минимальное число заглавных букв - `4` шт;\n",
    "- Минимальное число специальных символов - `5` шт;\n",
    "- Минимальное число цифр - `3` шт;\n",
    "\n",
    "Верхние границы для стандартных настроек придумайте самостоятельно. Будьте рациональны в их выборе."
   ]
  },
  {
   "attachments": {},
   "cell_type": "markdown",
   "metadata": {},
   "source": [
    "Символы:\n",
    "\n",
    "- Строчные буквы: `abcdefghijklmnopqrstuvwxyz`;\n",
    "- Заглавные буквы: `ABCDEFGHIJKLMNOPQRSTUVWXYZ`;\n",
    "- Специальные символы: `!\"#$%&\\'()*+,-./:;<=>?@[\\\\]^_{|}~`;\n",
    "- Цифры: `0123456789`."
   ]
  },
  {
   "attachments": {},
   "cell_type": "markdown",
   "metadata": {},
   "source": [
    "Пароль считается безопасным, если одновременно выполнены следующие условия:\n",
    "\n",
    "- Если регистр букв учитывается и строчные буквы находятся в заданном диапазоне;\n",
    "- Если регистр букв учитывается и заглавные буквы находятся в заданном диапазоне;\n",
    "- Если специальные символы учитываются и они находятся в заданном диапазоне;\n",
    "- Если цифры учитываются и они находятся в заданном диапазоне;\n",
    "- Если всякая подстрока длины `5` содержит хотя бы `3` различные группы символов;\n",
    "- Если всякая подстрока длины `5` содержит хотя бы `4` различных символа;\n",
    "- Если известность пароля учитывается и он не содержится в базе популярных паролей.\n",
    "\n",
    "Для последнего пункта используйте файл, которым можете воспользоваться [по гиперссылке](https://raw.githubusercontent.com/berandal666/Passwords/master/10_million_password_list_top_1000000.txt)."
   ]
  },
  {
   "attachments": {},
   "cell_type": "markdown",
   "metadata": {},
   "source": [
    "Если возникает ошибка или конфликт логики - например, одновременное применение опций `-v` и `-g` - останавливайте работу программы с понятным для внешнего пользователя сообщением. Подумайте, какие еще могут быть ошибки и конфликты логики. Любые иные сообщения также должны быть понятны внешнему пользователю. Вы свободны в выборе дизайна сообщений. При проверке пароля на безопасность выводите промежуточные сообщения о статусе исполнения."
   ]
  },
  {
   "cell_type": "code",
   "execution_count": null,
   "metadata": {},
   "outputs": [],
   "source": [
    "\"\"\"\n",
    "Lorem ipsum dolor sit amet, consectetur adipiscing elit, sed do\n",
    "eiusmod tempor incididunt ut labore et dolore magna aliqua. Ut\n",
    "enim ad minim veniam, quis nostrud exercitation ullamco laboris\n",
    "nisi ut aliquip ex ea commodo consequat. Duis aute irure dolor\n",
    "in reprehenderit in voluptate velit esse cillum dolore eu fugiat\n",
    "nulla pariatur. Excepteur sint occaecat cupidatat non proident,\n",
    "sunt in culpa qui officia deserunt mollit anim id est laborum.\n",
    "\"\"\""
   ]
  },
  {
   "attachments": {},
   "cell_type": "markdown",
   "metadata": {},
   "source": [
    "**Задание 2. (... баллов)**\n",
    "\n",
    "Перед Вами стоит задача реализовать консольную утилиту, предназначенную для работы с файлами и директорями. Ваша программа должна в зависимости от переданной пользователем директории печатать ее древовидное представление. Решение прикрепите в виде ссылки на репозиторий `GitHub`."
   ]
  },
  {
   "attachments": {},
   "cell_type": "markdown",
   "metadata": {},
   "source": [
    "Интерфейс консольной утилиты должен выглядеть следующим образом: `python3 tree.py path [OPTIONS]`. При желании допустимо видоизменение. Не забывайте о том, что проверяющий должен будет понять, как пользоваться Вашей программой. Помните о минимальных требованиях к реализации."
   ]
  },
  {
   "attachments": {},
   "cell_type": "markdown",
   "metadata": {},
   "source": [
    "<table>\n",
    "    <tr align=\"center\">\n",
    "        <td><b>Опция</b></td>\n",
    "        <td><b>Сокращенное имя</b></td>\n",
    "        <td><b>Описание</b></td>\n",
    "    </tr>\n",
    "    <tr align=\"center\">\n",
    "        <td><code>--help</code></td>\n",
    "        <td><code>-h</code></td>\n",
    "        <td>Вывести сообщение с подсказкой.</td>\n",
    "    </tr>\n",
    "    <tr align=\"center\">\n",
    "        <td><code>--output filepath</code></td>\n",
    "        <td><code>-o filepath</code></td>\n",
    "        <td>Использовать для вывода файл, а не стандартный поток вывода.</td>\n",
    "    </tr>\n",
    "    <tr align=\"center\">\n",
    "        <td><code>--depth-limit limit</code></td>\n",
    "        <td><code>-</code></td>\n",
    "        <td>Не выводить файлы, чей уровень вложенности превышает <code>limit</code>.</td>\n",
    "    </tr>\n",
    "    <tr align=\"center\">\n",
    "        <td><code>--file-limit limit</code></td>\n",
    "        <td><code>-</code></td>\n",
    "        <td>Не выводить директории, в которые вложено более, чем <code>limit</code> файлов.</td>\n",
    "    </tr>\n",
    "    <tr align=\"center\">\n",
    "        <td><code>--size-limit limit</code></td>\n",
    "        <td><code>-</code></td>\n",
    "        <td>\n",
    "            Не выводить файлы, у которых вес больше, чем <code>limit</code>. Не выводить\n",
    "            директории, у которых вес содержимого больше, чем <code>limit</code>.\n",
    "        </td>\n",
    "    </tr>\n",
    "    <tr align=\"center\">\n",
    "        <td><code>--no-symlinks</code></td>\n",
    "        <td><code>-</code></td>\n",
    "        <td>Не выводить символические ссылки и ярлыки.</td>\n",
    "    </tr>\n",
    "    <tr align=\"center\">\n",
    "        <td><code>--no-regular-files</code></td>\n",
    "        <td><code>-</code></td>\n",
    "        <td>Не выводить регулярные файлы.</td>\n",
    "    </tr>\n",
    "    <tr align=\"center\">\n",
    "        <td><code>--show-date</code></td>\n",
    "        <td><code>-d</code></td>\n",
    "        <td>Дополнительно выводить дату создания файла.</td>\n",
    "    </tr>\n",
    "    <tr align=\"center\">\n",
    "        <td><code>--show-prefix</code></td>\n",
    "        <td><code>-p</code></td>\n",
    "        <td>Вместо веток дерева выводить путь до файла.</td>\n",
    "    </tr>\n",
    "    <tr align=\"center\">\n",
    "        <td><code>--show-size</code></td>\n",
    "        <td><code>-s</code></td>\n",
    "        <td>Дополнительно выводить вес файлов в килобайтах.</td>\n",
    "    </tr>\n",
    "    <tr align=\"center\">\n",
    "        <td><code>--sort-by-size</code></td>\n",
    "        <td><code>-</code></td>\n",
    "        <td>Упорядочить вывод по весу файлов в порядке возрастания.</td>\n",
    "    </tr>\n",
    "    <tr align=\"center\">\n",
    "        <td><code>--sort-by-date</code></td>\n",
    "        <td><code>-</code></td>\n",
    "        <td>Упорядочить вывод по дате создания файлов от старых к новым.</td>\n",
    "    </tr>\n",
    "    <tr align=\"center\">\n",
    "        <td><code>--no-lines</code></td>\n",
    "        <td><code>-</code></td>\n",
    "        <td>Не выводить ветки дерева. Вместо них использовать пробелы.</td>\n",
    "    </tr>\n",
    "</table>"
   ]
  },
  {
   "attachments": {},
   "cell_type": "markdown",
   "metadata": {},
   "source": [
    "По умолчанию Ваш вывод должен основываться на лексикографическом порядке."
   ]
  },
  {
   "attachments": {},
   "cell_type": "markdown",
   "metadata": {},
   "source": [
    "Если возникает ошибка или конфликт логики - например, переданной директории не существует - останавливайте работу программы с понятным для внешнего пользователя сообщением. Подумайте, какие еще могут быть ошибки и конфликты логики. Любые иные сообщения также должны быть понятны внешнему пользователю. Вы свободны в выборе дизайна сообщений. Ниже указаны примеры взаимодействия с утилитой."
   ]
  },
  {
   "cell_type": "code",
   "execution_count": null,
   "metadata": {},
   "outputs": [],
   "source": [
    "\"\"\"\n",
    ">>> python3 tree.py .\n",
    ".\n",
    "├── lessons \n",
    "│   └── 04\n",
    "│       ├── homework.ipynb\n",
    "│       ├── lecture.ipynb\n",
    "│       └── seminar.ipynb\n",
    "├── LICENSE\n",
    "└── README.md\n",
    "\"\"\""
   ]
  },
  {
   "cell_type": "code",
   "execution_count": null,
   "metadata": {},
   "outputs": [],
   "source": [
    "\"\"\"\n",
    ">>> python3 tree.py . --no-lines\n",
    ".\n",
    "    lessons \n",
    "        04\n",
    "            homework.ipynb\n",
    "            lecture.ipynb\n",
    "            seminar.ipynb\n",
    "    LICENSE\n",
    "    README.md\n",
    "\"\"\""
   ]
  },
  {
   "cell_type": "code",
   "execution_count": null,
   "metadata": {},
   "outputs": [],
   "source": [
    "\"\"\"\n",
    ">>> python3 tree.py . --no-regular-files --no-symlinks\n",
    ".\n",
    "└── lessons \n",
    "    ├── 01\n",
    "    ├── 02\n",
    "    ├── 03\n",
    "    ├── 04\n",
    "    ├── 05\n",
    "    └── 04\n",
    "\"\"\""
   ]
  },
  {
   "cell_type": "code",
   "execution_count": null,
   "metadata": {},
   "outputs": [],
   "source": [
    "\"\"\"\n",
    ">>> python3 tree.py . --show-date  --show-size\n",
    "[01/01/2023] [500 KiB] .\n",
    "├── [14/02/2023] [200 KiB] lessons \n",
    "│   └── [14/02/2023] [200 KiB] 04\n",
    "│       ├── [08/03/2023] [50 KiB] homework.ipynb\n",
    "│       ├── [08/03/2023] [100 KiB] lecture.ipynb\n",
    "│       └── [08/03/2023] [50 KiB] seminar.ipynb\n",
    "├── [01/01/2023] [50 KiB] LICENSE\n",
    "└── [01/01/2023] [250 KiB] README.md\n",
    "\"\"\""
   ]
  },
  {
   "cell_type": "code",
   "execution_count": null,
   "metadata": {},
   "outputs": [],
   "source": [
    "\"\"\"\n",
    ">>> python3 tree.py . --show-prefix\n",
    ".\n",
    "├── lessons/04/homework.ipynb\n",
    "├── lessons/04/lecture.ipynb\n",
    "├── lessons/04/seminar.ipynb\n",
    "├── LICENSE\n",
    "└── README.md\n",
    "\"\"\""
   ]
  }
 ],
 "metadata": {
  "language_info": {
   "name": "python"
  },
  "orig_nbformat": 4
 },
 "nbformat": 4,
 "nbformat_minor": 2
}
