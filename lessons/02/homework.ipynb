{
 "cells": [
  {
   "attachments": {},
   "cell_type": "markdown",
   "metadata": {},
   "source": [
    "<div align=\"center\">\n",
    "    <a href=\"https://github.com/syubogdanov/hse-howto-python\">\n",
    "        <img src=\"https://cdn-icons-png.flaticon.com/128/1864/1864698.png\" height=\"128px\" width=\"auto\">\n",
    "    </a>\n",
    "    <h3>\n",
    "        <b>\n",
    "            Продвинутый Python\n",
    "        </b>\n",
    "    </h3>\n",
    "    <i>\n",
    "        Продвинутое ООП. Часть II\n",
    "    </i>\n",
    "</div>\n",
    "\n",
    "<br>"
   ]
  },
  {
   "attachments": {},
   "cell_type": "markdown",
   "metadata": {},
   "source": [
    "**Выполнил(-а):** <Фамилия Имя Отчество>"
   ]
  },
  {
   "attachments": {},
   "cell_type": "markdown",
   "metadata": {},
   "source": [
    "**Дополнительные баллы.** За решение *домашнего задания №2* Вам может быть добавлено не более, чем **... бонусных баллов**. Вы можете лишиться не более, чем **... штрафных баллов**."
   ]
  },
  {
   "attachments": {},
   "cell_type": "markdown",
   "metadata": {},
   "source": [
    "**Задание 1 (... баллов)**\n",
    "\n",
    "Реализуйте односвязный список. Требования к реализации указаны ниже."
   ]
  },
  {
   "attachments": {},
   "cell_type": "markdown",
   "metadata": {},
   "source": [
    "**Класс `LinkedListNode`** - узел односвязного списка.\n",
    "\n",
    "<table>\n",
    "    <tr align=\"center\">\n",
    "        <td><b>Имя атрибута</b></td>\n",
    "        <td><b>Асимптотическая сложность</b></td>\n",
    "        <td><b>Описание</b></td>\n",
    "    </tr>\n",
    "    <tr align=\"center\">\n",
    "        <td><b>value</b></td>\n",
    "        <td><code>O(1)</code></td>\n",
    "        <td>Значение, которое хранится в узле. Можно изменять извне.</td>\n",
    "    </tr>\n",
    "    <tr align=\"center\">\n",
    "        <td><b>next</b></td>\n",
    "        <td><code>O(1)</code></td>\n",
    "        <td>Следующий узел. Возможно, None. Запрещено изменять извне.</td>\n",
    "    </tr>\n",
    "</table>"
   ]
  },
  {
   "attachments": {},
   "cell_type": "markdown",
   "metadata": {},
   "source": [
    "**Класс `LinkedList `** - односвязный список.\n",
    "\n",
    "<table>\n",
    "    <tr align=\"center\">\n",
    "        <td><b>Имя метода</b></td>\n",
    "        <td><b>Асимптотическая сложность</b></td>\n",
    "        <td><b>Описание</b></td>\n",
    "    </tr>\n",
    "    <tr align=\"center\">\n",
    "        <td><b>push_front</b></td>\n",
    "        <td><code>O(1)</code></td>\n",
    "        <td>Добавить значение в начало списка.</td>\n",
    "    </tr>\n",
    "    <tr align=\"center\">\n",
    "        <td><b>push_back</b></td>\n",
    "        <td><code>O(N)</code></td>\n",
    "        <td>Добавить значение в конец списка.</td>\n",
    "    </tr>\n",
    "    <tr align=\"center\">\n",
    "        <td><b>insert</b></td>\n",
    "        <td><code>O(N)</code></td>\n",
    "        <td>Вставить значение по индексу. По умолчанию добавлять в начало списка.</td>\n",
    "    </tr>\n",
    "    <tr align=\"center\">\n",
    "        <td><b>pop_front</b></td>\n",
    "        <td><code>O(1)</code></td>\n",
    "        <td>Удалить первый узел списка и вернуть значение, которое в нем было.</td>\n",
    "    </tr>\n",
    "    <tr align=\"center\">\n",
    "        <td><b>pop_back</b></td>\n",
    "        <td><code>O(N)</code></td>\n",
    "        <td>Удалить последний узел списка и вернуть значение, которое в нем было.</td>\n",
    "    </tr>\n",
    "    <tr align=\"center\">\n",
    "        <td><b>pop</b></td>\n",
    "        <td><code>O(N)</code></td>\n",
    "        <td>\n",
    "            Удалить узел по индексу и вернуть значение, которое в нем было. По умолчанию\n",
    "            удалять из начала.\n",
    "        </td>\n",
    "    </tr>\n",
    "    <tr align=\"center\">\n",
    "        <td><b>clear</b></td>\n",
    "        <td><code>O(N)</code></td>\n",
    "        <td>Очистить список.</td>\n",
    "    </tr>\n",
    "    <tr align=\"center\">\n",
    "        <td><b>front</b></td>\n",
    "        <td><code>O(1)</code></td>\n",
    "        <td>Получить первый элемент односвязного списка.</td>\n",
    "    </tr>\n",
    "    <tr align=\"center\">\n",
    "        <td><b>back</b></td>\n",
    "        <td><code>O(N)</code></td>\n",
    "        <td>Получить последний элемент односвязного списка.</td>\n",
    "    </tr>\n",
    "</table>"
   ]
  },
  {
   "attachments": {},
   "cell_type": "markdown",
   "metadata": {},
   "source": [
    "<table>\n",
    "    <tr align=\"center\">\n",
    "        <td><b>Имя оператора</b></td>\n",
    "        <td><b>Асимптотическая сложность</b></td>\n",
    "        <td><b>Описание</b></td>\n",
    "    </tr>\n",
    "    <tr align=\"center\">\n",
    "        <td><b><code>len</code></b></td>\n",
    "        <td><code>O(1)</code></td>\n",
    "        <td>Получить длину списка.</td>\n",
    "    </tr>\n",
    "    <tr align=\"center\">\n",
    "        <td><b><code>self[i]</code></b></td>\n",
    "        <td><code>O(N)</code></td>\n",
    "        <td>Получить <code>i</code>-ый узел.</td>\n",
    "    </tr>\n",
    "    <tr align=\"center\">\n",
    "        <td><b><code>self[i] = ...</code></b></td>\n",
    "        <td><code>O(N)</code></td>\n",
    "        <td>Присвоить <code>i</code>-ому узлу новое значение.</td>\n",
    "    </tr>\n",
    "    <tr align=\"center\">\n",
    "        <td><b><code>del self[i]</code></b></td>\n",
    "        <td><code>O(N)</code></td>\n",
    "        <td>Удалить <code>i</code>-ый узел из списка.</td>\n",
    "    </tr>\n",
    "    <tr align=\"center\">\n",
    "        <td><b><code>+=</code></b></td>\n",
    "        <td><code>O(N)</code></td>\n",
    "        <td>Добавить в конец списка новое значение.</td>\n",
    "    </tr>\n",
    "    <tr align=\"center\">\n",
    "        <td><b><code>in</code></b></td>\n",
    "        <td><code>O(N)</code></td>\n",
    "        <td>Узнать содержится ли равный элемент в списке.</td>\n",
    "    </tr>\n",
    "    <tr align=\"center\">\n",
    "        <td><b>Преобразование к <code>bool</code</b></td>\n",
    "        <td><code>O(1)</code></td>\n",
    "        <td>Проверить, является ли список пустым.</td>\n",
    "    </tr>\n",
    "    <tr align=\"center\">\n",
    "        <td><b>Сравнение</b></td>\n",
    "        <td><code>O(N)</code></td>\n",
    "        <td>Сравнение с другими списками на основе лексикографического порядка.</td>\n",
    "    </tr>\n",
    "    <tr align=\"center\">\n",
    "        <td><b>Деструктор</b></td>\n",
    "        <td><code>O(N)</code></td>\n",
    "        <td>\n",
    "            Очистка класса перед уничтожением.\n",
    "        </td>\n",
    "    </tr>\n",
    "</table>"
   ]
  },
  {
   "attachments": {},
   "cell_type": "markdown",
   "metadata": {},
   "source": [
    "Прочие замечания:\n",
    "\n",
    "- Используйте корректное наследование. Изучите содержимое `collections.abc`. Есть ли подходящий объект(-ы)? Если да, то какой(-ие)?\n",
    "- Если какая-то из операций невозможна - например, получить первый элемент при пустом списке - бросайте соответствующее исключение. В частности, для указанного примера - это `IndexError`."
   ]
  },
  {
   "cell_type": "code",
   "execution_count": null,
   "metadata": {},
   "outputs": [],
   "source": [
    "\"\"\"\n",
    "Lorem ipsum dolor sit amet, consectetur adipiscing elit, sed do\n",
    "eiusmod tempor incididunt ut labore et dolore magna aliqua. Ut\n",
    "enim ad minim veniam, quis nostrud exercitation ullamco laboris\n",
    "nisi ut aliquip ex ea commodo consequat. Duis aute irure dolor\n",
    "in reprehenderit in voluptate velit esse cillum dolore eu fugiat\n",
    "nulla pariatur. Excepteur sint occaecat cupidatat non proident,\n",
    "sunt in culpa qui officia deserunt mollit anim id est laborum.\n",
    "\"\"\""
   ]
  },
  {
   "attachments": {},
   "cell_type": "markdown",
   "metadata": {},
   "source": [
    "**Задание 2. (... баллов)**\n",
    "\n",
    "Реализуйте бор, или префиксное дерево. Требования к реализации указаны ниже."
   ]
  },
  {
   "attachments": {},
   "cell_type": "markdown",
   "metadata": {},
   "source": [
    "**Класс `Trie`** - бор, или перфиксное дерево.\n",
    "\n",
    "<table>\n",
    "    <tr align=\"center\">\n",
    "        <td><b>Имя метода</b></td>\n",
    "        <td><b>Асимптотическая сложность</b></td>\n",
    "        <td><b>Описание</b></td>\n",
    "    </tr>\n",
    "    <tr align=\"center\">\n",
    "        <td><b>append</b></td>\n",
    "        <td><code>O(N)</code>, где <code>N</code> - длина слова</td>\n",
    "        <td>Добавить слово в дерево.</td>\n",
    "    </tr>\n",
    "    <tr align=\"center\">\n",
    "        <td><b>extend</b></td>\n",
    "        <td><code>O(S)</code>, где <code>S</code> - суммарная длина слов</td>\n",
    "        <td>Добавить все слова из итерируемой коллекции в дерево.</td>\n",
    "    </tr>\n",
    "    <tr align=\"center\">\n",
    "        <td><b>pop</b></td>\n",
    "        <td><code>O(N)</code>, где <code>N</code> - длина слова</td>\n",
    "        <td>Удалить слово из дерева.</td>\n",
    "    </tr>\n",
    "    <tr align=\"center\">\n",
    "        <td><b>clear</b></td>\n",
    "        <td><code>O(K)</code>, где <code>K</code> - количество слов в дереве</td>\n",
    "        <td>Очистить дерево от слов.</td>\n",
    "    </tr>\n",
    "</table>"
   ]
  },
  {
   "attachments": {},
   "cell_type": "markdown",
   "metadata": {},
   "source": [
    "<table>\n",
    "    <tr align=\"center\">\n",
    "        <td><b>Имя оператора</b></td>\n",
    "        <td><b>Асимптотическая сложность</b></td>\n",
    "        <td><b>Описание</b></td>\n",
    "    </tr>\n",
    "    <tr align=\"center\">\n",
    "        <td><b><code>len</code></b></td>\n",
    "        <td><code>O(1)</code></td>\n",
    "        <td>Получить количество слов в дереве.</td>\n",
    "    </tr>\n",
    "    <tr align=\"center\">\n",
    "        <td><b><code>in</code></b></td>\n",
    "        <td><code>O(N)</code>, где <code>N</code> - длина слова</td>\n",
    "        <td>Узнать содержится ли слово в дереве.</td>\n",
    "    </tr>\n",
    "    <tr align=\"center\">\n",
    "        <td><b>Преобразование к <code>bool</code></b></td>\n",
    "        <td><code>O(1)</code></td>\n",
    "        <td>Проверить, является ли дерево пустым.</td>\n",
    "    </tr>\n",
    "    <tr align=\"center\">\n",
    "        <td><b><code>+=</code></b></td>\n",
    "        <td><code>O(N)</code>, где <code>N</code> - длина слова</td>\n",
    "        <td>Добавить в бор новое слово.</td>\n",
    "    </tr>\n",
    "    <tr align=\"center\">\n",
    "        <td><b><code>-=</code></b></td>\n",
    "        <td><code>O(N)</code>, где <code>N</code> - длина слова</td>\n",
    "        <td>Удалить слово из бора.</td>\n",
    "    </tr>\n",
    "    <tr align=\"center\">\n",
    "        <td><b>Деструктор</b></td>\n",
    "        <td><code>O(N)</code></td>\n",
    "        <td>\n",
    "            Очистка класса перед уничтожением.\n",
    "        </td>\n",
    "    </tr>\n",
    "</table>"
   ]
  },
  {
   "attachments": {},
   "cell_type": "markdown",
   "metadata": {},
   "source": [
    "Прочие замечания:\n",
    "\n",
    "- Используйте корректное наследование. Изучите содержимое `collections.abc`. Есть ли подходящий объект(-ы)? Если да, то какой(-ие)?\n",
    "- Хранение копий не допускается. Если элемент, равный добавляемому, уже существует, тогда число слов в дереве не увеличивается;\n",
    "- Используйте `dataclass` для реализации узла дерева."
   ]
  },
  {
   "cell_type": "code",
   "execution_count": null,
   "metadata": {},
   "outputs": [],
   "source": [
    "\"\"\"\n",
    "Lorem ipsum dolor sit amet, consectetur adipiscing elit, sed do\n",
    "eiusmod tempor incididunt ut labore et dolore magna aliqua. Ut\n",
    "enim ad minim veniam, quis nostrud exercitation ullamco laboris\n",
    "nisi ut aliquip ex ea commodo consequat. Duis aute irure dolor\n",
    "in reprehenderit in voluptate velit esse cillum dolore eu fugiat\n",
    "nulla pariatur. Excepteur sint occaecat cupidatat non proident,\n",
    "sunt in culpa qui officia deserunt mollit anim id est laborum.\n",
    "\"\"\""
   ]
  },
  {
   "attachments": {},
   "cell_type": "markdown",
   "metadata": {},
   "source": [
    "**Задание 3. (... баллов)**\n",
    "\n",
    "Реализуйте АВЛ-дерево в виде класса `AVLTree`. Хранение равных элементов не допускается. Используйте `dataclass` для реализации представления узла дерева. Прочие требования к реализации указаны ниже."
   ]
  },
  {
   "attachments": {},
   "cell_type": "markdown",
   "metadata": {},
   "source": [
    "<table>\n",
    "    <tr align=\"center\">\n",
    "        <td><b>Имя метода</b></td>\n",
    "        <td><b>Асимптотическая сложность</b></td>\n",
    "        <td><b>Описание</b></td>\n",
    "    </tr>\n",
    "    <tr align=\"center\">\n",
    "        <td><b>Инициализация</b></td>\n",
    "        <td><code>O(1)</code></td>\n",
    "        <td>\n",
    "            Должна быть возможность передавать функции-компараторы \"меньше\" и \"равно\".\n",
    "            Предлагаем назвать аргументы <code>lt</code> и <code>eq</code> соответственно.\n",
    "            По умолчанию используются обычные операторы  сравнения \"меньше\" и \"равно\".\n",
    "        </td>\n",
    "    </tr>\n",
    "    <tr align=\"center\">\n",
    "        <td><b>append</b></td>\n",
    "        <td><code>O(log N)</code></td>\n",
    "        <td>\n",
    "            Добавить элемент в дерево. Возвращается <code>True</code>, если равный элемент\n",
    "            уже есть в дереве, иначе - <code>False</code>.\n",
    "        </td>\n",
    "    </tr>\n",
    "    <tr align=\"center\">\n",
    "        <td><b>pop</b></td>\n",
    "        <td><code>O(log N)</code></td>\n",
    "        <td>\n",
    "            Удалить <code>i</code>-ый по величине элемент дерева. По умолчанию должно\n",
    "            удалять наибольший элемент. Возвращается удаленный элемент.\n",
    "        </td>\n",
    "    </tr>\n",
    "    <tr align=\"center\">\n",
    "        <td><b>remove</b></td>\n",
    "        <td><code>O(log N)</code></td>\n",
    "        <td>\n",
    "            Удалить из дерева элемент, равный переданному.\n",
    "        </td>\n",
    "    </tr>\n",
    "    <tr align=\"center\">\n",
    "        <td><b>extend</b></td>\n",
    "        <td><code>O(K * log N)</code></td>\n",
    "        <td>\n",
    "            Добавить в дерево все элементы итерируемого объекта длины <code>K</code>.\n",
    "        </td>\n",
    "    </tr>\n",
    "    <tr align=\"center\">\n",
    "        <td><b>reverse</b></td>\n",
    "        <td><code>O(N)</code></td>\n",
    "        <td>\n",
    "            Развернуть дерево. Обратите внимание, что оператор \"меньше\" меняется на\n",
    "            противоположный.\n",
    "        </td>\n",
    "    </tr>\n",
    "    <tr align=\"center\">\n",
    "        <td><b>clear</b></td>\n",
    "        <td><code>O(N)</code></td>\n",
    "        <td>\n",
    "            Очистить дерево.\n",
    "        </td>\n",
    "    </tr>\n",
    "    <tr align=\"center\">\n",
    "        <td><b>min</b></td>\n",
    "        <td><code>O(log N)</code></td>\n",
    "        <td>\n",
    "            Получить минимальный элемент.\n",
    "        </td>\n",
    "    </tr>\n",
    "    <tr align=\"center\">\n",
    "        <td><b>max</b></td>\n",
    "        <td><code>O(log N)</code></td>\n",
    "        <td>\n",
    "            Получить максимальный элемент.\n",
    "        </td>\n",
    "    </tr>\n",
    "    <tr align=\"center\">\n",
    "        <td><b>count</b></td>\n",
    "        <td><code>O(log N)</code></td>\n",
    "        <td>\n",
    "            Получить количество элементов, равных переданному.\n",
    "        </td>\n",
    "    </tr>\n",
    "    <tr align=\"center\">\n",
    "        <td><b>index</b></td>\n",
    "        <td><code>O(log N)</code></td>\n",
    "        <td>\n",
    "            Получить индекс переданного элемента в дереве.\n",
    "        </td>\n",
    "    </tr>\n",
    "</table>"
   ]
  },
  {
   "attachments": {},
   "cell_type": "markdown",
   "metadata": {},
   "source": [
    "Изучите, как устроены (в том числе по сигнатуре) аналогичные методы в списке. Какие исключения могут быть выброшены? При каких условиях? Реализуйте семантически аналогичный функционал."
   ]
  },
  {
   "attachments": {},
   "cell_type": "markdown",
   "metadata": {},
   "source": [
    "<table>\n",
    "    <tr align=\"center\">\n",
    "        <td><b>Оператор</b></td>\n",
    "        <td><b>Асимптотическая сложность</b></td>\n",
    "        <td><b>Описание</b></td>\n",
    "    </tr>\n",
    "    <tr align=\"center\">\n",
    "        <td><b>len</b></td>\n",
    "        <td><code>O(1)</code></td>\n",
    "        <td>\n",
    "            Получить количество хранимых в дереве элементов.\n",
    "        </td>\n",
    "    </tr>\n",
    "    <tr align=\"center\">\n",
    "        <td><b>in</b></td>\n",
    "        <td><code>O(log N)</code></td>\n",
    "        <td>\n",
    "            Проверить, есть ли элемент, равный переданному, в дереве.\n",
    "        </td>\n",
    "    </tr>\n",
    "    <tr align=\"center\">\n",
    "        <td><b>bool</b></td>\n",
    "        <td><code>O(1)</code></td>\n",
    "        <td>\n",
    "            Проверить, пусто ли дерево. Возвращает <code>True</code>, если\n",
    "            дерево не пусто, иначе - <code>False</code>.\n",
    "        </td>\n",
    "    </tr>\n",
    "    <tr align=\"center\">\n",
    "        <td><b>+=</b></td>\n",
    "        <td><code>O(log N)</code></td>\n",
    "        <td>\n",
    "            Аналог <code>append</code>.\n",
    "        </td>\n",
    "    </tr>\n",
    "    <tr align=\"center\">\n",
    "        <td><b>self[i]</b></td>\n",
    "        <td><code>O(log N)</code></td>\n",
    "        <td>\n",
    "            Получить <code>i</code>-ое по величине значение.\n",
    "        </td>\n",
    "    </tr>\n",
    "    <tr align=\"center\">\n",
    "        <td><b>del self[i]</b></td>\n",
    "        <td><code>O(log N)</code></td>\n",
    "        <td>\n",
    "            Удалить <code>i</code>-ое по величине значение.\n",
    "        </td>\n",
    "    </tr>\n",
    "    <tr align=\"center\">\n",
    "        <td><b>self[i] = ...</b></td>\n",
    "        <td><code>O(log N)</code></td>\n",
    "        <td>\n",
    "            Удалить <code>i</code>-ое по величине значение и затем\n",
    "            добавить в дерево новое значение.\n",
    "        </td>\n",
    "    </tr>\n",
    "    <tr align=\"center\">\n",
    "        <td><b>Сравнение</b></td>\n",
    "        <td><code>O(N)</code></td>\n",
    "        <td>\n",
    "            Сравнение двух деревьев на основе лексикографического порядка.\n",
    "            Сравнение аналогично спискам.\n",
    "        </td>\n",
    "    </tr>\n",
    "    <tr align=\"center\">\n",
    "        <td><b>Деструктор</b></td>\n",
    "        <td><code>O(N)</code></td>\n",
    "        <td>\n",
    "            Очистка класса перед уничтожением.\n",
    "        </td>\n",
    "    </tr>\n",
    "</table>"
   ]
  },
  {
   "attachments": {},
   "cell_type": "markdown",
   "metadata": {},
   "source": [
    "Прочие замечания:\n",
    "\n",
    "- Используйте корректное наследование. Изучите содержимое `collections.abc`. Есть ли подходящий объект(-ы)? Если да, то какой(-ие)?\n",
    "- Если какая-то из операций невозможна - например, получить минимальный элемент при пустом дереве - бросайте соответствующее исключение. В частности, для указанного примера - это `IndexError`;\n",
    "- Реализация представления узлов дерева - зависит только от Вас. Делайте так, как посчитаете лучше. Помните о читабельности и внешнем доступе."
   ]
  },
  {
   "cell_type": "code",
   "execution_count": null,
   "metadata": {},
   "outputs": [],
   "source": [
    "\"\"\"\n",
    "Lorem ipsum dolor sit amet, consectetur adipiscing elit, sed do\n",
    "eiusmod tempor incididunt ut labore et dolore magna aliqua. Ut\n",
    "enim ad minim veniam, quis nostrud exercitation ullamco laboris\n",
    "nisi ut aliquip ex ea commodo consequat. Duis aute irure dolor\n",
    "in reprehenderit in voluptate velit esse cillum dolore eu fugiat\n",
    "nulla pariatur. Excepteur sint occaecat cupidatat non proident,\n",
    "sunt in culpa qui officia deserunt mollit anim id est laborum.\n",
    "\"\"\""
   ]
  },
  {
   "attachments": {},
   "cell_type": "markdown",
   "metadata": {},
   "source": [
    "**Задание 4. (... баллов)**\n",
    "\n",
    "Один известный отечественный фонд \"Компьютерная капибара\", который занимается защитой окружающей среды, попросил Вас помочь им в реализации системы учета популяции биологических видов. Вам предоставляют подробное техническое задание, схему сервиса и, конечно же, баллы за домашнее задание."
   ]
  },
  {
   "attachments": {},
   "cell_type": "markdown",
   "metadata": {},
   "source": [
    "![Scheme](data:image/png;base64,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)"
   ]
  },
  {
   "attachments": {},
   "cell_type": "markdown",
   "metadata": {},
   "source": [
    "**Описание системы.**\n",
    "\n",
    "Спонсоры, которыми могут быть либо гражданские, либо юридические лица, финансируют благотворительный фонд - это единственный способ, благодаря которому возможно получать денежные вложения. Поступившие на счет фонда средства можно тратить на 4 категории объектов:\n",
    "\n",
    "- Организация экспедиций;\n",
    "- Покупка рабочей одежды;\n",
    "- Покупка корма для животных;\n",
    "- Покупка оборудования для базы данных фонда."
   ]
  },
  {
   "attachments": {},
   "cell_type": "markdown",
   "metadata": {},
   "source": [
    "На складе одежды хранится рабочая форма для исследователей, которые будут заниматься подсчетом численности популяций. Всякая форма имеет цвет, от которого в будущем будет зависеть заинтересованность животного в человеке. На складе корма хранится продовольствие, при помощи которого исследователь будет привлекать внимание животного при знакомстве. База данных фонда хранит информацию о полностью изученных животных."
   ]
  },
  {
   "attachments": {},
   "cell_type": "markdown",
   "metadata": {},
   "source": [
    "При организации экспедиций фонд делает следующее:\n",
    "\n",
    "- Выделяет денежные средства;\n",
    "- Выделяет рабочую одежду для исследователей;\n",
    "- Выделяет прикорм для животных."
   ]
  },
  {
   "attachments": {},
   "cell_type": "markdown",
   "metadata": {},
   "source": [
    "На выделенные деньги экспедиция может:\n",
    "\n",
    "- Нанимать исследователей;\n",
    "- Арендовать оборудование для организации базы данных экспедиции."
   ]
  },
  {
   "attachments": {},
   "cell_type": "markdown",
   "metadata": {},
   "source": [
    "Исследователь - это человек, который будет заниматься подсчетом численности популяции биологического вида. Во-первых, каждый исследователь определяет начальный денежный гонорар - это обязательный взнос, без которого работа не будет осуществлена. Во-вторых, каждый исследователь назначает стоимость обслуживания `N` животных - это плата, которая взимается с фонда за попытку исследования `N` животных."
   ]
  },
  {
   "attachments": {},
   "cell_type": "markdown",
   "metadata": {},
   "source": [
    "Рабочий не может быть отправлен исследовать животных, если не будет гарантии, что за его труд можно будет выплатить требуемый гонорар. Если экспедиции не хватает средств на оплату труда, то фонд увольняет сотрудника без выплаты дополнительных денежных сумм."
   ]
  },
  {
   "attachments": {},
   "cell_type": "markdown",
   "metadata": {},
   "source": [
    "Исследователь берет у организаторов экспедиции рабочую форму и корм, количество которого определяет вместимость одежды. Снарядившись, участник экспедиции может приступать к попытке исследования животных. Алгоритм следующий:\n",
    "\n",
    "- Прикормить животное, чтобы оно не боялось человека. Это обязательный этап, который нельзя пропускать;\n",
    "- Когда животное поело, человек может продолжить попытку исследовать вид. Если животному нравится цвет одежды, то оно само пойдет на контакт. В противном случае - просто убежит."
   ]
  },
  {
   "attachments": {},
   "cell_type": "markdown",
   "metadata": {},
   "source": [
    "Если животное пошло на контакт, то участник экспедиции надевает на зверька специальный браслет, а затем заносит информацию о нем в базу данных экспедиции. Если на животном уже есть браслет, то заносить его в базу данных не требуется. Определить, есть ли на животном браслет, можно только в одном случае: когда оно пошло на контакт с исследователем."
   ]
  },
  {
   "attachments": {},
   "cell_type": "markdown",
   "metadata": {},
   "source": [
    "Если у исследователя закончился корм, то он идет на склад экспедиции, чтобы пополнить свои запасы. Если на складе нет прикорма, то сотрудник увольняется без выплаты дополнительных денежных сумм."
   ]
  },
  {
   "attachments": {},
   "cell_type": "markdown",
   "metadata": {},
   "source": [
    "Каждая рабочая форма характеризуется не только вместимостью и цветом, но и износостойкостью. Этот параметр отвечает за количество возможных попыток взаимодействия с животным, которое будет безопасно для исследователя. Когда одежда изнашивается, использовать ее далее - строго запрещено в целях соблюдения техники безопасности. Рабочий отправляется на склад экспедиции, чтобы переодеться. Если на складе нет одежды, то сотрудник увольняется без выплаты дополнительных денежных сумм."
   ]
  },
  {
   "attachments": {},
   "cell_type": "markdown",
   "metadata": {},
   "source": [
    "Когда все исследователи увольняются, экспедиция завершается. По окончании формируется отчет, который основывается на следующем:\n",
    "\n",
    "- Количество использованного корма;\n",
    "- Количество испорченной в течение экспедиции одежды;\n",
    "- Потраченные на проведение исследования денежные средства;\n",
    "- База данных экспедиции по животным."
   ]
  },
  {
   "attachments": {},
   "cell_type": "markdown",
   "metadata": {},
   "source": [
    "Далее, этот отчет направляется в базу данных фонда. Во-первых, происходит перераспределение неиспользованных ресурсов: остатки корма возвращаются на основной склад и так далее. Во-вторых, база данных экспедиции переносится в базу данных фонда."
   ]
  },
  {
   "attachments": {},
   "cell_type": "markdown",
   "metadata": {},
   "source": [
    "**Замечание.** Задание является творческим - Вы самостоятельно продумываете интерфейс модели с учетом пожеланий авторов, которые будут указаны ниже. Вам необходимо использовать уже изученные возможности объектно-ориентированного программирования на Python. Оптимальностью решения допустимо пренебречь - проверяющим куда важнее увидеть Вашу осознанность в проектировании системы. Конечный продукт должен позволять выстраивать цепь взаимодействия между объектами. Ввиду трудоемкости задания, за его решение Вы сможете получить вплоть до ... баллов. Дополнение системы новыми объектами поощряется бонусными баллами."
   ]
  },
  {
   "attachments": {},
   "cell_type": "markdown",
   "metadata": {},
   "source": [
    "**Пожелания.**\n",
    "\n",
    "- База данных является отдельным классом. Имеет вместимость по памяти. Фонд имеет право докупать карты памяти с целью расширения вместимости базы данных. Соответственно, всякое хранимое значение в базе должно иметь вес. Придумайте значения самостоятельно. Воспользуйтесь `enum`-классами для фиксации размеров под данные;\n",
    "\n",
    "- Спонсор является одной из двух сущностей: физическое или юридическое лицо. Во втором случае при пожертвовании удерживается налог;\n",
    "\n",
    "- Склад является отдельным классом. Полагайте, что он имеет неограниченную вместимость;\n",
    "\n",
    "- Отдельный биологический вид должен иметь отдельное представление в виде класса. Каждый биологический вид должен иметь свои предпочтения по количеству корма и цвету одежды - это может быть фиксированное значения или некоторый диапазон допустимых значений;\n",
    "\n",
    "- Цвет одежды является `enum`-классом;\n",
    "\n",
    "- Отчет является отдельной сущностью. Подумайте, какими свойствами лучше всего наделить этот объект;\n",
    "\n",
    "- Используйте абстрактные классы. В этом задании есть по крайней мере три сущности, которые можно выделить как абстрактные."
   ]
  },
  {
   "cell_type": "code",
   "execution_count": null,
   "metadata": {},
   "outputs": [],
   "source": [
    "\"\"\"\n",
    "Lorem ipsum dolor sit amet, consectetur adipiscing elit, sed do\n",
    "eiusmod tempor incididunt ut labore et dolore magna aliqua. Ut\n",
    "enim ad minim veniam, quis nostrud exercitation ullamco laboris\n",
    "nisi ut aliquip ex ea commodo consequat. Duis aute irure dolor\n",
    "in reprehenderit in voluptate velit esse cillum dolore eu fugiat\n",
    "nulla pariatur. Excepteur sint occaecat cupidatat non proident,\n",
    "sunt in culpa qui officia deserunt mollit anim id est laborum.\n",
    "\"\"\""
   ]
  }
 ],
 "metadata": {
  "language_info": {
   "name": "python"
  },
  "orig_nbformat": 4
 },
 "nbformat": 4,
 "nbformat_minor": 2
}
