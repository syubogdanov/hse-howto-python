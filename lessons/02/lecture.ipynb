{
 "cells": [
  {
   "attachments": {},
   "cell_type": "markdown",
   "metadata": {},
   "source": [
    "<div align=\"center\">\n",
    "    <a href=\"https://github.com/syubogdanov/hse-howto-python\">\n",
    "        <img src=\"https://cdn-icons-png.flaticon.com/128/1864/1864698.png\" height=\"128px\" width=\"auto\">\n",
    "    </a>\n",
    "    <h3>\n",
    "        <b>\n",
    "            Продвинутый Python\n",
    "        </b>\n",
    "    </h3>\n",
    "    <i>\n",
    "        Продвинутое ООП. Часть II\n",
    "    </i>\n",
    "</div>\n",
    "\n",
    "<br>"
   ]
  },
  {
   "attachments": {},
   "cell_type": "markdown",
   "metadata": {},
   "source": [
    "**Цель занятия.** Оcвоение элементов объектно-ориентированного программирования. Переход к работе с классами на продвинутом уровне: перегрузка операторов, абстрактные классы, наследование от абстрактных классов, классы для хранения данных."
   ]
  },
  {
   "attachments": {},
   "cell_type": "markdown",
   "metadata": {},
   "source": [
    "**Определение.** Магические методы - это особые методы объектов объектно-ориентированного программирования на Python, позволяющие перегрузить стандартные операторы. Например, обращение по индексу, операторы сравнения."
   ]
  },
  {
   "attachments": {},
   "cell_type": "markdown",
   "metadata": {},
   "source": [
    "**Пояснение.** Магические методы позволяют задать более естественный характер Вашим классам. Приведем пример. Допустим, мы пишем некоторую коллекцию. Вполне разумной потребностью будет реализовать механизм обращения к элементам по индексу. Благодаря использованию магических методов, вместо `struct.get(i)` мы сможем пользоваться `struct[i]`, что выглядит куда более удобно и надежно."
   ]
  },
  {
   "attachments": {},
   "cell_type": "markdown",
   "metadata": {},
   "source": [
    "**Пример.** Реализуйте представление 32-битных беззнаковых чисел."
   ]
  },
  {
   "cell_type": "code",
   "execution_count": 1,
   "metadata": {},
   "outputs": [],
   "source": [
    "from __future__ import annotations\n",
    "\n",
    "MODULO: int = 2 ** 32\n",
    "\n",
    "\n",
    "class uint32_t(object):\n",
    "    __slots__: tuple[str, ...] = (\"__value\")\n",
    "\n",
    "    def __init__(self: uint32_t, value: int = 0) -> None:\n",
    "        while value < 0:\n",
    "            value += MODULO\n",
    "\n",
    "        value %= MODULO\n",
    "        self.__value: int = value"
   ]
  },
  {
   "attachments": {},
   "cell_type": "markdown",
   "metadata": {},
   "source": [
    "**Пояснение.** Сейчас структура данных практически ничего не делает - всего лишь хранит беззнаковое число. Тем не менее уже был применен магический метод - `__init__`. Вы уже наверняка знаете, что он из себя представляет - он дает возможность инициализировать структуру в соответствии с Вашими требованиями. Стоит отметить, что другие магические методы стилистически выглядят ровно так же - два нижних подчеркивания, название и вновь два нижних подчеркивания."
   ]
  },
  {
   "attachments": {},
   "cell_type": "markdown",
   "metadata": {},
   "source": [
    "**Рассуждение.** Давайте, во-первых, научимся узнавать, что находится внутри структуры, не прибегая к `get`-методам. Используя магию Python, добавим классу возможность приведения к другим типам данных: к `int`, к `str` и к `bool`. Принципы преобразований оставим те же, что и у `int`."
   ]
  },
  {
   "cell_type": "code",
   "execution_count": 2,
   "metadata": {},
   "outputs": [],
   "source": [
    "class uint32_t(object):\n",
    "    __slots__: tuple[str, ...] = (\"__value\")\n",
    "\n",
    "    def __init__(self: uint32_t, value: int = 0) -> None:\n",
    "        \"\"\"\n",
    "        Магический метод, который позволяет задать\n",
    "        инициализацию объекта\n",
    "        \"\"\"\n",
    "        while value < 0:\n",
    "            value += MODULO\n",
    "\n",
    "        value %= MODULO\n",
    "        self.__value: int = value\n",
    "\n",
    "    def __int__(self: uint32_t) -> int:\n",
    "        \"\"\"\n",
    "        Магический метод, который позволяет задать\n",
    "        приведение экземпляра к целому числу\n",
    "        \"\"\"\n",
    "        return self.__value\n",
    "    \n",
    "    def __str__(self: uint32_t) -> str:\n",
    "        \"\"\"\n",
    "        Магический метод, который позволяет задать\n",
    "        приведение экземпляра к строковому типу\n",
    "        \"\"\"\n",
    "        return str(self.__value)\n",
    "    \n",
    "    def __bool__(self: uint32_t) -> bool:\n",
    "        \"\"\"\n",
    "        Магический метод, который позволяет задать\n",
    "        приведение экземпляра к булеву типу\n",
    "        \"\"\"\n",
    "        return self.__value != 0"
   ]
  },
  {
   "cell_type": "code",
   "execution_count": 5,
   "metadata": {},
   "outputs": [
    {
     "name": "stdout",
     "output_type": "stream",
     "text": [
      "int: 4294967295\n",
      "str: 4294967295\n",
      "bool: True\n"
     ]
    }
   ],
   "source": [
    "num = uint32_t(-1)\n",
    "\n",
    "print(\"int:\",  int(num))   # __int__\n",
    "print(\"str:\",  str(num))   # __str__\n",
    "print(\"bool:\", bool(num))  # __bool__"
   ]
  },
  {
   "cell_type": "code",
   "execution_count": 6,
   "metadata": {},
   "outputs": [
    {
     "name": "stdout",
     "output_type": "stream",
     "text": [
      "int: 0\n",
      "str: 0\n",
      "bool: False\n"
     ]
    }
   ],
   "source": [
    "num = uint32_t(0)\n",
    "\n",
    "print(\"int:\",  int(num))   # __int__\n",
    "print(\"str:\",  str(num))   # __str__\n",
    "print(\"bool:\", bool(num))  # __bool__"
   ]
  },
  {
   "attachments": {},
   "cell_type": "markdown",
   "metadata": {},
   "source": [
    "**Рассуждение.** Давайте теперь зададим математические операции. Например, сложение."
   ]
  },
  {
   "cell_type": "code",
   "execution_count": 7,
   "metadata": {},
   "outputs": [],
   "source": [
    "class uint32_t(object):\n",
    "    __slots__: tuple[str, ...] = (\"__value\")\n",
    "\n",
    "    def __init__(self: uint32_t, value: int = 0) -> None:\n",
    "        \"\"\"\n",
    "        Магический метод, который позволяет задать\n",
    "        инициализацию объекта\n",
    "        \"\"\"\n",
    "        while value < 0:\n",
    "            value += MODULO\n",
    "\n",
    "        value %= MODULO\n",
    "        self.__value: int = value\n",
    "\n",
    "    def __int__(self: uint32_t) -> int:\n",
    "        \"\"\"\n",
    "        Магический метод, который позволяет задать\n",
    "        приведение экземпляра к целому числу\n",
    "        \"\"\"\n",
    "        return self.__value\n",
    "    \n",
    "    def __str__(self: uint32_t) -> str:\n",
    "        \"\"\"\n",
    "        Магический метод, который позволяет задать\n",
    "        приведение экземпляра к строковому типу\n",
    "        \"\"\"\n",
    "        return str(self.__value)\n",
    "    \n",
    "    def __bool__(self: uint32_t) -> bool:\n",
    "        \"\"\"\n",
    "        Магический метод, который позволяет задать\n",
    "        приведение экземпляра к булеву типу\n",
    "        \"\"\"\n",
    "        return self.__value != 0\n",
    "    \n",
    "    def __add__(self: uint32_t, other: uint32_t) -> uint32_t:\n",
    "        \"\"\"\n",
    "        Магический метод, который позволяет задать\n",
    "        сложение, когда экземпляр находится слева,\n",
    "        то есть self + ...\n",
    "        \"\"\"\n",
    "        value: int = int(self) + int(other)\n",
    "        return uint32_t(value)"
   ]
  },
  {
   "attachments": {},
   "cell_type": "markdown",
   "metadata": {},
   "source": [
    "**Замечание.** Обратите внимание, что в конкретной задаче нужно обязательно вернуть новый объект, так как в противном случае Вы вернете ссылку на какой-то из ранее известных экземпляров (вспомните ссылочность Python)."
   ]
  },
  {
   "cell_type": "code",
   "execution_count": 8,
   "metadata": {},
   "outputs": [
    {
     "name": "stdout",
     "output_type": "stream",
     "text": [
      "1 + 1 = 2\n"
     ]
    }
   ],
   "source": [
    "lh = uint32_t(1)\n",
    "rh = uint32_t(1)\n",
    "\n",
    "print(lh, \"+\", rh, \"=\", lh + rh)  # __add__"
   ]
  },
  {
   "cell_type": "code",
   "execution_count": 9,
   "metadata": {},
   "outputs": [
    {
     "name": "stdout",
     "output_type": "stream",
     "text": [
      "4294967295 + 1 = 0\n"
     ]
    }
   ],
   "source": [
    "lh = uint32_t(-1)\n",
    "rh = uint32_t(1)\n",
    "\n",
    "print(lh, \"+\", rh, \"=\", lh + rh)  # __add__"
   ]
  },
  {
   "attachments": {},
   "cell_type": "markdown",
   "metadata": {},
   "source": [
    "**Примечание.** Аналогичным способ при помощи магических методов `__sub__`, `__mul__`, `__div__` и так далее можно естественным образом задать операции вычитания, умножения, деления и так далее. Более тесно Вы познакомитесь с ними на семинаре."
   ]
  },
  {
   "attachments": {},
   "cell_type": "markdown",
   "metadata": {},
   "source": [
    "**Замечание.** Если Вы достаточно внимательны, то в новом методе обратите внимание на слова *\"когда экземпляр находится слева\"*. А еще Вы наверняка заметите, что в нашей реализации предполагается, что по обе стороны операнда находятся `uint32_t`. Но тогда получается, что один из экземпляров находится справа, а такой метод не определен.\n",
    "\n",
    "Вы будете правы! Все дело в том, как устроено сложение на Python: интерпретатор сначала смотрит на левый операнд. Если у него определен метод `__add__`, который при взаимодействии с правым операндом не вызывает исключение `NotImplemented`, тогда будет вызван метод `__add__`, принадлежащий левому операнду. В противном случае вызывается метод `__radd__`, ответственный за операнд справа."
   ]
  },
  {
   "cell_type": "code",
   "execution_count": 10,
   "metadata": {},
   "outputs": [
    {
     "ename": "TypeError",
     "evalue": "unsupported operand type(s) for +: 'int' and 'uint32_t'",
     "output_type": "error",
     "traceback": [
      "\u001b[1;31m---------------------------------------------------------------------------\u001b[0m",
      "\u001b[1;31mTypeError\u001b[0m                                 Traceback (most recent call last)",
      "Cell \u001b[1;32mIn[10], line 4\u001b[0m\n\u001b[0;32m      1\u001b[0m lh \u001b[39m=\u001b[39m \u001b[39mint\u001b[39m(\u001b[39m1\u001b[39m)\n\u001b[0;32m      2\u001b[0m rh \u001b[39m=\u001b[39m uint32_t(\u001b[39m1\u001b[39m)\n\u001b[1;32m----> 4\u001b[0m \u001b[39mprint\u001b[39m(lh, \u001b[39m\"\u001b[39m\u001b[39m+\u001b[39m\u001b[39m\"\u001b[39m, rh, \u001b[39m\"\u001b[39m\u001b[39m=\u001b[39m\u001b[39m\"\u001b[39m, lh \u001b[39m+\u001b[39;49m rh)\n",
      "\u001b[1;31mTypeError\u001b[0m: unsupported operand type(s) for +: 'int' and 'uint32_t'"
     ]
    }
   ],
   "source": [
    "lh = int(1)\n",
    "rh = uint32_t(1)\n",
    "\n",
    "print(lh, \"+\", rh, \"=\", lh + rh)  # __radd__"
   ]
  },
  {
   "attachments": {},
   "cell_type": "markdown",
   "metadata": {},
   "source": [
    "**Пояснение.** Переменная `lh`, будучи `int`, встретившись с незнакомым ею типом `uint32_t`, вызовет исключение `NotImplemented`. Интерпретатор не расстроится - и пойдет изучать метод `__radd__`, который, вероятно, есть у `rh`. Но и такого метода нет, поэтому происходит ошибка."
   ]
  },
  {
   "attachments": {},
   "cell_type": "markdown",
   "metadata": {},
   "source": [
    "**Примечание.** Определенный метод `__add__` позволяет интерпретатору доопределить сложение с присваиванием."
   ]
  },
  {
   "cell_type": "code",
   "execution_count": 15,
   "metadata": {},
   "outputs": [
    {
     "name": "stdout",
     "output_type": "stream",
     "text": [
      "0\n"
     ]
    }
   ],
   "source": [
    "lh = uint32_t(-1)\n",
    "rh = uint32_t(1)\n",
    "\n",
    "lh += rh\n",
    "print(lh)"
   ]
  },
  {
   "attachments": {},
   "cell_type": "markdown",
   "metadata": {},
   "source": [
    "**Замечание.** Чтобы быть уверенным в том, что оператор `+=` определен корректно, настоятельно рекомендуется самостоятельно задать его поведение."
   ]
  },
  {
   "cell_type": "code",
   "execution_count": 17,
   "metadata": {},
   "outputs": [],
   "source": [
    "class uint32_t(object):\n",
    "    __slots__: tuple[str, ...] = (\"__value\")\n",
    "\n",
    "    def __init__(self: uint32_t, value: int = 0) -> None:\n",
    "        \"\"\"\n",
    "        Магический метод, который позволяет задать\n",
    "        инициализацию объекта\n",
    "        \"\"\"\n",
    "        while value < 0:\n",
    "            value += MODULO\n",
    "\n",
    "        value %= MODULO\n",
    "        self.__value: int = value\n",
    "\n",
    "    def __int__(self: uint32_t) -> int:\n",
    "        \"\"\"\n",
    "        Магический метод, который позволяет задать\n",
    "        приведение экземпляра к целому числу\n",
    "        \"\"\"\n",
    "        return self.__value\n",
    "    \n",
    "    def __str__(self: uint32_t) -> str:\n",
    "        \"\"\"\n",
    "        Магический метод, который позволяет задать\n",
    "        приведение экземпляра к строковому типу\n",
    "        \"\"\"\n",
    "        return str(self.__value)\n",
    "    \n",
    "    def __bool__(self: uint32_t) -> bool:\n",
    "        \"\"\"\n",
    "        Магический метод, который позволяет задать\n",
    "        приведение экземпляра к булеву типу\n",
    "        \"\"\"\n",
    "        return self.__value != 0\n",
    "    \n",
    "    def __add__(self: uint32_t, other: uint32_t) -> uint32_t:\n",
    "        \"\"\"\n",
    "        Магический метод, который позволяет задать\n",
    "        сложение, когда экземпляр находится слева,\n",
    "        то есть self + ...\n",
    "        \"\"\"\n",
    "        value: int = int(self) + int(other)\n",
    "        return uint32_t(value)\n",
    "\n",
    "    def __iadd__(self: uint32_t, other: uint32_t) -> uint32_t:\n",
    "        \"\"\"\n",
    "        Магический метод, который позволяет задать\n",
    "        сложение с присваиванием, то есть\n",
    "        self += ...\n",
    "        \"\"\"\n",
    "        value: int = int(self) + int(other)\n",
    "        return uint32_t(value)"
   ]
  },
  {
   "attachments": {},
   "cell_type": "markdown",
   "metadata": {},
   "source": [
    "**Пояснение.** Возвращаемое значение в методе `__iadd__` - это новое значение переменной слева."
   ]
  },
  {
   "cell_type": "code",
   "execution_count": 18,
   "metadata": {},
   "outputs": [
    {
     "name": "stdout",
     "output_type": "stream",
     "text": [
      "0\n"
     ]
    }
   ],
   "source": [
    "lh = uint32_t(-1)\n",
    "rh = uint32_t(1)\n",
    "\n",
    "lh += rh   # __iadd__\n",
    "print(lh)"
   ]
  },
  {
   "attachments": {},
   "cell_type": "markdown",
   "metadata": {},
   "source": [
    "**Примечание.** Более того, магические методы также позволяют задать побитовые операторы: \"и\", \"не\", \"или\" и так далее."
   ]
  },
  {
   "cell_type": "code",
   "execution_count": 1,
   "metadata": {},
   "outputs": [],
   "source": [
    "class uint32_t(object):\n",
    "    __slots__: tuple[str, ...] = (\"__value\")\n",
    "\n",
    "    def __init__(self: uint32_t, value: int = 0) -> None:\n",
    "        \"\"\"\n",
    "        Магический метод, который позволяет задать\n",
    "        инициализацию объекта\n",
    "        \"\"\"\n",
    "        while value < 0:\n",
    "            value += MODULO\n",
    "\n",
    "        value %= MODULO\n",
    "        self.__value: int = value\n",
    "\n",
    "    def __int__(self: uint32_t) -> int:\n",
    "        \"\"\"\n",
    "        Магический метод, который позволяет задать\n",
    "        приведение экземпляра к целому числу\n",
    "        \"\"\"\n",
    "        return self.__value\n",
    "    \n",
    "    def __str__(self: uint32_t) -> str:\n",
    "        \"\"\"\n",
    "        Магический метод, который позволяет задать\n",
    "        приведение экземпляра к строковому типу\n",
    "        \"\"\"\n",
    "        return str(self.__value)\n",
    "\n",
    "    def __bool__(self: uint32_t) -> bool:\n",
    "        \"\"\"\n",
    "        Магический метод, который позволяет задать\n",
    "        приведение экземпляра к булеву типу\n",
    "        \"\"\"\n",
    "        return self.__value != 0\n",
    "\n",
    "    def __add__(self: uint32_t, other: uint32_t) -> uint32_t:\n",
    "        \"\"\"\n",
    "        Магический метод, который позволяет задать\n",
    "        сложение, когда экземпляр находится слева,\n",
    "        то есть self + ...\n",
    "        \"\"\"\n",
    "        value: int = int(self) + int(other)\n",
    "        return uint32_t(value)\n",
    "\n",
    "    def __iadd__(self: uint32_t, other: uint32_t) -> uint32_t:\n",
    "        \"\"\"\n",
    "        Магический метод, который позволяет задать\n",
    "        сложение с присваиванием, то есть\n",
    "        self += ...\n",
    "        \"\"\"\n",
    "        value: int = int(self) + int(other)\n",
    "        return uint32_t(value)\n",
    "    \n",
    "    def __and__(self: uint32_t, other: uint32_t) -> uint32_t:\n",
    "        \"\"\"\n",
    "        Магический метод, который позволяет задать\n",
    "        побитовое \"и\", то есть self & ...\n",
    "        \"\"\"\n",
    "        value: int = int(self) & int(other)\n",
    "        return uint32_t(value)"
   ]
  },
  {
   "cell_type": "code",
   "execution_count": 2,
   "metadata": {},
   "outputs": [
    {
     "name": "stdout",
     "output_type": "stream",
     "text": [
      "0\n"
     ]
    }
   ],
   "source": [
    "lh = uint32_t(int(\"0b10101010\", base=2))\n",
    "rh = uint32_t(int(\"0b01010101\", base=2))\n",
    "\n",
    "print(lh & rh)  # __and__"
   ]
  },
  {
   "attachments": {},
   "cell_type": "markdown",
   "metadata": {},
   "source": [
    "**Замечание.** В целях безопасности рекомендуется доопределить методы `__iand__` и `__rand__`."
   ]
  },
  {
   "attachments": {},
   "cell_type": "markdown",
   "metadata": {},
   "source": [
    "**Рассуждение.** Конечно же невозможно обойтись без операторов сравнения. Поговорим о них."
   ]
  },
  {
   "cell_type": "code",
   "execution_count": 41,
   "metadata": {},
   "outputs": [],
   "source": [
    "class uint32_t(object):\n",
    "    __slots__: tuple[str, ...] = (\"__value\")\n",
    "\n",
    "    def __init__(self: uint32_t, value: int = 0) -> None:\n",
    "        \"\"\"\n",
    "        Магический метод, который позволяет задать\n",
    "        инициализацию объекта\n",
    "        \"\"\"\n",
    "        while value < 0:\n",
    "            value += MODULO\n",
    "\n",
    "        value %= MODULO\n",
    "        self.__value: int = value\n",
    "\n",
    "    def __int__(self: uint32_t) -> int:\n",
    "        \"\"\"\n",
    "        Магический метод, который позволяет задать\n",
    "        приведение экземпляра к целому числу\n",
    "        \"\"\"\n",
    "        return self.__value\n",
    "\n",
    "    def __str__(self: uint32_t) -> str:\n",
    "        \"\"\"\n",
    "        Магический метод, который позволяет задать\n",
    "        приведение экземпляра к строковому типу\n",
    "        \"\"\"\n",
    "        return str(self.__value)\n",
    "\n",
    "    def __bool__(self: uint32_t) -> bool:\n",
    "        \"\"\"\n",
    "        Магический метод, который позволяет задать\n",
    "        приведение экземпляра к булеву типу\n",
    "        \"\"\"\n",
    "        return self.__value != 0\n",
    "\n",
    "    def __add__(self: uint32_t, other: uint32_t) -> uint32_t:\n",
    "        \"\"\"\n",
    "        Магический метод, который позволяет задать\n",
    "        сложение, когда экземпляр находится слева,\n",
    "        то есть self + ...\n",
    "        \"\"\"\n",
    "        value: int = int(self) + int(other)\n",
    "        return uint32_t(value)\n",
    "\n",
    "    def __iadd__(self: uint32_t, other: uint32_t) -> uint32_t:\n",
    "        \"\"\"\n",
    "        Магический метод, который позволяет задать\n",
    "        сложение с присваиванием, то есть\n",
    "        self += ...\n",
    "        \"\"\"\n",
    "        value: int = int(self) + int(other)\n",
    "        return uint32_t(value)\n",
    "\n",
    "    def __and__(self: uint32_t, other: uint32_t) -> uint32_t:\n",
    "        \"\"\"\n",
    "        Магический метод, который позволяет задать\n",
    "        побитовое \"и\", то есть self & ...\n",
    "        \"\"\"\n",
    "        value: int = int(self) & int(other)\n",
    "        return uint32_t(value)\n",
    "\n",
    "    def __eq__(self: uint32_t, other: uint32_t) -> bool:\n",
    "        \"\"\"\n",
    "        Магический метод, который позволяет задать\n",
    "        оператор \"равно\": self == ...\n",
    "        \"\"\"\n",
    "        return int(self) == int(other)\n",
    "\n",
    "    def __lt__(self: uint32_t, other: uint32_t) -> bool:\n",
    "        \"\"\"\n",
    "        Магический метод, который позволяет задать\n",
    "        оператор \"больше\": self < ...\n",
    "        \"\"\"\n",
    "        return int(self) < int(other)"
   ]
  },
  {
   "cell_type": "code",
   "execution_count": 42,
   "metadata": {},
   "outputs": [
    {
     "data": {
      "text/plain": [
       "True"
      ]
     },
     "execution_count": 42,
     "metadata": {},
     "output_type": "execute_result"
    }
   ],
   "source": [
    "lh = uint32_t(4294967295)\n",
    "rh = uint32_t(-1)\n",
    "\n",
    "lh == rh  # __eq__"
   ]
  },
  {
   "cell_type": "code",
   "execution_count": 43,
   "metadata": {},
   "outputs": [
    {
     "data": {
      "text/plain": [
       "True"
      ]
     },
     "execution_count": 43,
     "metadata": {},
     "output_type": "execute_result"
    }
   ],
   "source": [
    "lh = uint32_t(10)\n",
    "rh = uint32_t(20)\n",
    "\n",
    "lh < rh  # __lt__"
   ]
  },
  {
   "attachments": {},
   "cell_type": "markdown",
   "metadata": {},
   "source": [
    "**Упражнение.** Что будет, если сравнить числа на \"больше\"?"
   ]
  },
  {
   "cell_type": "code",
   "execution_count": 44,
   "metadata": {},
   "outputs": [
    {
     "data": {
      "text/plain": [
       "False"
      ]
     },
     "execution_count": 44,
     "metadata": {},
     "output_type": "execute_result"
    }
   ],
   "source": [
    "lh = uint32_t(10)\n",
    "rh = uint32_t(20)\n",
    "\n",
    "lh > rh"
   ]
  },
  {
   "attachments": {},
   "cell_type": "markdown",
   "metadata": {},
   "source": [
    "**Упражнение.** Что будет, если сравнить числа на \"больше или равно\"?"
   ]
  },
  {
   "cell_type": "code",
   "execution_count": 46,
   "metadata": {},
   "outputs": [
    {
     "ename": "TypeError",
     "evalue": "'>=' not supported between instances of 'uint32_t' and 'uint32_t'",
     "output_type": "error",
     "traceback": [
      "\u001b[1;31m---------------------------------------------------------------------------\u001b[0m",
      "\u001b[1;31mTypeError\u001b[0m                                 Traceback (most recent call last)",
      "Cell \u001b[1;32mIn[46], line 4\u001b[0m\n\u001b[0;32m      1\u001b[0m lh \u001b[39m=\u001b[39m uint32_t(\u001b[39m10\u001b[39m)\n\u001b[0;32m      2\u001b[0m rh \u001b[39m=\u001b[39m uint32_t(\u001b[39m20\u001b[39m)\n\u001b[1;32m----> 4\u001b[0m lh \u001b[39m>\u001b[39;49m\u001b[39m=\u001b[39;49m rh\n",
      "\u001b[1;31mTypeError\u001b[0m: '>=' not supported between instances of 'uint32_t' and 'uint32_t'"
     ]
    }
   ],
   "source": [
    "lh = uint32_t(10)\n",
    "rh = uint32_t(20)\n",
    "\n",
    "lh >= rh"
   ]
  },
  {
   "attachments": {},
   "cell_type": "markdown",
   "metadata": {},
   "source": [
    "**Примечание.** Несмотря на то, что интерпретатор понял, как сравнить числа на \"больше\" (вызвать аргумент от правого операнда, для которого определено \"меньше\"), операция \"больше или равно\" остается для него загадкой. Если Ваш класс реализует стандартные операции сравнения, то есть когда каждую операцию можно выразить, зная любые две из существующих, то тогда прибегают к декоратору `total_ordering` из модуля `functools`. Он автоматически доопределит все недостающие методы. Декоратор применяется к классу, а не магическим методам."
   ]
  },
  {
   "cell_type": "code",
   "execution_count": 47,
   "metadata": {},
   "outputs": [],
   "source": [
    "from functools import total_ordering\n",
    "\n",
    "\n",
    "@total_ordering\n",
    "class uint32_t(object):\n",
    "    __slots__: tuple[str, ...] = (\"__value\")\n",
    "\n",
    "    def __init__(self: uint32_t, value: int = 0) -> None:\n",
    "        \"\"\"\n",
    "        Магический метод, который позволяет задать\n",
    "        инициализацию объекта\n",
    "        \"\"\"\n",
    "        while value < 0:\n",
    "            value += MODULO\n",
    "\n",
    "        value %= MODULO\n",
    "        self.__value: int = value\n",
    "\n",
    "    def __int__(self: uint32_t) -> int:\n",
    "        \"\"\"\n",
    "        Магический метод, который позволяет задать\n",
    "        приведение экземпляра к целому числу\n",
    "        \"\"\"\n",
    "        return self.__value\n",
    "\n",
    "    def __str__(self: uint32_t) -> str:\n",
    "        \"\"\"\n",
    "        Магический метод, который позволяет задать\n",
    "        приведение экземпляра к строковому типу\n",
    "        \"\"\"\n",
    "        return str(self.__value)\n",
    "\n",
    "    def __bool__(self: uint32_t) -> bool:\n",
    "        \"\"\"\n",
    "        Магический метод, который позволяет задать\n",
    "        приведение экземпляра к булеву типу\n",
    "        \"\"\"\n",
    "        return self.__value != 0\n",
    "\n",
    "    def __add__(self: uint32_t, other: uint32_t) -> uint32_t:\n",
    "        \"\"\"\n",
    "        Магический метод, который позволяет задать\n",
    "        сложение, когда экземпляр находится слева,\n",
    "        то есть self + ...\n",
    "        \"\"\"\n",
    "        value: int = int(self) + int(other)\n",
    "        return uint32_t(value)\n",
    "\n",
    "    def __iadd__(self: uint32_t, other: uint32_t) -> uint32_t:\n",
    "        \"\"\"\n",
    "        Магический метод, который позволяет задать\n",
    "        сложение с присваиванием, то есть\n",
    "        self += ...\n",
    "        \"\"\"\n",
    "        value: int = int(self) + int(other)\n",
    "        return uint32_t(value)\n",
    "\n",
    "    def __and__(self: uint32_t, other: uint32_t) -> uint32_t:\n",
    "        \"\"\"\n",
    "        Магический метод, который позволяет задать\n",
    "        побитовое \"и\", то есть self & ...\n",
    "        \"\"\"\n",
    "        value: int = int(self) & int(other)\n",
    "        return uint32_t(value)\n",
    "\n",
    "    def __eq__(self: uint32_t, other: uint32_t) -> bool:\n",
    "        \"\"\"\n",
    "        Магический метод, который позволяет задать\n",
    "        оператор \"равно\": self == ...\n",
    "        \"\"\"\n",
    "        return int(self) == int(other)\n",
    "\n",
    "    def __lt__(self: uint32_t, other: uint32_t) -> bool:\n",
    "        \"\"\"\n",
    "        Магический метод, который позволяет задать\n",
    "        оператор \"больше\": self < ...\n",
    "        \"\"\"\n",
    "        return int(self) < int(other)"
   ]
  },
  {
   "cell_type": "code",
   "execution_count": 48,
   "metadata": {},
   "outputs": [
    {
     "data": {
      "text/plain": [
       "False"
      ]
     },
     "execution_count": 48,
     "metadata": {},
     "output_type": "execute_result"
    }
   ],
   "source": [
    "lh = uint32_t(10)\n",
    "rh = uint32_t(20)\n",
    "\n",
    "lh > rh"
   ]
  },
  {
   "cell_type": "code",
   "execution_count": 49,
   "metadata": {},
   "outputs": [
    {
     "data": {
      "text/plain": [
       "False"
      ]
     },
     "execution_count": 49,
     "metadata": {},
     "output_type": "execute_result"
    }
   ],
   "source": [
    "lh = uint32_t(10)\n",
    "rh = uint32_t(20)\n",
    "\n",
    "lh >= rh"
   ]
  },
  {
   "attachments": {},
   "cell_type": "markdown",
   "metadata": {},
   "source": [
    "**Пример.** Реализуйте стек. Используйте магические методы."
   ]
  },
  {
   "attachments": {},
   "cell_type": "markdown",
   "metadata": {},
   "source": [
    "**Рассуждение.** Давайте реализуем узел стека. Мы предполагаем, что у внешнего пользователя доступа к этой структуре не будет. В таком случае можно не усложнять себе жизнь и сделать все члены открытыми. Но даже с такой задачей потребуется писать лишний код - метод `__init__`. Давайте воспользуемся декоратором `dataclass` из модуля `dataclasses` и явным образом упростим себе жизнь."
   ]
  },
  {
   "cell_type": "code",
   "execution_count": 52,
   "metadata": {},
   "outputs": [],
   "source": [
    "from dataclasses import dataclass\n",
    "from typing import Any, Optional\n",
    "\n",
    "\n",
    "@dataclass(slots=True)\n",
    "class Node(object):\n",
    "    value: Any\n",
    "    next: Optional[Node]"
   ]
  },
  {
   "attachments": {},
   "cell_type": "markdown",
   "metadata": {},
   "source": [
    "**Пояснение.** Класс `Node` хранит всего два поля - `value` и `next` с ожидаемыми типами данных `Any` и `Optional[Node]`. Более того, в параметрах декоратора мы явно указали, что у класса необходимо автоматически доопределить атрибут `__slots__`."
   ]
  },
  {
   "cell_type": "code",
   "execution_count": 53,
   "metadata": {},
   "outputs": [],
   "source": [
    "node = Node(value=None, next=None)\n",
    "node.value = \"Example\""
   ]
  },
  {
   "cell_type": "code",
   "execution_count": 54,
   "metadata": {},
   "outputs": [
    {
     "ename": "AttributeError",
     "evalue": "'Node' object has no attribute 'error'",
     "output_type": "error",
     "traceback": [
      "\u001b[1;31m---------------------------------------------------------------------------\u001b[0m",
      "\u001b[1;31mAttributeError\u001b[0m                            Traceback (most recent call last)",
      "Cell \u001b[1;32mIn[54], line 2\u001b[0m\n\u001b[0;32m      1\u001b[0m node \u001b[39m=\u001b[39m Node(value\u001b[39m=\u001b[39m\u001b[39mNone\u001b[39;00m, \u001b[39mnext\u001b[39m\u001b[39m=\u001b[39m\u001b[39mNone\u001b[39;00m)\n\u001b[1;32m----> 2\u001b[0m node\u001b[39m.\u001b[39;49merror \u001b[39m=\u001b[39m \u001b[39m1\u001b[39m\n",
      "\u001b[1;31mAttributeError\u001b[0m: 'Node' object has no attribute 'error'"
     ]
    }
   ],
   "source": [
    "node = Node(value=None, next=None)\n",
    "node.error = 1"
   ]
  },
  {
   "attachments": {},
   "cell_type": "markdown",
   "metadata": {},
   "source": [
    "**Примечание.** Использование `dataclass` - весьма распространенная и хорошая практика. Если Вы знаете, что внешний пользователь не получит доступ к какому-то классу-хранилищу, то используйте `dataclass` - это заметно упрощает и чистоту, и читабельность кода."
   ]
  },
  {
   "attachments": {},
   "cell_type": "markdown",
   "metadata": {},
   "source": [
    "**Примечание.** Вы можете установить параметр `frozen` в декораторе - после инициализации экземпляры класса будут доступны только на чтение."
   ]
  },
  {
   "cell_type": "code",
   "execution_count": 55,
   "metadata": {},
   "outputs": [],
   "source": [
    "class Stack(object):\n",
    "    __slots__: tuple[str, ...] = (\"__head\")\n",
    "\n",
    "    def __init__(self: Stack) -> None:\n",
    "        self.__head: Optional[Node] = None\n",
    "\n",
    "    def append(self: Stack, value: Any) -> None:\n",
    "        self.__head = Node(\n",
    "            value=value,\n",
    "            next=self.__head,\n",
    "        )\n",
    "\n",
    "    def pop(self: Stack) -> Any:\n",
    "        value: Any = self.__head.value\n",
    "        self.__head = self.__head.next\n",
    "        return value"
   ]
  },
  {
   "cell_type": "code",
   "execution_count": 56,
   "metadata": {},
   "outputs": [
    {
     "name": "stdout",
     "output_type": "stream",
     "text": [
      "3\n",
      "2\n",
      "1\n"
     ]
    }
   ],
   "source": [
    "stack = Stack()\n",
    "\n",
    "stack.append(1)\n",
    "stack.append(2)\n",
    "stack.append(3)\n",
    "\n",
    "print(stack.pop())\n",
    "print(stack.pop())\n",
    "print(stack.pop())"
   ]
  },
  {
   "attachments": {},
   "cell_type": "markdown",
   "metadata": {},
   "source": [
    "**Рассуждение.** Давайте добавим новые возможности. Например, научимся узнавать длину при помощи оператора `len(...)`."
   ]
  },
  {
   "cell_type": "code",
   "execution_count": 57,
   "metadata": {},
   "outputs": [],
   "source": [
    "class Stack(object):\n",
    "    __slots__: tuple[str, ...] = (\n",
    "        \"__head\",\n",
    "        \"__len\",\n",
    "    )\n",
    "\n",
    "    def __init__(self: Stack) -> None:\n",
    "        self.__len: int = 0\n",
    "        self.__head: Optional[Node] = None\n",
    "\n",
    "    def append(self: Stack, value: Any) -> None:\n",
    "        self.__head = Node(\n",
    "            value=value,\n",
    "            next=self.__head,\n",
    "        )\n",
    "        self.__len += 1\n",
    "\n",
    "    def pop(self: Stack) -> Any:\n",
    "        value: Any = self.__head.value\n",
    "\n",
    "        self.__head = self.__head.next\n",
    "        self.__len -= 1\n",
    "\n",
    "        return value\n",
    "\n",
    "    def __len__(self: Stack) -> int:\n",
    "        \"\"\"\n",
    "        Магический метод, который позволяет задать\n",
    "        оператор len(self)\n",
    "        \"\"\"\n",
    "        return self.__len"
   ]
  },
  {
   "cell_type": "code",
   "execution_count": 58,
   "metadata": {},
   "outputs": [
    {
     "name": "stdout",
     "output_type": "stream",
     "text": [
      "3\n",
      "0\n"
     ]
    }
   ],
   "source": [
    "stack = Stack()\n",
    "\n",
    "stack.append(1)\n",
    "stack.append(2)\n",
    "stack.append(3)\n",
    "\n",
    "print(len(stack))\n",
    "\n",
    "stack.pop()\n",
    "stack.pop()\n",
    "stack.pop()\n",
    "\n",
    "print(len(stack))"
   ]
  },
  {
   "attachments": {},
   "cell_type": "markdown",
   "metadata": {},
   "source": [
    "**Рассуждение.** Сразу добавим основные возможности коллекций в текущую реализацию: оператор `in`, проверяющий наличие равного элемента, и операции обращения по индексу: получение, изменение и удаление."
   ]
  },
  {
   "cell_type": "code",
   "execution_count": 61,
   "metadata": {},
   "outputs": [],
   "source": [
    "class Stack(object):\n",
    "    __slots__: tuple[str, ...] = (\n",
    "        \"__head\",\n",
    "        \"__len\",\n",
    "    )\n",
    "\n",
    "    def __init__(self: Stack) -> None:\n",
    "        self.__len: int = 0\n",
    "        self.__head: Optional[Node] = None\n",
    "\n",
    "    def append(self: Stack, value: Any) -> None:\n",
    "        self.__head = Node(\n",
    "            value=value,\n",
    "            next=self.__head,\n",
    "        )\n",
    "        self.__len += 1\n",
    "\n",
    "    def pop(self: Stack) -> Any:\n",
    "        value: Any = self.__head.value\n",
    "\n",
    "        self.__head = self.__head.next\n",
    "        self.__len -= 1\n",
    "\n",
    "        return value\n",
    "\n",
    "    def __len__(self: Stack) -> int:\n",
    "        \"\"\"\n",
    "        Магический метод, который позволяет задать\n",
    "        оператор len(self)\n",
    "        \"\"\"\n",
    "        return self.__len\n",
    "\n",
    "    def __contains__(self: Stack, value: Any) -> bool:\n",
    "        \"\"\"\n",
    "        Магический метод, который позволяет задать\n",
    "        оператор in, то есть ... in self\n",
    "        \"\"\"\n",
    "        node: Optional[Node] = self.__head\n",
    "\n",
    "        while node is not None:\n",
    "            if node.value == value:\n",
    "                return True\n",
    "            node = node.next\n",
    "\n",
    "        return False\n",
    "\n",
    "    def __getitem__(self: Stack, index: int) -> Any:\n",
    "        \"\"\"\n",
    "        Магический метод, который позволяет задать оператор\n",
    "        обращения по индексу, то есть ... = self[index]\n",
    "        \"\"\"\n",
    "        if not (0 <= index < len(stack)):\n",
    "            raise IndexError\n",
    "        \n",
    "        node: Optional[Node] = self.__head\n",
    "        for _ in range(index):\n",
    "            node = node.next\n",
    "\n",
    "        return node.value\n",
    "\n",
    "    def __setitem__(self: Stack, index: int, value: Any) -> Any:\n",
    "        \"\"\"\n",
    "        Магический метод, который позволяет задать оператор\n",
    "        присвоения по индексу, то есть self[index] = ...\n",
    "        \"\"\"\n",
    "        if not (0 <= index < len(stack)):\n",
    "            raise IndexError\n",
    "        \n",
    "        node: Optional[Node] = self.__head\n",
    "        for _ in range(index):\n",
    "            node = node.next\n",
    "\n",
    "        node.value = value\n",
    "\n",
    "    def __delitem__(self: Stack, index: int) -> None:\n",
    "        \"\"\"\n",
    "        Магический метод, который позволяет задать\n",
    "        оператор удаления по индексу, то есть del self[index]\n",
    "        \"\"\"\n",
    "        if not (0 <= index < len(stack)):\n",
    "            raise IndexError\n",
    "\n",
    "        node: Optional[Node] = self.__head\n",
    "        for _ in range(index - 1):\n",
    "            node = node.next\n",
    "\n",
    "        self.__len -= 1\n",
    "        node.next = node.next.next"
   ]
  },
  {
   "cell_type": "code",
   "execution_count": 65,
   "metadata": {},
   "outputs": [
    {
     "name": "stdout",
     "output_type": "stream",
     "text": [
      "0\n",
      "2\n",
      "--- --- ---\n",
      "1\n",
      "2\n",
      "--- --- ---\n",
      "1\n"
     ]
    }
   ],
   "source": [
    "stack = Stack()\n",
    "\n",
    "stack.append(2)\n",
    "stack.append(0)\n",
    "\n",
    "for index in range(len(stack)):\n",
    "    print(stack[index])\n",
    "\n",
    "print(\"--- --- ---\")\n",
    "\n",
    "stack[0] = 1\n",
    "for index in range(len(stack)):\n",
    "    print(stack[index])\n",
    "\n",
    "print(\"--- --- ---\")\n",
    "\n",
    "del stack[0]\n",
    "for index in range(len(stack)):\n",
    "    print(stack[index])"
   ]
  },
  {
   "attachments": {},
   "cell_type": "markdown",
   "metadata": {},
   "source": [
    "**Рассуждение.** Наверняка Вы не раз замечали, что в рамках курса используются термины \"коллекция\", \"контейнер\" и так далее. Из контекста Вы, наверное, понимаете, что это значит. Тем не менее, в Python есть достаточно формальные определения этих понятий. Расскажем о некоторых из них."
   ]
  },
  {
   "attachments": {},
   "cell_type": "markdown",
   "metadata": {},
   "source": [
    "<table align=\"center\">\n",
    "    <tr>\n",
    "        <td><b>Название</b></td>\n",
    "        <td><b>Объект</b></td>\n",
    "        <td><b>Наличие методов</b></td>\n",
    "    </tr>\n",
    "    <tr>\n",
    "        <td><code>Контейнер</code></td>\n",
    "        <td><code>Container</code></td>\n",
    "        <td><code>__contains__</code></td>\n",
    "    </tr>\n",
    "    <tr>\n",
    "        <td><code>Измеримый объект</code></td>\n",
    "        <td><code>Sized</code></td>\n",
    "        <td><code>__len__</code></td>\n",
    "    </tr>\n",
    "    <tr>\n",
    "        <td><code>Вызываемый объект</code></td>\n",
    "        <td><code>Callable</code></td>\n",
    "        <td><code>__call__</code></td>\n",
    "    </tr>\n",
    "    <tr>\n",
    "        <td><code>Коллекция</code></td>\n",
    "        <td><code>Collection</code></td>\n",
    "        <td>\n",
    "            <code>__contains__</code>,\n",
    "            <code>__iter__</code>,\n",
    "            <code>__len__</code>\n",
    "        </td>\n",
    "    </tr>\n",
    "    <tr>\n",
    "        <td><code>Последовательность</code></td>\n",
    "        <td><code>Sequence</code></td>\n",
    "        <td>\n",
    "            <code>__contains__</code>,\n",
    "            <code>__iter__</code>,\n",
    "            <code>__len__</code>,\n",
    "            <code>__reversed__</code>,\n",
    "            <code>__getitem__</code>,\n",
    "            <code>index</code>,\n",
    "            <code>count</code>\n",
    "        </td>\n",
    "    </tr>\n",
    "</table>"
   ]
  },
  {
   "attachments": {},
   "cell_type": "markdown",
   "metadata": {},
   "source": [
    "**Примечание.** Если Вам известно, к какой категории объектов будет относиться Ваш класс, тогда воспользуйтесь абстрактными классами. Наиболее часто встречающиеся собраны в `collection.abc`. Приведем пример со стеком."
   ]
  },
  {
   "cell_type": "code",
   "execution_count": null,
   "metadata": {},
   "outputs": [],
   "source": [
    "from collections.abc import Container, Sized\n",
    "\n",
    "class Stack(Container, Sized):\n",
    "   \"\"\"\n",
    "   Наследование от Container требует, чтобы\n",
    "   в дочернем классе был определен магический\n",
    "   метод __contains__, а Sized - требует __len__\n",
    "   \"\"\""
   ]
  },
  {
   "attachments": {},
   "cell_type": "markdown",
   "metadata": {},
   "source": [
    "**Замечание.** Когда Вы будете изучать документацию модуля `collections.abc`, обязательно смотрите на то, от кого наследуется абстрактный класс, так как это накладывает дополнительные требования на реализацию дочерних классов.\n",
    "\n",
    "Например, взглянем на `MutableSequence`. Согласно документации, класс происходит от `Sequence`. Это значит, что все абстрактные методы, которые есть в `Sequence` будут и в `MutableSequence`. Тем не менее, заметьте, в таблице с описанием `MutableSequence` указаны не все методы от `Sequence`. Будьте внимательны!\n",
    "\n",
    "Помимо прочего, абстрактные классы из `collections.abc` накладывают обязательство реализовывать не только магические методы, но и обычные. Например, наследование от `MutableSequence` предполагает, что разработчик дополнительно определит методы `append`, `pop` и прочие указанные в таблице."
   ]
  },
  {
   "attachments": {},
   "cell_type": "markdown",
   "metadata": {},
   "source": [
    "**Замечание.** Сущности из модуля `collections.abc` с недавнего времени принято также использовать и для аннотации. Таким образом, аннотации абстрактных классов, находящиеся в `typing`, считаются устаревшими. Например, вместо `typing.Iterator[int]` рекомендуется использовать `collections.abc.Iterator[int]`."
   ]
  },
  {
   "attachments": {},
   "cell_type": "markdown",
   "metadata": {},
   "source": [
    "**Рассуждение.** Вполне естественно возникает потребность выстраивать собственные абстрактные классы. Такой функционал тоже есть - он реализован в модуле `abc`. Достаточно знать два основных инструмента, которые в нем есть - абстрактный класс `abc.ABC`, предназначенный для создания абстрактных сущностей, и декоратор `abc.abstractmethod`, оборачивающий функцию, которая должна стать абстрактной."
   ]
  },
  {
   "attachments": {},
   "cell_type": "markdown",
   "metadata": {},
   "source": [
    "**Пример.** Реализуйте модель животного мира. Используйте абстрактные классы."
   ]
  },
  {
   "cell_type": "code",
   "execution_count": 66,
   "metadata": {},
   "outputs": [],
   "source": [
    "from abc import ABC, abstractmethod\n",
    "\n",
    "\n",
    "class Animal(ABC):\n",
    "    @abstractmethod\n",
    "    def say(self: Animal) -> None:\n",
    "        raise NotImplemented\n",
    "    \n",
    "\n",
    "class Cat(Animal):\n",
    "    def say(self: Cat) -> None:\n",
    "        print(\"Meow\")\n",
    "\n",
    "\n",
    "class Pig(Animal):\n",
    "    def say(self: Pig) -> None:\n",
    "        print(\"Oink\")"
   ]
  },
  {
   "cell_type": "code",
   "execution_count": 67,
   "metadata": {},
   "outputs": [
    {
     "name": "stdout",
     "output_type": "stream",
     "text": [
      "Cat is Animal: True\n",
      "Pig is Animal: True\n"
     ]
    }
   ],
   "source": [
    "cat = Cat()\n",
    "pig = Pig()\n",
    "\n",
    "print(\"Cat is Animal:\", isinstance(cat, Animal))\n",
    "print(\"Pig is Animal:\", isinstance(pig, Animal))"
   ]
  },
  {
   "cell_type": "code",
   "execution_count": 68,
   "metadata": {},
   "outputs": [
    {
     "name": "stdout",
     "output_type": "stream",
     "text": [
      "Meow\n",
      "Oink\n"
     ]
    }
   ],
   "source": [
    "cat.say()\n",
    "pig.say()"
   ]
  },
  {
   "attachments": {},
   "cell_type": "markdown",
   "metadata": {},
   "source": [
    "**Примечание.** Использование декоратора `@abc.abstractmethod` запрещает использовать класс без определения соответствующих методов."
   ]
  },
  {
   "cell_type": "code",
   "execution_count": 69,
   "metadata": {},
   "outputs": [
    {
     "ename": "TypeError",
     "evalue": "Can't instantiate abstract class Alien with abstract method say",
     "output_type": "error",
     "traceback": [
      "\u001b[1;31m---------------------------------------------------------------------------\u001b[0m",
      "\u001b[1;31mTypeError\u001b[0m                                 Traceback (most recent call last)",
      "Cell \u001b[1;32mIn[69], line 4\u001b[0m\n\u001b[0;32m      1\u001b[0m \u001b[39mclass\u001b[39;00m \u001b[39mAlien\u001b[39;00m(Animal):\n\u001b[0;32m      2\u001b[0m     \u001b[39mpass\u001b[39;00m\n\u001b[1;32m----> 4\u001b[0m alien \u001b[39m=\u001b[39m Alien()\n",
      "\u001b[1;31mTypeError\u001b[0m: Can't instantiate abstract class Alien with abstract method say"
     ]
    }
   ],
   "source": [
    "class Alien(Animal):\n",
    "    pass\n",
    "\n",
    "alien = Alien()"
   ]
  },
  {
   "attachments": {},
   "cell_type": "markdown",
   "metadata": {},
   "source": [
    "**Замечание.** Не используйте следующие абстрактные декораторы:\n",
    "- `@abstractproperty`;\n",
    "- `@abstractclassmethod`;\n",
    "- `@abstractstaticmethod`.\n",
    "\n",
    "Они являются устаревшими. Вместо них, используйте двойное декорирование при помощи `@property`, `@classmethod` или `@staticmethod` вместе с `@abstractmethod`."
   ]
  },
  {
   "cell_type": "code",
   "execution_count": null,
   "metadata": {},
   "outputs": [],
   "source": [
    "class MyClass(ABC):\n",
    "    \"\"\"\n",
    "    Пример использования двойных декораторов\n",
    "    при реализации абстрактных классов\n",
    "    \"\"\"\n",
    "\n",
    "    @property\n",
    "    @abstractmethod\n",
    "    def myproperty(self: MyClass) -> None:\n",
    "        raise NotImplemented\n",
    "\n",
    "    @staticmethod\n",
    "    @abstractmethod\n",
    "    def mystaticmethod(self: MyClass) -> None:\n",
    "        raise NotImplemented\n",
    "\n",
    "    @classmethod\n",
    "    @abstractmethod\n",
    "    def myclassmethod(self: MyClass) -> None:\n",
    "        raise NotImplemented"
   ]
  },
  {
   "attachments": {},
   "cell_type": "markdown",
   "metadata": {},
   "source": [
    "**Спойлер.** На семинаре:\n",
    "\n",
    "1. Полностью реализуете представление 32-битных беззнаковых чисел - заодно узнаете, какие еще существуют магические методы;\n",
    "3. Попрактикуетесь в работе с абстрактными классами;\n",
    "4. Познакомитесь с типами для перечисления - модуль `enum`."
   ]
  }
 ],
 "metadata": {
  "kernelspec": {
   "display_name": "Python 3",
   "language": "python",
   "name": "python3"
  },
  "language_info": {
   "codemirror_mode": {
    "name": "ipython",
    "version": 3
   },
   "file_extension": ".py",
   "mimetype": "text/x-python",
   "name": "python",
   "nbconvert_exporter": "python",
   "pygments_lexer": "ipython3",
   "version": "3.11.0"
  },
  "orig_nbformat": 4
 },
 "nbformat": 4,
 "nbformat_minor": 2
}
