{
 "cells": [
  {
   "attachments": {},
   "cell_type": "markdown",
   "metadata": {},
   "source": [
    "<div align=\"center\">\n",
    "    <a href=\"https://github.com/syubogdanov/hse-howto-python\">\n",
    "        <img src=\"https://cdn-icons-png.flaticon.com/128/1864/1864698.png\" height=\"128px\" width=\"auto\">\n",
    "    </a>\n",
    "    <h3>\n",
    "        <b>\n",
    "            Продвинутый Python\n",
    "        </b>\n",
    "    </h3>\n",
    "    <i>\n",
    "        Продвинутое ООП. Часть II\n",
    "    </i>\n",
    "</div>\n",
    "\n",
    "<br>"
   ]
  },
  {
   "attachments": {},
   "cell_type": "markdown",
   "metadata": {},
   "source": [
    "**Задание.** Реализуйте представление 32-битных беззнаковых чисел. Наделите класс следующими возможностями:\n",
    "\n",
    "- Арифметические операторы;\n",
    "- Арифметические операторы с присваиванием;\n",
    "- Взаимодействие с унарными операторами;\n",
    "- Взаимодействие с математическими функциями;\n",
    "- Взаимодействие с функциями копирования;\n",
    "- Наличие хэша;\n",
    "- Операторы сравнения;\n",
    "- Представление класса в виде строки (не путать с приведением к строке);\n",
    "- Представление класса при форматировании;\n",
    "- Приведение к стандартным типам данных;\n",
    "- Проверка на соответствие типов."
   ]
  },
  {
   "cell_type": "code",
   "execution_count": null,
   "metadata": {},
   "outputs": [],
   "source": [
    "\"\"\"\n",
    "Lorem ipsum dolor sit amet, consectetur adipiscing elit, sed do\n",
    "eiusmod tempor incididunt ut labore et dolore magna aliqua. Ut\n",
    "enim ad minim veniam, quis nostrud exercitation ullamco laboris\n",
    "nisi ut aliquip ex ea commodo consequat. Duis aute irure dolor\n",
    "in reprehenderit in voluptate velit esse cillum dolore eu fugiat\n",
    "nulla pariatur. Excepteur sint occaecat cupidatat non proident,\n",
    "sunt in culpa qui officia deserunt mollit anim id est laborum.\n",
    "\"\"\""
   ]
  },
  {
   "attachments": {},
   "cell_type": "markdown",
   "metadata": {},
   "source": [
    "**Задание.** Реализуйте представление карт, используемых в азартных играх, при помощи абстрактных классов. Достаточно придумать методы, атрибуты, формат наследования и применение абстрактных классов. Сами методы реализовывать не обязательно."
   ]
  },
  {
   "cell_type": "code",
   "execution_count": null,
   "metadata": {},
   "outputs": [],
   "source": [
    "\"\"\"\n",
    "Lorem ipsum dolor sit amet, consectetur adipiscing elit, sed do\n",
    "eiusmod tempor incididunt ut labore et dolore magna aliqua. Ut\n",
    "enim ad minim veniam, quis nostrud exercitation ullamco laboris\n",
    "nisi ut aliquip ex ea commodo consequat. Duis aute irure dolor\n",
    "in reprehenderit in voluptate velit esse cillum dolore eu fugiat\n",
    "nulla pariatur. Excepteur sint occaecat cupidatat non proident,\n",
    "sunt in culpa qui officia deserunt mollit anim id est laborum.\n",
    "\"\"\""
   ]
  },
  {
   "attachments": {},
   "cell_type": "markdown",
   "metadata": {},
   "source": [
    "**Задание.** Реализуйте представление печатных изданий (книги, комиксы, журналы и так далее) при помощи абстрактных классов. Достаточно придумать методы, атрибуты, формат наследования и применение абстрактных классов. Сами методы реализовывать не обязательно."
   ]
  },
  {
   "cell_type": "code",
   "execution_count": null,
   "metadata": {},
   "outputs": [],
   "source": [
    "\"\"\"\n",
    "Lorem ipsum dolor sit amet, consectetur adipiscing elit, sed do\n",
    "eiusmod tempor incididunt ut labore et dolore magna aliqua. Ut\n",
    "enim ad minim veniam, quis nostrud exercitation ullamco laboris\n",
    "nisi ut aliquip ex ea commodo consequat. Duis aute irure dolor\n",
    "in reprehenderit in voluptate velit esse cillum dolore eu fugiat\n",
    "nulla pariatur. Excepteur sint occaecat cupidatat non proident,\n",
    "sunt in culpa qui officia deserunt mollit anim id est laborum.\n",
    "\"\"\""
   ]
  },
  {
   "attachments": {},
   "cell_type": "markdown",
   "metadata": {},
   "source": [
    "**Задание.** Реализуйте представление математических фигур при помощи абстрактных классов. Достаточно придумать методы, атрибуты, формат наследования и применение абстрактных классов. Сами методы реализовывать не обязательно."
   ]
  },
  {
   "cell_type": "code",
   "execution_count": null,
   "metadata": {},
   "outputs": [],
   "source": [
    "\"\"\"\n",
    "Lorem ipsum dolor sit amet, consectetur adipiscing elit, sed do\n",
    "eiusmod tempor incididunt ut labore et dolore magna aliqua. Ut\n",
    "enim ad minim veniam, quis nostrud exercitation ullamco laboris\n",
    "nisi ut aliquip ex ea commodo consequat. Duis aute irure dolor\n",
    "in reprehenderit in voluptate velit esse cillum dolore eu fugiat\n",
    "nulla pariatur. Excepteur sint occaecat cupidatat non proident,\n",
    "sunt in culpa qui officia deserunt mollit anim id est laborum.\n",
    "\"\"\""
   ]
  },
  {
   "attachments": {},
   "cell_type": "markdown",
   "metadata": {},
   "source": [
    "**Примечание.** Взглянем на примеры выше еще раз. Давайте рассмотрим особые группы атрибутов. Например:\n",
    "\n",
    "- Язык, на котором написана книга;\n",
    "- Жанр книги;\n",
    "- Цвет обложки книги;\n",
    "- Масть карты.\n",
    "\n",
    "Все они характеризуют объект при помощи некоторых ключевых имен, которые, обратим внимание, являются фиксированными и уникальными. В программировании такие объекты принято выделять в специальные классы или пространства имен, которые относят к семейству `enum`-классов - перечислимым типам. Язык программирования Python, конечно же, поддерживает и эту парадигму. Она реализована в модуле `enum`."
   ]
  },
  {
   "attachments": {},
   "cell_type": "markdown",
   "metadata": {},
   "source": [
    "**Пример.** Реализация масти карты с использованием `enum`-классов."
   ]
  },
  {
   "cell_type": "code",
   "execution_count": null,
   "metadata": {},
   "outputs": [],
   "source": [
    "from enum import Enum\n",
    "\n",
    "\n",
    "class Suit(Enum):\n",
    "    CLUB = 1\n",
    "    DIAMOND = 2\n",
    "    HEART = 3\n",
    "    SPADE = 4"
   ]
  },
  {
   "attachments": {},
   "cell_type": "markdown",
   "metadata": {},
   "source": [
    "**Пояснение.** Наследование от абстрактного класса `enum` позволяет задать объекту свойства перечислимого типа. В частности, пример выше иллюстрирует представление масти карты в виде отдельной сущности. Использование объекта сводится к работе с атрибутами класса (именно класса)."
   ]
  },
  {
   "cell_type": "code",
   "execution_count": null,
   "metadata": {},
   "outputs": [],
   "source": [
    "suit = Suit.CLUB"
   ]
  },
  {
   "cell_type": "code",
   "execution_count": null,
   "metadata": {},
   "outputs": [],
   "source": [
    "suit = Suit.DIAMOND"
   ]
  },
  {
   "cell_type": "code",
   "execution_count": null,
   "metadata": {},
   "outputs": [],
   "source": [
    "suit = Suit.HEART"
   ]
  },
  {
   "cell_type": "code",
   "execution_count": null,
   "metadata": {},
   "outputs": [],
   "source": [
    "suit = Suit.SPADE"
   ]
  },
  {
   "attachments": {},
   "cell_type": "markdown",
   "metadata": {},
   "source": [
    "**Замечание.** Разумное использование `enum`-классов существенно повышает безопасность Ваших программ по следующим причинам:\n",
    "\n",
    "- Если бы Вы использовали строки или числа вместо перечислимых типов, то у Вас бы всегда оставался риск опечатки, из-за которой могла нарушиться логика программы. Более того, выделение таких объектов в константы стало бы семантически неправильным решением;\n",
    "\n",
    "- Использование `enum`-классов дополнительно оборачивает характеристику объекта в некоторый класс, за счет чего Вы получаете дополнительную защищенность."
   ]
  },
  {
   "attachments": {},
   "cell_type": "markdown",
   "metadata": {},
   "source": [
    "**Пример.** Реализация материала обложки с использованием `enum`-классов."
   ]
  },
  {
   "cell_type": "code",
   "execution_count": null,
   "metadata": {},
   "outputs": [],
   "source": [
    "class Material(Enum):\n",
    "    GLOSS = 1\n",
    "    PAPERBOARD = 2\n",
    "    FABRIC = 3\n",
    "    LEATHER = 4\n",
    "    FELT = 5"
   ]
  },
  {
   "attachments": {},
   "cell_type": "markdown",
   "metadata": {},
   "source": [
    "**Пример.** Реализация названия языка в виде отдельной сущности с использованием `enum`-классов."
   ]
  },
  {
   "cell_type": "code",
   "execution_count": null,
   "metadata": {},
   "outputs": [],
   "source": [
    "class Language(Enum):\n",
    "    RUSSIAN = 1\n",
    "    ENGLISH = 2\n",
    "    CHINESE = 3\n",
    "    GERMAN = 4\n",
    "    JAPANESE = 5\n",
    "    DANISH = 6\n",
    "    GREEK = 7\n",
    "    ITALIAN = 8\n",
    "    SPANISH = 9"
   ]
  },
  {
   "attachments": {},
   "cell_type": "markdown",
   "metadata": {},
   "source": [
    "**Рассуждение.** Допустим, что мы хотим удалить какой-то язык из списка - например, издательство больше не сотрудничает с некоторой страной. В таком случае, видимо, придется заниматься нумерацией языков с самого начала. Это неудобно, так как языков может быть много. Обычно для работы с `enum`-классами используют автоматическое заполнение номера объекта."
   ]
  },
  {
   "cell_type": "code",
   "execution_count": 2,
   "metadata": {},
   "outputs": [],
   "source": [
    "from enum import auto\n",
    "\n",
    "class Language(Enum):\n",
    "    RUSSIAN = auto()\n",
    "    ENGLISH = auto()\n",
    "    CHINESE = auto()\n",
    "    GERMAN = auto()\n",
    "    JAPANESE = auto()\n",
    "    DANISH = auto()\n",
    "    GREEK = auto()\n",
    "    ITALIAN = auto()\n",
    "    SPANISH = auto()"
   ]
  },
  {
   "attachments": {},
   "cell_type": "markdown",
   "metadata": {},
   "source": [
    "**Пояснение.** Объект `auto` самостоятельно присвоит ключевому слову некоторый номер. Он равен значению предыдущего (если есть) плюс один. Для первого элемента значением по умолчанию является `1`."
   ]
  },
  {
   "cell_type": "code",
   "execution_count": 3,
   "metadata": {},
   "outputs": [
    {
     "data": {
      "text/plain": [
       "<Language.RUSSIAN: 1>"
      ]
     },
     "execution_count": 3,
     "metadata": {},
     "output_type": "execute_result"
    }
   ],
   "source": [
    "Language.RUSSIAN"
   ]
  },
  {
   "attachments": {},
   "cell_type": "markdown",
   "metadata": {},
   "source": [
    "**Замечание.** Обратите внимание, что объект `auto` присваивает не просто последовательный номер, а именно номер предыдущего плюс один."
   ]
  },
  {
   "cell_type": "code",
   "execution_count": 4,
   "metadata": {},
   "outputs": [],
   "source": [
    "class Language(Enum):\n",
    "    RUSSIAN = auto()\n",
    "    ENGLISH = auto()\n",
    "    CHINESE = auto()\n",
    "    GERMAN = auto()\n",
    "    JAPANESE = auto()\n",
    "    DANISH = auto()\n",
    "    GREEK = 42\n",
    "    ITALIAN = auto()\n",
    "    SPANISH = auto()"
   ]
  },
  {
   "cell_type": "code",
   "execution_count": 7,
   "metadata": {},
   "outputs": [
    {
     "name": "stdout",
     "output_type": "stream",
     "text": [
      "DANISH: 6\n",
      "GREEK: 42\n",
      "ITALIAN: 43\n"
     ]
    }
   ],
   "source": [
    "print(\"DANISH:\", Language.DANISH.value)\n",
    "print(\"GREEK:\", Language.GREEK.value)\n",
    "print(\"ITALIAN:\", Language.ITALIAN.value)"
   ]
  },
  {
   "attachments": {},
   "cell_type": "markdown",
   "metadata": {},
   "source": [
    "**Примечание.** Каждый член перечислимого класса имеет два атрибута: `name` и `value`. В первом хранится название переменной, во втором - присвоенное значение."
   ]
  },
  {
   "attachments": {},
   "cell_type": "markdown",
   "metadata": {},
   "source": [
    "**Замечание.** В зависимости от присваиваемых значений принято использовать соответствующее наследование. Например, если `enum`-класс содержит строки, то используют наследование от `StrEnum`, если целые числа - `IntEnum`. В общем случае - просто `Enum`."
   ]
  },
  {
   "cell_type": "code",
   "execution_count": 12,
   "metadata": {},
   "outputs": [],
   "source": [
    "from enum import StrEnum\n",
    "\n",
    "class Language(StrEnum):\n",
    "    RUSSIAN = auto()\n",
    "    ENGLISH = auto()\n",
    "    CHINESE = auto()\n",
    "    GERMAN = auto()\n",
    "    JAPANESE = auto()\n",
    "    DANISH = auto()\n",
    "    GREEK = auto()\n",
    "    ITALIAN = auto()\n",
    "    SPANISH = auto()"
   ]
  },
  {
   "cell_type": "code",
   "execution_count": 13,
   "metadata": {},
   "outputs": [
    {
     "name": "stdout",
     "output_type": "stream",
     "text": [
      "DANISH: danish\n",
      "GREEK: greek\n",
      "ITALIAN: italian\n"
     ]
    }
   ],
   "source": [
    "print(\"DANISH:\", Language.DANISH.value)\n",
    "print(\"GREEK:\", Language.GREEK.value)\n",
    "print(\"ITALIAN:\", Language.ITALIAN.value)"
   ]
  },
  {
   "cell_type": "code",
   "execution_count": 14,
   "metadata": {},
   "outputs": [
    {
     "data": {
      "text/plain": [
       "True"
      ]
     },
     "execution_count": 14,
     "metadata": {},
     "output_type": "execute_result"
    }
   ],
   "source": [
    "isinstance(Language.RUSSIAN, str)"
   ]
  },
  {
   "attachments": {},
   "cell_type": "markdown",
   "metadata": {},
   "source": [
    "**Примечание.** Несмотря на то, что интерфейс перечислимых типов уже дает Вам определенную степень защищенности от ошибок, Вы можете дополнительно обезопасить себя при помощи инструментов модуля."
   ]
  },
  {
   "attachments": {},
   "cell_type": "markdown",
   "metadata": {},
   "source": [
    "**Пример.** Проверить, что заданные значения образуют отрезок без пропусков. Иначе говоря, требуется проверить, что между минимальным и максимальным значениями нет пропусков."
   ]
  },
  {
   "cell_type": "code",
   "execution_count": 10,
   "metadata": {},
   "outputs": [
    {
     "ename": "ValueError",
     "evalue": "invalid enum 'Digits': missing values 6",
     "output_type": "error",
     "traceback": [
      "\u001b[1;31m---------------------------------------------------------------------------\u001b[0m",
      "\u001b[1;31mValueError\u001b[0m                                Traceback (most recent call last)",
      "Cell \u001b[1;32mIn[10], line 3\u001b[0m\n\u001b[0;32m      1\u001b[0m \u001b[39mfrom\u001b[39;00m \u001b[39menum\u001b[39;00m \u001b[39mimport\u001b[39;00m verify, IntEnum, CONTINUOUS\n\u001b[1;32m----> 3\u001b[0m \u001b[39m@verify\u001b[39;49m(CONTINUOUS)\n\u001b[0;32m      4\u001b[0m \u001b[39mclass\u001b[39;49;00m \u001b[39mDigits\u001b[39;49;00m(IntEnum):\n\u001b[0;32m      5\u001b[0m     ZERO \u001b[39m=\u001b[39;49m \u001b[39m0\u001b[39;49m\n\u001b[0;32m      6\u001b[0m     ONE \u001b[39m=\u001b[39;49m \u001b[39m1\u001b[39;49m\n",
      "File \u001b[1;32mc:\\Users\\FCOla\\AppData\\Local\\Programs\\Python\\Python311\\Lib\\enum.py:1828\u001b[0m, in \u001b[0;36mverify.__call__\u001b[1;34m(self, enumeration)\u001b[0m\n\u001b[0;32m   1826\u001b[0m         \u001b[39mraise\u001b[39;00m \u001b[39mException\u001b[39;00m(\u001b[39m'\u001b[39m\u001b[39mverify: unknown type \u001b[39m\u001b[39m%r\u001b[39;00m\u001b[39m'\u001b[39m \u001b[39m%\u001b[39m enum_type)\n\u001b[0;32m   1827\u001b[0m     \u001b[39mif\u001b[39;00m missing:\n\u001b[1;32m-> 1828\u001b[0m         \u001b[39mraise\u001b[39;00m \u001b[39mValueError\u001b[39;00m((\u001b[39m'\u001b[39m\u001b[39minvalid \u001b[39m\u001b[39m%s\u001b[39;00m\u001b[39m \u001b[39m\u001b[39m%r\u001b[39;00m\u001b[39m: missing values \u001b[39m\u001b[39m%s\u001b[39;00m\u001b[39m'\u001b[39m \u001b[39m%\u001b[39m (\n\u001b[0;32m   1829\u001b[0m                 enum_type, cls_name, \u001b[39m'\u001b[39m\u001b[39m, \u001b[39m\u001b[39m'\u001b[39m\u001b[39m.\u001b[39mjoin((\u001b[39mstr\u001b[39m(m) \u001b[39mfor\u001b[39;00m m \u001b[39min\u001b[39;00m missing)))\n\u001b[0;32m   1830\u001b[0m                 )[:\u001b[39m256\u001b[39m])\n\u001b[0;32m   1831\u001b[0m                 \u001b[39m# limit max length to protect against DOS attacks\u001b[39;00m\n\u001b[0;32m   1832\u001b[0m \u001b[39melif\u001b[39;00m check \u001b[39mis\u001b[39;00m NAMED_FLAGS:\n\u001b[0;32m   1833\u001b[0m     \u001b[39m# examine each alias and check for unnamed flags\u001b[39;00m\n",
      "\u001b[1;31mValueError\u001b[0m: invalid enum 'Digits': missing values 6"
     ]
    }
   ],
   "source": [
    "from enum import verify, IntEnum, CONTINUOUS\n",
    "\n",
    "@verify(CONTINUOUS)\n",
    "class Digits(IntEnum):\n",
    "    ZERO = 0\n",
    "    ONE = 1\n",
    "    TWO = 2\n",
    "    THREE = 3\n",
    "    FOUR = 4\n",
    "    FIVE = 5\n",
    "    SEVEN = 7\n",
    "    EIGHT = 8\n",
    "    NINE = 9"
   ]
  },
  {
   "attachments": {},
   "cell_type": "markdown",
   "metadata": {},
   "source": [
    "**Пояснение.** Декоратор `verify` с параметром `CONTINUOUS` проверяет, что члены перечислимого типа образуют отрезок без пропусков."
   ]
  },
  {
   "attachments": {},
   "cell_type": "markdown",
   "metadata": {},
   "source": [
    "**Пример.** Проверить, что в перечислимом типе не повторяются присваиваемые значения."
   ]
  },
  {
   "cell_type": "code",
   "execution_count": 11,
   "metadata": {},
   "outputs": [
    {
     "ename": "ValueError",
     "evalue": "aliases found in <enum 'Language'>: BRITISH -> ENGLISH",
     "output_type": "error",
     "traceback": [
      "\u001b[1;31m---------------------------------------------------------------------------\u001b[0m",
      "\u001b[1;31mValueError\u001b[0m                                Traceback (most recent call last)",
      "Cell \u001b[1;32mIn[11], line 3\u001b[0m\n\u001b[0;32m      1\u001b[0m \u001b[39mfrom\u001b[39;00m \u001b[39menum\u001b[39;00m \u001b[39mimport\u001b[39;00m UNIQUE\n\u001b[1;32m----> 3\u001b[0m \u001b[39m@verify\u001b[39;49m(UNIQUE)\n\u001b[0;32m      4\u001b[0m \u001b[39mclass\u001b[39;49;00m \u001b[39mLanguage\u001b[39;49;00m(StrEnum):\n\u001b[0;32m      5\u001b[0m     RUSSIAN \u001b[39m=\u001b[39;49m \u001b[39m\"\u001b[39;49m\u001b[39mrussian\u001b[39;49m\u001b[39m\"\u001b[39;49m\n\u001b[0;32m      6\u001b[0m     ENGLISH \u001b[39m=\u001b[39;49m \u001b[39m\"\u001b[39;49m\u001b[39menglish\u001b[39;49m\u001b[39m\"\u001b[39;49m\n",
      "File \u001b[1;32mc:\\Users\\FCOla\\AppData\\Local\\Programs\\Python\\Python311\\Lib\\enum.py:1807\u001b[0m, in \u001b[0;36mverify.__call__\u001b[1;34m(self, enumeration)\u001b[0m\n\u001b[0;32m   1804\u001b[0m     \u001b[39mif\u001b[39;00m duplicates:\n\u001b[0;32m   1805\u001b[0m         alias_details \u001b[39m=\u001b[39m \u001b[39m'\u001b[39m\u001b[39m, \u001b[39m\u001b[39m'\u001b[39m\u001b[39m.\u001b[39mjoin(\n\u001b[0;32m   1806\u001b[0m                 [\u001b[39m\"\u001b[39m\u001b[39m%s\u001b[39;00m\u001b[39m -> \u001b[39m\u001b[39m%s\u001b[39;00m\u001b[39m\"\u001b[39m \u001b[39m%\u001b[39m (alias, name) \u001b[39mfor\u001b[39;00m (alias, name) \u001b[39min\u001b[39;00m duplicates])\n\u001b[1;32m-> 1807\u001b[0m         \u001b[39mraise\u001b[39;00m \u001b[39mValueError\u001b[39;00m(\u001b[39m'\u001b[39m\u001b[39maliases found in \u001b[39m\u001b[39m%r\u001b[39;00m\u001b[39m: \u001b[39m\u001b[39m%s\u001b[39;00m\u001b[39m'\u001b[39m \u001b[39m%\u001b[39m\n\u001b[0;32m   1808\u001b[0m                 (enumeration, alias_details))\n\u001b[0;32m   1809\u001b[0m \u001b[39melif\u001b[39;00m check \u001b[39mis\u001b[39;00m CONTINUOUS:\n\u001b[0;32m   1810\u001b[0m     values \u001b[39m=\u001b[39m \u001b[39mset\u001b[39m(e\u001b[39m.\u001b[39mvalue \u001b[39mfor\u001b[39;00m e \u001b[39min\u001b[39;00m enumeration)\n",
      "\u001b[1;31mValueError\u001b[0m: aliases found in <enum 'Language'>: BRITISH -> ENGLISH"
     ]
    }
   ],
   "source": [
    "from enum import UNIQUE\n",
    "\n",
    "@verify(UNIQUE)\n",
    "class Language(StrEnum):\n",
    "    RUSSIAN = \"russian\"\n",
    "    ENGLISH = \"english\"\n",
    "    BRITISH = \"english\""
   ]
  },
  {
   "attachments": {},
   "cell_type": "markdown",
   "metadata": {},
   "source": [
    "**Пояснение.** Декоратор `verify` с параметром `UNIQUE` проверяет, что члены перечислимого типа уникальны."
   ]
  }
 ],
 "metadata": {
  "kernelspec": {
   "display_name": "Python 3",
   "language": "python",
   "name": "python3"
  },
  "language_info": {
   "codemirror_mode": {
    "name": "ipython",
    "version": 3
   },
   "file_extension": ".py",
   "mimetype": "text/x-python",
   "name": "python",
   "nbconvert_exporter": "python",
   "pygments_lexer": "ipython3",
   "version": "3.11.0"
  },
  "orig_nbformat": 4
 },
 "nbformat": 4,
 "nbformat_minor": 2
}
